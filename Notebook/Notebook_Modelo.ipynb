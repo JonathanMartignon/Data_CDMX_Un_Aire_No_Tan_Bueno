{
 "cells": [
  {
   "cell_type": "markdown",
   "metadata": {},
   "source": [
    "# Proyecto: 'CDMX Un aire no tan bueno'\n",
    "## Licenciatura en Ciencia de Datos\n",
    "### Instituto de Investigaciones en Matemáticas Aplicadas y en Sistemas (IIMAS)\n",
    "### Universidad Nacional Autónoma de México\n",
    "\n",
    "Integrantes:\n",
    "\n",
    "- Ortega Ibarra Jaime Jesús\n",
    "- Martiñón Luna Jonathan José"
   ]
  },
  {
   "cell_type": "markdown",
   "metadata": {},
   "source": [
    "----\n",
    "# Pre-Procesamiento de datos."
   ]
  },
  {
   "cell_type": "markdown",
   "metadata": {},
   "source": [
    "## Índice de contenidos\n",
    "* [Importando librerías](#E1)\n",
    "* [Lectura de Datos](#E2)\n",
    "* [Generando Funciones](#E3)\n",
    "* [Creando Modelo](#E4)\n",
    "* [Resultados](#E5)"
   ]
  },
  {
   "cell_type": "markdown",
   "metadata": {},
   "source": [
    "----\n",
    "<a name=\"E1\"></a>\n",
    "## Importando librerías necesarias"
   ]
  },
  {
   "cell_type": "code",
   "execution_count": 121,
   "metadata": {},
   "outputs": [],
   "source": [
    "import pandas as pd\n",
    "import matplotlib.pyplot as plt"
   ]
  },
  {
   "cell_type": "markdown",
   "metadata": {},
   "source": [
    "----\n",
    "<a name=\"E2\"></a>\n",
    "## Lectura de datos"
   ]
  },
  {
   "cell_type": "code",
   "execution_count": 190,
   "metadata": {},
   "outputs": [],
   "source": [
    "data = pd.read_csv('./data_preprocessed.csv')"
   ]
  },
  {
   "cell_type": "code",
   "execution_count": 191,
   "metadata": {},
   "outputs": [
    {
     "data": {
      "text/html": [
       "<div>\n",
       "<style scoped>\n",
       "    .dataframe tbody tr th:only-of-type {\n",
       "        vertical-align: middle;\n",
       "    }\n",
       "\n",
       "    .dataframe tbody tr th {\n",
       "        vertical-align: top;\n",
       "    }\n",
       "\n",
       "    .dataframe thead th {\n",
       "        text-align: right;\n",
       "    }\n",
       "</style>\n",
       "<table border=\"1\" class=\"dataframe\">\n",
       "  <thead>\n",
       "    <tr style=\"text-align: right;\">\n",
       "      <th></th>\n",
       "      <th>Nombre de estación</th>\n",
       "      <th>Clave de estación</th>\n",
       "      <th>Clave Parámetro</th>\n",
       "      <th>Nombre de parámetro</th>\n",
       "      <th>Unidades parámetros</th>\n",
       "      <th>Valor</th>\n",
       "      <th>ID Unidad</th>\n",
       "      <th>Clave de unidad</th>\n",
       "      <th>Alcaldia</th>\n",
       "      <th>Dia</th>\n",
       "      <th>Mes</th>\n",
       "      <th>Año</th>\n",
       "      <th>Hora</th>\n",
       "      <th>Tiraderos</th>\n",
       "      <th>Escuelas_publicas</th>\n",
       "      <th>Escuelas_privadas</th>\n",
       "      <th>Mercados</th>\n",
       "      <th>Parquimetros</th>\n",
       "      <th>Areas_verdes</th>\n",
       "      <th>Estacion_climatologica</th>\n",
       "    </tr>\n",
       "  </thead>\n",
       "  <tbody>\n",
       "    <tr>\n",
       "      <th>0</th>\n",
       "      <td>Santa fe</td>\n",
       "      <td>SFE</td>\n",
       "      <td>NO2</td>\n",
       "      <td>Dióxido de nitrógeno</td>\n",
       "      <td>1</td>\n",
       "      <td>18.0</td>\n",
       "      <td>1</td>\n",
       "      <td>ppb</td>\n",
       "      <td>Cuajimalpa</td>\n",
       "      <td>15</td>\n",
       "      <td>2</td>\n",
       "      <td>2020</td>\n",
       "      <td>20</td>\n",
       "      <td>5</td>\n",
       "      <td>35</td>\n",
       "      <td>172</td>\n",
       "      <td>5</td>\n",
       "      <td>0</td>\n",
       "      <td>448</td>\n",
       "      <td>1</td>\n",
       "    </tr>\n",
       "    <tr>\n",
       "      <th>1</th>\n",
       "      <td>Milpa Alta</td>\n",
       "      <td>MPA</td>\n",
       "      <td>O3</td>\n",
       "      <td>Ozono</td>\n",
       "      <td>1</td>\n",
       "      <td>24.0</td>\n",
       "      <td>1</td>\n",
       "      <td>ppb</td>\n",
       "      <td>Milpa Alta</td>\n",
       "      <td>15</td>\n",
       "      <td>2</td>\n",
       "      <td>2020</td>\n",
       "      <td>20</td>\n",
       "      <td>13</td>\n",
       "      <td>28</td>\n",
       "      <td>32</td>\n",
       "      <td>10</td>\n",
       "      <td>0</td>\n",
       "      <td>130</td>\n",
       "      <td>1</td>\n",
       "    </tr>\n",
       "    <tr>\n",
       "      <th>2</th>\n",
       "      <td>Mguel Hidalgo</td>\n",
       "      <td>MGH</td>\n",
       "      <td>O3</td>\n",
       "      <td>Ozono</td>\n",
       "      <td>1</td>\n",
       "      <td>27.0</td>\n",
       "      <td>1</td>\n",
       "      <td>ppb</td>\n",
       "      <td>Miguel Hidalgo</td>\n",
       "      <td>15</td>\n",
       "      <td>2</td>\n",
       "      <td>2020</td>\n",
       "      <td>20</td>\n",
       "      <td>69</td>\n",
       "      <td>137</td>\n",
       "      <td>223</td>\n",
       "      <td>19</td>\n",
       "      <td>1382</td>\n",
       "      <td>925</td>\n",
       "      <td>1</td>\n",
       "    </tr>\n",
       "    <tr>\n",
       "      <th>3</th>\n",
       "      <td>Pedregal</td>\n",
       "      <td>PED</td>\n",
       "      <td>O3</td>\n",
       "      <td>Ozono</td>\n",
       "      <td>1</td>\n",
       "      <td>19.0</td>\n",
       "      <td>1</td>\n",
       "      <td>ppb</td>\n",
       "      <td>Alvaro Obregon</td>\n",
       "      <td>15</td>\n",
       "      <td>2</td>\n",
       "      <td>2020</td>\n",
       "      <td>20</td>\n",
       "      <td>77</td>\n",
       "      <td>172</td>\n",
       "      <td>321</td>\n",
       "      <td>16</td>\n",
       "      <td>83</td>\n",
       "      <td>721</td>\n",
       "      <td>1</td>\n",
       "    </tr>\n",
       "    <tr>\n",
       "      <th>4</th>\n",
       "      <td>Ajusco Medio</td>\n",
       "      <td>AJM</td>\n",
       "      <td>O3</td>\n",
       "      <td>Ozono</td>\n",
       "      <td>1</td>\n",
       "      <td>NaN</td>\n",
       "      <td>1</td>\n",
       "      <td>ppb</td>\n",
       "      <td>Miguel Hidalgo</td>\n",
       "      <td>15</td>\n",
       "      <td>2</td>\n",
       "      <td>2020</td>\n",
       "      <td>20</td>\n",
       "      <td>69</td>\n",
       "      <td>137</td>\n",
       "      <td>223</td>\n",
       "      <td>19</td>\n",
       "      <td>1382</td>\n",
       "      <td>925</td>\n",
       "      <td>1</td>\n",
       "    </tr>\n",
       "  </tbody>\n",
       "</table>\n",
       "</div>"
      ],
      "text/plain": [
       "  Nombre de estación Clave de estación Clave Parámetro   Nombre de parámetro  \\\n",
       "0           Santa fe               SFE             NO2  Dióxido de nitrógeno   \n",
       "1         Milpa Alta               MPA              O3                 Ozono   \n",
       "2      Mguel Hidalgo               MGH              O3                 Ozono   \n",
       "3           Pedregal               PED              O3                 Ozono   \n",
       "4       Ajusco Medio               AJM              O3                 Ozono   \n",
       "\n",
       "   Unidades parámetros  Valor  ID Unidad Clave de unidad        Alcaldia  Dia  \\\n",
       "0                    1   18.0          1             ppb      Cuajimalpa   15   \n",
       "1                    1   24.0          1             ppb      Milpa Alta   15   \n",
       "2                    1   27.0          1             ppb  Miguel Hidalgo   15   \n",
       "3                    1   19.0          1             ppb  Alvaro Obregon   15   \n",
       "4                    1    NaN          1             ppb  Miguel Hidalgo   15   \n",
       "\n",
       "   Mes   Año  Hora  Tiraderos  Escuelas_publicas  Escuelas_privadas  Mercados  \\\n",
       "0    2  2020    20          5                 35                172         5   \n",
       "1    2  2020    20         13                 28                 32        10   \n",
       "2    2  2020    20         69                137                223        19   \n",
       "3    2  2020    20         77                172                321        16   \n",
       "4    2  2020    20         69                137                223        19   \n",
       "\n",
       "   Parquimetros  Areas_verdes  Estacion_climatologica  \n",
       "0             0           448                       1  \n",
       "1             0           130                       1  \n",
       "2          1382           925                       1  \n",
       "3            83           721                       1  \n",
       "4          1382           925                       1  "
      ]
     },
     "execution_count": 191,
     "metadata": {},
     "output_type": "execute_result"
    }
   ],
   "source": [
    "data.head()"
   ]
  },
  {
   "cell_type": "markdown",
   "metadata": {},
   "source": [
    "----\n",
    "<a name=\"E3\"></a>\n",
    "## Generando Funciones"
   ]
  },
  {
   "cell_type": "code",
   "execution_count": null,
   "metadata": {},
   "outputs": [],
   "source": []
  },
  {
   "cell_type": "markdown",
   "metadata": {},
   "source": [
    "----\n",
    "<a name=\"E4\"></a>\n",
    "## Creando Modelo"
   ]
  },
  {
   "cell_type": "code",
   "execution_count": null,
   "metadata": {},
   "outputs": [],
   "source": []
  },
  {
   "cell_type": "markdown",
   "metadata": {},
   "source": [
    "----\n",
    "<a name=\"E5\"></a>\n",
    "## Resultados"
   ]
  },
  {
   "cell_type": "code",
   "execution_count": null,
   "metadata": {},
   "outputs": [],
   "source": []
  }
 ],
 "metadata": {
  "kernelspec": {
   "display_name": "Python 3",
   "language": "python",
   "name": "python3"
  },
  "language_info": {
   "codemirror_mode": {
    "name": "ipython",
    "version": 3
   },
   "file_extension": ".py",
   "mimetype": "text/x-python",
   "name": "python",
   "nbconvert_exporter": "python",
   "pygments_lexer": "ipython3",
   "version": "3.8.5"
  }
 },
 "nbformat": 4,
 "nbformat_minor": 4
}
