{
 "cells": [
  {
   "cell_type": "markdown",
   "metadata": {},
   "source": [
    "# Un aire no tan bueno\n",
    "\n",
    "- Ortega Ibarra Jaime Jesús\n",
    "- Martiñón Luna Jonathan José\n"
   ]
  },
  {
   "cell_type": "markdown",
   "metadata": {},
   "source": [
    "## Importando librerías necesarias"
   ]
  },
  {
   "cell_type": "code",
   "execution_count": 1,
   "metadata": {},
   "outputs": [],
   "source": [
    "import pandas as pd\n",
    "import numpy as np\n",
    "import seaborn as sns\n",
    "import matplotlib.pyplot as plt\n",
    "import datetime\n",
    "import geopandas as gpd\n",
    "from mpl_toolkits.axes_grid1 import make_axes_locatable"
   ]
  },
  {
   "cell_type": "markdown",
   "metadata": {},
   "source": [
    "## Leyendo los datos"
   ]
  },
  {
   "cell_type": "markdown",
   "metadata": {},
   "source": [
    "### Indices por año\n"
   ]
  },
  {
   "cell_type": "markdown",
   "metadata": {},
   "source": [
    "#### 2020"
   ]
  },
  {
   "cell_type": "code",
   "execution_count": 151,
   "metadata": {},
   "outputs": [
    {
     "data": {
      "text/html": [
       "<div>\n",
       "<style scoped>\n",
       "    .dataframe tbody tr th:only-of-type {\n",
       "        vertical-align: middle;\n",
       "    }\n",
       "\n",
       "    .dataframe tbody tr th {\n",
       "        vertical-align: top;\n",
       "    }\n",
       "\n",
       "    .dataframe thead th {\n",
       "        text-align: right;\n",
       "    }\n",
       "</style>\n",
       "<table border=\"1\" class=\"dataframe\">\n",
       "  <thead>\n",
       "    <tr style=\"text-align: right;\">\n",
       "      <th></th>\n",
       "      <th>Fecha</th>\n",
       "      <th>Hora</th>\n",
       "      <th>Noroeste ozono</th>\n",
       "      <th>Noroeste dióxido de azufre</th>\n",
       "      <th>Noroeste dióxido de nitrógeno</th>\n",
       "      <th>Noroeste monóxido de carbono</th>\n",
       "      <th>Noroeste PM10</th>\n",
       "      <th>Noroeste PM25</th>\n",
       "      <th>Noreste ozono</th>\n",
       "      <th>Noreste dióxido de azufre</th>\n",
       "      <th>...</th>\n",
       "      <th>Suroeste dióxido de nitrógeno</th>\n",
       "      <th>Suroeste monóxido de carbono</th>\n",
       "      <th>Suroeste PM10</th>\n",
       "      <th>Suroeste PM25</th>\n",
       "      <th>Sureste ozono</th>\n",
       "      <th>Sureste dióxido de azufre</th>\n",
       "      <th>Sureste dióxido de nitrógeno</th>\n",
       "      <th>Sureste monóxido de carbono</th>\n",
       "      <th>Sureste PM10</th>\n",
       "      <th>Sureste PM25</th>\n",
       "    </tr>\n",
       "  </thead>\n",
       "  <tbody>\n",
       "    <tr>\n",
       "      <th>0</th>\n",
       "      <td>01/01/2020</td>\n",
       "      <td>1</td>\n",
       "      <td>4</td>\n",
       "      <td>36</td>\n",
       "      <td>17</td>\n",
       "      <td>9</td>\n",
       "      <td>81</td>\n",
       "      <td>63</td>\n",
       "      <td>9</td>\n",
       "      <td>28</td>\n",
       "      <td>...</td>\n",
       "      <td>16</td>\n",
       "      <td>5</td>\n",
       "      <td>35</td>\n",
       "      <td>54</td>\n",
       "      <td>9</td>\n",
       "      <td>8</td>\n",
       "      <td>17</td>\n",
       "      <td>12</td>\n",
       "      <td>73</td>\n",
       "      <td>72</td>\n",
       "    </tr>\n",
       "    <tr>\n",
       "      <th>1</th>\n",
       "      <td>01/01/2020</td>\n",
       "      <td>2</td>\n",
       "      <td>4</td>\n",
       "      <td>32</td>\n",
       "      <td>15</td>\n",
       "      <td>11</td>\n",
       "      <td>86</td>\n",
       "      <td>64</td>\n",
       "      <td>11</td>\n",
       "      <td>22</td>\n",
       "      <td>...</td>\n",
       "      <td>14</td>\n",
       "      <td>6</td>\n",
       "      <td>40</td>\n",
       "      <td>56</td>\n",
       "      <td>13</td>\n",
       "      <td>8</td>\n",
       "      <td>16</td>\n",
       "      <td>14</td>\n",
       "      <td>81</td>\n",
       "      <td>76</td>\n",
       "    </tr>\n",
       "    <tr>\n",
       "      <th>2</th>\n",
       "      <td>01/01/2020</td>\n",
       "      <td>3</td>\n",
       "      <td>4</td>\n",
       "      <td>26</td>\n",
       "      <td>16</td>\n",
       "      <td>12</td>\n",
       "      <td>91</td>\n",
       "      <td>66</td>\n",
       "      <td>9</td>\n",
       "      <td>18</td>\n",
       "      <td>...</td>\n",
       "      <td>15</td>\n",
       "      <td>6</td>\n",
       "      <td>49</td>\n",
       "      <td>59</td>\n",
       "      <td>13</td>\n",
       "      <td>8</td>\n",
       "      <td>15</td>\n",
       "      <td>15</td>\n",
       "      <td>91</td>\n",
       "      <td>80</td>\n",
       "    </tr>\n",
       "    <tr>\n",
       "      <th>3</th>\n",
       "      <td>01/01/2020</td>\n",
       "      <td>4</td>\n",
       "      <td>6</td>\n",
       "      <td>24</td>\n",
       "      <td>16</td>\n",
       "      <td>14</td>\n",
       "      <td>101</td>\n",
       "      <td>68</td>\n",
       "      <td>9</td>\n",
       "      <td>16</td>\n",
       "      <td>...</td>\n",
       "      <td>15</td>\n",
       "      <td>7</td>\n",
       "      <td>57</td>\n",
       "      <td>63</td>\n",
       "      <td>16</td>\n",
       "      <td>8</td>\n",
       "      <td>10</td>\n",
       "      <td>15</td>\n",
       "      <td>100</td>\n",
       "      <td>83</td>\n",
       "    </tr>\n",
       "    <tr>\n",
       "      <th>4</th>\n",
       "      <td>01/01/2020</td>\n",
       "      <td>5</td>\n",
       "      <td>5</td>\n",
       "      <td>22</td>\n",
       "      <td>15</td>\n",
       "      <td>15</td>\n",
       "      <td>104</td>\n",
       "      <td>72</td>\n",
       "      <td>5</td>\n",
       "      <td>16</td>\n",
       "      <td>...</td>\n",
       "      <td>14</td>\n",
       "      <td>7</td>\n",
       "      <td>64</td>\n",
       "      <td>67</td>\n",
       "      <td>16</td>\n",
       "      <td>8</td>\n",
       "      <td>9</td>\n",
       "      <td>14</td>\n",
       "      <td>102</td>\n",
       "      <td>83</td>\n",
       "    </tr>\n",
       "  </tbody>\n",
       "</table>\n",
       "<p>5 rows × 32 columns</p>\n",
       "</div>"
      ],
      "text/plain": [
       "        Fecha  Hora  Noroeste ozono  Noroeste dióxido de azufre  \\\n",
       "0  01/01/2020     1               4                          36   \n",
       "1  01/01/2020     2               4                          32   \n",
       "2  01/01/2020     3               4                          26   \n",
       "3  01/01/2020     4               6                          24   \n",
       "4  01/01/2020     5               5                          22   \n",
       "\n",
       "   Noroeste dióxido de nitrógeno  Noroeste monóxido de carbono  Noroeste PM10  \\\n",
       "0                             17                             9             81   \n",
       "1                             15                            11             86   \n",
       "2                             16                            12             91   \n",
       "3                             16                            14            101   \n",
       "4                             15                            15            104   \n",
       "\n",
       "   Noroeste PM25  Noreste ozono  Noreste dióxido de azufre  ...  \\\n",
       "0             63              9                         28  ...   \n",
       "1             64             11                         22  ...   \n",
       "2             66              9                         18  ...   \n",
       "3             68              9                         16  ...   \n",
       "4             72              5                         16  ...   \n",
       "\n",
       "   Suroeste dióxido de nitrógeno  Suroeste monóxido de carbono  Suroeste PM10  \\\n",
       "0                             16                             5             35   \n",
       "1                             14                             6             40   \n",
       "2                             15                             6             49   \n",
       "3                             15                             7             57   \n",
       "4                             14                             7             64   \n",
       "\n",
       "   Suroeste PM25  Sureste ozono  Sureste dióxido de azufre  \\\n",
       "0             54              9                          8   \n",
       "1             56             13                          8   \n",
       "2             59             13                          8   \n",
       "3             63             16                          8   \n",
       "4             67             16                          8   \n",
       "\n",
       "   Sureste dióxido de nitrógeno  Sureste monóxido de carbono  Sureste PM10  \\\n",
       "0                            17                           12            73   \n",
       "1                            16                           14            81   \n",
       "2                            15                           15            91   \n",
       "3                            10                           15           100   \n",
       "4                             9                           14           102   \n",
       "\n",
       "   Sureste PM25  \n",
       "0            72  \n",
       "1            76  \n",
       "2            80  \n",
       "3            83  \n",
       "4            83  \n",
       "\n",
       "[5 rows x 32 columns]"
      ]
     },
     "execution_count": 151,
     "metadata": {},
     "output_type": "execute_result"
    }
   ],
   "source": [
    "indice_2020 = pd.read_csv('https://github.com/JonathanMartignon/Data_CDMX_Un_Aire_No_Tan_Bueno/blob/main/Datos/imeca_2020.csv?raw=True')\n",
    "indice_2020.head()"
   ]
  },
  {
   "cell_type": "code",
   "execution_count": 152,
   "metadata": {},
   "outputs": [
    {
     "data": {
      "text/plain": [
       "(8040, 32)"
      ]
     },
     "execution_count": 152,
     "metadata": {},
     "output_type": "execute_result"
    }
   ],
   "source": [
    "indice_2020.shape"
   ]
  },
  {
   "cell_type": "code",
   "execution_count": 153,
   "metadata": {},
   "outputs": [
    {
     "data": {
      "text/plain": [
       "Index(['Fecha', 'Hora', 'Noroeste ozono', 'Noroeste dióxido de azufre',\n",
       "       'Noroeste dióxido de nitrógeno', 'Noroeste monóxido de carbono',\n",
       "       'Noroeste PM10', 'Noroeste PM25', 'Noreste ozono',\n",
       "       'Noreste dióxido de azufre', 'Noreste dióxido de nitrógeno',\n",
       "       'Noreste monóxido de carbono', 'Noreste PM10', 'Noreste PM25',\n",
       "       'Centro ozono', 'Centro dióxido de azufre',\n",
       "       'Centro dióxido de nitrógeno', 'Centro monóxido de carbono',\n",
       "       'Centro PM10', 'Centro PM25', 'Suroeste ozono',\n",
       "       'Suroeste dióxido de azufre', 'Suroeste dióxido de nitrógeno',\n",
       "       'Suroeste monóxido de carbono', 'Suroeste PM10', 'Suroeste PM25',\n",
       "       'Sureste ozono', 'Sureste dióxido de azufre',\n",
       "       'Sureste dióxido de nitrógeno', 'Sureste monóxido de carbono',\n",
       "       'Sureste PM10', 'Sureste PM25'],\n",
       "      dtype='object')"
      ]
     },
     "execution_count": 153,
     "metadata": {},
     "output_type": "execute_result"
    }
   ],
   "source": [
    "indice_2020.columns"
   ]
  },
  {
   "cell_type": "markdown",
   "metadata": {},
   "source": [
    "#### 2019"
   ]
  },
  {
   "cell_type": "markdown",
   "metadata": {},
   "source": [
    "### Calidad del aire"
   ]
  },
  {
   "cell_type": "code",
   "execution_count": 7,
   "metadata": {},
   "outputs": [
    {
     "data": {
      "text/html": [
       "<div>\n",
       "<style scoped>\n",
       "    .dataframe tbody tr th:only-of-type {\n",
       "        vertical-align: middle;\n",
       "    }\n",
       "\n",
       "    .dataframe tbody tr th {\n",
       "        vertical-align: top;\n",
       "    }\n",
       "\n",
       "    .dataframe thead th {\n",
       "        text-align: right;\n",
       "    }\n",
       "</style>\n",
       "<table border=\"1\" class=\"dataframe\">\n",
       "  <thead>\n",
       "    <tr style=\"text-align: right;\">\n",
       "      <th></th>\n",
       "      <th>fecha_actualizacion</th>\n",
       "      <th>alcaldia_municipio</th>\n",
       "      <th>indice</th>\n",
       "      <th>riesgo</th>\n",
       "      <th>recomendacion_uno</th>\n",
       "      <th>recomendacion_dos</th>\n",
       "      <th>recomendacion_tres</th>\n",
       "    </tr>\n",
       "  </thead>\n",
       "  <tbody>\n",
       "    <tr>\n",
       "      <th>0</th>\n",
       "      <td>2021-01-04 17:00:31</td>\n",
       "      <td>AZCAPOTZALCO</td>\n",
       "      <td>REGULAR</td>\n",
       "      <td>Aceptable</td>\n",
       "      <td>Puedes realizar actividades al aire libre</td>\n",
       "      <td>Puedes ejercitarte al aire libre</td>\n",
       "      <td>Personas extremadamente sensibles limitar acti...</td>\n",
       "    </tr>\n",
       "    <tr>\n",
       "      <th>1</th>\n",
       "      <td>2021-01-04 17:00:31</td>\n",
       "      <td>BENITO JUAREZ</td>\n",
       "      <td>REGULAR</td>\n",
       "      <td>Aceptable</td>\n",
       "      <td>Puedes realizar actividades al aire libre</td>\n",
       "      <td>Puedes ejercitarte al aire libre</td>\n",
       "      <td>Personas extremadamente sensibles limitar acti...</td>\n",
       "    </tr>\n",
       "    <tr>\n",
       "      <th>2</th>\n",
       "      <td>2021-01-04 17:00:31</td>\n",
       "      <td>COYOACAN</td>\n",
       "      <td>REGULAR</td>\n",
       "      <td>Aceptable</td>\n",
       "      <td>Puedes realizar actividades al aire libre</td>\n",
       "      <td>Puedes ejercitarte al aire libre</td>\n",
       "      <td>Personas extremadamente sensibles limitar acti...</td>\n",
       "    </tr>\n",
       "    <tr>\n",
       "      <th>3</th>\n",
       "      <td>2021-01-04 17:00:31</td>\n",
       "      <td>CUAJIMALPA DE MORELOS</td>\n",
       "      <td>REGULAR</td>\n",
       "      <td>Aceptable</td>\n",
       "      <td>Puedes realizar actividades al aire libre</td>\n",
       "      <td>Puedes ejercitarte al aire libre</td>\n",
       "      <td>Personas extremadamente sensibles limitar acti...</td>\n",
       "    </tr>\n",
       "    <tr>\n",
       "      <th>4</th>\n",
       "      <td>2021-01-04 17:00:31</td>\n",
       "      <td>CUAUHTEMOC</td>\n",
       "      <td>SIN COBERTURA</td>\n",
       "      <td>NaN</td>\n",
       "      <td>NaN</td>\n",
       "      <td>NaN</td>\n",
       "      <td>NaN</td>\n",
       "    </tr>\n",
       "  </tbody>\n",
       "</table>\n",
       "</div>"
      ],
      "text/plain": [
       "   fecha_actualizacion     alcaldia_municipio         indice     riesgo  \\\n",
       "0  2021-01-04 17:00:31           AZCAPOTZALCO        REGULAR  Aceptable   \n",
       "1  2021-01-04 17:00:31          BENITO JUAREZ        REGULAR  Aceptable   \n",
       "2  2021-01-04 17:00:31               COYOACAN        REGULAR  Aceptable   \n",
       "3  2021-01-04 17:00:31  CUAJIMALPA DE MORELOS        REGULAR  Aceptable   \n",
       "4  2021-01-04 17:00:31             CUAUHTEMOC  SIN COBERTURA        NaN   \n",
       "\n",
       "                           recomendacion_uno  \\\n",
       "0  Puedes realizar actividades al aire libre   \n",
       "1  Puedes realizar actividades al aire libre   \n",
       "2  Puedes realizar actividades al aire libre   \n",
       "3  Puedes realizar actividades al aire libre   \n",
       "4                                        NaN   \n",
       "\n",
       "                  recomendacion_dos  \\\n",
       "0  Puedes ejercitarte al aire libre   \n",
       "1  Puedes ejercitarte al aire libre   \n",
       "2  Puedes ejercitarte al aire libre   \n",
       "3  Puedes ejercitarte al aire libre   \n",
       "4                               NaN   \n",
       "\n",
       "                                  recomendacion_tres  \n",
       "0  Personas extremadamente sensibles limitar acti...  \n",
       "1  Personas extremadamente sensibles limitar acti...  \n",
       "2  Personas extremadamente sensibles limitar acti...  \n",
       "3  Personas extremadamente sensibles limitar acti...  \n",
       "4                                                NaN  "
      ]
     },
     "execution_count": 7,
     "metadata": {},
     "output_type": "execute_result"
    }
   ],
   "source": [
    "calidad_aire = pd.read_csv('https://github.com/JonathanMartignon/Data_CDMX_Un_Aire_No_Tan_Bueno/blob/main/Datos/prueba_datos_calidad_aire.csv?raw=True')\n",
    "calidad_aire.head()"
   ]
  },
  {
   "cell_type": "markdown",
   "metadata": {},
   "source": [
    "### Explorando los datos"
   ]
  },
  {
   "cell_type": "code",
   "execution_count": 8,
   "metadata": {},
   "outputs": [
    {
     "data": {
      "text/plain": [
       "(46, 7)"
      ]
     },
     "execution_count": 8,
     "metadata": {},
     "output_type": "execute_result"
    }
   ],
   "source": [
    "calidad_aire.shape"
   ]
  },
  {
   "cell_type": "code",
   "execution_count": 9,
   "metadata": {},
   "outputs": [
    {
     "data": {
      "text/plain": [
       "Index(['fecha_actualizacion', 'alcaldia_municipio', 'indice', 'riesgo',\n",
       "       'recomendacion_uno', 'recomendacion_dos', 'recomendacion_tres'],\n",
       "      dtype='object')"
      ]
     },
     "execution_count": 9,
     "metadata": {},
     "output_type": "execute_result"
    }
   ],
   "source": [
    "calidad_aire.columns"
   ]
  },
  {
   "cell_type": "code",
   "execution_count": 10,
   "metadata": {},
   "outputs": [
    {
     "data": {
      "text/plain": [
       "fecha_actualizacion    object\n",
       "alcaldia_municipio     object\n",
       "indice                 object\n",
       "riesgo                 object\n",
       "recomendacion_uno      object\n",
       "recomendacion_dos      object\n",
       "recomendacion_tres     object\n",
       "dtype: object"
      ]
     },
     "execution_count": 10,
     "metadata": {},
     "output_type": "execute_result"
    }
   ],
   "source": [
    "calidad_aire.dtypes"
   ]
  },
  {
   "cell_type": "code",
   "execution_count": 13,
   "metadata": {},
   "outputs": [
    {
     "data": {
      "text/plain": [
       "fecha_actualizacion     0\n",
       "alcaldia_municipio      0\n",
       "indice                  0\n",
       "riesgo                 15\n",
       "recomendacion_uno      16\n",
       "recomendacion_dos      16\n",
       "recomendacion_tres     17\n",
       "dtype: int64"
      ]
     },
     "execution_count": 13,
     "metadata": {},
     "output_type": "execute_result"
    }
   ],
   "source": [
    "calidad_aire.isnull().sum()"
   ]
  },
  {
   "cell_type": "code",
   "execution_count": 22,
   "metadata": {},
   "outputs": [
    {
     "name": "stdout",
     "output_type": "stream",
     "text": [
      "-------------------\n",
      "['2021-01-04 17:00:31']\n",
      "-------------------\n",
      "['AZCAPOTZALCO' 'BENITO JUAREZ' 'COYOACAN' 'CUAJIMALPA DE MORELOS'\n",
      " 'CUAUHTEMOC' 'IZTAPALAPA' 'LA MAGDALENA CONTRERAS' 'XOCHIMILCO'\n",
      " 'VALLE DE CHALCO' 'IXTAPALUCA' 'NEZAHUALCOYOTL' 'CHIMALHUACAN'\n",
      " 'CHICOLOAPAN' 'ATENCO' 'ECATEPEC' 'TECAMAC' 'JALTENCO' 'TEOLOYUCAN'\n",
      " 'MELCHOR OCAMPO' 'CUAUTITLAN IZCALLI' 'TULTEPEC' 'TLALNEPANTLA ANEXO'\n",
      " 'OCOYOACAC' 'GUSTAVO A. MADERO' 'IZTCACALCO' 'MIGUEL HIDALGO' 'TLAHUAC'\n",
      " 'ACOLMAN' 'TULTITLAN' 'CUAUTITLAN' 'TLALNEPANTLA' 'HUIXQUILUCAN'\n",
      " 'ALVARO OBREGON' 'MILPA ALTA' 'TLALPAN' 'VENUSTIANO CARRANZA' 'CHALCO'\n",
      " 'LA PAZ' 'COACALCO' 'TULTITLAN ANEXO' 'TONANITLA' 'NEXTLALPAN'\n",
      " 'TEPOTZOTLAN' 'ATIZAPAN DE ZARAGOZA' 'NAUCALPAN' 'TEXCOCO']\n",
      "-------------------\n",
      "['REGULAR' 'SIN COBERTURA' 'BUENA']\n",
      "-------------------\n",
      "['Aceptable' nan 'Sin riesgo']\n",
      "-------------------\n",
      "['Puedes realizar actividades al aire libre' nan]\n",
      "-------------------\n",
      "['Puedes ejercitarte al aire libre' nan]\n",
      "-------------------\n",
      "['Personas extremadamente sensibles limitar actividades al aire libre' nan\n",
      " 'Sin riesgo para grupos sensibles']\n"
     ]
    }
   ],
   "source": [
    "for col in calidad_aire.columns:\n",
    "    print('-------------------')\n",
    "    print(calidad_aire[col].unique())"
   ]
  },
  {
   "cell_type": "code",
   "execution_count": 6,
   "metadata": {},
   "outputs": [
    {
     "data": {
      "text/plain": [
       "{'2021-01-04 17:00:31'}"
      ]
     },
     "execution_count": 6,
     "metadata": {},
     "output_type": "execute_result"
    }
   ],
   "source": [
    "set(calidad_aire['fecha_actualizacion'])"
   ]
  },
  {
   "cell_type": "code",
   "execution_count": 7,
   "metadata": {},
   "outputs": [
    {
     "data": {
      "text/plain": [
       "{'BUENA', 'REGULAR', 'SIN COBERTURA'}"
      ]
     },
     "execution_count": 7,
     "metadata": {},
     "output_type": "execute_result"
    }
   ],
   "source": [
    "set(calidad_aire['indice'])"
   ]
  },
  {
   "cell_type": "code",
   "execution_count": 8,
   "metadata": {},
   "outputs": [
    {
     "data": {
      "text/plain": [
       "{'Aceptable', 'Sin riesgo', nan}"
      ]
     },
     "execution_count": 8,
     "metadata": {},
     "output_type": "execute_result"
    }
   ],
   "source": [
    "set(calidad_aire['riesgo'])"
   ]
  },
  {
   "cell_type": "code",
   "execution_count": 9,
   "metadata": {},
   "outputs": [
    {
     "data": {
      "text/plain": [
       "{'Puedes realizar actividades al aire libre', nan}"
      ]
     },
     "execution_count": 9,
     "metadata": {},
     "output_type": "execute_result"
    }
   ],
   "source": [
    "set(calidad_aire['recomendacion_uno'])"
   ]
  },
  {
   "cell_type": "markdown",
   "metadata": {},
   "source": [
    "### Tiraderos clandestinos"
   ]
  },
  {
   "cell_type": "code",
   "execution_count": 165,
   "metadata": {},
   "outputs": [
    {
     "data": {
      "text/html": [
       "<div>\n",
       "<style scoped>\n",
       "    .dataframe tbody tr th:only-of-type {\n",
       "        vertical-align: middle;\n",
       "    }\n",
       "\n",
       "    .dataframe tbody tr th {\n",
       "        vertical-align: top;\n",
       "    }\n",
       "\n",
       "    .dataframe thead th {\n",
       "        text-align: right;\n",
       "    }\n",
       "</style>\n",
       "<table border=\"1\" class=\"dataframe\">\n",
       "  <thead>\n",
       "    <tr style=\"text-align: right;\">\n",
       "      <th></th>\n",
       "      <th>Column 1</th>\n",
       "      <th>FID_</th>\n",
       "      <th>id_sedema</th>\n",
       "      <th>no_alcaldi</th>\n",
       "      <th>alcaldia</th>\n",
       "      <th>direccion_</th>\n",
       "      <th>tipo_tirad</th>\n",
       "      <th>calle</th>\n",
       "      <th>no_ext</th>\n",
       "      <th>no_int</th>\n",
       "      <th>colonia</th>\n",
       "      <th>entre_que_</th>\n",
       "      <th>longitud</th>\n",
       "      <th>latitud</th>\n",
       "      <th>geo_point</th>\n",
       "    </tr>\n",
       "  </thead>\n",
       "  <tbody>\n",
       "    <tr>\n",
       "      <th>0</th>\n",
       "      <td>6</td>\n",
       "      <td>6</td>\n",
       "      <td>567</td>\n",
       "      <td>14</td>\n",
       "      <td>Benito Juarez</td>\n",
       "      <td>NaN</td>\n",
       "      <td>NaN</td>\n",
       "      <td>Municipio Libre Es2Quina Miraflores, Colonia P...</td>\n",
       "      <td>NaN</td>\n",
       "      <td>NaN</td>\n",
       "      <td>PORTALES ORIENTE</td>\n",
       "      <td>NaN</td>\n",
       "      <td>-99.139980</td>\n",
       "      <td>19.367720</td>\n",
       "      <td>19.36772,-99.13998</td>\n",
       "    </tr>\n",
       "    <tr>\n",
       "      <th>1</th>\n",
       "      <td>41</td>\n",
       "      <td>41</td>\n",
       "      <td>402</td>\n",
       "      <td>9</td>\n",
       "      <td>Milpa Alta</td>\n",
       "      <td>NaN</td>\n",
       "      <td>NaN</td>\n",
       "      <td>Av. Hifalgo Y 2Ç÷ Cjon De Independencia</td>\n",
       "      <td>NaN</td>\n",
       "      <td>NaN</td>\n",
       "      <td>SAN PEDRO ATOCPAN</td>\n",
       "      <td>NaN</td>\n",
       "      <td>-99.042876</td>\n",
       "      <td>19.203210</td>\n",
       "      <td>19.2032099,-99.0428762</td>\n",
       "    </tr>\n",
       "    <tr>\n",
       "      <th>2</th>\n",
       "      <td>78</td>\n",
       "      <td>78</td>\n",
       "      <td>508</td>\n",
       "      <td>11</td>\n",
       "      <td>Tlahuac</td>\n",
       "      <td>NaN</td>\n",
       "      <td>NaN</td>\n",
       "      <td>Angƒ??lica Paulet</td>\n",
       "      <td>NaN</td>\n",
       "      <td>NaN</td>\n",
       "      <td>LA NOPALERA</td>\n",
       "      <td>NaN</td>\n",
       "      <td>-99.055393</td>\n",
       "      <td>19.296997</td>\n",
       "      <td>19.296997,-99.055393</td>\n",
       "    </tr>\n",
       "    <tr>\n",
       "      <th>3</th>\n",
       "      <td>81</td>\n",
       "      <td>81</td>\n",
       "      <td>62</td>\n",
       "      <td>3</td>\n",
       "      <td>Coyoacan</td>\n",
       "      <td>NaN</td>\n",
       "      <td>NaN</td>\n",
       "      <td>Bodega De Barrido Manual Santa Cecilia</td>\n",
       "      <td>NaN</td>\n",
       "      <td>NaN</td>\n",
       "      <td>CTM SECCIÇÿN 10</td>\n",
       "      <td>NaN</td>\n",
       "      <td>-99.107160</td>\n",
       "      <td>19.300200</td>\n",
       "      <td>19.3002,-99.1071599</td>\n",
       "    </tr>\n",
       "    <tr>\n",
       "      <th>4</th>\n",
       "      <td>83</td>\n",
       "      <td>83</td>\n",
       "      <td>498</td>\n",
       "      <td>11</td>\n",
       "      <td>Tlahuac</td>\n",
       "      <td>NaN</td>\n",
       "      <td>NaN</td>\n",
       "      <td>Av. Tl¶ÿ¶Huac</td>\n",
       "      <td>NaN</td>\n",
       "      <td>NaN</td>\n",
       "      <td>LA NOPALERA</td>\n",
       "      <td>NaN</td>\n",
       "      <td>-99.054197</td>\n",
       "      <td>19.302147</td>\n",
       "      <td>19.302147,-99.054197</td>\n",
       "    </tr>\n",
       "  </tbody>\n",
       "</table>\n",
       "</div>"
      ],
      "text/plain": [
       "   Column 1  FID_  id_sedema  no_alcaldi       alcaldia  direccion_  \\\n",
       "0         6     6        567          14  Benito Juarez         NaN   \n",
       "1        41    41        402           9     Milpa Alta         NaN   \n",
       "2        78    78        508          11        Tlahuac         NaN   \n",
       "3        81    81         62           3       Coyoacan         NaN   \n",
       "4        83    83        498          11        Tlahuac         NaN   \n",
       "\n",
       "   tipo_tirad                                              calle  no_ext  \\\n",
       "0         NaN  Municipio Libre Es2Quina Miraflores, Colonia P...     NaN   \n",
       "1         NaN            Av. Hifalgo Y 2Ç÷ Cjon De Independencia     NaN   \n",
       "2         NaN                                  Angƒ??lica Paulet     NaN   \n",
       "3         NaN             Bodega De Barrido Manual Santa Cecilia     NaN   \n",
       "4         NaN                                     Av. Tl¶ÿ¶Huac     NaN   \n",
       "\n",
       "   no_int            colonia  entre_que_   longitud    latitud  \\\n",
       "0     NaN   PORTALES ORIENTE         NaN -99.139980  19.367720   \n",
       "1     NaN  SAN PEDRO ATOCPAN         NaN -99.042876  19.203210   \n",
       "2     NaN        LA NOPALERA         NaN -99.055393  19.296997   \n",
       "3     NaN    CTM SECCIÇÿN 10         NaN -99.107160  19.300200   \n",
       "4     NaN        LA NOPALERA         NaN -99.054197  19.302147   \n",
       "\n",
       "                geo_point  \n",
       "0      19.36772,-99.13998  \n",
       "1  19.2032099,-99.0428762  \n",
       "2    19.296997,-99.055393  \n",
       "3     19.3002,-99.1071599  \n",
       "4    19.302147,-99.054197  "
      ]
     },
     "execution_count": 165,
     "metadata": {},
     "output_type": "execute_result"
    }
   ],
   "source": [
    "tiraderos_clandestinos = pd.read_csv('https://github.com/JonathanMartignon/Data_CDMX_Un_Aire_No_Tan_Bueno/blob/main/Datos/tiraderos-clandestinos-al-cierre-de-2017.csv?raw=True')\n",
    "tiraderos_clandestinos.head()"
   ]
  },
  {
   "cell_type": "code",
   "execution_count": 11,
   "metadata": {},
   "outputs": [
    {
     "data": {
      "text/plain": [
       "Cuauhtemoc             274\n",
       "Iztapalapa             219\n",
       "Benito Juarez          147\n",
       "Venustiano Carranza    109\n",
       "Alvaro Obregon          77\n",
       "Miguel Hidalgo          69\n",
       "Coyoacan                68\n",
       "Azcapotzalco            47\n",
       "Iztacalco               47\n",
       "Tlahuac                 35\n",
       "Milpa Alta              13\n",
       "Xochimilco              12\n",
       "Magdalena Contreras      5\n",
       "Cuajimalpa               5\n",
       "Tlalpan                  2\n",
       "Name: alcaldia, dtype: int64"
      ]
     },
     "execution_count": 11,
     "metadata": {},
     "output_type": "execute_result"
    }
   ],
   "source": [
    "tiraderos_clandestinos['alcaldia'].value_counts()"
   ]
  },
  {
   "cell_type": "code",
   "execution_count": 12,
   "metadata": {},
   "outputs": [
    {
     "data": {
      "image/png": "[encoded data removed]",
      "text/plain": [
       "<Figure size 720x432 with 1 Axes>"
      ]
     },
     "metadata": {
      "needs_background": "light"
     },
     "output_type": "display_data"
    }
   ],
   "source": [
    "plt.figure(figsize=(10,6))\n",
    "tiraderos_alcaldias = sns.countplot(x = \"alcaldia\", data=tiraderos_clandestinos,palette=\"GnBu\", \n",
    "                                   order = tiraderos_clandestinos['alcaldia'].value_counts().index)\n",
    "plt.title(\"Tiraderos por Alcaldia\")\n",
    "plt.ylabel('Cantidad')\n",
    "plt.xlabel('')\n",
    "# plt.yscale('log')\n",
    "tiraderos_alcaldias.set_xticklabels(tiraderos_alcaldias.get_xticklabels(),rotation=70) \n",
    "plt.tight_layout()\n",
    "plt.show()"
   ]
  },
  {
   "cell_type": "markdown",
   "metadata": {},
   "source": [
    "### Niveles de plomo en el aire"
   ]
  },
  {
   "cell_type": "code",
   "execution_count": 169,
   "metadata": {},
   "outputs": [
    {
     "data": {
      "text/html": [
       "<div>\n",
       "<style scoped>\n",
       "    .dataframe tbody tr th:only-of-type {\n",
       "        vertical-align: middle;\n",
       "    }\n",
       "\n",
       "    .dataframe tbody tr th {\n",
       "        vertical-align: top;\n",
       "    }\n",
       "\n",
       "    .dataframe thead th {\n",
       "        text-align: right;\n",
       "    }\n",
       "</style>\n",
       "<table border=\"1\" class=\"dataframe\">\n",
       "  <thead>\n",
       "    <tr style=\"text-align: right;\">\n",
       "      <th></th>\n",
       "      <th>Date</th>\n",
       "      <th>cve_station</th>\n",
       "      <th>cve_parameter</th>\n",
       "      <th>value</th>\n",
       "      <th>unit</th>\n",
       "    </tr>\n",
       "  </thead>\n",
       "  <tbody>\n",
       "    <tr>\n",
       "      <th>0</th>\n",
       "      <td>08/01/1989</td>\n",
       "      <td>CES</td>\n",
       "      <td>PbPST</td>\n",
       "      <td>1.55</td>\n",
       "      <td>2</td>\n",
       "    </tr>\n",
       "    <tr>\n",
       "      <th>1</th>\n",
       "      <td>08/01/1989</td>\n",
       "      <td>MER</td>\n",
       "      <td>PbPST</td>\n",
       "      <td>2.69</td>\n",
       "      <td>2</td>\n",
       "    </tr>\n",
       "    <tr>\n",
       "      <th>2</th>\n",
       "      <td>08/01/1989</td>\n",
       "      <td>PED</td>\n",
       "      <td>PbPST</td>\n",
       "      <td>0.87</td>\n",
       "      <td>2</td>\n",
       "    </tr>\n",
       "    <tr>\n",
       "      <th>3</th>\n",
       "      <td>08/01/1989</td>\n",
       "      <td>TLA</td>\n",
       "      <td>PbPST</td>\n",
       "      <td>1.41</td>\n",
       "      <td>2</td>\n",
       "    </tr>\n",
       "    <tr>\n",
       "      <th>4</th>\n",
       "      <td>08/01/1989</td>\n",
       "      <td>XAL</td>\n",
       "      <td>PbPST</td>\n",
       "      <td>3.17</td>\n",
       "      <td>2</td>\n",
       "    </tr>\n",
       "  </tbody>\n",
       "</table>\n",
       "</div>"
      ],
      "text/plain": [
       "         Date cve_station cve_parameter  value  unit\n",
       "0  08/01/1989         CES         PbPST   1.55     2\n",
       "1  08/01/1989         MER         PbPST   2.69     2\n",
       "2  08/01/1989         PED         PbPST   0.87     2\n",
       "3  08/01/1989         TLA         PbPST   1.41     2\n",
       "4  08/01/1989         XAL         PbPST   3.17     2"
      ]
     },
     "execution_count": 169,
     "metadata": {},
     "output_type": "execute_result"
    }
   ],
   "source": [
    "nivel_plomo = pd.read_csv('https://github.com/JonathanMartignon/Data_CDMX_Un_Aire_No_Tan_Bueno/blob/main/Datos/red_manual_plomo.csv?raw=True'\n",
    "                          ,skiprows=8)\n",
    "nivel_plomo.head()"
   ]
  },
  {
   "cell_type": "code",
   "execution_count": 172,
   "metadata": {},
   "outputs": [
    {
     "data": {
      "text/plain": [
       "(21975, 5)"
      ]
     },
     "execution_count": 172,
     "metadata": {},
     "output_type": "execute_result"
    }
   ],
   "source": [
    "nivel_plomo.shape"
   ]
  },
  {
   "cell_type": "code",
   "execution_count": 170,
   "metadata": {},
   "outputs": [
    {
     "name": "stdout",
     "output_type": "stream",
     "text": [
      "Date & \\textit{object} & 0 & 100.0\\% & ---\\\\\n",
      "\\hline\n",
      "cve_station & \\textit{object} & 0 & 100.0\\% & ---\\\\\n",
      "\\hline\n",
      "cve_parameter & \\textit{object} & 0 & 100.0\\% & ---\\\\\n",
      "\\hline\n",
      "value & \\textit{float64} & 0 & 100.0\\% & ---\\\\\n",
      "\\hline\n",
      "unit & \\textit{int64} & 0 & 100.0\\% & ---\\\\\n",
      "\\hline\n"
     ]
    }
   ],
   "source": [
    "a = list(nivel_plomo.columns)\n",
    "b = list(nivel_plomo.dtypes)\n",
    "c = list(nivel_plomo.isnull().sum())\n",
    "for i in range(len(nivel_plomo.columns)):\n",
    "    print(f'{a[i]} & \\\\textit{{{b[i]}}} & {c[i]} & {round(((nivel_plomo.shape[0]-c[i])/nivel_plomo.shape[0])*100,2)}\\% & ---\\\\\\\\')\n",
    "    print('\\\\hline')"
   ]
  },
  {
   "cell_type": "code",
   "execution_count": 171,
   "metadata": {},
   "outputs": [
    {
     "name": "stdout",
     "output_type": "stream",
     "text": [
      "\n",
      "---------------\n",
      "Date\n",
      "\n",
      "['08/01/1989' '14/01/1989' '20/01/1989' ... '16/10/2017' '22/10/2017'\n",
      " '28/10/2017']\n",
      "\n",
      "---------------\n",
      "cve_station\n",
      "\n",
      "['CES' 'MER' 'PED' 'TLA' 'XAL' 'MCM' 'FAN' 'TEC' 'CFE' 'XCH' 'MON' 'NEZ'\n",
      " 'UIZ' 'LPR' 'LOM' 'SHA' 'HAN' 'TAX' 'POT']\n",
      "\n",
      "---------------\n",
      "cve_parameter\n",
      "\n",
      "['PbPST' 'PbPM10']\n",
      "\n",
      "---------------\n",
      "value\n",
      "\n",
      "[1.55   2.69   0.87   ... 0.0309 0.0301 0.    ]\n",
      "\n",
      "---------------\n",
      "unit\n",
      "\n",
      "[2]\n"
     ]
    }
   ],
   "source": [
    "for col in nivel_plomo.columns:\n",
    "    print()\n",
    "    print('---------------')\n",
    "    print(col)\n",
    "    print()\n",
    "    print(nivel_plomo[col].unique())"
   ]
  },
  {
   "cell_type": "markdown",
   "metadata": {},
   "source": [
    "### Afluencia en Transporte público"
   ]
  },
  {
   "cell_type": "code",
   "execution_count": 23,
   "metadata": {},
   "outputs": [
    {
     "data": {
      "text/html": [
       "<div>\n",
       "<style scoped>\n",
       "    .dataframe tbody tr th:only-of-type {\n",
       "        vertical-align: middle;\n",
       "    }\n",
       "\n",
       "    .dataframe tbody tr th {\n",
       "        vertical-align: top;\n",
       "    }\n",
       "\n",
       "    .dataframe thead th {\n",
       "        text-align: right;\n",
       "    }\n",
       "</style>\n",
       "<table border=\"1\" class=\"dataframe\">\n",
       "  <thead>\n",
       "    <tr style=\"text-align: right;\">\n",
       "      <th></th>\n",
       "      <th>FECHA</th>\n",
       "      <th>DÍA MES</th>\n",
       "      <th>DÍA SEMANA</th>\n",
       "      <th>MES</th>\n",
       "      <th>AÑO</th>\n",
       "      <th>ORGANISMO</th>\n",
       "      <th>LINEA/SERVICIO</th>\n",
       "      <th>AFLUENCIA TARJETA</th>\n",
       "      <th>AFLUENCIA BOLETO</th>\n",
       "      <th>AFLUENCIA TOTAL\\n(cifras preliminares)</th>\n",
       "    </tr>\n",
       "  </thead>\n",
       "  <tbody>\n",
       "    <tr>\n",
       "      <th>0</th>\n",
       "      <td>2020-03-01</td>\n",
       "      <td>1</td>\n",
       "      <td>Domingo</td>\n",
       "      <td>2020-03</td>\n",
       "      <td>2020</td>\n",
       "      <td>Ecobici</td>\n",
       "      <td>NaN</td>\n",
       "      <td>NaN</td>\n",
       "      <td>NaN</td>\n",
       "      <td>11238.0</td>\n",
       "    </tr>\n",
       "    <tr>\n",
       "      <th>1</th>\n",
       "      <td>2020-03-02</td>\n",
       "      <td>2</td>\n",
       "      <td>Lunes</td>\n",
       "      <td>2020-03</td>\n",
       "      <td>2020</td>\n",
       "      <td>Ecobici</td>\n",
       "      <td>NaN</td>\n",
       "      <td>NaN</td>\n",
       "      <td>NaN</td>\n",
       "      <td>29475.0</td>\n",
       "    </tr>\n",
       "    <tr>\n",
       "      <th>2</th>\n",
       "      <td>2020-03-04</td>\n",
       "      <td>4</td>\n",
       "      <td>Miércoles</td>\n",
       "      <td>2020-03</td>\n",
       "      <td>2020</td>\n",
       "      <td>Ecobici</td>\n",
       "      <td>NaN</td>\n",
       "      <td>NaN</td>\n",
       "      <td>NaN</td>\n",
       "      <td>31477.0</td>\n",
       "    </tr>\n",
       "    <tr>\n",
       "      <th>3</th>\n",
       "      <td>2020-03-05</td>\n",
       "      <td>5</td>\n",
       "      <td>Jueves</td>\n",
       "      <td>2020-03</td>\n",
       "      <td>2020</td>\n",
       "      <td>Ecobici</td>\n",
       "      <td>NaN</td>\n",
       "      <td>NaN</td>\n",
       "      <td>NaN</td>\n",
       "      <td>31493.0</td>\n",
       "    </tr>\n",
       "    <tr>\n",
       "      <th>4</th>\n",
       "      <td>2020-03-06</td>\n",
       "      <td>6</td>\n",
       "      <td>Viernes</td>\n",
       "      <td>2020-03</td>\n",
       "      <td>2020</td>\n",
       "      <td>Ecobici</td>\n",
       "      <td>NaN</td>\n",
       "      <td>NaN</td>\n",
       "      <td>NaN</td>\n",
       "      <td>29035.0</td>\n",
       "    </tr>\n",
       "  </tbody>\n",
       "</table>\n",
       "</div>"
      ],
      "text/plain": [
       "        FECHA  DÍA MES DÍA SEMANA      MES   AÑO ORGANISMO LINEA/SERVICIO  \\\n",
       "0  2020-03-01        1    Domingo  2020-03  2020   Ecobici            NaN   \n",
       "1  2020-03-02        2      Lunes  2020-03  2020   Ecobici            NaN   \n",
       "2  2020-03-04        4  Miércoles  2020-03  2020   Ecobici            NaN   \n",
       "3  2020-03-05        5     Jueves  2020-03  2020   Ecobici            NaN   \n",
       "4  2020-03-06        6    Viernes  2020-03  2020   Ecobici            NaN   \n",
       "\n",
       "   AFLUENCIA TARJETA  AFLUENCIA BOLETO  AFLUENCIA TOTAL\\n(cifras preliminares)  \n",
       "0                NaN               NaN                                 11238.0  \n",
       "1                NaN               NaN                                 29475.0  \n",
       "2                NaN               NaN                                 31477.0  \n",
       "3                NaN               NaN                                 31493.0  \n",
       "4                NaN               NaN                                 29035.0  "
      ]
     },
     "execution_count": 23,
     "metadata": {},
     "output_type": "execute_result"
    }
   ],
   "source": [
    "url = 'https://github.com/JonathanMartignon/Data_CDMX_Un_Aire_No_Tan_Bueno/blob/main/Datos/afluencia-preliminar-en-transporte-publico.csv?raw=true'\n",
    "afluencia_transport = pd.read_csv(url)\n",
    "afluencia_transport.head()"
   ]
  },
  {
   "cell_type": "markdown",
   "metadata": {},
   "source": [
    "### Explorando"
   ]
  },
  {
   "cell_type": "code",
   "execution_count": 24,
   "metadata": {},
   "outputs": [
    {
     "data": {
      "text/plain": [
       "(11315, 10)"
      ]
     },
     "execution_count": 24,
     "metadata": {},
     "output_type": "execute_result"
    }
   ],
   "source": [
    "afluencia_transport.shape"
   ]
  },
  {
   "cell_type": "code",
   "execution_count": 25,
   "metadata": {},
   "outputs": [
    {
     "data": {
      "text/plain": [
       "Index(['FECHA', 'DÍA MES', 'DÍA SEMANA', 'MES', 'AÑO', 'ORGANISMO',\n",
       "       'LINEA/SERVICIO', 'AFLUENCIA TARJETA', 'AFLUENCIA BOLETO',\n",
       "       'AFLUENCIA TOTAL\\n(cifras preliminares)'],\n",
       "      dtype='object')"
      ]
     },
     "execution_count": 25,
     "metadata": {},
     "output_type": "execute_result"
    }
   ],
   "source": [
    "afluencia_transport.columns"
   ]
  },
  {
   "cell_type": "code",
   "execution_count": 27,
   "metadata": {},
   "outputs": [
    {
     "data": {
      "text/plain": [
       "FECHA                                      object\n",
       "DÍA MES                                     int64\n",
       "DÍA SEMANA                                 object\n",
       "MES                                        object\n",
       "AÑO                                         int64\n",
       "ORGANISMO                                  object\n",
       "LINEA/SERVICIO                             object\n",
       "AFLUENCIA TARJETA                         float64\n",
       "AFLUENCIA BOLETO                          float64\n",
       "AFLUENCIA TOTAL\\n(cifras preliminares)    float64\n",
       "dtype: object"
      ]
     },
     "execution_count": 27,
     "metadata": {},
     "output_type": "execute_result"
    }
   ],
   "source": [
    "afluencia_transport.dtypes"
   ]
  },
  {
   "cell_type": "code",
   "execution_count": 29,
   "metadata": {},
   "outputs": [
    {
     "data": {
      "text/plain": [
       "FECHA                                        0\n",
       "DÍA MES                                      0\n",
       "DÍA SEMANA                                   0\n",
       "MES                                          0\n",
       "AÑO                                          0\n",
       "ORGANISMO                                    0\n",
       "LINEA/SERVICIO                             305\n",
       "AFLUENCIA TARJETA                         9753\n",
       "AFLUENCIA BOLETO                          9159\n",
       "AFLUENCIA TOTAL\\n(cifras preliminares)     107\n",
       "dtype: int64"
      ]
     },
     "execution_count": 29,
     "metadata": {},
     "output_type": "execute_result"
    }
   ],
   "source": [
    "afluencia_transport.isnull().sum()"
   ]
  },
  {
   "cell_type": "markdown",
   "metadata": {},
   "source": [
    "### Escuelas por zona"
   ]
  },
  {
   "cell_type": "markdown",
   "metadata": {},
   "source": [
    "Escuelas públicas"
   ]
  },
  {
   "cell_type": "code",
   "execution_count": 45,
   "metadata": {},
   "outputs": [
    {
     "data": {
      "text/html": [
       "<div>\n",
       "<style scoped>\n",
       "    .dataframe tbody tr th:only-of-type {\n",
       "        vertical-align: middle;\n",
       "    }\n",
       "\n",
       "    .dataframe tbody tr th {\n",
       "        vertical-align: top;\n",
       "    }\n",
       "\n",
       "    .dataframe thead th {\n",
       "        text-align: right;\n",
       "    }\n",
       "</style>\n",
       "<table border=\"1\" class=\"dataframe\">\n",
       "  <thead>\n",
       "    <tr style=\"text-align: right;\">\n",
       "      <th></th>\n",
       "      <th>Nombre</th>\n",
       "      <th>Domicilio con nombre</th>\n",
       "      <th>Coordenadas</th>\n",
       "      <th>Latitud</th>\n",
       "      <th>Longitud</th>\n",
       "      <th>Geopoint</th>\n",
       "      <th>Domicilio</th>\n",
       "    </tr>\n",
       "  </thead>\n",
       "  <tbody>\n",
       "    <tr>\n",
       "      <th>0</th>\n",
       "      <td>TELESECUNDARIA 63</td>\n",
       "      <td>DOMICILIO: ADMON U HAB CAMPAÑA DEL EBANO Y C C...</td>\n",
       "      <td>-99.05424199980791,19.35316300009179,0</td>\n",
       "      <td>19.353163</td>\n",
       "      <td>-99.054242</td>\n",
       "      <td>19.3531630001,-99.0542419998</td>\n",
       "      <td>ADMON U HAB CAMPAÑA DEL EBANO Y C CELAYA S/N, ...</td>\n",
       "    </tr>\n",
       "    <tr>\n",
       "      <th>1</th>\n",
       "      <td>PREESCOLAR GENERAL CON SERVICIO ASISTENCIAL - ...</td>\n",
       "      <td>DOMICILIO: PLAYA FLAMINGOS NO 1, MILITAR MARTE...</td>\n",
       "      <td>-99.12558263181295,19.37922441798433,0</td>\n",
       "      <td>19.379224</td>\n",
       "      <td>-99.125583</td>\n",
       "      <td>19.379224418,-99.1255826318</td>\n",
       "      <td>PLAYA FLAMINGOS NO 1, MILITAR MARTE, DELEGACIO...</td>\n",
       "    </tr>\n",
       "    <tr>\n",
       "      <th>2</th>\n",
       "      <td>PREESCOLAR GENERAL - ESTADO DE ZACATECAS</td>\n",
       "      <td>DOMICILIO: CANAL DE SAN JUAN Y SUR 14 C, AGRIC...</td>\n",
       "      <td>-99.05933678879129,19.39268897307597,0</td>\n",
       "      <td>19.392689</td>\n",
       "      <td>-99.059337</td>\n",
       "      <td>19.3926889731,-99.0593367888</td>\n",
       "      <td>CANAL DE SAN JUAN Y SUR 14 C, AGRICOLA ORIENTA...</td>\n",
       "    </tr>\n",
       "    <tr>\n",
       "      <th>3</th>\n",
       "      <td>PRIMARIA GENERAL - PROFRA. AMANDA PALAFOX Y BAZ</td>\n",
       "      <td>DOMICILIO: MONTE ELBRUZ NO 15, LOS VOLCANES, D...</td>\n",
       "      <td>-99.17674771482122,19.2697621281349,0</td>\n",
       "      <td>19.269762</td>\n",
       "      <td>-99.176748</td>\n",
       "      <td>19.2697621281,-99.1767477148</td>\n",
       "      <td>MONTE ELBRUZ NO 15, LOS VOLCANES, DELEGACION T...</td>\n",
       "    </tr>\n",
       "    <tr>\n",
       "      <th>4</th>\n",
       "      <td>PRIMARIA GENERAL - VALENTIN ZAMORA OROZCO</td>\n",
       "      <td>DOMICILIO: RETORNO 33 Y 34 S/N, AVANTE, DELEGA...</td>\n",
       "      <td>-99.13093319192899,19.32847431855964,0</td>\n",
       "      <td>19.328474</td>\n",
       "      <td>-99.130933</td>\n",
       "      <td>19.3284743186,-99.1309331919</td>\n",
       "      <td>RETORNO 33 Y 34 S/N, AVANTE, DELEGACION COYOAC...</td>\n",
       "    </tr>\n",
       "  </tbody>\n",
       "</table>\n",
       "</div>"
      ],
      "text/plain": [
       "                                              Nombre  \\\n",
       "0                                  TELESECUNDARIA 63   \n",
       "1  PREESCOLAR GENERAL CON SERVICIO ASISTENCIAL - ...   \n",
       "2           PREESCOLAR GENERAL - ESTADO DE ZACATECAS   \n",
       "3    PRIMARIA GENERAL - PROFRA. AMANDA PALAFOX Y BAZ   \n",
       "4          PRIMARIA GENERAL - VALENTIN ZAMORA OROZCO   \n",
       "\n",
       "                                Domicilio con nombre  \\\n",
       "0  DOMICILIO: ADMON U HAB CAMPAÑA DEL EBANO Y C C...   \n",
       "1  DOMICILIO: PLAYA FLAMINGOS NO 1, MILITAR MARTE...   \n",
       "2  DOMICILIO: CANAL DE SAN JUAN Y SUR 14 C, AGRIC...   \n",
       "3  DOMICILIO: MONTE ELBRUZ NO 15, LOS VOLCANES, D...   \n",
       "4  DOMICILIO: RETORNO 33 Y 34 S/N, AVANTE, DELEGA...   \n",
       "\n",
       "                              Coordenadas    Latitud   Longitud  \\\n",
       "0  -99.05424199980791,19.35316300009179,0  19.353163 -99.054242   \n",
       "1  -99.12558263181295,19.37922441798433,0  19.379224 -99.125583   \n",
       "2  -99.05933678879129,19.39268897307597,0  19.392689 -99.059337   \n",
       "3   -99.17674771482122,19.2697621281349,0  19.269762 -99.176748   \n",
       "4  -99.13093319192899,19.32847431855964,0  19.328474 -99.130933   \n",
       "\n",
       "                       Geopoint  \\\n",
       "0  19.3531630001,-99.0542419998   \n",
       "1   19.379224418,-99.1255826318   \n",
       "2  19.3926889731,-99.0593367888   \n",
       "3  19.2697621281,-99.1767477148   \n",
       "4  19.3284743186,-99.1309331919   \n",
       "\n",
       "                                           Domicilio  \n",
       "0  ADMON U HAB CAMPAÑA DEL EBANO Y C CELAYA S/N, ...  \n",
       "1  PLAYA FLAMINGOS NO 1, MILITAR MARTE, DELEGACIO...  \n",
       "2  CANAL DE SAN JUAN Y SUR 14 C, AGRICOLA ORIENTA...  \n",
       "3  MONTE ELBRUZ NO 15, LOS VOLCANES, DELEGACION T...  \n",
       "4  RETORNO 33 Y 34 S/N, AVANTE, DELEGACION COYOAC...  "
      ]
     },
     "execution_count": 45,
     "metadata": {},
     "output_type": "execute_result"
    }
   ],
   "source": [
    "url = 'https://github.com/JonathanMartignon/Data_CDMX_Un_Aire_No_Tan_Bueno/blob/main/Datos/Escuelas/escuelas-publicas.csv?raw=true'\n",
    "escuelas_publicas = pd.read_csv(url)\n",
    "escuelas_publicas.head()"
   ]
  },
  {
   "cell_type": "code",
   "execution_count": 46,
   "metadata": {},
   "outputs": [
    {
     "data": {
      "text/plain": [
       "(2383, 7)"
      ]
     },
     "execution_count": 46,
     "metadata": {},
     "output_type": "execute_result"
    }
   ],
   "source": [
    "escuelas_publicas.shape"
   ]
  },
  {
   "cell_type": "code",
   "execution_count": 47,
   "metadata": {},
   "outputs": [
    {
     "data": {
      "text/plain": [
       "Index(['Nombre', 'Domicilio con nombre', 'Coordenadas', 'Latitud', 'Longitud',\n",
       "       'Geopoint', 'Domicilio'],\n",
       "      dtype='object')"
      ]
     },
     "execution_count": 47,
     "metadata": {},
     "output_type": "execute_result"
    }
   ],
   "source": [
    "escuelas_publicas.columns"
   ]
  },
  {
   "cell_type": "code",
   "execution_count": 48,
   "metadata": {},
   "outputs": [
    {
     "data": {
      "text/plain": [
       "Nombre                   object\n",
       "Domicilio con nombre     object\n",
       "Coordenadas              object\n",
       "Latitud                 float64\n",
       "Longitud                float64\n",
       "Geopoint                 object\n",
       "Domicilio                object\n",
       "dtype: object"
      ]
     },
     "execution_count": 48,
     "metadata": {},
     "output_type": "execute_result"
    }
   ],
   "source": [
    "escuelas_publicas.dtypes"
   ]
  },
  {
   "cell_type": "code",
   "execution_count": 53,
   "metadata": {},
   "outputs": [
    {
     "data": {
      "text/plain": [
       "98.49"
      ]
     },
     "execution_count": 53,
     "metadata": {},
     "output_type": "execute_result"
    }
   ],
   "source": [
    "round(((2383-36)/2383)*100,2)"
   ]
  },
  {
   "cell_type": "code",
   "execution_count": 49,
   "metadata": {},
   "outputs": [
    {
     "data": {
      "text/plain": [
       "Nombre                    0\n",
       "Domicilio con nombre      0\n",
       "Coordenadas             137\n",
       "Latitud                 141\n",
       "Longitud                139\n",
       "Geopoint                141\n",
       "Domicilio                36\n",
       "dtype: int64"
      ]
     },
     "execution_count": 49,
     "metadata": {},
     "output_type": "execute_result"
    }
   ],
   "source": [
    "escuelas_publicas.isnull().sum()"
   ]
  },
  {
   "cell_type": "code",
   "execution_count": 17,
   "metadata": {},
   "outputs": [],
   "source": [
    "delegacion = []\n",
    "for i in range(len(escuelas_publicas)):\n",
    "    if type(escuelas_publicas['Domicilio'][i]) != float:\n",
    "        deleg = escuelas_publicas['Domicilio'][i].split(\"DELEGACION\")\n",
    "        if len(deleg) > 1:\n",
    "            delegacion.append(deleg[1].split(',')[0])\n",
    "        else:\n",
    "            delegacion.append('NO DISPONIBLE')      \n",
    "    else:\n",
    "        delegacion.append('NO DISPONIBLE')"
   ]
  },
  {
   "cell_type": "code",
   "execution_count": 18,
   "metadata": {},
   "outputs": [],
   "source": [
    "escuelas_publicas['Delegacion'] = delegacion"
   ]
  },
  {
   "cell_type": "code",
   "execution_count": 19,
   "metadata": {},
   "outputs": [
    {
     "data": {
      "image/png": "[encoded data removed]",
      "text/plain": [
       "<Figure size 720x432 with 1 Axes>"
      ]
     },
     "metadata": {
      "needs_background": "light"
     },
     "output_type": "display_data"
    }
   ],
   "source": [
    "plt.figure(figsize=(10,6))\n",
    "escuelas_publicas_alcaldia = sns.countplot(x = \"Delegacion\", data=escuelas_publicas, palette=\"GnBu\", \n",
    "                                          order = escuelas_publicas['Delegacion'].value_counts().index)\n",
    "plt.title(\"Escuelas públicas por delegacion\")\n",
    "plt.ylabel('Cantidad')\n",
    "plt.xlabel('')\n",
    "# plt.yscale('log')\n",
    "escuelas_publicas_alcaldia.set_xticklabels(escuelas_publicas_alcaldia.get_xticklabels(), rotation=70) \n",
    "plt.tight_layout()\n",
    "plt.show()"
   ]
  },
  {
   "cell_type": "markdown",
   "metadata": {},
   "source": [
    "Escuelas privadas"
   ]
  },
  {
   "cell_type": "code",
   "execution_count": 56,
   "metadata": {},
   "outputs": [
    {
     "data": {
      "text/html": [
       "<div>\n",
       "<style scoped>\n",
       "    .dataframe tbody tr th:only-of-type {\n",
       "        vertical-align: middle;\n",
       "    }\n",
       "\n",
       "    .dataframe tbody tr th {\n",
       "        vertical-align: top;\n",
       "    }\n",
       "\n",
       "    .dataframe thead th {\n",
       "        text-align: right;\n",
       "    }\n",
       "</style>\n",
       "<table border=\"1\" class=\"dataframe\">\n",
       "  <thead>\n",
       "    <tr style=\"text-align: right;\">\n",
       "      <th></th>\n",
       "      <th>NIVEL</th>\n",
       "      <th>NOMBRE</th>\n",
       "      <th>TURNO</th>\n",
       "      <th>DOMICILIO</th>\n",
       "      <th>COLONIA</th>\n",
       "      <th>ALCALDÍA</th>\n",
       "      <th>SOSTENIMIENTO</th>\n",
       "      <th>ubicacion</th>\n",
       "      <th>lat</th>\n",
       "      <th>lon</th>\n",
       "      <th>coordenadas</th>\n",
       "    </tr>\n",
       "  </thead>\n",
       "  <tbody>\n",
       "    <tr>\n",
       "      <th>0</th>\n",
       "      <td>INICIAL</td>\n",
       "      <td>CENDI PART SEDI LOMAS</td>\n",
       "      <td>MATUTINO</td>\n",
       "      <td>EXPLANADA NO. 305</td>\n",
       "      <td>LOMAS DE CHAPULTEPEC</td>\n",
       "      <td>MIGUEL HIDALGO</td>\n",
       "      <td>Particular</td>\n",
       "      <td>EXPLANADA NO. 305, LOMAS DE CHAPULTEPEC, MIGUE...</td>\n",
       "      <td>19.425154</td>\n",
       "      <td>-99.211154</td>\n",
       "      <td>19.4251542,-99.211154</td>\n",
       "    </tr>\n",
       "    <tr>\n",
       "      <th>1</th>\n",
       "      <td>INICIAL</td>\n",
       "      <td>ARMONIA INFANTIL</td>\n",
       "      <td>MATUTINO</td>\n",
       "      <td>AV. SINATEL No 38 MZ. 4 LT. 21</td>\n",
       "      <td>SINATEL AMPLIACION</td>\n",
       "      <td>IZTAPALAPA</td>\n",
       "      <td>Particular</td>\n",
       "      <td>AV. SINATEL No 38 MZ. 4 LT. 21, SINATEL AMPLIA...</td>\n",
       "      <td>19.364828</td>\n",
       "      <td>-99.131801</td>\n",
       "      <td>19.3648281,-99.1318013</td>\n",
       "    </tr>\n",
       "    <tr>\n",
       "      <th>2</th>\n",
       "      <td>INICIAL</td>\n",
       "      <td>CENDI PART. COLEGIO DE LAS BALEARES</td>\n",
       "      <td>TIEMPO COMPLETO</td>\n",
       "      <td>JOSEFA ORTIZ DE DOMINGUEZ NO 2</td>\n",
       "      <td>TIZAPAN</td>\n",
       "      <td>ALVARO OBREGON</td>\n",
       "      <td>Particular</td>\n",
       "      <td>JOSEFA ORTIZ DE DOMINGUEZ NO 2, TIZAPAN, ALVAR...</td>\n",
       "      <td>19.335167</td>\n",
       "      <td>-99.202637</td>\n",
       "      <td>19.3351668,-99.202637</td>\n",
       "    </tr>\n",
       "    <tr>\n",
       "      <th>3</th>\n",
       "      <td>INICIAL</td>\n",
       "      <td>CENDI PART COLEGIO CIBELES, S.C.</td>\n",
       "      <td>MATUTINO</td>\n",
       "      <td>RIO GRIJALVA NUM 27</td>\n",
       "      <td>CUAUHTEMOC</td>\n",
       "      <td>CUAUHTEMOC</td>\n",
       "      <td>Particular</td>\n",
       "      <td>RIO GRIJALVA NUM 27, CUAUHTEMOC, CUAUHTEMOC</td>\n",
       "      <td>19.433640</td>\n",
       "      <td>-99.170147</td>\n",
       "      <td>19.4336398,-99.1701471</td>\n",
       "    </tr>\n",
       "    <tr>\n",
       "      <th>4</th>\n",
       "      <td>INICIAL</td>\n",
       "      <td>CENTRO DE DESARROLLO INFANTIL KINDERGARDEN</td>\n",
       "      <td>TIEMPO COMPLETO</td>\n",
       "      <td>CALLE 11 DE ENERO DE 1861 NO. 2114</td>\n",
       "      <td>LEYES DE REFORMA</td>\n",
       "      <td>IZTAPALAPA</td>\n",
       "      <td>Particular</td>\n",
       "      <td>CALLE 11 DE ENERO DE 1861 NO. 2114, LEYES DE R...</td>\n",
       "      <td>19.382636</td>\n",
       "      <td>-99.066102</td>\n",
       "      <td>19.3826355,-99.0661015</td>\n",
       "    </tr>\n",
       "  </tbody>\n",
       "</table>\n",
       "</div>"
      ],
      "text/plain": [
       "     NIVEL                                      NOMBRE            TURNO  \\\n",
       "0  INICIAL                       CENDI PART SEDI LOMAS         MATUTINO   \n",
       "1  INICIAL                            ARMONIA INFANTIL         MATUTINO   \n",
       "2  INICIAL         CENDI PART. COLEGIO DE LAS BALEARES  TIEMPO COMPLETO   \n",
       "3  INICIAL            CENDI PART COLEGIO CIBELES, S.C.         MATUTINO   \n",
       "4  INICIAL  CENTRO DE DESARROLLO INFANTIL KINDERGARDEN  TIEMPO COMPLETO   \n",
       "\n",
       "                            DOMICILIO               COLONIA        ALCALDÍA  \\\n",
       "0                   EXPLANADA NO. 305  LOMAS DE CHAPULTEPEC  MIGUEL HIDALGO   \n",
       "1      AV. SINATEL No 38 MZ. 4 LT. 21    SINATEL AMPLIACION      IZTAPALAPA   \n",
       "2      JOSEFA ORTIZ DE DOMINGUEZ NO 2               TIZAPAN  ALVARO OBREGON   \n",
       "3                 RIO GRIJALVA NUM 27            CUAUHTEMOC      CUAUHTEMOC   \n",
       "4  CALLE 11 DE ENERO DE 1861 NO. 2114      LEYES DE REFORMA      IZTAPALAPA   \n",
       "\n",
       "  SOSTENIMIENTO                                          ubicacion        lat  \\\n",
       "0    Particular  EXPLANADA NO. 305, LOMAS DE CHAPULTEPEC, MIGUE...  19.425154   \n",
       "1    Particular  AV. SINATEL No 38 MZ. 4 LT. 21, SINATEL AMPLIA...  19.364828   \n",
       "2    Particular  JOSEFA ORTIZ DE DOMINGUEZ NO 2, TIZAPAN, ALVAR...  19.335167   \n",
       "3    Particular        RIO GRIJALVA NUM 27, CUAUHTEMOC, CUAUHTEMOC  19.433640   \n",
       "4    Particular  CALLE 11 DE ENERO DE 1861 NO. 2114, LEYES DE R...  19.382636   \n",
       "\n",
       "         lon             coordenadas  \n",
       "0 -99.211154   19.4251542,-99.211154  \n",
       "1 -99.131801  19.3648281,-99.1318013  \n",
       "2 -99.202637   19.3351668,-99.202637  \n",
       "3 -99.170147  19.4336398,-99.1701471  \n",
       "4 -99.066102  19.3826355,-99.0661015  "
      ]
     },
     "execution_count": 56,
     "metadata": {},
     "output_type": "execute_result"
    }
   ],
   "source": [
    "url = 'https://github.com/JonathanMartignon/Data_CDMX_Un_Aire_No_Tan_Bueno/blob/main/Datos/Escuelas/escuelas-privadas.csv?raw=true'\n",
    "escuelas_privadas = pd.read_csv(url)\n",
    "escuelas_privadas.head()"
   ]
  },
  {
   "cell_type": "code",
   "execution_count": 60,
   "metadata": {},
   "outputs": [
    {
     "data": {
      "text/plain": [
       "(3696, 11)"
      ]
     },
     "execution_count": 60,
     "metadata": {},
     "output_type": "execute_result"
    }
   ],
   "source": [
    "escuelas_privadas.shape"
   ]
  },
  {
   "cell_type": "code",
   "execution_count": 57,
   "metadata": {},
   "outputs": [
    {
     "data": {
      "text/plain": [
       "Index(['NIVEL', 'NOMBRE', 'TURNO', 'DOMICILIO', 'COLONIA', 'ALCALDÍA',\n",
       "       'SOSTENIMIENTO', 'ubicacion', 'lat', 'lon', 'coordenadas'],\n",
       "      dtype='object')"
      ]
     },
     "execution_count": 57,
     "metadata": {},
     "output_type": "execute_result"
    }
   ],
   "source": [
    "escuelas_privadas.columns"
   ]
  },
  {
   "cell_type": "code",
   "execution_count": 58,
   "metadata": {},
   "outputs": [
    {
     "data": {
      "text/plain": [
       "NIVEL             object\n",
       "NOMBRE            object\n",
       "TURNO             object\n",
       "DOMICILIO         object\n",
       "COLONIA           object\n",
       "ALCALDÍA          object\n",
       "SOSTENIMIENTO     object\n",
       "ubicacion         object\n",
       "lat              float64\n",
       "lon              float64\n",
       "coordenadas       object\n",
       "dtype: object"
      ]
     },
     "execution_count": 58,
     "metadata": {},
     "output_type": "execute_result"
    }
   ],
   "source": [
    "escuelas_privadas.dtypes"
   ]
  },
  {
   "cell_type": "code",
   "execution_count": 59,
   "metadata": {},
   "outputs": [
    {
     "data": {
      "text/plain": [
       "NIVEL             0\n",
       "NOMBRE            0\n",
       "TURNO             0\n",
       "DOMICILIO         0\n",
       "COLONIA           0\n",
       "ALCALDÍA          0\n",
       "SOSTENIMIENTO     0\n",
       "ubicacion         0\n",
       "lat              37\n",
       "lon              37\n",
       "coordenadas      37\n",
       "dtype: int64"
      ]
     },
     "execution_count": 59,
     "metadata": {},
     "output_type": "execute_result"
    }
   ],
   "source": [
    "escuelas_privadas.isnull().sum()"
   ]
  },
  {
   "cell_type": "code",
   "execution_count": 21,
   "metadata": {},
   "outputs": [
    {
     "data": {
      "image/png": "[encoded data removed]",
      "text/plain": [
       "<Figure size 720x432 with 1 Axes>"
      ]
     },
     "metadata": {
      "needs_background": "light"
     },
     "output_type": "display_data"
    }
   ],
   "source": [
    "plt.figure(figsize=(10,6))\n",
    "escuelas_privadas_alcaldia = sns.countplot(x = \"ALCALDÍA\", data=escuelas_privadas,palette=\"GnBu\", \n",
    "                                          order = escuelas_privadas['ALCALDÍA'].value_counts().index)\n",
    "plt.title(\"Escuelas privadas por delegación\")\n",
    "plt.ylabel('Cantidad')\n",
    "plt.xlabel('')\n",
    "escuelas_privadas_alcaldia.set_xticklabels(escuelas_privadas_alcaldia.get_xticklabels(), rotation=70) \n",
    "plt.tight_layout()\n",
    "plt.show()"
   ]
  },
  {
   "cell_type": "markdown",
   "metadata": {},
   "source": [
    "### Mercados públicos por zona"
   ]
  },
  {
   "cell_type": "code",
   "execution_count": 64,
   "metadata": {},
   "outputs": [
    {
     "data": {
      "text/html": [
       "<div>\n",
       "<style scoped>\n",
       "    .dataframe tbody tr th:only-of-type {\n",
       "        vertical-align: middle;\n",
       "    }\n",
       "\n",
       "    .dataframe tbody tr th {\n",
       "        vertical-align: top;\n",
       "    }\n",
       "\n",
       "    .dataframe thead th {\n",
       "        text-align: right;\n",
       "    }\n",
       "</style>\n",
       "<table border=\"1\" class=\"dataframe\">\n",
       "  <thead>\n",
       "    <tr style=\"text-align: right;\">\n",
       "      <th></th>\n",
       "      <th>numero</th>\n",
       "      <th>alcaldia</th>\n",
       "      <th>nombre mercado</th>\n",
       "      <th>numero oficial</th>\n",
       "      <th>numero de locales</th>\n",
       "      <th>latitud</th>\n",
       "      <th>longitud</th>\n",
       "      <th>coord</th>\n",
       "    </tr>\n",
       "  </thead>\n",
       "  <tbody>\n",
       "    <tr>\n",
       "      <th>0</th>\n",
       "      <td>21.0</td>\n",
       "      <td>AZCAPOTZALCO</td>\n",
       "      <td>COSMOPOLITA</td>\n",
       "      <td>138.0</td>\n",
       "      <td>135.0</td>\n",
       "      <td>19.475223</td>\n",
       "      <td>-99.161796</td>\n",
       "      <td>19.4752229147,-99.1617959999</td>\n",
       "    </tr>\n",
       "    <tr>\n",
       "      <th>1</th>\n",
       "      <td>35.0</td>\n",
       "      <td>AZCAPOTZALCO</td>\n",
       "      <td>VICTORIA DE LAS DEMOCRACIAS</td>\n",
       "      <td>141.0</td>\n",
       "      <td>177.0</td>\n",
       "      <td>19.467591</td>\n",
       "      <td>-99.163067</td>\n",
       "      <td>19.4675909147,-99.1630669999</td>\n",
       "    </tr>\n",
       "    <tr>\n",
       "      <th>2</th>\n",
       "      <td>26.0</td>\n",
       "      <td>AZCAPOTZALCO</td>\n",
       "      <td>OBRERO POPULAR</td>\n",
       "      <td>142.0</td>\n",
       "      <td>125.0</td>\n",
       "      <td>19.463233</td>\n",
       "      <td>-99.173568</td>\n",
       "      <td>19.4632329148,-99.1735679999</td>\n",
       "    </tr>\n",
       "    <tr>\n",
       "      <th>3</th>\n",
       "      <td>19.0</td>\n",
       "      <td>AZCAPOTZALCO</td>\n",
       "      <td>BENITO JUAREZ</td>\n",
       "      <td>167.0</td>\n",
       "      <td>123.0</td>\n",
       "      <td>19.475726</td>\n",
       "      <td>-99.176803</td>\n",
       "      <td>19.4757259147,-99.1768029999</td>\n",
       "    </tr>\n",
       "    <tr>\n",
       "      <th>4</th>\n",
       "      <td>70.0</td>\n",
       "      <td>COYOACAN</td>\n",
       "      <td>SANTA URSULA COAPA (PESCADITOS)</td>\n",
       "      <td>154.0</td>\n",
       "      <td>268.0</td>\n",
       "      <td>19.311774</td>\n",
       "      <td>-99.150337</td>\n",
       "      <td>19.3117739152,-99.1503369999</td>\n",
       "    </tr>\n",
       "  </tbody>\n",
       "</table>\n",
       "</div>"
      ],
      "text/plain": [
       "   numero      alcaldia                   nombre mercado  numero oficial  \\\n",
       "0    21.0  AZCAPOTZALCO                      COSMOPOLITA           138.0   \n",
       "1    35.0  AZCAPOTZALCO      VICTORIA DE LAS DEMOCRACIAS           141.0   \n",
       "2    26.0  AZCAPOTZALCO                   OBRERO POPULAR           142.0   \n",
       "3    19.0  AZCAPOTZALCO                    BENITO JUAREZ           167.0   \n",
       "4    70.0      COYOACAN  SANTA URSULA COAPA (PESCADITOS)           154.0   \n",
       "\n",
       "   numero de locales    latitud   longitud                         coord  \n",
       "0              135.0  19.475223 -99.161796  19.4752229147,-99.1617959999  \n",
       "1              177.0  19.467591 -99.163067  19.4675909147,-99.1630669999  \n",
       "2              125.0  19.463233 -99.173568  19.4632329148,-99.1735679999  \n",
       "3              123.0  19.475726 -99.176803  19.4757259147,-99.1768029999  \n",
       "4              268.0  19.311774 -99.150337  19.3117739152,-99.1503369999  "
      ]
     },
     "execution_count": 64,
     "metadata": {},
     "output_type": "execute_result"
    }
   ],
   "source": [
    "mercados = pd.read_csv('https://github.com/JonathanMartignon/Data_CDMX_Un_Aire_No_Tan_Bueno/blob/main/Datos/mercados-publicos.csv?raw=True')\n",
    "mercados.head()"
   ]
  },
  {
   "cell_type": "code",
   "execution_count": 68,
   "metadata": {},
   "outputs": [
    {
     "data": {
      "text/plain": [
       "(329, 8)"
      ]
     },
     "execution_count": 68,
     "metadata": {},
     "output_type": "execute_result"
    }
   ],
   "source": [
    "mercados.shape"
   ]
  },
  {
   "cell_type": "code",
   "execution_count": 65,
   "metadata": {},
   "outputs": [
    {
     "data": {
      "text/plain": [
       "Index(['numero', 'alcaldia', 'nombre mercado', 'numero oficial',\n",
       "       'numero de locales', 'latitud', 'longitud', 'coord'],\n",
       "      dtype='object')"
      ]
     },
     "execution_count": 65,
     "metadata": {},
     "output_type": "execute_result"
    }
   ],
   "source": [
    "mercados.columns"
   ]
  },
  {
   "cell_type": "code",
   "execution_count": 66,
   "metadata": {},
   "outputs": [
    {
     "data": {
      "text/plain": [
       "numero               float64\n",
       "alcaldia              object\n",
       "nombre mercado        object\n",
       "numero oficial       float64\n",
       "numero de locales    float64\n",
       "latitud              float64\n",
       "longitud             float64\n",
       "coord                 object\n",
       "dtype: object"
      ]
     },
     "execution_count": 66,
     "metadata": {},
     "output_type": "execute_result"
    }
   ],
   "source": [
    "mercados.dtypes"
   ]
  },
  {
   "cell_type": "code",
   "execution_count": 67,
   "metadata": {},
   "outputs": [
    {
     "data": {
      "text/plain": [
       "numero               0\n",
       "alcaldia             0\n",
       "nombre mercado       0\n",
       "numero oficial       0\n",
       "numero de locales    0\n",
       "latitud              0\n",
       "longitud             0\n",
       "coord                0\n",
       "dtype: int64"
      ]
     },
     "execution_count": 67,
     "metadata": {},
     "output_type": "execute_result"
    }
   ],
   "source": [
    "mercados.isnull().sum()"
   ]
  },
  {
   "cell_type": "code",
   "execution_count": 23,
   "metadata": {},
   "outputs": [
    {
     "data": {
      "image/png": "[encoded data removed]",
      "text/plain": [
       "<Figure size 720x432 with 1 Axes>"
      ]
     },
     "metadata": {
      "needs_background": "light"
     },
     "output_type": "display_data"
    }
   ],
   "source": [
    "plt.figure(figsize=(10,6))\n",
    "mercados_alcaldias = sns.countplot(x = \"alcaldia\", data=mercados,palette=\"GnBu\",\n",
    "                                  order = mercados['alcaldia'].value_counts().index)\n",
    "plt.title(\"Mercados Públicos por delegacion\")\n",
    "plt.ylabel('Cantidad')\n",
    "mercados_alcaldias.set_xticklabels(mercados_alcaldias.get_xticklabels(), rotation=75)\n",
    "plt.xlabel('')\n",
    "plt.tight_layout()\n",
    "plt.show()"
   ]
  },
  {
   "cell_type": "markdown",
   "metadata": {},
   "source": [
    "### Indices de Parquímetros"
   ]
  },
  {
   "cell_type": "code",
   "execution_count": 70,
   "metadata": {},
   "outputs": [
    {
     "data": {
      "text/html": [
       "<div>\n",
       "<style scoped>\n",
       "    .dataframe tbody tr th:only-of-type {\n",
       "        vertical-align: middle;\n",
       "    }\n",
       "\n",
       "    .dataframe tbody tr th {\n",
       "        vertical-align: top;\n",
       "    }\n",
       "\n",
       "    .dataframe thead th {\n",
       "        text-align: right;\n",
       "    }\n",
       "</style>\n",
       "<table border=\"1\" class=\"dataframe\">\n",
       "  <thead>\n",
       "    <tr style=\"text-align: right;\">\n",
       "      <th></th>\n",
       "      <th>Alcaldía</th>\n",
       "      <th>Polígono</th>\n",
       "      <th>Colonia</th>\n",
       "      <th>Año</th>\n",
       "      <th>Mes</th>\n",
       "      <th>Ingreso por Estacionamiento en Vía Pública</th>\n",
       "      <th>Contraprestación 30%                                (F)</th>\n",
       "      <th>Ingreso por Retiro de Candado Inmovilizador</th>\n",
       "      <th>70% Inmovilizador           (H)</th>\n",
       "      <th>Pago al GCDMX       (F-H)</th>\n",
       "    </tr>\n",
       "  </thead>\n",
       "  <tbody>\n",
       "    <tr>\n",
       "      <th>0</th>\n",
       "      <td>Miguel Hidalgo</td>\n",
       "      <td>Polanco</td>\n",
       "      <td>Palmitas</td>\n",
       "      <td>2012</td>\n",
       "      <td>Febrero</td>\n",
       "      <td>204270.0</td>\n",
       "      <td>61281.0</td>\n",
       "      <td>0.0</td>\n",
       "      <td>0.0</td>\n",
       "      <td>61281.0</td>\n",
       "    </tr>\n",
       "    <tr>\n",
       "      <th>1</th>\n",
       "      <td>Miguel Hidalgo</td>\n",
       "      <td>Polanco</td>\n",
       "      <td>Los Morales</td>\n",
       "      <td>2012</td>\n",
       "      <td>Junio</td>\n",
       "      <td>464162.0</td>\n",
       "      <td>139248.6</td>\n",
       "      <td>0.0</td>\n",
       "      <td>0.0</td>\n",
       "      <td>139248.6</td>\n",
       "    </tr>\n",
       "    <tr>\n",
       "      <th>2</th>\n",
       "      <td>Miguel Hidalgo</td>\n",
       "      <td>Polanco</td>\n",
       "      <td>Rincón del Bosque</td>\n",
       "      <td>2012</td>\n",
       "      <td>Junio</td>\n",
       "      <td>99802.0</td>\n",
       "      <td>29940.6</td>\n",
       "      <td>0.0</td>\n",
       "      <td>0.0</td>\n",
       "      <td>29940.6</td>\n",
       "    </tr>\n",
       "    <tr>\n",
       "      <th>3</th>\n",
       "      <td>Miguel Hidalgo</td>\n",
       "      <td>Polanco</td>\n",
       "      <td>Morales Secc. Palmas</td>\n",
       "      <td>2012</td>\n",
       "      <td>Junio</td>\n",
       "      <td>337447.0</td>\n",
       "      <td>101234.1</td>\n",
       "      <td>0.0</td>\n",
       "      <td>0.0</td>\n",
       "      <td>101234.1</td>\n",
       "    </tr>\n",
       "    <tr>\n",
       "      <th>4</th>\n",
       "      <td>Miguel Hidalgo</td>\n",
       "      <td>Polanco</td>\n",
       "      <td>Polanco Reforma</td>\n",
       "      <td>2012</td>\n",
       "      <td>Julio</td>\n",
       "      <td>1133326.0</td>\n",
       "      <td>339997.8</td>\n",
       "      <td>0.0</td>\n",
       "      <td>0.0</td>\n",
       "      <td>339997.8</td>\n",
       "    </tr>\n",
       "  </tbody>\n",
       "</table>\n",
       "</div>"
      ],
      "text/plain": [
       "         Alcaldía Polígono               Colonia    Año      Mes  \\\n",
       "0  Miguel Hidalgo   Polanco              Palmitas  2012  Febrero   \n",
       "1  Miguel Hidalgo   Polanco           Los Morales  2012    Junio   \n",
       "2  Miguel Hidalgo   Polanco     Rincón del Bosque  2012    Junio   \n",
       "3  Miguel Hidalgo   Polanco  Morales Secc. Palmas  2012    Junio   \n",
       "4  Miguel Hidalgo   Polanco       Polanco Reforma  2012    Julio   \n",
       "\n",
       "   Ingreso por Estacionamiento en Vía Pública   \\\n",
       "0                                     204270.0   \n",
       "1                                     464162.0   \n",
       "2                                      99802.0   \n",
       "3                                     337447.0   \n",
       "4                                    1133326.0   \n",
       "\n",
       "   Contraprestación 30%                                (F)               \\\n",
       "0                                            61281.0                      \n",
       "1                                           139248.6                      \n",
       "2                                            29940.6                      \n",
       "3                                           101234.1                      \n",
       "4                                           339997.8                      \n",
       "\n",
       "   Ingreso por Retiro de Candado Inmovilizador  \\\n",
       "0                                          0.0   \n",
       "1                                          0.0   \n",
       "2                                          0.0   \n",
       "3                                          0.0   \n",
       "4                                          0.0   \n",
       "\n",
       "   70% Inmovilizador           (H)  Pago al GCDMX       (F-H)  \n",
       "0                              0.0                    61281.0  \n",
       "1                              0.0                   139248.6  \n",
       "2                              0.0                    29940.6  \n",
       "3                              0.0                   101234.1  \n",
       "4                              0.0                   339997.8  "
      ]
     },
     "execution_count": 70,
     "metadata": {},
     "output_type": "execute_result"
    }
   ],
   "source": [
    "parquimetros = pd.read_csv('https://github.com/JonathanMartignon/Data_CDMX_Un_Aire_No_Tan_Bueno/blob/main/Datos/prueba-parquimetros.csv?raw=True')\n",
    "parquimetros.head()"
   ]
  },
  {
   "cell_type": "code",
   "execution_count": 71,
   "metadata": {},
   "outputs": [
    {
     "data": {
      "text/plain": [
       "(2482, 10)"
      ]
     },
     "execution_count": 71,
     "metadata": {},
     "output_type": "execute_result"
    }
   ],
   "source": [
    "parquimetros.shape"
   ]
  },
  {
   "cell_type": "code",
   "execution_count": 72,
   "metadata": {},
   "outputs": [
    {
     "data": {
      "text/plain": [
       "Index(['Alcaldía', 'Polígono ', 'Colonia ', 'Año', 'Mes',\n",
       "       'Ingreso por Estacionamiento en Vía Pública ',\n",
       "       'Contraprestación 30%                                (F)             ',\n",
       "       'Ingreso por Retiro de Candado Inmovilizador',\n",
       "       '70% Inmovilizador           (H)', 'Pago al GCDMX       (F-H)'],\n",
       "      dtype='object')"
      ]
     },
     "execution_count": 72,
     "metadata": {},
     "output_type": "execute_result"
    }
   ],
   "source": [
    "parquimetros.columns"
   ]
  },
  {
   "cell_type": "code",
   "execution_count": 73,
   "metadata": {},
   "outputs": [
    {
     "data": {
      "text/plain": [
       "Alcaldía                                                                 object\n",
       "Polígono                                                                 object\n",
       "Colonia                                                                  object\n",
       "Año                                                                       int64\n",
       "Mes                                                                      object\n",
       "Ingreso por Estacionamiento en Vía Pública                              float64\n",
       "Contraprestación 30%                                (F)                 float64\n",
       "Ingreso por Retiro de Candado Inmovilizador                             float64\n",
       "70% Inmovilizador           (H)                                         float64\n",
       "Pago al GCDMX       (F-H)                                               float64\n",
       "dtype: object"
      ]
     },
     "execution_count": 73,
     "metadata": {},
     "output_type": "execute_result"
    }
   ],
   "source": [
    "parquimetros.dtypes"
   ]
  },
  {
   "cell_type": "code",
   "execution_count": 75,
   "metadata": {},
   "outputs": [
    {
     "data": {
      "text/plain": [
       "Alcaldía                                                                  0\n",
       "Polígono                                                                  0\n",
       "Colonia                                                                   0\n",
       "Año                                                                       0\n",
       "Mes                                                                       0\n",
       "Ingreso por Estacionamiento en Vía Pública                              115\n",
       "Contraprestación 30%                                (F)                  26\n",
       "Ingreso por Retiro de Candado Inmovilizador                             138\n",
       "70% Inmovilizador           (H)                                          27\n",
       "Pago al GCDMX       (F-H)                                                23\n",
       "dtype: int64"
      ]
     },
     "execution_count": 75,
     "metadata": {},
     "output_type": "execute_result"
    }
   ],
   "source": [
    "parquimetros.isnull().sum()"
   ]
  },
  {
   "cell_type": "code",
   "execution_count": 25,
   "metadata": {},
   "outputs": [],
   "source": [
    "#Por alguna razon no muestra\n",
    "#parquimetros[\"Colonia\"]\n",
    "\n",
    "#@Jhonny\n",
    "# Respuesta: No lo mostraba porque no es 'Colonia', es 'Colonia ', te faltaba un espacio "
   ]
  },
  {
   "cell_type": "code",
   "execution_count": 90,
   "metadata": {},
   "outputs": [
    {
     "data": {
      "image/png": "[encoded data removed]",
      "text/plain": [
       "<Figure size 864x720 with 1 Axes>"
      ]
     },
     "metadata": {
      "needs_background": "light"
     },
     "output_type": "display_data"
    }
   ],
   "source": [
    "plt.figure(figsize=(12,10))\n",
    "\n",
    "parquimetros_alcaldia = sns.countplot(x = \"Colonia \", data=parquimetros, palette=\"GnBu\", \n",
    "                                     order = parquimetros['Colonia '].value_counts().index)\n",
    "plt.title(\"Parquimetros por Colonia\")\n",
    "plt.ylabel('Cantidad')\n",
    "plt.xlabel('')\n",
    "parquimetros_alcaldia.set_xticklabels(parquimetros_alcaldia.get_xticklabels(),rotation=90)\n",
    "plt.tight_layout()\n",
    "plt.show()"
   ]
  },
  {
   "cell_type": "code",
   "execution_count": 93,
   "metadata": {},
   "outputs": [
    {
     "data": {
      "image/png": "[encoded data removed]",
      "text/plain": [
       "<Figure size 576x432 with 1 Axes>"
      ]
     },
     "metadata": {
      "needs_background": "light"
     },
     "output_type": "display_data"
    }
   ],
   "source": [
    "plt.figure(figsize=(8,6))\n",
    "\n",
    "parquimetros_alcaldia = sns.countplot(x = \"Alcaldía\", data=parquimetros, palette=\"GnBu\", \n",
    "                                     order = parquimetros['Alcaldía'].value_counts().index)\n",
    "plt.title(\"Parquimetros por Alcaldía\")\n",
    "plt.ylabel('Cantidad')\n",
    "plt.xlabel('')\n",
    "parquimetros_alcaldia.set_xticklabels(parquimetros_alcaldia.get_xticklabels(),rotation=90)\n",
    "plt.tight_layout()\n",
    "plt.show()"
   ]
  },
  {
   "cell_type": "code",
   "execution_count": null,
   "metadata": {},
   "outputs": [],
   "source": []
  },
  {
   "cell_type": "markdown",
   "metadata": {},
   "source": [
    "### Areas Verdes CDMX"
   ]
  },
  {
   "cell_type": "code",
   "execution_count": 94,
   "metadata": {},
   "outputs": [
    {
     "data": {
      "text/html": [
       "<div>\n",
       "<style scoped>\n",
       "    .dataframe tbody tr th:only-of-type {\n",
       "        vertical-align: middle;\n",
       "    }\n",
       "\n",
       "    .dataframe tbody tr th {\n",
       "        vertical-align: top;\n",
       "    }\n",
       "\n",
       "    .dataframe thead th {\n",
       "        text-align: right;\n",
       "    }\n",
       "</style>\n",
       "<table border=\"1\" class=\"dataframe\">\n",
       "  <thead>\n",
       "    <tr style=\"text-align: right;\">\n",
       "      <th></th>\n",
       "      <th>Geo Point</th>\n",
       "      <th>Geo Shape</th>\n",
       "      <th>muerdago</th>\n",
       "      <th>p_sp_her_d</th>\n",
       "      <th>zonifica</th>\n",
       "      <th>subcat_sed</th>\n",
       "      <th>subcve_sed</th>\n",
       "      <th>p_manejo</th>\n",
       "      <th>tipo</th>\n",
       "      <th>p_sp_abs_d</th>\n",
       "      <th>...</th>\n",
       "      <th>p_sp_arb_d</th>\n",
       "      <th>p_herbaceo</th>\n",
       "      <th>p_sp_do_mu</th>\n",
       "      <th>p_arboreo</th>\n",
       "      <th>categoria_</th>\n",
       "      <th>superficie</th>\n",
       "      <th>e_urbano</th>\n",
       "      <th>perimetro</th>\n",
       "      <th>cve_sedema</th>\n",
       "      <th>responsabl</th>\n",
       "    </tr>\n",
       "  </thead>\n",
       "  <tbody>\n",
       "    <tr>\n",
       "      <th>0</th>\n",
       "      <td>19.4877568178,-99.2060645931</td>\n",
       "      <td>{\"type\": \"MultiPolygon\", \"coordinates\": [[[[-9...</td>\n",
       "      <td>Ausencia</td>\n",
       "      <td>NaN</td>\n",
       "      <td>NaN</td>\n",
       "      <td>Panteones</td>\n",
       "      <td>604.0</td>\n",
       "      <td>NaN</td>\n",
       "      <td>NaN</td>\n",
       "      <td>NaN</td>\n",
       "      <td>...</td>\n",
       "      <td>NaN</td>\n",
       "      <td>NaN</td>\n",
       "      <td>NaN</td>\n",
       "      <td>NaN</td>\n",
       "      <td>Equipamientos urbanos con vegetación</td>\n",
       "      <td>6660.027554</td>\n",
       "      <td>NaN</td>\n",
       "      <td>329.264738</td>\n",
       "      <td>600</td>\n",
       "      <td>NaN</td>\n",
       "    </tr>\n",
       "    <tr>\n",
       "      <th>1</th>\n",
       "      <td>19.3887689803,-99.116393168</td>\n",
       "      <td>{\"type\": \"MultiPolygon\", \"coordinates\": [[[[-9...</td>\n",
       "      <td>Ausencia</td>\n",
       "      <td>NaN</td>\n",
       "      <td>NaN</td>\n",
       "      <td>Deportivos</td>\n",
       "      <td>601.0</td>\n",
       "      <td>NaN</td>\n",
       "      <td>NaN</td>\n",
       "      <td>NaN</td>\n",
       "      <td>...</td>\n",
       "      <td>NaN</td>\n",
       "      <td>NaN</td>\n",
       "      <td>NaN</td>\n",
       "      <td>NaN</td>\n",
       "      <td>Equipamientos urbanos con vegetación</td>\n",
       "      <td>2917.257837</td>\n",
       "      <td>NaN</td>\n",
       "      <td>272.243614</td>\n",
       "      <td>600</td>\n",
       "      <td>NaN</td>\n",
       "    </tr>\n",
       "    <tr>\n",
       "      <th>2</th>\n",
       "      <td>19.3928871121,-99.0869912505</td>\n",
       "      <td>{\"type\": \"MultiPolygon\", \"coordinates\": [[[[-9...</td>\n",
       "      <td>Ausencia</td>\n",
       "      <td>NaN</td>\n",
       "      <td>NaN</td>\n",
       "      <td>Camellones centrales y laterales</td>\n",
       "      <td>203.0</td>\n",
       "      <td>NaN</td>\n",
       "      <td>NaN</td>\n",
       "      <td>NaN</td>\n",
       "      <td>...</td>\n",
       "      <td>NaN</td>\n",
       "      <td>NaN</td>\n",
       "      <td>NaN</td>\n",
       "      <td>NaN</td>\n",
       "      <td>Áreas verdes complementarias o ligadas a la re...</td>\n",
       "      <td>1086.305646</td>\n",
       "      <td>NaN</td>\n",
       "      <td>425.043656</td>\n",
       "      <td>200</td>\n",
       "      <td>NaN</td>\n",
       "    </tr>\n",
       "    <tr>\n",
       "      <th>3</th>\n",
       "      <td>19.383106069,-99.1073609486</td>\n",
       "      <td>{\"type\": \"MultiPolygon\", \"coordinates\": [[[[-9...</td>\n",
       "      <td>Ausencia</td>\n",
       "      <td>NaN</td>\n",
       "      <td>NaN</td>\n",
       "      <td>Unidades habitacionales</td>\n",
       "      <td>602.0</td>\n",
       "      <td>NaN</td>\n",
       "      <td>NaN</td>\n",
       "      <td>NaN</td>\n",
       "      <td>...</td>\n",
       "      <td>NaN</td>\n",
       "      <td>NaN</td>\n",
       "      <td>NaN</td>\n",
       "      <td>NaN</td>\n",
       "      <td>Equipamientos urbanos con vegetación</td>\n",
       "      <td>3605.704046</td>\n",
       "      <td>NaN</td>\n",
       "      <td>269.209436</td>\n",
       "      <td>600</td>\n",
       "      <td>NaN</td>\n",
       "    </tr>\n",
       "    <tr>\n",
       "      <th>4</th>\n",
       "      <td>19.3822134465,-99.1028423436</td>\n",
       "      <td>{\"type\": \"MultiPolygon\", \"coordinates\": [[[[-9...</td>\n",
       "      <td>Ausencia</td>\n",
       "      <td>NaN</td>\n",
       "      <td>NaN</td>\n",
       "      <td>Unidades habitacionales</td>\n",
       "      <td>602.0</td>\n",
       "      <td>NaN</td>\n",
       "      <td>NaN</td>\n",
       "      <td>NaN</td>\n",
       "      <td>...</td>\n",
       "      <td>NaN</td>\n",
       "      <td>NaN</td>\n",
       "      <td>NaN</td>\n",
       "      <td>NaN</td>\n",
       "      <td>Equipamientos urbanos con vegetación</td>\n",
       "      <td>19619.361577</td>\n",
       "      <td>NaN</td>\n",
       "      <td>798.409227</td>\n",
       "      <td>600</td>\n",
       "      <td>NaN</td>\n",
       "    </tr>\n",
       "  </tbody>\n",
       "</table>\n",
       "<p>5 rows × 28 columns</p>\n",
       "</div>"
      ],
      "text/plain": [
       "                      Geo Point  \\\n",
       "0  19.4877568178,-99.2060645931   \n",
       "1   19.3887689803,-99.116393168   \n",
       "2  19.3928871121,-99.0869912505   \n",
       "3   19.383106069,-99.1073609486   \n",
       "4  19.3822134465,-99.1028423436   \n",
       "\n",
       "                                           Geo Shape  muerdago  p_sp_her_d  \\\n",
       "0  {\"type\": \"MultiPolygon\", \"coordinates\": [[[[-9...  Ausencia         NaN   \n",
       "1  {\"type\": \"MultiPolygon\", \"coordinates\": [[[[-9...  Ausencia         NaN   \n",
       "2  {\"type\": \"MultiPolygon\", \"coordinates\": [[[[-9...  Ausencia         NaN   \n",
       "3  {\"type\": \"MultiPolygon\", \"coordinates\": [[[[-9...  Ausencia         NaN   \n",
       "4  {\"type\": \"MultiPolygon\", \"coordinates\": [[[[-9...  Ausencia         NaN   \n",
       "\n",
       "   zonifica                        subcat_sed  subcve_sed  p_manejo tipo  \\\n",
       "0       NaN                         Panteones       604.0       NaN  NaN   \n",
       "1       NaN                        Deportivos       601.0       NaN  NaN   \n",
       "2       NaN  Camellones centrales y laterales       203.0       NaN  NaN   \n",
       "3       NaN           Unidades habitacionales       602.0       NaN  NaN   \n",
       "4       NaN           Unidades habitacionales       602.0       NaN  NaN   \n",
       "\n",
       "   p_sp_abs_d  ...  p_sp_arb_d p_herbaceo  p_sp_do_mu  p_arboreo  \\\n",
       "0         NaN  ...         NaN        NaN         NaN        NaN   \n",
       "1         NaN  ...         NaN        NaN         NaN        NaN   \n",
       "2         NaN  ...         NaN        NaN         NaN        NaN   \n",
       "3         NaN  ...         NaN        NaN         NaN        NaN   \n",
       "4         NaN  ...         NaN        NaN         NaN        NaN   \n",
       "\n",
       "                                          categoria_    superficie e_urbano  \\\n",
       "0               Equipamientos urbanos con vegetación   6660.027554      NaN   \n",
       "1               Equipamientos urbanos con vegetación   2917.257837      NaN   \n",
       "2  Áreas verdes complementarias o ligadas a la re...   1086.305646      NaN   \n",
       "3               Equipamientos urbanos con vegetación   3605.704046      NaN   \n",
       "4               Equipamientos urbanos con vegetación  19619.361577      NaN   \n",
       "\n",
       "    perimetro cve_sedema  responsabl  \n",
       "0  329.264738        600         NaN  \n",
       "1  272.243614        600         NaN  \n",
       "2  425.043656        200         NaN  \n",
       "3  269.209436        600         NaN  \n",
       "4  798.409227        600         NaN  \n",
       "\n",
       "[5 rows x 28 columns]"
      ]
     },
     "execution_count": 94,
     "metadata": {},
     "output_type": "execute_result"
    }
   ],
   "source": [
    "url = 'https://github.com/JonathanMartignon/Data_CDMX_Un_Aire_No_Tan_Bueno/blob/main/Datos/cdmx_areas_verdes_2017.csv?raw=True'\n",
    "areas_verdes = pd.read_csv(url)\n",
    "areas_verdes.head()"
   ]
  },
  {
   "cell_type": "code",
   "execution_count": 95,
   "metadata": {},
   "outputs": [
    {
     "data": {
      "text/plain": [
       "(11739, 28)"
      ]
     },
     "execution_count": 95,
     "metadata": {},
     "output_type": "execute_result"
    }
   ],
   "source": [
    "areas_verdes.shape"
   ]
  },
  {
   "cell_type": "code",
   "execution_count": 96,
   "metadata": {},
   "outputs": [
    {
     "data": {
      "text/plain": [
       "Index(['Geo Point', 'Geo Shape', 'muerdago', 'p_sp_her_d', 'zonifica',\n",
       "       'subcat_sed', 'subcve_sed', 'p_manejo', 'tipo', 'p_sp_abs_d',\n",
       "       'f_decreto', 'direccion', 'gid', 'cve_delg', 'p_arbustiv', 'ubicacion',\n",
       "       'nombre', 'delegacion', 'p_sp_arb_d', 'p_herbaceo', 'p_sp_do_mu',\n",
       "       'p_arboreo', 'categoria_', 'superficie', 'e_urbano', 'perimetro',\n",
       "       'cve_sedema', 'responsabl'],\n",
       "      dtype='object')"
      ]
     },
     "execution_count": 96,
     "metadata": {},
     "output_type": "execute_result"
    }
   ],
   "source": [
    "areas_verdes.columns"
   ]
  },
  {
   "cell_type": "code",
   "execution_count": 112,
   "metadata": {},
   "outputs": [
    {
     "data": {
      "text/plain": [
       "0.01"
      ]
     },
     "execution_count": 112,
     "metadata": {},
     "output_type": "execute_result"
    }
   ],
   "source": [
    "round(((11739-11738)/11739)*100,2)"
   ]
  },
  {
   "cell_type": "code",
   "execution_count": 97,
   "metadata": {},
   "outputs": [
    {
     "data": {
      "text/plain": [
       "Geo Point        64\n",
       "Geo Shape        64\n",
       "muerdago          4\n",
       "p_sp_her_d    11606\n",
       "zonifica      11739\n",
       "subcat_sed       47\n",
       "subcve_sed       13\n",
       "p_manejo      11739\n",
       "tipo          11735\n",
       "p_sp_abs_d    11608\n",
       "f_decreto     11739\n",
       "direccion      1667\n",
       "gid               0\n",
       "cve_delg          0\n",
       "p_arbustiv    11608\n",
       "ubicacion      8222\n",
       "nombre         6055\n",
       "delegacion        0\n",
       "p_sp_arb_d    11514\n",
       "p_herbaceo    11608\n",
       "p_sp_do_mu    11608\n",
       "p_arboreo     11608\n",
       "categoria_        0\n",
       "superficie       56\n",
       "e_urbano      11739\n",
       "perimetro        56\n",
       "cve_sedema        0\n",
       "responsabl    11738\n",
       "dtype: int64"
      ]
     },
     "execution_count": 97,
     "metadata": {},
     "output_type": "execute_result"
    }
   ],
   "source": [
    "areas_verdes.isnull().sum()"
   ]
  },
  {
   "cell_type": "code",
   "execution_count": 98,
   "metadata": {},
   "outputs": [
    {
     "data": {
      "text/plain": [
       "Geo Point      object\n",
       "Geo Shape      object\n",
       "muerdago       object\n",
       "p_sp_her_d    float64\n",
       "zonifica      float64\n",
       "subcat_sed     object\n",
       "subcve_sed    float64\n",
       "p_manejo      float64\n",
       "tipo           object\n",
       "p_sp_abs_d    float64\n",
       "f_decreto     float64\n",
       "direccion      object\n",
       "gid             int64\n",
       "cve_delg        int64\n",
       "p_arbustiv    float64\n",
       "ubicacion      object\n",
       "nombre         object\n",
       "delegacion     object\n",
       "p_sp_arb_d     object\n",
       "p_herbaceo    float64\n",
       "p_sp_do_mu    float64\n",
       "p_arboreo     float64\n",
       "categoria_     object\n",
       "superficie    float64\n",
       "e_urbano      float64\n",
       "perimetro     float64\n",
       "cve_sedema      int64\n",
       "responsabl    float64\n",
       "dtype: object"
      ]
     },
     "execution_count": 98,
     "metadata": {},
     "output_type": "execute_result"
    }
   ],
   "source": [
    "areas_verdes.dtypes"
   ]
  },
  {
   "cell_type": "code",
   "execution_count": 28,
   "metadata": {},
   "outputs": [
    {
     "data": {
      "text/plain": [
       "Iztapalapa               2129\n",
       "Coyoacán                 1806\n",
       "Azcapotzalco              960\n",
       "Miguel Hidalgo            925\n",
       "Gustavo A. Madero         835\n",
       "Tlalpan                   735\n",
       "Álvaro Obregón            721\n",
       "Venustiano Carranza       634\n",
       "Tláhuac                   581\n",
       "Cuauhtémoc                567\n",
       "Benito Juárez             484\n",
       "Cuajimalpa de Morelos     448\n",
       "Iztacalco                 386\n",
       "Magdalena Contreras       202\n",
       "Xochimilco                196\n",
       "Milpa Alta                130\n",
       "Name: delegacion, dtype: int64"
      ]
     },
     "execution_count": 28,
     "metadata": {},
     "output_type": "execute_result"
    }
   ],
   "source": [
    "areas_verdes['delegacion'].value_counts()"
   ]
  },
  {
   "cell_type": "code",
   "execution_count": 29,
   "metadata": {},
   "outputs": [
    {
     "data": {
      "image/png": "[encoded data removed]",
      "text/plain": [
       "<Figure size 720x432 with 1 Axes>"
      ]
     },
     "metadata": {
      "needs_background": "light"
     },
     "output_type": "display_data"
    }
   ],
   "source": [
    "plt.figure(figsize=(10,6))\n",
    "areas_verdes_delegacion = sns.countplot(x='delegacion', data=areas_verdes, palette=\"GnBu\",\n",
    "                                       order = areas_verdes['delegacion'].value_counts().index)\n",
    "plt.title(\"Parquimetros por Delegación\")\n",
    "plt.ylabel('Cantidad')\n",
    "plt.xlabel('')\n",
    "areas_verdes_delegacion.set_xticklabels(areas_verdes_delegacion.get_xticklabels(),rotation=75)\n",
    "\n",
    "plt.tight_layout()\n",
    "plt.show()"
   ]
  },
  {
   "cell_type": "code",
   "execution_count": 30,
   "metadata": {},
   "outputs": [
    {
     "data": {
      "text/plain": [
       "'{\"type\": \"MultiPolygon\", \"coordinates\": [[[[-99.11678804338746, 19.389035577395834], [-99.11637228211686, 19.388873052535505], [-99.11608502887533, 19.388823917112617], [-99.11590738542336, 19.388823917112617], [-99.11582801281715, 19.388816357816783], [-99.11585069070463, 19.38872942591474], [-99.11585447035255, 19.388650053308538], [-99.11585447035255, 19.388627375421056], [-99.11607746957951, 19.388623595773133], [-99.11682961951452, 19.388642494012707], [-99.11678804338746, 19.389035577395834]]]]}'"
      ]
     },
     "execution_count": 30,
     "metadata": {},
     "output_type": "execute_result"
    }
   ],
   "source": [
    "areas_verdes['Geo Shape'][1]"
   ]
  },
  {
   "cell_type": "code",
   "execution_count": 31,
   "metadata": {},
   "outputs": [
    {
     "data": {
      "text/html": [
       "<div>\n",
       "<style scoped>\n",
       "    .dataframe tbody tr th:only-of-type {\n",
       "        vertical-align: middle;\n",
       "    }\n",
       "\n",
       "    .dataframe tbody tr th {\n",
       "        vertical-align: top;\n",
       "    }\n",
       "\n",
       "    .dataframe thead th {\n",
       "        text-align: right;\n",
       "    }\n",
       "</style>\n",
       "<table border=\"1\" class=\"dataframe\">\n",
       "  <thead>\n",
       "    <tr style=\"text-align: right;\">\n",
       "      <th></th>\n",
       "      <th>muerdago</th>\n",
       "      <th>categoria</th>\n",
       "      <th>p_manejo</th>\n",
       "      <th>cve_sedema</th>\n",
       "      <th>subcat_sed</th>\n",
       "      <th>direccion</th>\n",
       "      <th>subcve_sed</th>\n",
       "      <th>gid</th>\n",
       "      <th>cve_delg</th>\n",
       "      <th>superficie</th>\n",
       "      <th>...</th>\n",
       "      <th>p_sp_her_d</th>\n",
       "      <th>p_herbaceo</th>\n",
       "      <th>p_sp_do_mu</th>\n",
       "      <th>p_sp_arb_d</th>\n",
       "      <th>p_sp_abs_d</th>\n",
       "      <th>p_arboreo</th>\n",
       "      <th>p_arbustiv</th>\n",
       "      <th>tipo</th>\n",
       "      <th>responsabl</th>\n",
       "      <th>geometry</th>\n",
       "    </tr>\n",
       "  </thead>\n",
       "  <tbody>\n",
       "    <tr>\n",
       "      <th>0</th>\n",
       "      <td>Ausencia</td>\n",
       "      <td>Áreas verdes complementarias o ligadas a la re...</td>\n",
       "      <td>NA</td>\n",
       "      <td>200</td>\n",
       "      <td>Camellones centrales y laterales</td>\n",
       "      <td>Joyas</td>\n",
       "      <td>203</td>\n",
       "      <td>427</td>\n",
       "      <td>7</td>\n",
       "      <td>524.826776485</td>\n",
       "      <td>...</td>\n",
       "      <td>None</td>\n",
       "      <td>None</td>\n",
       "      <td>None</td>\n",
       "      <td>None</td>\n",
       "      <td>None</td>\n",
       "      <td>None</td>\n",
       "      <td>None</td>\n",
       "      <td>None</td>\n",
       "      <td>None</td>\n",
       "      <td>MULTIPOLYGON (((-99.11039 19.47311, -99.11124 ...</td>\n",
       "    </tr>\n",
       "    <tr>\n",
       "      <th>1</th>\n",
       "      <td>Ausencia</td>\n",
       "      <td>Áreas verdes complementarias o ligadas a la re...</td>\n",
       "      <td>NA</td>\n",
       "      <td>200</td>\n",
       "      <td>Camellones centrales y laterales</td>\n",
       "      <td>Viena</td>\n",
       "      <td>203</td>\n",
       "      <td>1238</td>\n",
       "      <td>4</td>\n",
       "      <td>2986.22013973</td>\n",
       "      <td>...</td>\n",
       "      <td>None</td>\n",
       "      <td>None</td>\n",
       "      <td>None</td>\n",
       "      <td>None</td>\n",
       "      <td>None</td>\n",
       "      <td>None</td>\n",
       "      <td>None</td>\n",
       "      <td>None</td>\n",
       "      <td>None</td>\n",
       "      <td>MULTIPOLYGON (((-99.16022 19.35798, -99.15520 ...</td>\n",
       "    </tr>\n",
       "    <tr>\n",
       "      <th>2</th>\n",
       "      <td>Ausencia</td>\n",
       "      <td>Áreas verdes complementarias o ligadas a la re...</td>\n",
       "      <td>NA</td>\n",
       "      <td>200</td>\n",
       "      <td>Camellones centrales y laterales</td>\n",
       "      <td>Texcoco</td>\n",
       "      <td>203</td>\n",
       "      <td>463</td>\n",
       "      <td>7</td>\n",
       "      <td>7719.22948874</td>\n",
       "      <td>...</td>\n",
       "      <td>None</td>\n",
       "      <td>None</td>\n",
       "      <td>None</td>\n",
       "      <td>None</td>\n",
       "      <td>None</td>\n",
       "      <td>None</td>\n",
       "      <td>None</td>\n",
       "      <td>None</td>\n",
       "      <td>None</td>\n",
       "      <td>MULTIPOLYGON (((-99.06610 19.44710, -99.06525 ...</td>\n",
       "    </tr>\n",
       "    <tr>\n",
       "      <th>3</th>\n",
       "      <td>Ausencia</td>\n",
       "      <td>Parques, arboledas y alamedas</td>\n",
       "      <td>NA</td>\n",
       "      <td>400</td>\n",
       "      <td>Parques</td>\n",
       "      <td>Poniente 6</td>\n",
       "      <td>401</td>\n",
       "      <td>464</td>\n",
       "      <td>7</td>\n",
       "      <td>2301.03245939</td>\n",
       "      <td>...</td>\n",
       "      <td>None</td>\n",
       "      <td>None</td>\n",
       "      <td>None</td>\n",
       "      <td>None</td>\n",
       "      <td>None</td>\n",
       "      <td>None</td>\n",
       "      <td>None</td>\n",
       "      <td>None</td>\n",
       "      <td>None</td>\n",
       "      <td>MULTIPOLYGON (((-99.06236 19.44824, -99.06237 ...</td>\n",
       "    </tr>\n",
       "    <tr>\n",
       "      <th>4</th>\n",
       "      <td>Ausencia</td>\n",
       "      <td>Áreas verdes complementarias o ligadas a la re...</td>\n",
       "      <td>NA</td>\n",
       "      <td>200</td>\n",
       "      <td>Camellones centrales y laterales</td>\n",
       "      <td>Avenida 606</td>\n",
       "      <td>203</td>\n",
       "      <td>494</td>\n",
       "      <td>7</td>\n",
       "      <td>6799.59197474</td>\n",
       "      <td>...</td>\n",
       "      <td>None</td>\n",
       "      <td>None</td>\n",
       "      <td>None</td>\n",
       "      <td>None</td>\n",
       "      <td>None</td>\n",
       "      <td>None</td>\n",
       "      <td>None</td>\n",
       "      <td>None</td>\n",
       "      <td>None</td>\n",
       "      <td>MULTIPOLYGON (((-99.05681 19.45814, -99.05677 ...</td>\n",
       "    </tr>\n",
       "  </tbody>\n",
       "</table>\n",
       "<p>5 rows × 24 columns</p>\n",
       "</div>"
      ],
      "text/plain": [
       "   muerdago                                          categoria p_manejo  \\\n",
       "0  Ausencia  Áreas verdes complementarias o ligadas a la re...       NA   \n",
       "1  Ausencia  Áreas verdes complementarias o ligadas a la re...       NA   \n",
       "2  Ausencia  Áreas verdes complementarias o ligadas a la re...       NA   \n",
       "3  Ausencia                      Parques, arboledas y alamedas       NA   \n",
       "4  Ausencia  Áreas verdes complementarias o ligadas a la re...       NA   \n",
       "\n",
       "  cve_sedema                        subcat_sed    direccion subcve_sed   gid  \\\n",
       "0        200  Camellones centrales y laterales        Joyas        203   427   \n",
       "1        200  Camellones centrales y laterales        Viena        203  1238   \n",
       "2        200  Camellones centrales y laterales      Texcoco        203   463   \n",
       "3        400                           Parques   Poniente 6        401   464   \n",
       "4        200  Camellones centrales y laterales  Avenida 606        203   494   \n",
       "\n",
       "  cve_delg     superficie  ... p_sp_her_d p_herbaceo p_sp_do_mu p_sp_arb_d  \\\n",
       "0        7  524.826776485  ...       None       None       None       None   \n",
       "1        4  2986.22013973  ...       None       None       None       None   \n",
       "2        7  7719.22948874  ...       None       None       None       None   \n",
       "3        7  2301.03245939  ...       None       None       None       None   \n",
       "4        7  6799.59197474  ...       None       None       None       None   \n",
       "\n",
       "  p_sp_abs_d p_arboreo p_arbustiv  tipo responsabl  \\\n",
       "0       None      None       None  None       None   \n",
       "1       None      None       None  None       None   \n",
       "2       None      None       None  None       None   \n",
       "3       None      None       None  None       None   \n",
       "4       None      None       None  None       None   \n",
       "\n",
       "                                            geometry  \n",
       "0  MULTIPOLYGON (((-99.11039 19.47311, -99.11124 ...  \n",
       "1  MULTIPOLYGON (((-99.16022 19.35798, -99.15520 ...  \n",
       "2  MULTIPOLYGON (((-99.06610 19.44710, -99.06525 ...  \n",
       "3  MULTIPOLYGON (((-99.06236 19.44824, -99.06237 ...  \n",
       "4  MULTIPOLYGON (((-99.05681 19.45814, -99.05677 ...  \n",
       "\n",
       "[5 rows x 24 columns]"
      ]
     },
     "execution_count": 31,
     "metadata": {},
     "output_type": "execute_result"
    }
   ],
   "source": [
    "datos = \"https://github.com/JonathanMartignon/Data_CDMX_Un_Aire_No_Tan_Bueno/blob/main/Datos/cdmx_areas_verdes_2017.geojson?raw=True\"\n",
    "map_data = gpd.read_file(datos)\n",
    "map_data.head()"
   ]
  },
  {
   "cell_type": "code",
   "execution_count": 32,
   "metadata": {},
   "outputs": [
    {
     "data": {
      "text/plain": [
       "['muerdago',\n",
       " 'categoria',\n",
       " 'p_manejo',\n",
       " 'cve_sedema',\n",
       " 'subcat_sed',\n",
       " 'direccion',\n",
       " 'subcve_sed',\n",
       " 'gid',\n",
       " 'cve_delg',\n",
       " 'superficie',\n",
       " 'perimetro',\n",
       " 'delegacion',\n",
       " 'nombre',\n",
       " 'ubicacion',\n",
       " 'p_sp_her_d',\n",
       " 'p_herbaceo',\n",
       " 'p_sp_do_mu',\n",
       " 'p_sp_arb_d',\n",
       " 'p_sp_abs_d',\n",
       " 'p_arboreo',\n",
       " 'p_arbustiv',\n",
       " 'tipo',\n",
       " 'responsabl',\n",
       " 'geometry']"
      ]
     },
     "execution_count": 32,
     "metadata": {},
     "output_type": "execute_result"
    }
   ],
   "source": [
    "list(map_data)"
   ]
  },
  {
   "cell_type": "code",
   "execution_count": 33,
   "metadata": {},
   "outputs": [
    {
     "data": {
      "text/plain": [
       "0        MULTIPOLYGON (((-99.11039 19.47311, -99.11124 ...\n",
       "1        MULTIPOLYGON (((-99.16022 19.35798, -99.15520 ...\n",
       "2        MULTIPOLYGON (((-99.06610 19.44710, -99.06525 ...\n",
       "3        MULTIPOLYGON (((-99.06236 19.44824, -99.06237 ...\n",
       "4        MULTIPOLYGON (((-99.05681 19.45814, -99.05677 ...\n",
       "                               ...                        \n",
       "11734    MULTIPOLYGON (((-99.04645 19.34659, -99.04636 ...\n",
       "11735    MULTIPOLYGON (((-99.05379 19.36281, -99.05037 ...\n",
       "11736    MULTIPOLYGON (((-99.03455 19.37939, -99.03334 ...\n",
       "11737    MULTIPOLYGON (((-99.03372 19.34406, -99.03308 ...\n",
       "11738    MULTIPOLYGON (((-99.03351 19.34886, -99.03253 ...\n",
       "Name: geometry, Length: 11739, dtype: geometry"
      ]
     },
     "execution_count": 33,
     "metadata": {},
     "output_type": "execute_result"
    }
   ],
   "source": [
    "map_data['geometry']"
   ]
  },
  {
   "cell_type": "code",
   "execution_count": 34,
   "metadata": {},
   "outputs": [
    {
     "data": {
      "text/plain": [
       "Iztapalapa               2129\n",
       "Coyoacán                 1806\n",
       "Azcapotzalco              960\n",
       "Miguel Hidalgo            925\n",
       "Gustavo A. Madero         835\n",
       "Tlalpan                   735\n",
       "Álvaro Obregón            721\n",
       "Venustiano Carranza       634\n",
       "Tláhuac                   581\n",
       "Cuauhtémoc                567\n",
       "Benito Juárez             484\n",
       "Cuajimalpa de Morelos     448\n",
       "Iztacalco                 386\n",
       "Magdalena Contreras       202\n",
       "Xochimilco                196\n",
       "Milpa Alta                130\n",
       "Name: delegacion, dtype: int64"
      ]
     },
     "execution_count": 34,
     "metadata": {},
     "output_type": "execute_result"
    }
   ],
   "source": [
    "map_data['delegacion'].value_counts()"
   ]
  },
  {
   "cell_type": "code",
   "execution_count": 35,
   "metadata": {},
   "outputs": [],
   "source": [
    "areas_delegacion = map_data.loc[:, ['geometry', 'delegacion']]"
   ]
  },
  {
   "cell_type": "code",
   "execution_count": 36,
   "metadata": {},
   "outputs": [
    {
     "data": {
      "image/png": "[encoded data removed]",
      "text/plain": [
       "<Figure size 1080x720 with 1 Axes>"
      ]
     },
     "metadata": {
      "needs_background": "light"
     },
     "output_type": "display_data"
    }
   ],
   "source": [
    "fig, ax = plt.subplots(1,1, figsize=(15, 10))\n",
    "\n",
    "ax.set_title('Areas Verdes CDMX', \n",
    "             pad = 20, \n",
    "             fontdict={'fontsize':20, 'color': 'black'})\n",
    "\n",
    "\n",
    "divider = make_axes_locatable(ax)\n",
    "#cax = divider.append_axes(\"right\", size=\"5%\", pad=0.2)\n",
    "\n",
    "areas_delegacion.plot(column='delegacion', cmap='inferno', ax=ax, legend=False)\n",
    "#plt.savefig(\"mapa_calor.svg\", transparent=True)\n",
    "plt.show()"
   ]
  },
  {
   "cell_type": "markdown",
   "metadata": {},
   "source": [
    "### Contador de ciclistas CDMX "
   ]
  },
  {
   "cell_type": "code",
   "execution_count": 116,
   "metadata": {},
   "outputs": [
    {
     "data": {
      "text/html": [
       "<div>\n",
       "<style scoped>\n",
       "    .dataframe tbody tr th:only-of-type {\n",
       "        vertical-align: middle;\n",
       "    }\n",
       "\n",
       "    .dataframe tbody tr th {\n",
       "        vertical-align: top;\n",
       "    }\n",
       "\n",
       "    .dataframe thead th {\n",
       "        text-align: right;\n",
       "    }\n",
       "</style>\n",
       "<table border=\"1\" class=\"dataframe\">\n",
       "  <thead>\n",
       "    <tr style=\"text-align: right;\">\n",
       "      <th></th>\n",
       "      <th>Día de la semana</th>\n",
       "      <th>Día</th>\n",
       "      <th>Mes</th>\n",
       "      <th>Año</th>\n",
       "      <th>Contador Ruta Reforma222</th>\n",
       "      <th>Contador Ruta Revolución</th>\n",
       "      <th>Contador Ruta Patriotismo</th>\n",
       "    </tr>\n",
       "  </thead>\n",
       "  <tbody>\n",
       "    <tr>\n",
       "      <th>0</th>\n",
       "      <td>jueves</td>\n",
       "      <td>5</td>\n",
       "      <td>diciembre</td>\n",
       "      <td>2013</td>\n",
       "      <td>2516.0</td>\n",
       "      <td>NaN</td>\n",
       "      <td>NaN</td>\n",
       "    </tr>\n",
       "    <tr>\n",
       "      <th>1</th>\n",
       "      <td>lunes</td>\n",
       "      <td>9</td>\n",
       "      <td>diciembre</td>\n",
       "      <td>2013</td>\n",
       "      <td>2132.0</td>\n",
       "      <td>NaN</td>\n",
       "      <td>NaN</td>\n",
       "    </tr>\n",
       "    <tr>\n",
       "      <th>2</th>\n",
       "      <td>viernes</td>\n",
       "      <td>22</td>\n",
       "      <td>junio</td>\n",
       "      <td>2018</td>\n",
       "      <td>2913.0</td>\n",
       "      <td>980.0</td>\n",
       "      <td>1163.0</td>\n",
       "    </tr>\n",
       "    <tr>\n",
       "      <th>3</th>\n",
       "      <td>martes</td>\n",
       "      <td>10</td>\n",
       "      <td>julio</td>\n",
       "      <td>2018</td>\n",
       "      <td>2531.0</td>\n",
       "      <td>877.0</td>\n",
       "      <td>1013.0</td>\n",
       "    </tr>\n",
       "    <tr>\n",
       "      <th>4</th>\n",
       "      <td>sábado</td>\n",
       "      <td>7</td>\n",
       "      <td>julio</td>\n",
       "      <td>2018</td>\n",
       "      <td>1534.0</td>\n",
       "      <td>616.0</td>\n",
       "      <td>584.0</td>\n",
       "    </tr>\n",
       "  </tbody>\n",
       "</table>\n",
       "</div>"
      ],
      "text/plain": [
       "  Día de la semana  Día        Mes   Año  Contador Ruta Reforma222  \\\n",
       "0           jueves    5  diciembre  2013                    2516.0   \n",
       "1            lunes    9  diciembre  2013                    2132.0   \n",
       "2          viernes   22      junio  2018                    2913.0   \n",
       "3           martes   10      julio  2018                    2531.0   \n",
       "4           sábado    7      julio  2018                    1534.0   \n",
       "\n",
       "   Contador Ruta Revolución  Contador Ruta Patriotismo  \n",
       "0                       NaN                        NaN  \n",
       "1                       NaN                        NaN  \n",
       "2                     980.0                     1163.0  \n",
       "3                     877.0                     1013.0  \n",
       "4                     616.0                      584.0  "
      ]
     },
     "execution_count": 116,
     "metadata": {},
     "output_type": "execute_result"
    }
   ],
   "source": [
    "ciclistas = pd.read_csv('https://github.com/JonathanMartignon/Data_CDMX_Un_Aire_No_Tan_Bueno/blob/main/Datos/contador-ciclistas.csv?raw=True')\n",
    "ciclistas.head()"
   ]
  },
  {
   "cell_type": "code",
   "execution_count": 121,
   "metadata": {},
   "outputs": [
    {
     "data": {
      "text/plain": [
       "(2435, 7)"
      ]
     },
     "execution_count": 121,
     "metadata": {},
     "output_type": "execute_result"
    }
   ],
   "source": [
    "ciclistas.shape"
   ]
  },
  {
   "cell_type": "code",
   "execution_count": 117,
   "metadata": {},
   "outputs": [
    {
     "data": {
      "text/plain": [
       "2016    366\n",
       "2017    365\n",
       "2015    365\n",
       "2014    365\n",
       "2018    351\n",
       "2020    304\n",
       "2019    273\n",
       "2013     46\n",
       "Name: Año, dtype: int64"
      ]
     },
     "execution_count": 117,
     "metadata": {},
     "output_type": "execute_result"
    }
   ],
   "source": [
    "ciclistas['Año'].value_counts()"
   ]
  },
  {
   "cell_type": "code",
   "execution_count": 118,
   "metadata": {},
   "outputs": [
    {
     "data": {
      "text/plain": [
       "Index(['Día de la semana', 'Día', 'Mes', 'Año', 'Contador Ruta Reforma222',\n",
       "       'Contador Ruta Revolución', 'Contador Ruta Patriotismo'],\n",
       "      dtype='object')"
      ]
     },
     "execution_count": 118,
     "metadata": {},
     "output_type": "execute_result"
    }
   ],
   "source": [
    "ciclistas.columns"
   ]
  },
  {
   "cell_type": "code",
   "execution_count": 119,
   "metadata": {},
   "outputs": [
    {
     "data": {
      "text/plain": [
       "Día de la semana              object\n",
       "Día                            int64\n",
       "Mes                           object\n",
       "Año                            int64\n",
       "Contador Ruta Reforma222     float64\n",
       "Contador Ruta Revolución     float64\n",
       "Contador Ruta Patriotismo    float64\n",
       "dtype: object"
      ]
     },
     "execution_count": 119,
     "metadata": {},
     "output_type": "execute_result"
    }
   ],
   "source": [
    "ciclistas.dtypes"
   ]
  },
  {
   "cell_type": "code",
   "execution_count": 120,
   "metadata": {},
   "outputs": [
    {
     "data": {
      "text/plain": [
       "Día de la semana               0\n",
       "Día                            0\n",
       "Mes                            0\n",
       "Año                            0\n",
       "Contador Ruta Reforma222     285\n",
       "Contador Ruta Revolución     992\n",
       "Contador Ruta Patriotismo    988\n",
       "dtype: int64"
      ]
     },
     "execution_count": 120,
     "metadata": {},
     "output_type": "execute_result"
    }
   ],
   "source": [
    "ciclistas.isnull().sum()"
   ]
  },
  {
   "cell_type": "code",
   "execution_count": 125,
   "metadata": {},
   "outputs": [
    {
     "name": "stdout",
     "output_type": "stream",
     "text": [
      "\n",
      "---------------\n",
      "Día de la semana\n",
      "\n",
      "['jueves' 'lunes' 'viernes' 'martes' 'sábado' 'domingo' 'miércoles'\n",
      " 'sabado' 'miercoles']\n",
      "\n",
      "---------------\n",
      "Día\n",
      "\n",
      "[ 5  9 22 10  7 29 27  6 28 16  3 30  1 14 26 21 17 23 24 25 11  2 12  4\n",
      " 18 20 15 19 13 31  8]\n",
      "\n",
      "---------------\n",
      "Mes\n",
      "\n",
      "['diciembre' 'junio' 'julio' 'septiembre' 'agosto' 'mayo' 'marzo'\n",
      " 'octubre' 'noviembre' 'febrero' 'abril' 'enero']\n",
      "\n",
      "---------------\n",
      "Año\n",
      "\n",
      "[2013 2018 2019 2014 2015 2016 2017 2020]\n",
      "\n",
      "---------------\n",
      "Contador Ruta Reforma222\n",
      "\n",
      "[2516. 2132. 2913. ... 1778. 1861. 1782.]\n",
      "\n",
      "---------------\n",
      "Contador Ruta Revolución\n",
      "\n",
      "[      nan 9.800e+02 8.770e+02 6.160e+02 6.030e+02 8.670e+02 8.030e+02\n",
      " 1.125e+03 7.170e+02 6.450e+02 5.280e+02 4.640e+02 8.520e+02 7.850e+02\n",
      " 8.090e+02 6.620e+02 2.510e+02 7.970e+02 5.730e+02 1.019e+03 1.183e+03\n",
      " 1.168e+03 1.013e+03 1.080e+02 7.730e+02 4.870e+02 9.090e+02 8.720e+02\n",
      " 9.750e+02 1.030e+02 9.110e+02 1.153e+03 9.500e+02 5.740e+02 1.133e+03\n",
      " 9.810e+02 1.015e+03 5.490e+02 6.110e+02 8.660e+02 9.600e+02 7.650e+02\n",
      " 9.610e+02 1.012e+03 1.120e+02 1.205e+03 1.115e+03 7.740e+02 6.140e+02\n",
      " 1.101e+03 1.002e+03 8.960e+02 6.290e+02 6.270e+02 4.230e+02 9.220e+02\n",
      " 9.690e+02 9.040e+02 1.043e+03 1.090e+02 1.079e+03 6.550e+02 3.370e+02\n",
      " 8.400e+02 9.820e+02 7.150e+02 6.760e+02 1.104e+03 9.650e+02 1.054e+03\n",
      " 6.300e+02 7.550e+02 7.250e+02 1.148e+03 5.560e+02 1.171e+03 6.640e+02\n",
      " 9.130e+02 4.080e+02 9.350e+02 9.270e+02 9.990e+02 7.660e+02 8.680e+02\n",
      " 4.660e+02 9.190e+02 6.880e+02 4.320e+02 7.310e+02 5.540e+02 8.450e+02\n",
      " 1.119e+03 1.102e+03 5.670e+02 5.040e+02 1.060e+02 6.570e+02 6.530e+02\n",
      " 8.930e+02 9.400e+02 9.850e+02 1.113e+03 9.560e+02 5.140e+02 9.000e+02\n",
      " 1.088e+03 9.160e+02 6.930e+02 5.060e+02 9.180e+02 8.810e+02 6.360e+02\n",
      " 3.660e+02 8.350e+02 7.990e+02 4.910e+02 8.970e+02 9.640e+02 4.250e+02\n",
      " 9.200e+02 8.840e+02 9.450e+02 2.759e+03 8.830e+02 7.940e+02 8.950e+02\n",
      " 5.890e+02 5.330e+02 9.120e+02 5.580e+02 4.570e+02 8.510e+02 1.038e+03\n",
      " 1.000e+00 3.700e+02 8.370e+02 9.730e+02 9.710e+02 7.790e+02 1.006e+03\n",
      " 8.610e+02 6.980e+02 1.042e+03 4.830e+02 5.440e+02 8.100e+02 1.077e+03\n",
      " 5.620e+02 7.300e+02 7.050e+02 5.690e+02 7.470e+02 7.530e+02 1.170e+03\n",
      " 6.010e+02 1.068e+03 1.097e+03 6.260e+02 8.340e+02 1.166e+03 6.790e+02\n",
      " 1.067e+03 1.200e+01 8.860e+02 1.244e+03 8.260e+02 8.460e+02 4.270e+02\n",
      " 6.000e+02 8.920e+02 8.050e+02 6.430e+02 5.100e+02 8.490e+02 5.870e+02\n",
      " 7.870e+02 1.170e+02 9.070e+02 6.520e+02 5.190e+02 5.320e+02 9.740e+02\n",
      " 9.550e+02 6.920e+02 8.690e+02 5.110e+02 8.800e+02 9.480e+02 9.910e+02\n",
      " 9.050e+02 6.200e+02 1.229e+03 5.926e+03 4.004e+03 7.030e+02 9.960e+02\n",
      " 6.610e+02 1.052e+03 5.480e+02 5.220e+02 8.320e+02 5.180e+02 1.011e+03\n",
      " 4.720e+02 1.098e+03 9.920e+02 9.030e+02 6.390e+02 3.580e+02 8.140e+02\n",
      " 7.220e+02 1.058e+03 4.740e+02 8.190e+02 8.210e+02 9.320e+02 3.460e+02\n",
      " 7.600e+02 5.200e+02 6.080e+02 9.310e+02 6.190e+02 8.600e+02 7.840e+02\n",
      " 5.700e+02 1.127e+03 1.180e+02 5.300e+02 1.069e+03 7.880e+02 1.040e+02\n",
      " 7.110e+02 1.039e+03 1.149e+03 1.075e+03 1.023e+03 6.340e+02 6.780e+02\n",
      " 6.580e+02 7.160e+02 1.003e+03 6.800e+02 7.800e+02 8.130e+02 4.650e+02\n",
      " 9.170e+02 4.300e+02 5.520e+02 4.490e+02 6.650e+02 2.730e+02 1.155e+03\n",
      " 5.600e+02 1.051e+03 1.134e+03 5.900e+02 9.140e+02 3.860e+02 5.260e+02\n",
      " 1.840e+02 2.015e+03 1.534e+03 1.261e+03 1.192e+03 1.142e+03 5.360e+02\n",
      " 4.880e+02 6.460e+02 6.070e+02 4.960e+02 9.790e+02 9.700e+02 9.440e+02\n",
      " 6.380e+02 4.170e+02 6.730e+02 5.570e+02 8.550e+02 6.410e+02 1.061e+03\n",
      " 7.700e+02 8.060e+02 9.410e+02 5.270e+02 5.650e+02 8.250e+02 7.060e+02\n",
      " 5.400e+02 5.470e+02 8.440e+02 9.940e+02 9.660e+02 8.980e+02 6.130e+02\n",
      " 5.980e+02 9.010e+02 7.630e+02 9.230e+02 8.430e+02 1.034e+03 5.820e+02\n",
      " 6.230e+02 8.020e+02 8.710e+02 8.270e+02 3.760e+02 2.420e+02 1.096e+03\n",
      " 1.072e+03 5.310e+02 1.093e+03 1.306e+03 1.109e+03 1.275e+03 6.890e+02\n",
      " 3.102e+03 7.910e+02 5.970e+02 6.750e+02 5.630e+02 9.930e+02 1.607e+03\n",
      " 4.940e+02 8.870e+02 1.141e+03 5.610e+02 1.103e+03 1.177e+03 9.260e+02\n",
      " 5.760e+02 4.900e+02 9.380e+02 5.530e+02 1.158e+03 1.050e+03 9.300e+02\n",
      " 1.048e+03 1.018e+03 1.094e+03 1.107e+03 2.630e+02 8.300e+02 5.750e+02\n",
      " 1.078e+03 7.190e+02 6.850e+02 5.790e+02 5.920e+02 6.540e+02 4.360e+02\n",
      " 4.710e+02 7.360e+02 5.120e+02 9.370e+02 6.910e+02 1.151e+03 4.930e+02\n",
      " 8.540e+02 1.118e+03 5.960e+02 7.430e+02 3.611e+03 4.752e+03 6.400e+02\n",
      " 9.880e+02 1.007e+03 7.750e+02 4.000e+02 5.390e+02 1.017e+03 9.770e+02\n",
      " 3.720e+02 7.670e+02 1.055e+03 6.560e+02 8.590e+02 1.046e+03 7.960e+02\n",
      " 8.650e+02 1.040e+03 1.083e+03 3.280e+02 6.180e+02 5.810e+02 1.027e+03\n",
      " 8.390e+02 5.070e+02 1.089e+03 9.510e+02 1.144e+03 1.041e+03 9.360e+02\n",
      " 7.780e+02 4.874e+03 9.630e+02 8.630e+02 8.910e+02 5.590e+02 5.880e+02\n",
      " 5.460e+02 9.520e+02 8.740e+02 9.280e+02 4.890e+02 1.105e+03 1.111e+03\n",
      " 6.700e+02 1.073e+03 8.380e+02 9.330e+02 6.720e+02 5.510e+02 4.500e+02\n",
      " 6.490e+02 5.940e+02 1.082e+03 1.100e+01 1.203e+03 6.810e+02 1.037e+03\n",
      " 6.480e+02 5.770e+02 4.760e+02 1.049e+03 8.640e+02 7.620e+02 4.790e+02\n",
      " 7.290e+02 4.670e+02 7.950e+02 5.240e+02 6.470e+02 5.850e+02 3.920e+02\n",
      " 1.005e+03 8.010e+02 8.180e+02 1.137e+03 9.720e+02 6.040e+02 1.117e+03\n",
      " 9.890e+02 6.240e+02 9.870e+02 7.490e+02 1.128e+03 1.132e+03 8.240e+02\n",
      " 6.440e+02 1.026e+03 5.350e+02 4.420e+02 1.131e+03 1.070e+02 1.081e+03\n",
      " 6.990e+02 1.047e+03 1.076e+03 1.033e+03 3.600e+02 1.143e+03 1.178e+03\n",
      " 1.150e+02 1.028e+03 8.730e+02 1.004e+03 9.150e+02 8.890e+02 1.393e+03\n",
      " 1.711e+03 9.540e+02 5.500e+02 1.044e+03 9.240e+02 6.120e+02 8.220e+02\n",
      " 5.050e+02 1.191e+03 9.390e+02 1.014e+03 6.680e+02 9.290e+02 9.020e+02\n",
      " 7.320e+02 9.060e+02 1.021e+03 4.970e+02 8.470e+02 8.530e+02 3.910e+02\n",
      " 1.035e+03 6.870e+02 6.670e+02 5.010e+02 6.770e+02 7.410e+02 1.263e+03\n",
      " 3.060e+02 5.380e+02 2.200e+02 7.370e+02 1.164e+03 1.110e+02 4.550e+02\n",
      " 3.830e+02 5.910e+02 5.230e+02 6.830e+02 1.145e+03 5.550e+02 9.340e+02\n",
      " 9.760e+02 4.560e+02 1.063e+03 8.110e+02 4.130e+02 4.380e+02 8.410e+02\n",
      " 1.152e+03 4.730e+02 1.135e+03 6.500e+02 9.210e+02 9.780e+02 9.590e+02\n",
      " 8.560e+02 4.471e+03 1.163e+03 5.203e+03 9.430e+02 7.330e+02 1.085e+03\n",
      " 7.590e+02 8.200e+02 7.070e+02 5.450e+02 1.031e+03 8.000e+02 3.330e+02\n",
      " 6.250e+02 5.720e+02 7.140e+02 4.520e+02 9.840e+02 1.062e+03 1.138e+03\n",
      " 9.980e+02 4.470e+02 8.820e+02 6.090e+02 1.252e+03 2.922e+03 5.090e+02\n",
      " 1.228e+03 7.200e+02 4.150e+02 1.059e+03 7.640e+02 1.050e+02 8.900e+02\n",
      " 5.800e+02 4.340e+02 7.390e+02 8.780e+02 6.510e+02 6.330e+02 2.616e+03\n",
      " 2.605e+03 1.175e+03 9.620e+02 8.120e+02 4.060e+02 7.040e+02 6.350e+02\n",
      " 6.590e+02 7.260e+02 6.710e+02 4.190e+02 8.420e+02 3.410e+02 4.040e+02\n",
      " 1.025e+03 1.210e+02 4.950e+02 5.660e+02 1.092e+03 5.950e+02 7.230e+02\n",
      " 1.010e+02 5.410e+02 6.600e+02 4.620e+02 9.830e+02 1.036e+03 1.064e+03\n",
      " 1.020e+02 4.750e+02 7.570e+02 7.380e+02 7.000e+02 1.084e+03 8.360e+02\n",
      " 3.930e+02 9.670e+02 4.800e+02 9.860e+02 6.630e+02 8.280e+02 4.920e+02\n",
      " 1.029e+03 4.690e+02 5.370e+02 4.070e+02 8.040e+02 6.020e+02 1.020e+03\n",
      " 8.080e+02 9.530e+02 4.980e+02 8.330e+02 9.100e+02 8.850e+02 9.080e+02\n",
      " 5.000e+02 8.290e+02 5.830e+02 1.087e+03 2.830e+02 1.240e+02 2.260e+02\n",
      " 1.530e+02 2.890e+02 2.870e+02 3.070e+02 1.870e+02 2.720e+02 3.100e+02\n",
      " 2.590e+02 3.090e+02 1.310e+02 3.170e+02 1.250e+02 8.200e+01 9.300e+01\n",
      " 2.080e+02 2.000e+02 1.710e+02 1.660e+02 7.900e+01 5.900e+01 7.600e+01\n",
      " 5.600e+01 7.000e+01 8.300e+01 7.100e+01 7.400e+01 6.600e+01 7.300e+01\n",
      " 5.400e+01 4.800e+01 4.900e+01 0.000e+00 5.300e+01 7.500e+01 7.210e+02\n",
      " 6.900e+02 7.420e+02 2.900e+02 3.260e+02 2.700e+02 2.610e+02 2.020e+02\n",
      " 3.160e+02 2.970e+02 2.790e+02 1.300e+02 1.400e+02 1.390e+02 6.800e+01\n",
      " 1.160e+02 9.500e+01 9.000e+01 7.700e+01 8.000e+01 3.700e+01 6.000e+01\n",
      " 8.800e+01 5.000e+01 7.800e+01 4.300e+01 5.700e+01 6.400e+01 7.180e+02\n",
      " 5.020e+02 5.710e+02 6.690e+02 7.020e+02 7.500e+02 6.860e+02 7.240e+02\n",
      " 6.660e+02 7.890e+02 7.100e+02 6.050e+02 7.510e+02 7.120e+02 5.860e+02\n",
      " 9.800e+01 2.460e+02 1.200e+02 1.140e+02 2.750e+02 2.090e+02 2.760e+02\n",
      " 2.670e+02 3.310e+02 2.350e+02 2.950e+02 3.350e+02 2.640e+02 9.400e+01\n",
      " 1.590e+02 6.100e+01 6.900e+01 5.800e+01 6.500e+01 4.200e+01 6.200e+01\n",
      " 6.700e+01 8.500e+01 6.300e+01 1.800e+01 5.160e+02 5.290e+02 6.950e+02\n",
      " 8.580e+02 7.480e+02 6.170e+02 6.310e+02 7.440e+02 4.350e+02 7.830e+02\n",
      " 7.710e+02 7.610e+02 6.220e+02 7.460e+02 4.100e+02 4.020e+02 3.980e+02\n",
      " 7.540e+02 3.180e+02]\n",
      "\n",
      "---------------\n",
      "Contador Ruta Patriotismo\n",
      "\n",
      "[  nan 1163. 1013.  584.  643. 1067. 1416.  787.  711.  462.  801.  495.\n",
      "  934.  824.  842.  846.  449.  839.  571. 1203. 1327. 1371. 1199. 1302.\n",
      "  844.  560. 1073.  966. 1043. 1022. 1032. 1349. 1088.  478.  625. 1079.\n",
      "  559.  527.  986.  973.  860.  105. 1236. 1314.  114. 1232.  725.  658.\n",
      " 1288.  529. 1286.  558.  580.  967.  538. 1123. 1168. 1167. 1101. 1008.\n",
      "  687. 1152. 1223. 1274. 1261.  651.  566. 1248. 1324. 1365. 1330. 1488.\n",
      " 1367.  945. 1297.  935. 1117. 1138. 1358. 1159. 1370.  604. 1404.  642.\n",
      " 1368. 1494. 1474. 1198.  750. 1464.  700.  575.  904.  471.  930. 1171.\n",
      " 1231.  551.  473. 1139.  653.  649.  735. 1112.  124. 1055. 1266. 1083.\n",
      " 1237.  118. 1161.  570. 1157. 1187. 1217.  948.  814.  546. 1009.  568.\n",
      "  308.  831.  915.  999. 1063.  452. 1017.  108.  990. 1154.  681. 1204.\n",
      " 1153.  102. 1127. 1087. 1257.  674.  589. 1047. 1026.  541.  121. 1325.\n",
      " 1241.  411. 1283. 1289. 1272. 1196. 1218.  701.  993. 1173. 1224.  988.\n",
      " 1220.  817.  984.  995. 1202.  506.  758.  534.  819. 1295.  796.  685.\n",
      " 1303. 1427. 1319. 1419. 1392.  676.  957. 1357.  612. 1155. 1156. 1342.\n",
      " 1062.  141. 1001.  694.  425. 1065. 1004.  837. 1007. 1119.  924. 1114.\n",
      "  512. 1064.  587.  619. 1143. 1125. 1081.  622. 1056.  525. 1697.  678.\n",
      " 1222. 1107. 1006.  552.  104. 1313. 1351. 1176. 1106.  791. 1193.  509.\n",
      " 1095.  970.  516. 1061. 1273. 1282. 1225.  696.  579. 1136. 1141. 1293.\n",
      "  540.  731.  851.  866.  997.  414.  927.  178.  475.  577.  921.  585.\n",
      " 1148. 1059. 1016.  939. 1323. 1359.  894.  849.  384. 1213. 2914. 2776.\n",
      "  913.  504.  607.  648.  780. 1197. 1235. 1326. 1214. 1233.  486.  718.\n",
      " 1410. 1318.  706. 1432. 1362. 1502.  644.  883. 1108.  597. 1011.  403.\n",
      "  631. 1092.  111.  940.  434.  919.  667.  435.  906. 1335.  775.  624.\n",
      "  663.  950. 1177. 1469. 1129.  679. 1111.  426.  319.  480. 1134.  127.\n",
      " 1133. 1397.  215. 1158.  116. 1195. 1277. 1331. 1304.  136.  621.  766.\n",
      " 1387.  614. 1276.  781. 1181. 1212.  616.  901.  659.  632. 1211. 1238.\n",
      "  638. 1435.  639.  661. 1239.  977. 1200.  497.  562. 1142. 1255. 1216.\n",
      "  688.  605. 1097. 1084.  987.  662.  593.  875.  778.  816.  863.  703.\n",
      " 1415. 1451.  615.  290. 1279. 1182.  609. 1383.  131. 1389. 1457.  815.\n",
      "  474.  656.  555. 1014. 1227.  563.  393. 1002. 1076. 1461. 1206.  573.\n",
      "  692.  618.  783. 2132. 1228. 1077.  985.  600.  109.  869. 1287.   11.\n",
      "  439. 1346.  620. 1322. 1115. 1455. 1422. 1361. 1499.  578.  740. 1247.\n",
      " 1429.  673.  704.  592.  450.  394.  954.  627. 1364. 2794.  595. 1294.\n",
      "  910.  917.  971.  603.  428.  884. 1246. 1215. 1267. 1191. 1336. 1292.\n",
      " 1332. 1291.  598.  797.  918.  821. 1169. 1434. 1481. 1379.  526. 1245.\n",
      " 1250.  976.  952. 1229. 1192. 1259.  602.  650.  998. 1219.  574.  719.\n",
      "   12.  407.  933. 1278.  629.   13. 1028. 1251.  164.  634. 1411.  530.\n",
      "  712. 1041.  532.  521.  617. 1374. 1298. 1306.  144.  717.  549.  951.\n",
      " 1363.  853.  438.  737.  803.  790.  437.  833. 1396.  867.  914.  430.\n",
      "  505.  808.  655. 1128.  864.  125.  841. 1382.  928.  774.  714. 1317.\n",
      " 1103. 1054.  978. 1262.  101. 1309. 1413.  684. 1343. 1252.  496. 1230.\n",
      "  519.  389.  852. 1121.  961.  896.  669. 1109.  880.  335. 1113. 1269.\n",
      " 1242. 1402.  564. 1027.  877.  931. 1209.  117.  581. 1149.  965.  459.\n",
      " 1053. 1058. 1094.  536. 1105. 1201. 1339. 1305. 1311.  405. 1468.  747.\n",
      " 1431. 1345.  962. 1160.  665.  925. 1275. 1082.  992.  640. 1126. 1131.\n",
      "  707.  734.  550.  599.  722.  652. 1352.  960. 1144. 1386.  218. 1366.\n",
      "  128.  996.  899.  129.  261.  103.  548.  576.  736. 1373. 1337. 1320.\n",
      " 1388.  723.  897.  457.  733.  429.  956.  543.  657.  572. 1046.  859.\n",
      "  974.  938. 1086.  626.  943. 1074. 1072. 1333. 1347. 1256. 1263.  554.\n",
      "  868.  809. 1312.  623. 1372. 1172.  677.  645.  396.  256.  695.  586.\n",
      "  789.  840. 1436. 1375. 1484.  510.  420. 1188.  613.  113. 1271. 1023.\n",
      " 1221.  544.  199. 3384.  647. 1174.  949.  745.  336.  903.  963.  633.\n",
      " 1189.  668. 1341. 1423. 1334. 1034. 1356. 1147.  739.  741.  488.  705.\n",
      "  388.  893.  355. 1137.  513. 1038.  565.  331. 1021.  528.  697. 1376.\n",
      "  539.  507. 1381. 1445. 1207. 1180. 1003.  829.  451.  716.  708. 1301.\n",
      " 3184.  508.  419.  675.  646. 1165. 1018.  742. 1029. 1085. 1045. 1395.\n",
      "  126. 1253. 1183.  123.  856.  726. 2533.  905. 1360.  683.  770. 1421.\n",
      " 1110. 1290. 1162.  738.  588. 1185. 1244.  468. 1039. 1284. 1447. 1403.\n",
      " 1437. 1353. 1529.  545. 1100. 1035.  483.  466.  482.  557.  498.  542.\n",
      "  485.  493.  561.  606.  515. 1299. 1328. 1430. 1409.  715.  690.  582.\n",
      "  567.  533.  436.  523.  553.  608.  636.  755.  547.  398.  522.  818.\n",
      "  686.  729.  823.  768.  591.  845.  721.  710.  670.  664.  878.  763.\n",
      "  654.  531.  838.  865.  743.  689.  660.  890. 1446. 1401.  666. 1477.\n",
      "  698. 1485. 1414.  702.  492.  476.  490.  464.  461.  446.  469.  381.\n",
      "  517.  535.  730.  628.  635.  611.  682.  590.  693.  713.  804.  932.\n",
      "  773.  764.  762.  752.  785.  806.  788.  802.  835.  637.  765.  858.\n",
      "  828.]\n"
     ]
    }
   ],
   "source": [
    "for col in ciclistas.columns:\n",
    "    print()\n",
    "    print('---------------')\n",
    "    print(col)\n",
    "    print()\n",
    "    print(ciclistas[col].unique())"
   ]
  },
  {
   "cell_type": "code",
   "execution_count": 39,
   "metadata": {},
   "outputs": [
    {
     "data": {
      "text/html": [
       "<div>\n",
       "<style scoped>\n",
       "    .dataframe tbody tr th:only-of-type {\n",
       "        vertical-align: middle;\n",
       "    }\n",
       "\n",
       "    .dataframe tbody tr th {\n",
       "        vertical-align: top;\n",
       "    }\n",
       "\n",
       "    .dataframe thead th {\n",
       "        text-align: right;\n",
       "    }\n",
       "</style>\n",
       "<table border=\"1\" class=\"dataframe\">\n",
       "  <thead>\n",
       "    <tr style=\"text-align: right;\">\n",
       "      <th></th>\n",
       "      <th>Día de la semana</th>\n",
       "      <th>Día</th>\n",
       "      <th>Mes</th>\n",
       "      <th>Año</th>\n",
       "      <th>Contador Ruta Reforma222</th>\n",
       "      <th>Contador Ruta Revolución</th>\n",
       "      <th>Contador Ruta Patriotismo</th>\n",
       "    </tr>\n",
       "  </thead>\n",
       "  <tbody>\n",
       "    <tr>\n",
       "      <th>2131</th>\n",
       "      <td>sabado</td>\n",
       "      <td>1</td>\n",
       "      <td>febrero</td>\n",
       "      <td>2020</td>\n",
       "      <td>1890.0</td>\n",
       "      <td>124.0</td>\n",
       "      <td>648.0</td>\n",
       "    </tr>\n",
       "    <tr>\n",
       "      <th>2132</th>\n",
       "      <td>viernes</td>\n",
       "      <td>7</td>\n",
       "      <td>febrero</td>\n",
       "      <td>2020</td>\n",
       "      <td>3778.0</td>\n",
       "      <td>226.0</td>\n",
       "      <td>1347.0</td>\n",
       "    </tr>\n",
       "    <tr>\n",
       "      <th>2133</th>\n",
       "      <td>sábado</td>\n",
       "      <td>15</td>\n",
       "      <td>febrero</td>\n",
       "      <td>2020</td>\n",
       "      <td>1939.0</td>\n",
       "      <td>153.0</td>\n",
       "      <td>677.0</td>\n",
       "    </tr>\n",
       "    <tr>\n",
       "      <th>2134</th>\n",
       "      <td>lunes</td>\n",
       "      <td>17</td>\n",
       "      <td>febrero</td>\n",
       "      <td>2020</td>\n",
       "      <td>3575.0</td>\n",
       "      <td>289.0</td>\n",
       "      <td>1284.0</td>\n",
       "    </tr>\n",
       "    <tr>\n",
       "      <th>2135</th>\n",
       "      <td>miércoles</td>\n",
       "      <td>19</td>\n",
       "      <td>febrero</td>\n",
       "      <td>2020</td>\n",
       "      <td>4058.0</td>\n",
       "      <td>287.0</td>\n",
       "      <td>1447.0</td>\n",
       "    </tr>\n",
       "  </tbody>\n",
       "</table>\n",
       "</div>"
      ],
      "text/plain": [
       "     Día de la semana  Día      Mes   Año  Contador Ruta Reforma222  \\\n",
       "2131           sabado    1  febrero  2020                    1890.0   \n",
       "2132          viernes    7  febrero  2020                    3778.0   \n",
       "2133           sábado   15  febrero  2020                    1939.0   \n",
       "2134            lunes   17  febrero  2020                    3575.0   \n",
       "2135        miércoles   19  febrero  2020                    4058.0   \n",
       "\n",
       "      Contador Ruta Revolución  Contador Ruta Patriotismo  \n",
       "2131                     124.0                      648.0  \n",
       "2132                     226.0                     1347.0  \n",
       "2133                     153.0                      677.0  \n",
       "2134                     289.0                     1284.0  \n",
       "2135                     287.0                     1447.0  "
      ]
     },
     "execution_count": 39,
     "metadata": {},
     "output_type": "execute_result"
    }
   ],
   "source": [
    "ciclistas_2020 = ciclistas[ciclistas[\"Año\"] == 2020]\n",
    "ciclistas_2020.head()"
   ]
  },
  {
   "cell_type": "code",
   "execution_count": 40,
   "metadata": {},
   "outputs": [
    {
     "data": {
      "text/html": [
       "<div>\n",
       "<style scoped>\n",
       "    .dataframe tbody tr th:only-of-type {\n",
       "        vertical-align: middle;\n",
       "    }\n",
       "\n",
       "    .dataframe tbody tr th {\n",
       "        vertical-align: top;\n",
       "    }\n",
       "\n",
       "    .dataframe thead th {\n",
       "        text-align: right;\n",
       "    }\n",
       "</style>\n",
       "<table border=\"1\" class=\"dataframe\">\n",
       "  <thead>\n",
       "    <tr style=\"text-align: right;\">\n",
       "      <th></th>\n",
       "      <th>Día de la semana</th>\n",
       "      <th>Día</th>\n",
       "      <th>Mes</th>\n",
       "      <th>Año</th>\n",
       "      <th>Contador Ruta Reforma222</th>\n",
       "      <th>Contador Ruta Revolución</th>\n",
       "      <th>Contador Ruta Patriotismo</th>\n",
       "    </tr>\n",
       "  </thead>\n",
       "  <tbody>\n",
       "    <tr>\n",
       "      <th>8</th>\n",
       "      <td>martes</td>\n",
       "      <td>28</td>\n",
       "      <td>mayo</td>\n",
       "      <td>2019</td>\n",
       "      <td>4015.0</td>\n",
       "      <td>1125.0</td>\n",
       "      <td>1416.0</td>\n",
       "    </tr>\n",
       "    <tr>\n",
       "      <th>37</th>\n",
       "      <td>viernes</td>\n",
       "      <td>4</td>\n",
       "      <td>enero</td>\n",
       "      <td>2019</td>\n",
       "      <td>3133.0</td>\n",
       "      <td>662.0</td>\n",
       "      <td>846.0</td>\n",
       "    </tr>\n",
       "    <tr>\n",
       "      <th>123</th>\n",
       "      <td>viernes</td>\n",
       "      <td>3</td>\n",
       "      <td>mayo</td>\n",
       "      <td>2019</td>\n",
       "      <td>3821.0</td>\n",
       "      <td>1079.0</td>\n",
       "      <td>1261.0</td>\n",
       "    </tr>\n",
       "    <tr>\n",
       "      <th>124</th>\n",
       "      <td>domingo</td>\n",
       "      <td>10</td>\n",
       "      <td>febrero</td>\n",
       "      <td>2019</td>\n",
       "      <td>2131.0</td>\n",
       "      <td>655.0</td>\n",
       "      <td>651.0</td>\n",
       "    </tr>\n",
       "    <tr>\n",
       "      <th>125</th>\n",
       "      <td>domingo</td>\n",
       "      <td>3</td>\n",
       "      <td>febrero</td>\n",
       "      <td>2019</td>\n",
       "      <td>1909.0</td>\n",
       "      <td>337.0</td>\n",
       "      <td>566.0</td>\n",
       "    </tr>\n",
       "  </tbody>\n",
       "</table>\n",
       "</div>"
      ],
      "text/plain": [
       "    Día de la semana  Día      Mes   Año  Contador Ruta Reforma222  \\\n",
       "8             martes   28     mayo  2019                    4015.0   \n",
       "37           viernes    4    enero  2019                    3133.0   \n",
       "123          viernes    3     mayo  2019                    3821.0   \n",
       "124          domingo   10  febrero  2019                    2131.0   \n",
       "125          domingo    3  febrero  2019                    1909.0   \n",
       "\n",
       "     Contador Ruta Revolución  Contador Ruta Patriotismo  \n",
       "8                      1125.0                     1416.0  \n",
       "37                      662.0                      846.0  \n",
       "123                    1079.0                     1261.0  \n",
       "124                     655.0                      651.0  \n",
       "125                     337.0                      566.0  "
      ]
     },
     "execution_count": 40,
     "metadata": {},
     "output_type": "execute_result"
    }
   ],
   "source": [
    "ciclistas_2019 = ciclistas[ciclistas[\"Año\"] == 2019]\n",
    "ciclistas_2019.head()"
   ]
  },
  {
   "cell_type": "code",
   "execution_count": 41,
   "metadata": {},
   "outputs": [],
   "source": [
    "ciclistas_2020_mes = ciclistas_2020[[\"Mes\", \"Contador Ruta Reforma222\",\n",
    "                \"Contador Ruta Revolución\", \n",
    "                \"Contador Ruta Patriotismo\"]].groupby(['Mes']).sum()"
   ]
  },
  {
   "cell_type": "code",
   "execution_count": 42,
   "metadata": {},
   "outputs": [],
   "source": [
    "ciclistas_2019_mes = ciclistas_2019[[\"Mes\", \"Contador Ruta Reforma222\",\n",
    "                \"Contador Ruta Revolución\", \n",
    "                \"Contador Ruta Patriotismo\"]].groupby(['Mes']).sum()"
   ]
  },
  {
   "cell_type": "code",
   "execution_count": 43,
   "metadata": {},
   "outputs": [
    {
     "data": {
      "image/png": "[encoded data removed]",
      "text/plain": [
       "<Figure size 720x504 with 1 Axes>"
      ]
     },
     "metadata": {
      "needs_background": "light"
     },
     "output_type": "display_data"
    }
   ],
   "source": [
    "plt.figure(figsize=(10,7))\n",
    "plt.plot(ciclistas_2020_mes[\"Contador Ruta Reforma222\"], label = 'Ruta Reforma')\n",
    "plt.plot(ciclistas_2020_mes[\"Contador Ruta Revolución\"], label = 'Ruta Revolución')\n",
    "plt.plot(ciclistas_2020_mes[\"Contador Ruta Patriotismo\"], label = 'Ruta Patriotismo')\n",
    "plt.title(\"Ciclistas por ruta año 2020\")\n",
    "plt.legend()\n",
    "plt.show()"
   ]
  },
  {
   "cell_type": "code",
   "execution_count": 44,
   "metadata": {},
   "outputs": [
    {
     "data": {
      "image/png": "[encoded data removed]",
      "text/plain": [
       "<Figure size 720x504 with 1 Axes>"
      ]
     },
     "metadata": {
      "needs_background": "light"
     },
     "output_type": "display_data"
    }
   ],
   "source": [
    "plt.figure(figsize=(10,7))\n",
    "plt.plot(ciclistas_2019_mes[\"Contador Ruta Reforma222\"], label = 'Ruta Reforma')\n",
    "plt.plot(ciclistas_2019_mes[\"Contador Ruta Revolución\"], label = 'Ruta Revolución')\n",
    "plt.plot(ciclistas_2019_mes[\"Contador Ruta Patriotismo\"], label = 'Ruta Patriotismo')\n",
    "plt.title(\"Ciclistas por ruta año 2019\")\n",
    "plt.legend()\n",
    "plt.show()"
   ]
  },
  {
   "cell_type": "markdown",
   "metadata": {},
   "source": [
    "Podemos observar que la ruta que predomina es la ruta de reforma la cual abarca las delegaciones **Cuauhtémoc y Miguel Hidalgo**"
   ]
  },
  {
   "cell_type": "markdown",
   "metadata": {},
   "source": [
    "# Contaminantes"
   ]
  },
  {
   "cell_type": "code",
   "execution_count": 127,
   "metadata": {},
   "outputs": [
    {
     "data": {
      "text/html": [
       "<div>\n",
       "<style scoped>\n",
       "    .dataframe tbody tr th:only-of-type {\n",
       "        vertical-align: middle;\n",
       "    }\n",
       "\n",
       "    .dataframe tbody tr th {\n",
       "        vertical-align: top;\n",
       "    }\n",
       "\n",
       "    .dataframe thead th {\n",
       "        text-align: right;\n",
       "    }\n",
       "</style>\n",
       "<table border=\"1\" class=\"dataframe\">\n",
       "  <thead>\n",
       "    <tr style=\"text-align: right;\">\n",
       "      <th></th>\n",
       "      <th>Fecha</th>\n",
       "      <th>Nombre de estación</th>\n",
       "      <th>Clave de estación</th>\n",
       "      <th>Clave Parámetro</th>\n",
       "      <th>Nombre de parámetro</th>\n",
       "      <th>Unidades parámetros</th>\n",
       "      <th>Valor</th>\n",
       "      <th>ID Unidad</th>\n",
       "      <th>Clave de unidad</th>\n",
       "      <th>Nombre de unidad</th>\n",
       "      <th>Altura Estación</th>\n",
       "      <th>Observación Estación</th>\n",
       "      <th>ID Estación</th>\n",
       "      <th>Latitud</th>\n",
       "      <th>Longitud</th>\n",
       "      <th>Coordenadas</th>\n",
       "    </tr>\n",
       "  </thead>\n",
       "  <tbody>\n",
       "    <tr>\n",
       "      <th>0</th>\n",
       "      <td>2020-02-15T20:00:00-06:00</td>\n",
       "      <td>Santa fe</td>\n",
       "      <td>SFE</td>\n",
       "      <td>NO2</td>\n",
       "      <td>Dióxido de nitrógeno</td>\n",
       "      <td>1</td>\n",
       "      <td>18.0</td>\n",
       "      <td>1</td>\n",
       "      <td>ppb</td>\n",
       "      <td>partes por billón</td>\n",
       "      <td>2599</td>\n",
       "      <td>NaN</td>\n",
       "      <td>484090040309</td>\n",
       "      <td>19.357357</td>\n",
       "      <td>-99.262865</td>\n",
       "      <td>19.357357,-99.262865</td>\n",
       "    </tr>\n",
       "    <tr>\n",
       "      <th>1</th>\n",
       "      <td>2020-02-15T20:00:00-06:00</td>\n",
       "      <td>Nezahualcóyotl</td>\n",
       "      <td>NEZ</td>\n",
       "      <td>NO2</td>\n",
       "      <td>Dióxido de nitrógeno</td>\n",
       "      <td>1</td>\n",
       "      <td>27.0</td>\n",
       "      <td>1</td>\n",
       "      <td>ppb</td>\n",
       "      <td>partes por billón</td>\n",
       "      <td>2235</td>\n",
       "      <td>NaN</td>\n",
       "      <td>484150580115</td>\n",
       "      <td>19.393734</td>\n",
       "      <td>-99.028212</td>\n",
       "      <td>19.393734,-99.028212</td>\n",
       "    </tr>\n",
       "    <tr>\n",
       "      <th>2</th>\n",
       "      <td>2020-02-15T20:00:00-06:00</td>\n",
       "      <td>San Agustín</td>\n",
       "      <td>SAG</td>\n",
       "      <td>O3</td>\n",
       "      <td>Ozono</td>\n",
       "      <td>1</td>\n",
       "      <td>8.0</td>\n",
       "      <td>1</td>\n",
       "      <td>ppb</td>\n",
       "      <td>partes por billón</td>\n",
       "      <td>2241</td>\n",
       "      <td>NaN</td>\n",
       "      <td>484150330327</td>\n",
       "      <td>19.532968</td>\n",
       "      <td>-99.030324</td>\n",
       "      <td>19.532968,-99.030324</td>\n",
       "    </tr>\n",
       "    <tr>\n",
       "      <th>3</th>\n",
       "      <td>2020-02-15T20:00:00-06:00</td>\n",
       "      <td>Villa de las Flores</td>\n",
       "      <td>VIF</td>\n",
       "      <td>O3</td>\n",
       "      <td>Ozono</td>\n",
       "      <td>1</td>\n",
       "      <td>6.0</td>\n",
       "      <td>1</td>\n",
       "      <td>ppb</td>\n",
       "      <td>partes por billón</td>\n",
       "      <td>2242</td>\n",
       "      <td>NaN</td>\n",
       "      <td>484150200109</td>\n",
       "      <td>19.658223</td>\n",
       "      <td>-99.096590</td>\n",
       "      <td>19.658223,-99.09659</td>\n",
       "    </tr>\n",
       "    <tr>\n",
       "      <th>4</th>\n",
       "      <td>2020-02-15T20:00:00-06:00</td>\n",
       "      <td>Milpa Alta</td>\n",
       "      <td>MPA</td>\n",
       "      <td>O3</td>\n",
       "      <td>Ozono</td>\n",
       "      <td>1</td>\n",
       "      <td>24.0</td>\n",
       "      <td>1</td>\n",
       "      <td>ppb</td>\n",
       "      <td>partes por billón</td>\n",
       "      <td>2594</td>\n",
       "      <td>NaN</td>\n",
       "      <td>484090090104</td>\n",
       "      <td>19.176900</td>\n",
       "      <td>-98.990189</td>\n",
       "      <td>19.1769,-98.990189</td>\n",
       "    </tr>\n",
       "  </tbody>\n",
       "</table>\n",
       "</div>"
      ],
      "text/plain": [
       "                       Fecha   Nombre de estación Clave de estación  \\\n",
       "0  2020-02-15T20:00:00-06:00             Santa fe               SFE   \n",
       "1  2020-02-15T20:00:00-06:00       Nezahualcóyotl               NEZ   \n",
       "2  2020-02-15T20:00:00-06:00          San Agustín               SAG   \n",
       "3  2020-02-15T20:00:00-06:00  Villa de las Flores               VIF   \n",
       "4  2020-02-15T20:00:00-06:00           Milpa Alta               MPA   \n",
       "\n",
       "  Clave Parámetro   Nombre de parámetro  Unidades parámetros  Valor  \\\n",
       "0             NO2  Dióxido de nitrógeno                    1   18.0   \n",
       "1             NO2  Dióxido de nitrógeno                    1   27.0   \n",
       "2              O3                 Ozono                    1    8.0   \n",
       "3              O3                 Ozono                    1    6.0   \n",
       "4              O3                 Ozono                    1   24.0   \n",
       "\n",
       "   ID Unidad Clave de unidad   Nombre de unidad  Altura Estación  \\\n",
       "0          1             ppb  partes por billón             2599   \n",
       "1          1             ppb  partes por billón             2235   \n",
       "2          1             ppb  partes por billón             2241   \n",
       "3          1             ppb  partes por billón             2242   \n",
       "4          1             ppb  partes por billón             2594   \n",
       "\n",
       "  Observación Estación   ID Estación    Latitud   Longitud  \\\n",
       "0                  NaN  484090040309  19.357357 -99.262865   \n",
       "1                  NaN  484150580115  19.393734 -99.028212   \n",
       "2                  NaN  484150330327  19.532968 -99.030324   \n",
       "3                  NaN  484150200109  19.658223 -99.096590   \n",
       "4                  NaN  484090090104  19.176900 -98.990189   \n",
       "\n",
       "            Coordenadas  \n",
       "0  19.357357,-99.262865  \n",
       "1  19.393734,-99.028212  \n",
       "2  19.532968,-99.030324  \n",
       "3   19.658223,-99.09659  \n",
       "4    19.1769,-98.990189  "
      ]
     },
     "execution_count": 127,
     "metadata": {},
     "output_type": "execute_result"
    }
   ],
   "source": [
    "Contaminantes = pd.read_csv('../Datos/Contaminantes/contaminantes.csv')\n",
    "Contaminantes.head()"
   ]
  },
  {
   "cell_type": "code",
   "execution_count": 130,
   "metadata": {},
   "outputs": [
    {
     "data": {
      "text/plain": [
       "(469560, 16)"
      ]
     },
     "execution_count": 130,
     "metadata": {},
     "output_type": "execute_result"
    }
   ],
   "source": [
    "Contaminantes.shape"
   ]
  },
  {
   "cell_type": "code",
   "execution_count": 128,
   "metadata": {},
   "outputs": [
    {
     "data": {
      "text/plain": [
       "Index(['Fecha', 'Nombre de estación', 'Clave de estación', 'Clave Parámetro',\n",
       "       'Nombre de parámetro', 'Unidades parámetros', 'Valor', 'ID Unidad',\n",
       "       'Clave de unidad', 'Nombre de unidad', 'Altura Estación',\n",
       "       'Observación Estación', 'ID Estación', 'Latitud', 'Longitud',\n",
       "       'Coordenadas'],\n",
       "      dtype='object')"
      ]
     },
     "execution_count": 128,
     "metadata": {},
     "output_type": "execute_result"
    }
   ],
   "source": [
    "Contaminantes.columns"
   ]
  },
  {
   "cell_type": "code",
   "execution_count": 131,
   "metadata": {},
   "outputs": [
    {
     "data": {
      "text/plain": [
       "Fecha                    object\n",
       "Nombre de estación       object\n",
       "Clave de estación        object\n",
       "Clave Parámetro          object\n",
       "Nombre de parámetro      object\n",
       "Unidades parámetros       int64\n",
       "Valor                   float64\n",
       "ID Unidad                 int64\n",
       "Clave de unidad          object\n",
       "Nombre de unidad         object\n",
       "Altura Estación           int64\n",
       "Observación Estación     object\n",
       "ID Estación               int64\n",
       "Latitud                 float64\n",
       "Longitud                float64\n",
       "Coordenadas              object\n",
       "dtype: object"
      ]
     },
     "execution_count": 131,
     "metadata": {},
     "output_type": "execute_result"
    }
   ],
   "source": [
    "Contaminantes.dtypes"
   ]
  },
  {
   "cell_type": "code",
   "execution_count": 134,
   "metadata": {},
   "outputs": [
    {
     "data": {
      "text/plain": [
       "2.79"
      ]
     },
     "execution_count": 134,
     "metadata": {},
     "output_type": "execute_result"
    }
   ],
   "source": [
    "round(((469560-456456)/469560)*100,2)"
   ]
  },
  {
   "cell_type": "code",
   "execution_count": 132,
   "metadata": {},
   "outputs": [
    {
     "data": {
      "text/plain": [
       "Fecha                        0\n",
       "Nombre de estación           0\n",
       "Clave de estación            0\n",
       "Clave Parámetro              0\n",
       "Nombre de parámetro          0\n",
       "Unidades parámetros          0\n",
       "Valor                   121034\n",
       "ID Unidad                    0\n",
       "Clave de unidad              0\n",
       "Nombre de unidad             0\n",
       "Altura Estación              0\n",
       "Observación Estación    456456\n",
       "ID Estación                  0\n",
       "Latitud                      0\n",
       "Longitud                     0\n",
       "Coordenadas                  0\n",
       "dtype: int64"
      ]
     },
     "execution_count": 132,
     "metadata": {},
     "output_type": "execute_result"
    }
   ],
   "source": [
    "Contaminantes.isnull().sum()"
   ]
  },
  {
   "cell_type": "code",
   "execution_count": 137,
   "metadata": {},
   "outputs": [
    {
     "name": "stdout",
     "output_type": "stream",
     "text": [
      "\n",
      "-----------------\n",
      "Fecha\n",
      "\n",
      "['2020-02-15T20:00:00-06:00' '2020-02-16T14:00:00-06:00'\n",
      " '2020-02-16T15:00:00-06:00' ... '2020-03-31T01:00:00-06:00'\n",
      " '2020-03-31T02:00:00-06:00' '2020-03-31T03:00:00-06:00']\n",
      "\n",
      "-----------------\n",
      "Nombre de estación\n",
      "\n",
      "['Santa fe' 'Nezahualcóyotl' 'San Agustín' 'Villa de las Flores'\n",
      " 'Milpa Alta' 'Mguel Hidalgo' 'Pedregal' 'Acolman' 'Montecillo'\n",
      " 'Ajusco Medio' 'Coyoacán' 'Centro de Ciencias de la Atmósfera'\n",
      " 'Tultitlán' 'FES Aragón' 'Tlahuac' 'Atizapan' 'Chalco' 'UAM Xochimilco'\n",
      " 'Investigaciones Nucleares' 'La Presa' 'UAM Iztapalapa' 'Benito Juárez'\n",
      " 'Gustavo A. Madero' 'San Juan Aragón' 'Xalostoc' 'Santiago Acahualtepec'\n",
      " 'Camarones' 'Hospital General de México' 'Iztacalco' 'Tlalnepantla'\n",
      " 'Cuajimalpa' 'FES Acatlán' 'Cuautitlán' 'Los Laureles' 'Merced' 'Ajusco']\n",
      "\n",
      "-----------------\n",
      "Clave de estación\n",
      "\n",
      "['SFE' 'NEZ' 'SAG' 'VIF' 'MPA' 'MGH' 'PED' 'ACO' 'MON' 'AJM' 'COY' 'CCA'\n",
      " 'TLI' 'FAR' 'TAH' 'ATI' 'CHO' 'UAX' 'INN' 'LPR' 'UIZ' 'BJU' 'GAM' 'SJA'\n",
      " 'XAL' 'SAC' 'CAM' 'HGM' 'IZT' 'TLA' 'CUA' 'FAC' 'CUT' 'LLA' 'MER' 'AJU']\n",
      "\n",
      "-----------------\n",
      "Clave Parámetro\n",
      "\n",
      "['NO2' 'O3' 'SO2' 'PM10' 'PM2.5' 'CO' 'NO']\n",
      "\n",
      "-----------------\n",
      "Nombre de parámetro\n",
      "\n",
      "['Dióxido de nitrógeno' 'Ozono' 'Dióxido de azufre'\n",
      " 'Partículas menores a 10 micrómetros'\n",
      " 'Partículas menores a 2.5 micrómetros' 'Monóxido de carbono'\n",
      " 'Óxido nítrico']\n",
      "\n",
      "-----------------\n",
      "Unidades parámetros\n",
      "\n",
      "[ 1  2 15]\n",
      "\n",
      "-----------------\n",
      "Valor\n",
      "\n",
      "[1.80e+01 2.70e+01 8.00e+00 6.00e+00 2.40e+01 1.90e+01      nan 2.00e+00\n",
      " 1.30e+01 1.00e+00 3.00e+00 0.00e+00 5.00e+00 4.10e+01 1.40e+01 3.90e+01\n",
      " 3.40e+01 4.20e+01 3.60e+01 3.00e+01 1.50e+01 1.70e+01 2.00e-01 7.00e-01\n",
      " 1.00e-01 6.00e-01 3.00e-01 4.00e+00 1.20e+01 1.10e+01 2.10e+01 1.00e+01\n",
      " 2.20e+01 6.00e+01 1.32e+02 3.80e+01 7.00e+00 2.60e+01 3.30e+01 5.00e-01\n",
      " 4.00e-01 1.60e+01 2.00e+01 2.30e+01 9.00e+00 4.50e+01 3.50e+01 3.10e+01\n",
      " 3.70e+01 7.70e+01 2.50e+01 4.30e+01 2.80e+01 3.20e+01 4.00e+01 2.90e+01\n",
      " 9.00e-01 5.50e+01 4.70e+01 4.90e+01 4.40e+01 8.00e-01 6.50e+01 8.20e+01\n",
      " 1.30e+00 1.10e+00 1.40e+00 9.30e+01 4.80e+01 5.40e+01 7.10e+01 6.70e+01\n",
      " 5.10e+01 5.00e+01 1.20e+00 5.90e+01 5.60e+01 7.20e+01 5.80e+01 5.30e+01\n",
      " 5.70e+01 6.60e+01 7.30e+01 6.90e+01 6.80e+01 8.40e+01 4.60e+01 6.10e+01\n",
      " 1.22e+02 9.40e+01 9.50e+01 1.05e+02 5.20e+01 8.50e+01 7.40e+01 6.40e+01\n",
      " 7.80e+01 7.00e+01 8.30e+01 8.00e+01 7.60e+01 7.50e+01 8.90e+01 9.00e+01\n",
      " 9.20e+01 8.70e+01 9.90e+01 8.10e+01 8.80e+01 9.80e+01 8.60e+01 1.50e+00\n",
      " 6.30e+01 1.37e+02 1.28e+02 2.10e+00 2.89e+02 1.00e+02 6.20e+01 1.60e+00\n",
      " 1.70e+00 1.02e+02 1.11e+02 1.70e+02 1.47e+02 1.07e+02 1.35e+02 7.90e+01\n",
      " 9.60e+01 1.12e+02 1.56e+02 1.06e+02 1.61e+02 1.16e+02 1.17e+02 1.01e+02\n",
      " 1.79e+02 1.73e+02 1.90e+00 1.85e+02 1.08e+02 1.09e+02 9.70e+01 1.51e+02\n",
      " 1.67e+02 1.21e+02 1.19e+02 1.20e+02 1.52e+02 1.25e+02 1.15e+02 1.96e+02\n",
      " 1.23e+02 1.80e+00 2.30e+00 9.10e+01 1.26e+02 1.04e+02 2.08e+02 1.03e+02\n",
      " 1.13e+02 1.39e+02 1.83e+02 1.42e+02 1.55e+02 2.40e+00 3.50e+00 2.50e+00\n",
      " 2.70e+00 1.14e+02 1.29e+02 1.36e+02 1.50e+02 2.28e+02 2.38e+02 1.90e+02\n",
      " 2.20e+00 3.70e+00 2.60e+00 1.93e+02 1.57e+02 1.45e+02 1.18e+02 1.34e+02\n",
      " 1.46e+02 1.10e+02 2.21e+02 1.48e+02 1.82e+02 1.31e+02 1.98e+02 2.01e+02\n",
      " 1.92e+02 1.24e+02 3.13e+02 1.60e+02 3.11e+02 1.33e+02 3.23e+02 2.90e+00\n",
      " 1.27e+02 1.40e+02 1.76e+02 1.49e+02 1.89e+02 1.77e+02 2.48e+02 1.53e+02\n",
      " 2.47e+02 1.80e+02 3.06e+02 1.74e+02 2.05e+02 1.58e+02 2.80e+00 3.80e+00\n",
      " 1.75e+02 1.41e+02 1.64e+02 1.30e+02 2.33e+02 2.16e+02 2.32e+02 1.94e+02\n",
      " 1.88e+02 1.63e+02 2.06e+02 1.38e+02 1.84e+02 1.87e+02 1.71e+02 1.54e+02\n",
      " 5.98e+02 2.10e+02 2.26e+02 1.69e+02 3.03e+02 1.78e+02 2.23e+02 3.01e+02\n",
      " 3.40e+00 2.12e+02 1.81e+02 1.59e+02 1.86e+02 3.30e+02 2.18e+02 3.10e+02\n",
      " 1.44e+02 1.72e+02 2.36e+02 1.68e+02 2.03e+02 1.62e+02 1.65e+02 2.22e+02\n",
      " 2.35e+02 2.66e+02 1.43e+02 1.99e+02 3.38e+02 2.92e+02 2.67e+02 2.30e+02\n",
      " 2.50e+02 3.10e+00 1.91e+02 3.36e+02 3.92e+02 2.44e+02 2.96e+02 2.58e+02\n",
      " 2.77e+02 2.15e+02 2.41e+02 2.04e+02 2.19e+02 1.66e+02 2.14e+02 2.54e+02\n",
      " 2.02e+02 2.27e+02 2.37e+02 1.97e+02 2.34e+02 3.53e+02 3.30e+00 2.40e+02\n",
      " 2.31e+02 3.77e+02 3.20e+00 1.95e+02 2.68e+02 2.55e+02 2.13e+02 4.30e+00\n",
      " 2.76e+02 2.43e+02 2.25e+02 2.70e+02 3.20e+02 2.07e+02 2.63e+02 2.09e+02\n",
      " 2.71e+02 2.29e+02 2.00e+02 2.49e+02 2.20e+02 2.24e+02 3.28e+02 2.61e+02\n",
      " 4.80e+00 2.17e+02 5.53e+02 2.90e+02 2.56e+02 2.74e+02 2.53e+02 4.26e+02\n",
      " 3.97e+02 2.46e+02 3.09e+02 2.60e+02 3.04e+02 2.45e+02 4.02e+02 2.59e+02\n",
      " 3.00e+02 2.72e+02 2.83e+02 2.91e+02 2.79e+02 2.78e+02 2.42e+02 2.39e+02\n",
      " 4.60e+00 2.52e+02 3.60e+00 2.94e+02 2.11e+02 2.97e+02 3.37e+02 4.56e+02\n",
      " 3.90e+00 2.69e+02 3.42e+02 3.64e+02 2.88e+02 3.34e+02 5.40e+00]\n",
      "\n",
      "-----------------\n",
      "ID Unidad\n",
      "\n",
      "[ 1  2 15]\n",
      "\n",
      "-----------------\n",
      "Clave de unidad\n",
      "\n",
      "['ppb' 'µg/m³' 'ppm']\n",
      "\n",
      "-----------------\n",
      "Nombre de unidad\n",
      "\n",
      "['partes por billón' 'microgramos por metro cúbico' 'partes por millón']\n",
      "\n",
      "-----------------\n",
      "Altura Estación\n",
      "\n",
      "[2599 2235 2241 2242 2594 2327 2326 2198 2252 2548 2260 2294 2313 2230\n",
      " 2297 2341 2253 2246 3082 2302 2221 2249 2227 2258 2160 2293 2233 2234\n",
      " 2238 2311 2704 2299 2263 2245 2942]\n",
      "\n",
      "-----------------\n",
      "Observación Estación\n",
      "\n",
      "[nan 'Finalizó operación en 2005']\n",
      "\n",
      "-----------------\n",
      "ID Estación\n",
      "\n",
      "[484090040309 484150580115 484150330327 484150200109 484090090104\n",
      " 484090160609 484090100127 484150020109 484150990113 484090120609\n",
      " 484090030303 484090030501 484151090101 484800150584 484090130309\n",
      " 484150130101 484150250109 484090030401 484150620109 484151040203\n",
      " 484090070219 484090140201 484090050809 484090050701 484150330415\n",
      " 484800090073 484090020301 484090150409 484090060101 484151040115\n",
      " 484090040109 484150570109 484150950109 484150330201 484090170127\n",
      " 484090120400]\n",
      "\n",
      "-----------------\n",
      "Latitud\n",
      "\n",
      "[19.357357 19.393734 19.532968 19.658223 19.1769   19.40405  19.325146\n",
      " 19.635501 19.460415 19.272161 19.350258 19.326111 19.602542 19.473692\n",
      " 19.246459 19.576963 19.266948 19.304441 19.291968 19.534727 19.360794\n",
      " 19.370464 19.4827   19.452592 19.525995 19.34561  19.468404 19.411617\n",
      " 19.384413 19.529077 19.365313 19.482473 19.722186 19.578792 19.42461\n",
      " 19.154286]\n",
      "\n",
      "-----------------\n",
      "Longitud\n",
      "\n",
      "[-99.262865 -99.028212 -99.030324 -99.09659  -98.990189 -99.20266\n",
      " -99.204136 -98.912003 -98.902853 -99.207744 -99.157101 -99.176111\n",
      " -99.177173 -99.046176 -99.010564 -99.254133 -98.886088 -99.103629\n",
      " -99.38052  -99.11772  -99.07388  -99.159596 -99.094517 -99.086095\n",
      " -99.0824   -99.009381 -99.169794 -99.152207 -99.117641 -99.204597\n",
      " -99.291705 -99.243524 -99.198602 -99.039644 -99.119594 -99.162611]\n",
      "\n",
      "-----------------\n",
      "Coordenadas\n",
      "\n",
      "['19.357357,-99.262865' '19.393734,-99.028212' '19.532968,-99.030324'\n",
      " '19.658223,-99.09659' '19.1769,-98.990189' '19.40405,-99.20266'\n",
      " '19.325146,-99.204136' '19.635501,-98.912003' '19.460415,-98.902853'\n",
      " '19.272161,-99.207744' '19.350258,-99.157101' '19.326111,-99.176111'\n",
      " '19.602542,-99.177173' '19.473692,-99.046176' '19.246459,-99.010564'\n",
      " '19.576963,-99.254133' '19.266948,-98.886088' '19.304441,-99.103629'\n",
      " '19.291968,-99.38052' '19.534727,-99.11772' '19.360794,-99.07388'\n",
      " '19.370464,-99.159596' '19.4827,-99.094517' '19.452592,-99.086095'\n",
      " '19.525995,-99.0824' '19.34561,-99.009381' '19.468404,-99.169794'\n",
      " '19.411617,-99.152207' '19.384413,-99.117641' '19.529077,-99.204597'\n",
      " '19.365313,-99.291705' '19.482473,-99.243524' '19.722186,-99.198602'\n",
      " '19.578792,-99.039644' '19.42461,-99.119594' '19.154286,-99.162611']\n"
     ]
    }
   ],
   "source": [
    "for col in Contaminantes.columns:\n",
    "    print()\n",
    "    print('-----------------')\n",
    "    print(col)\n",
    "    print()\n",
    "    print(Contaminantes[col].unique())"
   ]
  },
  {
   "cell_type": "markdown",
   "metadata": {},
   "source": [
    "# Estaciones Eco-bici"
   ]
  },
  {
   "cell_type": "code",
   "execution_count": 139,
   "metadata": {},
   "outputs": [
    {
     "data": {
      "text/html": [
       "<div>\n",
       "<style scoped>\n",
       "    .dataframe tbody tr th:only-of-type {\n",
       "        vertical-align: middle;\n",
       "    }\n",
       "\n",
       "    .dataframe tbody tr th {\n",
       "        vertical-align: top;\n",
       "    }\n",
       "\n",
       "    .dataframe thead th {\n",
       "        text-align: right;\n",
       "    }\n",
       "</style>\n",
       "<table border=\"1\" class=\"dataframe\">\n",
       "  <thead>\n",
       "    <tr style=\"text-align: right;\">\n",
       "      <th></th>\n",
       "      <th>ID</th>\n",
       "      <th>Nombre</th>\n",
       "      <th>Dirección</th>\n",
       "      <th>Número</th>\n",
       "      <th>Código postal</th>\n",
       "      <th>districtCode</th>\n",
       "      <th>Colonia</th>\n",
       "      <th>altitude</th>\n",
       "      <th>nearbyStations/0</th>\n",
       "      <th>location/lat</th>\n",
       "      <th>location/lon</th>\n",
       "      <th>Tipo de estación</th>\n",
       "      <th>nearbyStations/1</th>\n",
       "      <th>nearbyStations/2</th>\n",
       "      <th>nearbyStations/3</th>\n",
       "      <th>nearbyStations/4</th>\n",
       "      <th>nearbyStations/5</th>\n",
       "      <th>punto_geo</th>\n",
       "    </tr>\n",
       "  </thead>\n",
       "  <tbody>\n",
       "    <tr>\n",
       "      <th>0</th>\n",
       "      <td>86</td>\n",
       "      <td>86 SULLIVAN-INSURGENTES</td>\n",
       "      <td>086 - Sullivan-Insurgentes</td>\n",
       "      <td>S/N</td>\n",
       "      <td>6470.0</td>\n",
       "      <td>1</td>\n",
       "      <td>Ampliación Granada</td>\n",
       "      <td>NaN</td>\n",
       "      <td>12</td>\n",
       "      <td>19.432378</td>\n",
       "      <td>-99.159077</td>\n",
       "      <td>BIKE,TPV</td>\n",
       "      <td>20.0</td>\n",
       "      <td>NaN</td>\n",
       "      <td>NaN</td>\n",
       "      <td>NaN</td>\n",
       "      <td>NaN</td>\n",
       "      <td>19.432378,-99.159077</td>\n",
       "    </tr>\n",
       "    <tr>\n",
       "      <th>1</th>\n",
       "      <td>250</td>\n",
       "      <td>250 DARWIN-MARIANO ESCOBEDO</td>\n",
       "      <td>250 - Darwin-Mariano Escobedo</td>\n",
       "      <td>S/N</td>\n",
       "      <td>11510.0</td>\n",
       "      <td>1</td>\n",
       "      <td>Ampliación Granada</td>\n",
       "      <td>NaN</td>\n",
       "      <td>239</td>\n",
       "      <td>19.429057</td>\n",
       "      <td>-99.179660</td>\n",
       "      <td>BIKE,TPV</td>\n",
       "      <td>249.0</td>\n",
       "      <td>252.0</td>\n",
       "      <td>NaN</td>\n",
       "      <td>NaN</td>\n",
       "      <td>NaN</td>\n",
       "      <td>19.429057,-99.17966</td>\n",
       "    </tr>\n",
       "    <tr>\n",
       "      <th>2</th>\n",
       "      <td>273</td>\n",
       "      <td>273 LUIS DONALDO COLOSIO-AV. CENTRAL</td>\n",
       "      <td>273 Luis Donaldo Colosio - Av. Jesus Garcia</td>\n",
       "      <td>S/N</td>\n",
       "      <td>NaN</td>\n",
       "      <td>1</td>\n",
       "      <td>Ampliación Granada</td>\n",
       "      <td>NaN</td>\n",
       "      <td>176</td>\n",
       "      <td>19.442707</td>\n",
       "      <td>-99.152956</td>\n",
       "      <td>BIKE</td>\n",
       "      <td>268.0</td>\n",
       "      <td>274.0</td>\n",
       "      <td>NaN</td>\n",
       "      <td>NaN</td>\n",
       "      <td>NaN</td>\n",
       "      <td>19.442707,-99.152956</td>\n",
       "    </tr>\n",
       "    <tr>\n",
       "      <th>3</th>\n",
       "      <td>278</td>\n",
       "      <td>278 MIER Y PESADO-OBRERO MUNDIAL</td>\n",
       "      <td>278 - Mier Y Pesado-Obrero Mundial</td>\n",
       "      <td>S/N</td>\n",
       "      <td>3103.0</td>\n",
       "      <td>1</td>\n",
       "      <td>Ampliación Granada</td>\n",
       "      <td>NaN</td>\n",
       "      <td>164</td>\n",
       "      <td>19.400710</td>\n",
       "      <td>-99.163831</td>\n",
       "      <td>BIKE</td>\n",
       "      <td>279.0</td>\n",
       "      <td>282.0</td>\n",
       "      <td>NaN</td>\n",
       "      <td>NaN</td>\n",
       "      <td>NaN</td>\n",
       "      <td>19.40071,-99.163831</td>\n",
       "    </tr>\n",
       "    <tr>\n",
       "      <th>4</th>\n",
       "      <td>305</td>\n",
       "      <td>305 AVENIDA DEL PARQUE-ARIZONA</td>\n",
       "      <td>305 - Avenida Del Parque-Arizona</td>\n",
       "      <td>S/N</td>\n",
       "      <td>3810.0</td>\n",
       "      <td>1</td>\n",
       "      <td>Ampliación Granada</td>\n",
       "      <td>NaN</td>\n",
       "      <td>304</td>\n",
       "      <td>19.394693</td>\n",
       "      <td>-99.175531</td>\n",
       "      <td>BIKE,TPV</td>\n",
       "      <td>306.0</td>\n",
       "      <td>307.0</td>\n",
       "      <td>NaN</td>\n",
       "      <td>NaN</td>\n",
       "      <td>NaN</td>\n",
       "      <td>19.394693,-99.175531</td>\n",
       "    </tr>\n",
       "  </tbody>\n",
       "</table>\n",
       "</div>"
      ],
      "text/plain": [
       "    ID                                Nombre  \\\n",
       "0   86               86 SULLIVAN-INSURGENTES   \n",
       "1  250           250 DARWIN-MARIANO ESCOBEDO   \n",
       "2  273  273 LUIS DONALDO COLOSIO-AV. CENTRAL   \n",
       "3  278      278 MIER Y PESADO-OBRERO MUNDIAL   \n",
       "4  305        305 AVENIDA DEL PARQUE-ARIZONA   \n",
       "\n",
       "                                     Dirección Número  Código postal  \\\n",
       "0                   086 - Sullivan-Insurgentes    S/N         6470.0   \n",
       "1                250 - Darwin-Mariano Escobedo    S/N        11510.0   \n",
       "2  273 Luis Donaldo Colosio - Av. Jesus Garcia    S/N            NaN   \n",
       "3           278 - Mier Y Pesado-Obrero Mundial    S/N         3103.0   \n",
       "4             305 - Avenida Del Parque-Arizona    S/N         3810.0   \n",
       "\n",
       "  districtCode             Colonia  altitude  nearbyStations/0  location/lat  \\\n",
       "0            1  Ampliación Granada       NaN                12     19.432378   \n",
       "1            1  Ampliación Granada       NaN               239     19.429057   \n",
       "2            1  Ampliación Granada       NaN               176     19.442707   \n",
       "3            1  Ampliación Granada       NaN               164     19.400710   \n",
       "4            1  Ampliación Granada       NaN               304     19.394693   \n",
       "\n",
       "   location/lon Tipo de estación  nearbyStations/1  nearbyStations/2  \\\n",
       "0    -99.159077         BIKE,TPV              20.0               NaN   \n",
       "1    -99.179660         BIKE,TPV             249.0             252.0   \n",
       "2    -99.152956             BIKE             268.0             274.0   \n",
       "3    -99.163831             BIKE             279.0             282.0   \n",
       "4    -99.175531         BIKE,TPV             306.0             307.0   \n",
       "\n",
       "   nearbyStations/3  nearbyStations/4  nearbyStations/5             punto_geo  \n",
       "0               NaN               NaN               NaN  19.432378,-99.159077  \n",
       "1               NaN               NaN               NaN   19.429057,-99.17966  \n",
       "2               NaN               NaN               NaN  19.442707,-99.152956  \n",
       "3               NaN               NaN               NaN   19.40071,-99.163831  \n",
       "4               NaN               NaN               NaN  19.394693,-99.175531  "
      ]
     },
     "execution_count": 139,
     "metadata": {},
     "output_type": "execute_result"
    }
   ],
   "source": [
    "Eco_bici = pd.read_csv('../Datos/estaciones-de-ecobici.csv')\n",
    "Eco_bici.head()"
   ]
  },
  {
   "cell_type": "code",
   "execution_count": 140,
   "metadata": {},
   "outputs": [
    {
     "data": {
      "text/plain": [
       "(480, 18)"
      ]
     },
     "execution_count": 140,
     "metadata": {},
     "output_type": "execute_result"
    }
   ],
   "source": [
    "Eco_bici.shape"
   ]
  },
  {
   "cell_type": "code",
   "execution_count": 141,
   "metadata": {},
   "outputs": [
    {
     "data": {
      "text/plain": [
       "Index(['ID', 'Nombre', 'Dirección', 'Número', 'Código postal', 'districtCode',\n",
       "       'Colonia', 'altitude', 'nearbyStations/0', 'location/lat',\n",
       "       'location/lon', 'Tipo de estación', 'nearbyStations/1',\n",
       "       'nearbyStations/2', 'nearbyStations/3', 'nearbyStations/4',\n",
       "       'nearbyStations/5', 'punto_geo'],\n",
       "      dtype='object')"
      ]
     },
     "execution_count": 141,
     "metadata": {},
     "output_type": "execute_result"
    }
   ],
   "source": [
    "Eco_bici.columns"
   ]
  },
  {
   "cell_type": "code",
   "execution_count": 142,
   "metadata": {},
   "outputs": [
    {
     "data": {
      "text/plain": [
       "ID                    int64\n",
       "Nombre               object\n",
       "Dirección            object\n",
       "Número               object\n",
       "Código postal       float64\n",
       "districtCode         object\n",
       "Colonia              object\n",
       "altitude            float64\n",
       "nearbyStations/0      int64\n",
       "location/lat        float64\n",
       "location/lon        float64\n",
       "Tipo de estación     object\n",
       "nearbyStations/1    float64\n",
       "nearbyStations/2    float64\n",
       "nearbyStations/3    float64\n",
       "nearbyStations/4    float64\n",
       "nearbyStations/5    float64\n",
       "punto_geo            object\n",
       "dtype: object"
      ]
     },
     "execution_count": 142,
     "metadata": {},
     "output_type": "execute_result"
    }
   ],
   "source": [
    "Eco_bici.dtypes"
   ]
  },
  {
   "cell_type": "code",
   "execution_count": 149,
   "metadata": {},
   "outputs": [
    {
     "data": {
      "text/plain": [
       "0.62"
      ]
     },
     "execution_count": 149,
     "metadata": {},
     "output_type": "execute_result"
    }
   ],
   "source": [
    "round(((480-477)/480)*100,2)"
   ]
  },
  {
   "cell_type": "code",
   "execution_count": 143,
   "metadata": {},
   "outputs": [
    {
     "data": {
      "text/plain": [
       "ID                    0\n",
       "Nombre                0\n",
       "Dirección             0\n",
       "Número                0\n",
       "Código postal       149\n",
       "districtCode          1\n",
       "Colonia               1\n",
       "altitude            480\n",
       "nearbyStations/0      0\n",
       "location/lat          0\n",
       "location/lon          0\n",
       "Tipo de estación      0\n",
       "nearbyStations/1     17\n",
       "nearbyStations/2     59\n",
       "nearbyStations/3    444\n",
       "nearbyStations/4    477\n",
       "nearbyStations/5    477\n",
       "punto_geo             0\n",
       "dtype: int64"
      ]
     },
     "execution_count": 143,
     "metadata": {},
     "output_type": "execute_result"
    }
   ],
   "source": [
    "Eco_bici.isnull().sum()"
   ]
  },
  {
   "cell_type": "code",
   "execution_count": null,
   "metadata": {},
   "outputs": [],
   "source": []
  }
 ],
 "metadata": {
  "kernelspec": {
   "display_name": "Python 3",
   "language": "python",
   "name": "python3"
  },
  "language_info": {
   "codemirror_mode": {
    "name": "ipython",
    "version": 3
   },
   "file_extension": ".py",
   "mimetype": "text/x-python",
   "name": "python",
   "nbconvert_exporter": "python",
   "pygments_lexer": "ipython3",
   "version": "3.8.5"
  }
 },
 "nbformat": 4,
 "nbformat_minor": 2
}
