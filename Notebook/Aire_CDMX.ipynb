{
 "cells": [
  {
   "cell_type": "markdown",
   "metadata": {},
   "source": [
    "# Un aire no tan bueno\n",
    "\n",
    "- Ortega Ibarra Jaime Jesús\n",
    "- Martiñón Luna Jonathan José\n"
   ]
  },
  {
   "cell_type": "markdown",
   "metadata": {},
   "source": [
    "## Importando librerías necesarias"
   ]
  },
  {
   "cell_type": "code",
   "execution_count": 110,
   "metadata": {},
   "outputs": [],
   "source": [
    "import pandas as pd\n",
    "import numpy as np\n",
    "import seaborn as sns\n",
    "import matplotlib.pyplot as plt\n",
    "import datetime\n",
    "import geopandas as gpd\n",
    "from mpl_toolkits.axes_grid1 import make_axes_locatable"
   ]
  },
  {
   "cell_type": "code",
   "execution_count": 117,
   "metadata": {},
   "outputs": [
    {
     "name": "stdout",
     "output_type": "stream",
     "text": [
      "Collecting descartes\n",
      "  Downloading https://files.pythonhosted.org/packages/e5/b6/1ed2eb03989ae574584664985367ba70cd9cf8b32ee8cad0e8aaeac819f3/descartes-1.1.0-py3-none-any.whl\n",
      "Requirement already satisfied: matplotlib in /home/joiortega1/anaconda3/lib/python3.7/site-packages (from descartes) (3.3.3)\n",
      "Requirement already satisfied: cycler>=0.10 in /home/joiortega1/anaconda3/lib/python3.7/site-packages (from matplotlib->descartes) (0.10.0)\n",
      "Requirement already satisfied: pyparsing!=2.0.4,!=2.1.2,!=2.1.6,>=2.0.3 in /home/joiortega1/anaconda3/lib/python3.7/site-packages (from matplotlib->descartes) (2.3.1)\n",
      "Requirement already satisfied: numpy>=1.15 in /home/joiortega1/anaconda3/lib/python3.7/site-packages (from matplotlib->descartes) (1.16.2)\n",
      "Requirement already satisfied: python-dateutil>=2.1 in /home/joiortega1/anaconda3/lib/python3.7/site-packages (from matplotlib->descartes) (2.8.0)\n",
      "Requirement already satisfied: kiwisolver>=1.0.1 in /home/joiortega1/anaconda3/lib/python3.7/site-packages (from matplotlib->descartes) (1.0.1)\n",
      "Requirement already satisfied: pillow>=6.2.0 in /home/joiortega1/anaconda3/lib/python3.7/site-packages (from matplotlib->descartes) (8.0.1)\n",
      "Requirement already satisfied: six in /home/joiortega1/anaconda3/lib/python3.7/site-packages (from cycler>=0.10->matplotlib->descartes) (1.12.0)\n",
      "Requirement already satisfied: setuptools in /home/joiortega1/anaconda3/lib/python3.7/site-packages (from kiwisolver>=1.0.1->matplotlib->descartes) (40.8.0)\n",
      "Installing collected packages: descartes\n",
      "Successfully installed descartes-1.1.0\n"
     ]
    }
   ],
   "source": [
    "!pip install descartes"
   ]
  },
  {
   "cell_type": "markdown",
   "metadata": {},
   "source": [
    "## Leyendo los datos"
   ]
  },
  {
   "cell_type": "markdown",
   "metadata": {},
   "source": [
    "### Indices por año\n"
   ]
  },
  {
   "cell_type": "markdown",
   "metadata": {},
   "source": [
    "#### 2020"
   ]
  },
  {
   "cell_type": "code",
   "execution_count": 57,
   "metadata": {},
   "outputs": [
    {
     "data": {
      "text/html": [
       "<div>\n",
       "<style scoped>\n",
       "    .dataframe tbody tr th:only-of-type {\n",
       "        vertical-align: middle;\n",
       "    }\n",
       "\n",
       "    .dataframe tbody tr th {\n",
       "        vertical-align: top;\n",
       "    }\n",
       "\n",
       "    .dataframe thead th {\n",
       "        text-align: right;\n",
       "    }\n",
       "</style>\n",
       "<table border=\"1\" class=\"dataframe\">\n",
       "  <thead>\n",
       "    <tr style=\"text-align: right;\">\n",
       "      <th></th>\n",
       "      <th>Fecha</th>\n",
       "      <th>Hora</th>\n",
       "      <th>Noroeste ozono</th>\n",
       "      <th>Noroeste dióxido de azufre</th>\n",
       "      <th>Noroeste dióxido de nitrógeno</th>\n",
       "      <th>Noroeste monóxido de carbono</th>\n",
       "      <th>Noroeste PM10</th>\n",
       "      <th>Noroeste PM25</th>\n",
       "      <th>Noreste ozono</th>\n",
       "      <th>Noreste dióxido de azufre</th>\n",
       "      <th>...</th>\n",
       "      <th>Suroeste dióxido de nitrógeno</th>\n",
       "      <th>Suroeste monóxido de carbono</th>\n",
       "      <th>Suroeste PM10</th>\n",
       "      <th>Suroeste PM25</th>\n",
       "      <th>Sureste ozono</th>\n",
       "      <th>Sureste dióxido de azufre</th>\n",
       "      <th>Sureste dióxido de nitrógeno</th>\n",
       "      <th>Sureste monóxido de carbono</th>\n",
       "      <th>Sureste PM10</th>\n",
       "      <th>Sureste PM25</th>\n",
       "    </tr>\n",
       "  </thead>\n",
       "  <tbody>\n",
       "    <tr>\n",
       "      <th>0</th>\n",
       "      <td>01/01/2020</td>\n",
       "      <td>1</td>\n",
       "      <td>4</td>\n",
       "      <td>36</td>\n",
       "      <td>17</td>\n",
       "      <td>9</td>\n",
       "      <td>81</td>\n",
       "      <td>63</td>\n",
       "      <td>9</td>\n",
       "      <td>28</td>\n",
       "      <td>...</td>\n",
       "      <td>16</td>\n",
       "      <td>5</td>\n",
       "      <td>35</td>\n",
       "      <td>54</td>\n",
       "      <td>9</td>\n",
       "      <td>8</td>\n",
       "      <td>17</td>\n",
       "      <td>12</td>\n",
       "      <td>73</td>\n",
       "      <td>72</td>\n",
       "    </tr>\n",
       "    <tr>\n",
       "      <th>1</th>\n",
       "      <td>01/01/2020</td>\n",
       "      <td>2</td>\n",
       "      <td>4</td>\n",
       "      <td>32</td>\n",
       "      <td>15</td>\n",
       "      <td>11</td>\n",
       "      <td>86</td>\n",
       "      <td>64</td>\n",
       "      <td>11</td>\n",
       "      <td>22</td>\n",
       "      <td>...</td>\n",
       "      <td>14</td>\n",
       "      <td>6</td>\n",
       "      <td>40</td>\n",
       "      <td>56</td>\n",
       "      <td>13</td>\n",
       "      <td>8</td>\n",
       "      <td>16</td>\n",
       "      <td>14</td>\n",
       "      <td>81</td>\n",
       "      <td>76</td>\n",
       "    </tr>\n",
       "    <tr>\n",
       "      <th>2</th>\n",
       "      <td>01/01/2020</td>\n",
       "      <td>3</td>\n",
       "      <td>4</td>\n",
       "      <td>26</td>\n",
       "      <td>16</td>\n",
       "      <td>12</td>\n",
       "      <td>91</td>\n",
       "      <td>66</td>\n",
       "      <td>9</td>\n",
       "      <td>18</td>\n",
       "      <td>...</td>\n",
       "      <td>15</td>\n",
       "      <td>6</td>\n",
       "      <td>49</td>\n",
       "      <td>59</td>\n",
       "      <td>13</td>\n",
       "      <td>8</td>\n",
       "      <td>15</td>\n",
       "      <td>15</td>\n",
       "      <td>91</td>\n",
       "      <td>80</td>\n",
       "    </tr>\n",
       "    <tr>\n",
       "      <th>3</th>\n",
       "      <td>01/01/2020</td>\n",
       "      <td>4</td>\n",
       "      <td>6</td>\n",
       "      <td>24</td>\n",
       "      <td>16</td>\n",
       "      <td>14</td>\n",
       "      <td>101</td>\n",
       "      <td>68</td>\n",
       "      <td>9</td>\n",
       "      <td>16</td>\n",
       "      <td>...</td>\n",
       "      <td>15</td>\n",
       "      <td>7</td>\n",
       "      <td>57</td>\n",
       "      <td>63</td>\n",
       "      <td>16</td>\n",
       "      <td>8</td>\n",
       "      <td>10</td>\n",
       "      <td>15</td>\n",
       "      <td>100</td>\n",
       "      <td>83</td>\n",
       "    </tr>\n",
       "    <tr>\n",
       "      <th>4</th>\n",
       "      <td>01/01/2020</td>\n",
       "      <td>5</td>\n",
       "      <td>5</td>\n",
       "      <td>22</td>\n",
       "      <td>15</td>\n",
       "      <td>15</td>\n",
       "      <td>104</td>\n",
       "      <td>72</td>\n",
       "      <td>5</td>\n",
       "      <td>16</td>\n",
       "      <td>...</td>\n",
       "      <td>14</td>\n",
       "      <td>7</td>\n",
       "      <td>64</td>\n",
       "      <td>67</td>\n",
       "      <td>16</td>\n",
       "      <td>8</td>\n",
       "      <td>9</td>\n",
       "      <td>14</td>\n",
       "      <td>102</td>\n",
       "      <td>83</td>\n",
       "    </tr>\n",
       "  </tbody>\n",
       "</table>\n",
       "<p>5 rows × 32 columns</p>\n",
       "</div>"
      ],
      "text/plain": [
       "        Fecha  Hora  Noroeste ozono  Noroeste dióxido de azufre  \\\n",
       "0  01/01/2020     1               4                          36   \n",
       "1  01/01/2020     2               4                          32   \n",
       "2  01/01/2020     3               4                          26   \n",
       "3  01/01/2020     4               6                          24   \n",
       "4  01/01/2020     5               5                          22   \n",
       "\n",
       "   Noroeste dióxido de nitrógeno  Noroeste monóxido de carbono  Noroeste PM10  \\\n",
       "0                             17                             9             81   \n",
       "1                             15                            11             86   \n",
       "2                             16                            12             91   \n",
       "3                             16                            14            101   \n",
       "4                             15                            15            104   \n",
       "\n",
       "   Noroeste PM25  Noreste ozono  Noreste dióxido de azufre  ...  \\\n",
       "0             63              9                         28  ...   \n",
       "1             64             11                         22  ...   \n",
       "2             66              9                         18  ...   \n",
       "3             68              9                         16  ...   \n",
       "4             72              5                         16  ...   \n",
       "\n",
       "   Suroeste dióxido de nitrógeno  Suroeste monóxido de carbono  Suroeste PM10  \\\n",
       "0                             16                             5             35   \n",
       "1                             14                             6             40   \n",
       "2                             15                             6             49   \n",
       "3                             15                             7             57   \n",
       "4                             14                             7             64   \n",
       "\n",
       "   Suroeste PM25  Sureste ozono  Sureste dióxido de azufre  \\\n",
       "0             54              9                          8   \n",
       "1             56             13                          8   \n",
       "2             59             13                          8   \n",
       "3             63             16                          8   \n",
       "4             67             16                          8   \n",
       "\n",
       "   Sureste dióxido de nitrógeno  Sureste monóxido de carbono  Sureste PM10  \\\n",
       "0                            17                           12            73   \n",
       "1                            16                           14            81   \n",
       "2                            15                           15            91   \n",
       "3                            10                           15           100   \n",
       "4                             9                           14           102   \n",
       "\n",
       "   Sureste PM25  \n",
       "0            72  \n",
       "1            76  \n",
       "2            80  \n",
       "3            83  \n",
       "4            83  \n",
       "\n",
       "[5 rows x 32 columns]"
      ]
     },
     "execution_count": 57,
     "metadata": {},
     "output_type": "execute_result"
    }
   ],
   "source": [
    "indice_2020 = pd.read_csv('https://github.com/JonathanMartignon/Data_CDMX_Un_Aire_No_Tan_Bueno/blob/main/Datos/imeca_2020.csv?raw=True')\n",
    "indice_2020.head()"
   ]
  },
  {
   "cell_type": "code",
   "execution_count": 58,
   "metadata": {},
   "outputs": [
    {
     "data": {
      "text/plain": [
       "(8040, 32)"
      ]
     },
     "execution_count": 58,
     "metadata": {},
     "output_type": "execute_result"
    }
   ],
   "source": [
    "indice_2020.shape"
   ]
  },
  {
   "cell_type": "markdown",
   "metadata": {},
   "source": [
    "#### 2019"
   ]
  },
  {
   "cell_type": "markdown",
   "metadata": {},
   "source": [
    "### Calidad del aire"
   ]
  },
  {
   "cell_type": "code",
   "execution_count": 59,
   "metadata": {},
   "outputs": [
    {
     "data": {
      "text/html": [
       "<div>\n",
       "<style scoped>\n",
       "    .dataframe tbody tr th:only-of-type {\n",
       "        vertical-align: middle;\n",
       "    }\n",
       "\n",
       "    .dataframe tbody tr th {\n",
       "        vertical-align: top;\n",
       "    }\n",
       "\n",
       "    .dataframe thead th {\n",
       "        text-align: right;\n",
       "    }\n",
       "</style>\n",
       "<table border=\"1\" class=\"dataframe\">\n",
       "  <thead>\n",
       "    <tr style=\"text-align: right;\">\n",
       "      <th></th>\n",
       "      <th>fecha_actualizacion</th>\n",
       "      <th>alcaldia_municipio</th>\n",
       "      <th>indice</th>\n",
       "      <th>riesgo</th>\n",
       "      <th>recomendacion_uno</th>\n",
       "      <th>recomendacion_dos</th>\n",
       "      <th>recomendacion_tres</th>\n",
       "    </tr>\n",
       "  </thead>\n",
       "  <tbody>\n",
       "    <tr>\n",
       "      <th>0</th>\n",
       "      <td>2021-01-04 17:00:31</td>\n",
       "      <td>AZCAPOTZALCO</td>\n",
       "      <td>REGULAR</td>\n",
       "      <td>Aceptable</td>\n",
       "      <td>Puedes realizar actividades al aire libre</td>\n",
       "      <td>Puedes ejercitarte al aire libre</td>\n",
       "      <td>Personas extremadamente sensibles limitar acti...</td>\n",
       "    </tr>\n",
       "    <tr>\n",
       "      <th>1</th>\n",
       "      <td>2021-01-04 17:00:31</td>\n",
       "      <td>BENITO JUAREZ</td>\n",
       "      <td>REGULAR</td>\n",
       "      <td>Aceptable</td>\n",
       "      <td>Puedes realizar actividades al aire libre</td>\n",
       "      <td>Puedes ejercitarte al aire libre</td>\n",
       "      <td>Personas extremadamente sensibles limitar acti...</td>\n",
       "    </tr>\n",
       "    <tr>\n",
       "      <th>2</th>\n",
       "      <td>2021-01-04 17:00:31</td>\n",
       "      <td>COYOACAN</td>\n",
       "      <td>REGULAR</td>\n",
       "      <td>Aceptable</td>\n",
       "      <td>Puedes realizar actividades al aire libre</td>\n",
       "      <td>Puedes ejercitarte al aire libre</td>\n",
       "      <td>Personas extremadamente sensibles limitar acti...</td>\n",
       "    </tr>\n",
       "    <tr>\n",
       "      <th>3</th>\n",
       "      <td>2021-01-04 17:00:31</td>\n",
       "      <td>CUAJIMALPA DE MORELOS</td>\n",
       "      <td>REGULAR</td>\n",
       "      <td>Aceptable</td>\n",
       "      <td>Puedes realizar actividades al aire libre</td>\n",
       "      <td>Puedes ejercitarte al aire libre</td>\n",
       "      <td>Personas extremadamente sensibles limitar acti...</td>\n",
       "    </tr>\n",
       "    <tr>\n",
       "      <th>4</th>\n",
       "      <td>2021-01-04 17:00:31</td>\n",
       "      <td>CUAUHTEMOC</td>\n",
       "      <td>SIN COBERTURA</td>\n",
       "      <td>NaN</td>\n",
       "      <td>NaN</td>\n",
       "      <td>NaN</td>\n",
       "      <td>NaN</td>\n",
       "    </tr>\n",
       "  </tbody>\n",
       "</table>\n",
       "</div>"
      ],
      "text/plain": [
       "   fecha_actualizacion     alcaldia_municipio         indice     riesgo  \\\n",
       "0  2021-01-04 17:00:31           AZCAPOTZALCO        REGULAR  Aceptable   \n",
       "1  2021-01-04 17:00:31          BENITO JUAREZ        REGULAR  Aceptable   \n",
       "2  2021-01-04 17:00:31               COYOACAN        REGULAR  Aceptable   \n",
       "3  2021-01-04 17:00:31  CUAJIMALPA DE MORELOS        REGULAR  Aceptable   \n",
       "4  2021-01-04 17:00:31             CUAUHTEMOC  SIN COBERTURA        NaN   \n",
       "\n",
       "                           recomendacion_uno  \\\n",
       "0  Puedes realizar actividades al aire libre   \n",
       "1  Puedes realizar actividades al aire libre   \n",
       "2  Puedes realizar actividades al aire libre   \n",
       "3  Puedes realizar actividades al aire libre   \n",
       "4                                        NaN   \n",
       "\n",
       "                  recomendacion_dos  \\\n",
       "0  Puedes ejercitarte al aire libre   \n",
       "1  Puedes ejercitarte al aire libre   \n",
       "2  Puedes ejercitarte al aire libre   \n",
       "3  Puedes ejercitarte al aire libre   \n",
       "4                               NaN   \n",
       "\n",
       "                                  recomendacion_tres  \n",
       "0  Personas extremadamente sensibles limitar acti...  \n",
       "1  Personas extremadamente sensibles limitar acti...  \n",
       "2  Personas extremadamente sensibles limitar acti...  \n",
       "3  Personas extremadamente sensibles limitar acti...  \n",
       "4                                                NaN  "
      ]
     },
     "execution_count": 59,
     "metadata": {},
     "output_type": "execute_result"
    }
   ],
   "source": [
    "calidad_aire = pd.read_csv('https://github.com/JonathanMartignon/Data_CDMX_Un_Aire_No_Tan_Bueno/blob/main/Datos/prueba_datos_calidad_aire.csv?raw=True')\n",
    "calidad_aire.head()"
   ]
  },
  {
   "cell_type": "code",
   "execution_count": 60,
   "metadata": {},
   "outputs": [
    {
     "data": {
      "text/plain": [
       "(46, 7)"
      ]
     },
     "execution_count": 60,
     "metadata": {},
     "output_type": "execute_result"
    }
   ],
   "source": [
    "calidad_aire.shape"
   ]
  },
  {
   "cell_type": "code",
   "execution_count": 61,
   "metadata": {},
   "outputs": [
    {
     "data": {
      "text/plain": [
       "{'2021-01-04 17:00:31'}"
      ]
     },
     "execution_count": 61,
     "metadata": {},
     "output_type": "execute_result"
    }
   ],
   "source": [
    "set(calidad_aire['fecha_actualizacion'])"
   ]
  },
  {
   "cell_type": "code",
   "execution_count": 62,
   "metadata": {},
   "outputs": [
    {
     "data": {
      "text/plain": [
       "{'BUENA', 'REGULAR', 'SIN COBERTURA'}"
      ]
     },
     "execution_count": 62,
     "metadata": {},
     "output_type": "execute_result"
    }
   ],
   "source": [
    "set(calidad_aire['indice'])"
   ]
  },
  {
   "cell_type": "code",
   "execution_count": 63,
   "metadata": {},
   "outputs": [
    {
     "data": {
      "text/plain": [
       "{'Aceptable', 'Sin riesgo', nan}"
      ]
     },
     "execution_count": 63,
     "metadata": {},
     "output_type": "execute_result"
    }
   ],
   "source": [
    "set(calidad_aire['riesgo'])"
   ]
  },
  {
   "cell_type": "code",
   "execution_count": 64,
   "metadata": {},
   "outputs": [
    {
     "data": {
      "text/plain": [
       "{'Puedes realizar actividades al aire libre', nan}"
      ]
     },
     "execution_count": 64,
     "metadata": {},
     "output_type": "execute_result"
    }
   ],
   "source": [
    "set(calidad_aire['recomendacion_uno'])"
   ]
  },
  {
   "cell_type": "markdown",
   "metadata": {},
   "source": [
    "### Tiraderos clandestinos"
   ]
  },
  {
   "cell_type": "code",
   "execution_count": 65,
   "metadata": {},
   "outputs": [
    {
     "data": {
      "text/html": [
       "<div>\n",
       "<style scoped>\n",
       "    .dataframe tbody tr th:only-of-type {\n",
       "        vertical-align: middle;\n",
       "    }\n",
       "\n",
       "    .dataframe tbody tr th {\n",
       "        vertical-align: top;\n",
       "    }\n",
       "\n",
       "    .dataframe thead th {\n",
       "        text-align: right;\n",
       "    }\n",
       "</style>\n",
       "<table border=\"1\" class=\"dataframe\">\n",
       "  <thead>\n",
       "    <tr style=\"text-align: right;\">\n",
       "      <th></th>\n",
       "      <th>Column 1</th>\n",
       "      <th>FID_</th>\n",
       "      <th>id_sedema</th>\n",
       "      <th>no_alcaldi</th>\n",
       "      <th>alcaldia</th>\n",
       "      <th>direccion_</th>\n",
       "      <th>tipo_tirad</th>\n",
       "      <th>calle</th>\n",
       "      <th>no_ext</th>\n",
       "      <th>no_int</th>\n",
       "      <th>colonia</th>\n",
       "      <th>entre_que_</th>\n",
       "      <th>longitud</th>\n",
       "      <th>latitud</th>\n",
       "      <th>geo_point</th>\n",
       "    </tr>\n",
       "  </thead>\n",
       "  <tbody>\n",
       "    <tr>\n",
       "      <th>0</th>\n",
       "      <td>6</td>\n",
       "      <td>6</td>\n",
       "      <td>567</td>\n",
       "      <td>14</td>\n",
       "      <td>Benito Juarez</td>\n",
       "      <td>NaN</td>\n",
       "      <td>NaN</td>\n",
       "      <td>Municipio Libre Es2Quina Miraflores, Colonia P...</td>\n",
       "      <td>NaN</td>\n",
       "      <td>NaN</td>\n",
       "      <td>PORTALES ORIENTE</td>\n",
       "      <td>NaN</td>\n",
       "      <td>-99.139980</td>\n",
       "      <td>19.367720</td>\n",
       "      <td>19.36772,-99.13998</td>\n",
       "    </tr>\n",
       "    <tr>\n",
       "      <th>1</th>\n",
       "      <td>41</td>\n",
       "      <td>41</td>\n",
       "      <td>402</td>\n",
       "      <td>9</td>\n",
       "      <td>Milpa Alta</td>\n",
       "      <td>NaN</td>\n",
       "      <td>NaN</td>\n",
       "      <td>Av. Hifalgo Y 2Ç÷ Cjon De Independencia</td>\n",
       "      <td>NaN</td>\n",
       "      <td>NaN</td>\n",
       "      <td>SAN PEDRO ATOCPAN</td>\n",
       "      <td>NaN</td>\n",
       "      <td>-99.042876</td>\n",
       "      <td>19.203210</td>\n",
       "      <td>19.2032099,-99.0428762</td>\n",
       "    </tr>\n",
       "    <tr>\n",
       "      <th>2</th>\n",
       "      <td>78</td>\n",
       "      <td>78</td>\n",
       "      <td>508</td>\n",
       "      <td>11</td>\n",
       "      <td>Tlahuac</td>\n",
       "      <td>NaN</td>\n",
       "      <td>NaN</td>\n",
       "      <td>Angƒ??lica Paulet</td>\n",
       "      <td>NaN</td>\n",
       "      <td>NaN</td>\n",
       "      <td>LA NOPALERA</td>\n",
       "      <td>NaN</td>\n",
       "      <td>-99.055393</td>\n",
       "      <td>19.296997</td>\n",
       "      <td>19.296997,-99.055393</td>\n",
       "    </tr>\n",
       "    <tr>\n",
       "      <th>3</th>\n",
       "      <td>81</td>\n",
       "      <td>81</td>\n",
       "      <td>62</td>\n",
       "      <td>3</td>\n",
       "      <td>Coyoacan</td>\n",
       "      <td>NaN</td>\n",
       "      <td>NaN</td>\n",
       "      <td>Bodega De Barrido Manual Santa Cecilia</td>\n",
       "      <td>NaN</td>\n",
       "      <td>NaN</td>\n",
       "      <td>CTM SECCIÇÿN 10</td>\n",
       "      <td>NaN</td>\n",
       "      <td>-99.107160</td>\n",
       "      <td>19.300200</td>\n",
       "      <td>19.3002,-99.1071599</td>\n",
       "    </tr>\n",
       "    <tr>\n",
       "      <th>4</th>\n",
       "      <td>83</td>\n",
       "      <td>83</td>\n",
       "      <td>498</td>\n",
       "      <td>11</td>\n",
       "      <td>Tlahuac</td>\n",
       "      <td>NaN</td>\n",
       "      <td>NaN</td>\n",
       "      <td>Av. Tl¶ÿ¶Huac</td>\n",
       "      <td>NaN</td>\n",
       "      <td>NaN</td>\n",
       "      <td>LA NOPALERA</td>\n",
       "      <td>NaN</td>\n",
       "      <td>-99.054197</td>\n",
       "      <td>19.302147</td>\n",
       "      <td>19.302147,-99.054197</td>\n",
       "    </tr>\n",
       "  </tbody>\n",
       "</table>\n",
       "</div>"
      ],
      "text/plain": [
       "   Column 1  FID_  id_sedema  no_alcaldi       alcaldia  direccion_  \\\n",
       "0         6     6        567          14  Benito Juarez         NaN   \n",
       "1        41    41        402           9     Milpa Alta         NaN   \n",
       "2        78    78        508          11        Tlahuac         NaN   \n",
       "3        81    81         62           3       Coyoacan         NaN   \n",
       "4        83    83        498          11        Tlahuac         NaN   \n",
       "\n",
       "   tipo_tirad                                              calle  no_ext  \\\n",
       "0         NaN  Municipio Libre Es2Quina Miraflores, Colonia P...     NaN   \n",
       "1         NaN            Av. Hifalgo Y 2Ç÷ Cjon De Independencia     NaN   \n",
       "2         NaN                                  Angƒ??lica Paulet     NaN   \n",
       "3         NaN             Bodega De Barrido Manual Santa Cecilia     NaN   \n",
       "4         NaN                                     Av. Tl¶ÿ¶Huac     NaN   \n",
       "\n",
       "   no_int            colonia  entre_que_   longitud    latitud  \\\n",
       "0     NaN   PORTALES ORIENTE         NaN -99.139980  19.367720   \n",
       "1     NaN  SAN PEDRO ATOCPAN         NaN -99.042876  19.203210   \n",
       "2     NaN        LA NOPALERA         NaN -99.055393  19.296997   \n",
       "3     NaN    CTM SECCIÇÿN 10         NaN -99.107160  19.300200   \n",
       "4     NaN        LA NOPALERA         NaN -99.054197  19.302147   \n",
       "\n",
       "                geo_point  \n",
       "0      19.36772,-99.13998  \n",
       "1  19.2032099,-99.0428762  \n",
       "2    19.296997,-99.055393  \n",
       "3     19.3002,-99.1071599  \n",
       "4    19.302147,-99.054197  "
      ]
     },
     "execution_count": 65,
     "metadata": {},
     "output_type": "execute_result"
    }
   ],
   "source": [
    "tiraderos_clandestinos = pd.read_csv('https://github.com/JonathanMartignon/Data_CDMX_Un_Aire_No_Tan_Bueno/blob/main/Datos/tiraderos-clandestinos-al-cierre-de-2017.csv?raw=True')\n",
    "tiraderos_clandestinos.head()"
   ]
  },
  {
   "cell_type": "code",
   "execution_count": 66,
   "metadata": {},
   "outputs": [
    {
     "data": {
      "text/plain": [
       "Cuauhtemoc             274\n",
       "Iztapalapa             219\n",
       "Benito Juarez          147\n",
       "Venustiano Carranza    109\n",
       "Alvaro Obregon          77\n",
       "Miguel Hidalgo          69\n",
       "Coyoacan                68\n",
       "Iztacalco               47\n",
       "Azcapotzalco            47\n",
       "Tlahuac                 35\n",
       "Milpa Alta              13\n",
       "Xochimilco              12\n",
       "Magdalena Contreras      5\n",
       "Cuajimalpa               5\n",
       "Tlalpan                  2\n",
       "Name: alcaldia, dtype: int64"
      ]
     },
     "execution_count": 66,
     "metadata": {},
     "output_type": "execute_result"
    }
   ],
   "source": [
    "tiraderos_clandestinos['alcaldia'].value_counts()"
   ]
  },
  {
   "cell_type": "code",
   "execution_count": 67,
   "metadata": {},
   "outputs": [
    {
     "name": "stderr",
     "output_type": "stream",
     "text": [
      "/home/joiortega1/anaconda3/lib/python3.7/site-packages/seaborn/categorical.py:3666: UserWarning: The `factorplot` function has been renamed to `catplot`. The original name will be removed in a future release. Please update your code. Note that the default `kind` in `factorplot` (`'point'`) has changed `'strip'` in `catplot`.\n",
      "  warnings.warn(msg)\n"
     ]
    },
    {
     "data": {
      "text/plain": [
       "<seaborn.axisgrid.FacetGrid at 0x7fbe54ecac88>"
      ]
     },
     "execution_count": 67,
     "metadata": {},
     "output_type": "execute_result"
    },
    {
     "data": {
      "image/png": "[encoded data removed]",
      "text/plain": [
       "<Figure size 720x360 with 1 Axes>"
      ]
     },
     "metadata": {
      "needs_background": "light"
     },
     "output_type": "display_data"
    }
   ],
   "source": [
    "tiraderos_alcaldias = sns.factorplot(\"alcaldia\", data=tiraderos_clandestinos, \n",
    "                                     aspect=2, kind=\"count\", palette=\"GnBu\", \n",
    "                                     margin_titles=True)\n",
    "plt.title(\"Tiraderos por Alcaldia\")\n",
    "tiraderos_alcaldias.set_xticklabels(rotation=70) "
   ]
  },
  {
   "cell_type": "markdown",
   "metadata": {},
   "source": [
    "### Niveles de plomo en el aire"
   ]
  },
  {
   "cell_type": "code",
   "execution_count": 68,
   "metadata": {},
   "outputs": [
    {
     "data": {
      "text/html": [
       "<div>\n",
       "<style scoped>\n",
       "    .dataframe tbody tr th:only-of-type {\n",
       "        vertical-align: middle;\n",
       "    }\n",
       "\n",
       "    .dataframe tbody tr th {\n",
       "        vertical-align: top;\n",
       "    }\n",
       "\n",
       "    .dataframe thead th {\n",
       "        text-align: right;\n",
       "    }\n",
       "</style>\n",
       "<table border=\"1\" class=\"dataframe\">\n",
       "  <thead>\n",
       "    <tr style=\"text-align: right;\">\n",
       "      <th></th>\n",
       "      <th>Date</th>\n",
       "      <th>cve_station</th>\n",
       "      <th>cve_parameter</th>\n",
       "      <th>value</th>\n",
       "      <th>unit</th>\n",
       "    </tr>\n",
       "  </thead>\n",
       "  <tbody>\n",
       "    <tr>\n",
       "      <th>0</th>\n",
       "      <td>08/01/1989</td>\n",
       "      <td>CES</td>\n",
       "      <td>PbPST</td>\n",
       "      <td>1.55</td>\n",
       "      <td>2</td>\n",
       "    </tr>\n",
       "    <tr>\n",
       "      <th>1</th>\n",
       "      <td>08/01/1989</td>\n",
       "      <td>MER</td>\n",
       "      <td>PbPST</td>\n",
       "      <td>2.69</td>\n",
       "      <td>2</td>\n",
       "    </tr>\n",
       "    <tr>\n",
       "      <th>2</th>\n",
       "      <td>08/01/1989</td>\n",
       "      <td>PED</td>\n",
       "      <td>PbPST</td>\n",
       "      <td>0.87</td>\n",
       "      <td>2</td>\n",
       "    </tr>\n",
       "    <tr>\n",
       "      <th>3</th>\n",
       "      <td>08/01/1989</td>\n",
       "      <td>TLA</td>\n",
       "      <td>PbPST</td>\n",
       "      <td>1.41</td>\n",
       "      <td>2</td>\n",
       "    </tr>\n",
       "    <tr>\n",
       "      <th>4</th>\n",
       "      <td>08/01/1989</td>\n",
       "      <td>XAL</td>\n",
       "      <td>PbPST</td>\n",
       "      <td>3.17</td>\n",
       "      <td>2</td>\n",
       "    </tr>\n",
       "  </tbody>\n",
       "</table>\n",
       "</div>"
      ],
      "text/plain": [
       "         Date cve_station cve_parameter  value  unit\n",
       "0  08/01/1989         CES         PbPST   1.55     2\n",
       "1  08/01/1989         MER         PbPST   2.69     2\n",
       "2  08/01/1989         PED         PbPST   0.87     2\n",
       "3  08/01/1989         TLA         PbPST   1.41     2\n",
       "4  08/01/1989         XAL         PbPST   3.17     2"
      ]
     },
     "execution_count": 68,
     "metadata": {},
     "output_type": "execute_result"
    }
   ],
   "source": [
    "nivel_plomo = pd.read_csv('https://github.com/JonathanMartignon/Data_CDMX_Un_Aire_No_Tan_Bueno/blob/main/Datos/red_manual_plomo.csv?raw=True'\n",
    "                          ,skiprows=8)\n",
    "nivel_plomo.head()"
   ]
  },
  {
   "cell_type": "markdown",
   "metadata": {},
   "source": [
    "### Afluencia en Transporte público"
   ]
  },
  {
   "cell_type": "code",
   "execution_count": 69,
   "metadata": {},
   "outputs": [
    {
     "data": {
      "text/html": [
       "<div>\n",
       "<style scoped>\n",
       "    .dataframe tbody tr th:only-of-type {\n",
       "        vertical-align: middle;\n",
       "    }\n",
       "\n",
       "    .dataframe tbody tr th {\n",
       "        vertical-align: top;\n",
       "    }\n",
       "\n",
       "    .dataframe thead th {\n",
       "        text-align: right;\n",
       "    }\n",
       "</style>\n",
       "<table border=\"1\" class=\"dataframe\">\n",
       "  <thead>\n",
       "    <tr style=\"text-align: right;\">\n",
       "      <th></th>\n",
       "      <th>FECHA</th>\n",
       "      <th>DÍA MES</th>\n",
       "      <th>DÍA SEMANA</th>\n",
       "      <th>MES</th>\n",
       "      <th>AÑO</th>\n",
       "      <th>ORGANISMO</th>\n",
       "      <th>LINEA/SERVICIO</th>\n",
       "      <th>AFLUENCIA TARJETA</th>\n",
       "      <th>AFLUENCIA BOLETO</th>\n",
       "      <th>AFLUENCIA TOTAL\n",
       "(cifras preliminares)</th>\n",
       "    </tr>\n",
       "  </thead>\n",
       "  <tbody>\n",
       "    <tr>\n",
       "      <th>0</th>\n",
       "      <td>2020-03-01</td>\n",
       "      <td>1</td>\n",
       "      <td>Domingo</td>\n",
       "      <td>2020-03</td>\n",
       "      <td>2020</td>\n",
       "      <td>Ecobici</td>\n",
       "      <td>NaN</td>\n",
       "      <td>NaN</td>\n",
       "      <td>NaN</td>\n",
       "      <td>11238.0</td>\n",
       "    </tr>\n",
       "    <tr>\n",
       "      <th>1</th>\n",
       "      <td>2020-03-02</td>\n",
       "      <td>2</td>\n",
       "      <td>Lunes</td>\n",
       "      <td>2020-03</td>\n",
       "      <td>2020</td>\n",
       "      <td>Ecobici</td>\n",
       "      <td>NaN</td>\n",
       "      <td>NaN</td>\n",
       "      <td>NaN</td>\n",
       "      <td>29475.0</td>\n",
       "    </tr>\n",
       "    <tr>\n",
       "      <th>2</th>\n",
       "      <td>2020-03-04</td>\n",
       "      <td>4</td>\n",
       "      <td>Miércoles</td>\n",
       "      <td>2020-03</td>\n",
       "      <td>2020</td>\n",
       "      <td>Ecobici</td>\n",
       "      <td>NaN</td>\n",
       "      <td>NaN</td>\n",
       "      <td>NaN</td>\n",
       "      <td>31477.0</td>\n",
       "    </tr>\n",
       "    <tr>\n",
       "      <th>3</th>\n",
       "      <td>2020-03-05</td>\n",
       "      <td>5</td>\n",
       "      <td>Jueves</td>\n",
       "      <td>2020-03</td>\n",
       "      <td>2020</td>\n",
       "      <td>Ecobici</td>\n",
       "      <td>NaN</td>\n",
       "      <td>NaN</td>\n",
       "      <td>NaN</td>\n",
       "      <td>31493.0</td>\n",
       "    </tr>\n",
       "    <tr>\n",
       "      <th>4</th>\n",
       "      <td>2020-03-06</td>\n",
       "      <td>6</td>\n",
       "      <td>Viernes</td>\n",
       "      <td>2020-03</td>\n",
       "      <td>2020</td>\n",
       "      <td>Ecobici</td>\n",
       "      <td>NaN</td>\n",
       "      <td>NaN</td>\n",
       "      <td>NaN</td>\n",
       "      <td>29035.0</td>\n",
       "    </tr>\n",
       "  </tbody>\n",
       "</table>\n",
       "</div>"
      ],
      "text/plain": [
       "        FECHA  DÍA MES DÍA SEMANA      MES   AÑO ORGANISMO LINEA/SERVICIO  \\\n",
       "0  2020-03-01        1    Domingo  2020-03  2020   Ecobici            NaN   \n",
       "1  2020-03-02        2      Lunes  2020-03  2020   Ecobici            NaN   \n",
       "2  2020-03-04        4  Miércoles  2020-03  2020   Ecobici            NaN   \n",
       "3  2020-03-05        5     Jueves  2020-03  2020   Ecobici            NaN   \n",
       "4  2020-03-06        6    Viernes  2020-03  2020   Ecobici            NaN   \n",
       "\n",
       "   AFLUENCIA TARJETA  AFLUENCIA BOLETO  AFLUENCIA TOTAL\\n(cifras preliminares)  \n",
       "0                NaN               NaN                                 11238.0  \n",
       "1                NaN               NaN                                 29475.0  \n",
       "2                NaN               NaN                                 31477.0  \n",
       "3                NaN               NaN                                 31493.0  \n",
       "4                NaN               NaN                                 29035.0  "
      ]
     },
     "execution_count": 69,
     "metadata": {},
     "output_type": "execute_result"
    }
   ],
   "source": [
    "url = 'https://github.com/JonathanMartignon/Data_CDMX_Un_Aire_No_Tan_Bueno/blob/main/Datos/afluencia-preliminar-en-transporte-publico.csv?raw=true'\n",
    "afluencia_transport = pd.read_csv(url)\n",
    "afluencia_transport.head()"
   ]
  },
  {
   "cell_type": "markdown",
   "metadata": {},
   "source": [
    "### Escuelas por zona"
   ]
  },
  {
   "cell_type": "markdown",
   "metadata": {},
   "source": [
    "Escuelas públicas"
   ]
  },
  {
   "cell_type": "code",
   "execution_count": 70,
   "metadata": {},
   "outputs": [
    {
     "data": {
      "text/html": [
       "<div>\n",
       "<style scoped>\n",
       "    .dataframe tbody tr th:only-of-type {\n",
       "        vertical-align: middle;\n",
       "    }\n",
       "\n",
       "    .dataframe tbody tr th {\n",
       "        vertical-align: top;\n",
       "    }\n",
       "\n",
       "    .dataframe thead th {\n",
       "        text-align: right;\n",
       "    }\n",
       "</style>\n",
       "<table border=\"1\" class=\"dataframe\">\n",
       "  <thead>\n",
       "    <tr style=\"text-align: right;\">\n",
       "      <th></th>\n",
       "      <th>Nombre</th>\n",
       "      <th>Domicilio con nombre</th>\n",
       "      <th>Coordenadas</th>\n",
       "      <th>Latitud</th>\n",
       "      <th>Longitud</th>\n",
       "      <th>Geopoint</th>\n",
       "      <th>Domicilio</th>\n",
       "    </tr>\n",
       "  </thead>\n",
       "  <tbody>\n",
       "    <tr>\n",
       "      <th>0</th>\n",
       "      <td>TELESECUNDARIA 63</td>\n",
       "      <td>DOMICILIO: ADMON U HAB CAMPAÑA DEL EBANO Y C C...</td>\n",
       "      <td>-99.05424199980791,19.35316300009179,0</td>\n",
       "      <td>19.353163</td>\n",
       "      <td>-99.054242</td>\n",
       "      <td>19.3531630001,-99.0542419998</td>\n",
       "      <td>ADMON U HAB CAMPAÑA DEL EBANO Y C CELAYA S/N, ...</td>\n",
       "    </tr>\n",
       "    <tr>\n",
       "      <th>1</th>\n",
       "      <td>PREESCOLAR GENERAL CON SERVICIO ASISTENCIAL - ...</td>\n",
       "      <td>DOMICILIO: PLAYA FLAMINGOS NO 1, MILITAR MARTE...</td>\n",
       "      <td>-99.12558263181295,19.37922441798433,0</td>\n",
       "      <td>19.379224</td>\n",
       "      <td>-99.125583</td>\n",
       "      <td>19.379224418,-99.1255826318</td>\n",
       "      <td>PLAYA FLAMINGOS NO 1, MILITAR MARTE, DELEGACIO...</td>\n",
       "    </tr>\n",
       "    <tr>\n",
       "      <th>2</th>\n",
       "      <td>PREESCOLAR GENERAL - ESTADO DE ZACATECAS</td>\n",
       "      <td>DOMICILIO: CANAL DE SAN JUAN Y SUR 14 C, AGRIC...</td>\n",
       "      <td>-99.05933678879129,19.39268897307597,0</td>\n",
       "      <td>19.392689</td>\n",
       "      <td>-99.059337</td>\n",
       "      <td>19.3926889731,-99.0593367888</td>\n",
       "      <td>CANAL DE SAN JUAN Y SUR 14 C, AGRICOLA ORIENTA...</td>\n",
       "    </tr>\n",
       "    <tr>\n",
       "      <th>3</th>\n",
       "      <td>PRIMARIA GENERAL - PROFRA. AMANDA PALAFOX Y BAZ</td>\n",
       "      <td>DOMICILIO: MONTE ELBRUZ NO 15, LOS VOLCANES, D...</td>\n",
       "      <td>-99.17674771482122,19.2697621281349,0</td>\n",
       "      <td>19.269762</td>\n",
       "      <td>-99.176748</td>\n",
       "      <td>19.2697621281,-99.1767477148</td>\n",
       "      <td>MONTE ELBRUZ NO 15, LOS VOLCANES, DELEGACION T...</td>\n",
       "    </tr>\n",
       "    <tr>\n",
       "      <th>4</th>\n",
       "      <td>PRIMARIA GENERAL - VALENTIN ZAMORA OROZCO</td>\n",
       "      <td>DOMICILIO: RETORNO 33 Y 34 S/N, AVANTE, DELEGA...</td>\n",
       "      <td>-99.13093319192899,19.32847431855964,0</td>\n",
       "      <td>19.328474</td>\n",
       "      <td>-99.130933</td>\n",
       "      <td>19.3284743186,-99.1309331919</td>\n",
       "      <td>RETORNO 33 Y 34 S/N, AVANTE, DELEGACION COYOAC...</td>\n",
       "    </tr>\n",
       "  </tbody>\n",
       "</table>\n",
       "</div>"
      ],
      "text/plain": [
       "                                              Nombre  \\\n",
       "0                                  TELESECUNDARIA 63   \n",
       "1  PREESCOLAR GENERAL CON SERVICIO ASISTENCIAL - ...   \n",
       "2           PREESCOLAR GENERAL - ESTADO DE ZACATECAS   \n",
       "3    PRIMARIA GENERAL - PROFRA. AMANDA PALAFOX Y BAZ   \n",
       "4          PRIMARIA GENERAL - VALENTIN ZAMORA OROZCO   \n",
       "\n",
       "                                Domicilio con nombre  \\\n",
       "0  DOMICILIO: ADMON U HAB CAMPAÑA DEL EBANO Y C C...   \n",
       "1  DOMICILIO: PLAYA FLAMINGOS NO 1, MILITAR MARTE...   \n",
       "2  DOMICILIO: CANAL DE SAN JUAN Y SUR 14 C, AGRIC...   \n",
       "3  DOMICILIO: MONTE ELBRUZ NO 15, LOS VOLCANES, D...   \n",
       "4  DOMICILIO: RETORNO 33 Y 34 S/N, AVANTE, DELEGA...   \n",
       "\n",
       "                              Coordenadas    Latitud   Longitud  \\\n",
       "0  -99.05424199980791,19.35316300009179,0  19.353163 -99.054242   \n",
       "1  -99.12558263181295,19.37922441798433,0  19.379224 -99.125583   \n",
       "2  -99.05933678879129,19.39268897307597,0  19.392689 -99.059337   \n",
       "3   -99.17674771482122,19.2697621281349,0  19.269762 -99.176748   \n",
       "4  -99.13093319192899,19.32847431855964,0  19.328474 -99.130933   \n",
       "\n",
       "                       Geopoint  \\\n",
       "0  19.3531630001,-99.0542419998   \n",
       "1   19.379224418,-99.1255826318   \n",
       "2  19.3926889731,-99.0593367888   \n",
       "3  19.2697621281,-99.1767477148   \n",
       "4  19.3284743186,-99.1309331919   \n",
       "\n",
       "                                           Domicilio  \n",
       "0  ADMON U HAB CAMPAÑA DEL EBANO Y C CELAYA S/N, ...  \n",
       "1  PLAYA FLAMINGOS NO 1, MILITAR MARTE, DELEGACIO...  \n",
       "2  CANAL DE SAN JUAN Y SUR 14 C, AGRICOLA ORIENTA...  \n",
       "3  MONTE ELBRUZ NO 15, LOS VOLCANES, DELEGACION T...  \n",
       "4  RETORNO 33 Y 34 S/N, AVANTE, DELEGACION COYOAC...  "
      ]
     },
     "execution_count": 70,
     "metadata": {},
     "output_type": "execute_result"
    }
   ],
   "source": [
    "url = 'https://github.com/JonathanMartignon/Data_CDMX_Un_Aire_No_Tan_Bueno/blob/main/Datos/Escuelas/escuelas-publicas.csv?raw=true'\n",
    "escuelas_publicas = pd.read_csv(url)\n",
    "escuelas_publicas.head()"
   ]
  },
  {
   "cell_type": "code",
   "execution_count": 71,
   "metadata": {},
   "outputs": [
    {
     "data": {
      "text/plain": [
       "(2383, 7)"
      ]
     },
     "execution_count": 71,
     "metadata": {},
     "output_type": "execute_result"
    }
   ],
   "source": [
    "escuelas_publicas.shape"
   ]
  },
  {
   "cell_type": "code",
   "execution_count": 72,
   "metadata": {},
   "outputs": [],
   "source": [
    "delegacion = []\n",
    "for i in range(len(escuelas_publicas)):\n",
    "    if type(escuelas_publicas['Domicilio'][i]) != float:\n",
    "        deleg = escuelas_publicas['Domicilio'][i].split(\"DELEGACION\")\n",
    "        if len(deleg) > 1:\n",
    "            delegacion.append(deleg[1].split(',')[0])\n",
    "        else:\n",
    "            delegacion.append('NO DISPONIBLE')      \n",
    "    else:\n",
    "        delegacion.append('NO DISPONIBLE')"
   ]
  },
  {
   "cell_type": "code",
   "execution_count": 73,
   "metadata": {},
   "outputs": [],
   "source": [
    "escuelas_publicas['Delegacion'] = delegacion"
   ]
  },
  {
   "cell_type": "code",
   "execution_count": 81,
   "metadata": {},
   "outputs": [
    {
     "name": "stderr",
     "output_type": "stream",
     "text": [
      "/home/joiortega1/anaconda3/lib/python3.7/site-packages/seaborn/categorical.py:3666: UserWarning: The `factorplot` function has been renamed to `catplot`. The original name will be removed in a future release. Please update your code. Note that the default `kind` in `factorplot` (`'point'`) has changed `'strip'` in `catplot`.\n",
      "  warnings.warn(msg)\n"
     ]
    },
    {
     "data": {
      "text/plain": [
       "<seaborn.axisgrid.FacetGrid at 0x7fbe546d4400>"
      ]
     },
     "execution_count": 81,
     "metadata": {},
     "output_type": "execute_result"
    },
    {
     "data": {
      "image/png": "[encoded data removed]",
      "text/plain": [
       "<Figure size 720x360 with 1 Axes>"
      ]
     },
     "metadata": {
      "needs_background": "light"
     },
     "output_type": "display_data"
    }
   ],
   "source": [
    "escuelas_publicas_alcaldia = sns.factorplot(\"Delegacion\", data=escuelas_publicas, \n",
    "                                     aspect=2, kind=\"count\", palette=\"GnBu\", \n",
    "                                     margin_titles=True)\n",
    "plt.title(\"Escuelas Publicas por delegacion\")\n",
    "escuelas_publicas_alcaldia.set_xticklabels(rotation=70) "
   ]
  },
  {
   "cell_type": "markdown",
   "metadata": {},
   "source": [
    "Escuelas privadas"
   ]
  },
  {
   "cell_type": "code",
   "execution_count": 16,
   "metadata": {},
   "outputs": [
    {
     "data": {
      "text/html": [
       "<div>\n",
       "<style scoped>\n",
       "    .dataframe tbody tr th:only-of-type {\n",
       "        vertical-align: middle;\n",
       "    }\n",
       "\n",
       "    .dataframe tbody tr th {\n",
       "        vertical-align: top;\n",
       "    }\n",
       "\n",
       "    .dataframe thead th {\n",
       "        text-align: right;\n",
       "    }\n",
       "</style>\n",
       "<table border=\"1\" class=\"dataframe\">\n",
       "  <thead>\n",
       "    <tr style=\"text-align: right;\">\n",
       "      <th></th>\n",
       "      <th>NIVEL</th>\n",
       "      <th>NOMBRE</th>\n",
       "      <th>TURNO</th>\n",
       "      <th>DOMICILIO</th>\n",
       "      <th>COLONIA</th>\n",
       "      <th>ALCALDÍA</th>\n",
       "      <th>SOSTENIMIENTO</th>\n",
       "      <th>ubicacion</th>\n",
       "      <th>lat</th>\n",
       "      <th>lon</th>\n",
       "      <th>coordenadas</th>\n",
       "    </tr>\n",
       "  </thead>\n",
       "  <tbody>\n",
       "    <tr>\n",
       "      <th>0</th>\n",
       "      <td>INICIAL</td>\n",
       "      <td>CENDI PART SEDI LOMAS</td>\n",
       "      <td>MATUTINO</td>\n",
       "      <td>EXPLANADA NO. 305</td>\n",
       "      <td>LOMAS DE CHAPULTEPEC</td>\n",
       "      <td>MIGUEL HIDALGO</td>\n",
       "      <td>Particular</td>\n",
       "      <td>EXPLANADA NO. 305, LOMAS DE CHAPULTEPEC, MIGUE...</td>\n",
       "      <td>19.425154</td>\n",
       "      <td>-99.211154</td>\n",
       "      <td>19.4251542,-99.211154</td>\n",
       "    </tr>\n",
       "    <tr>\n",
       "      <th>1</th>\n",
       "      <td>INICIAL</td>\n",
       "      <td>ARMONIA INFANTIL</td>\n",
       "      <td>MATUTINO</td>\n",
       "      <td>AV. SINATEL No 38 MZ. 4 LT. 21</td>\n",
       "      <td>SINATEL AMPLIACION</td>\n",
       "      <td>IZTAPALAPA</td>\n",
       "      <td>Particular</td>\n",
       "      <td>AV. SINATEL No 38 MZ. 4 LT. 21, SINATEL AMPLIA...</td>\n",
       "      <td>19.364828</td>\n",
       "      <td>-99.131801</td>\n",
       "      <td>19.3648281,-99.1318013</td>\n",
       "    </tr>\n",
       "    <tr>\n",
       "      <th>2</th>\n",
       "      <td>INICIAL</td>\n",
       "      <td>CENDI PART. COLEGIO DE LAS BALEARES</td>\n",
       "      <td>TIEMPO COMPLETO</td>\n",
       "      <td>JOSEFA ORTIZ DE DOMINGUEZ NO 2</td>\n",
       "      <td>TIZAPAN</td>\n",
       "      <td>ALVARO OBREGON</td>\n",
       "      <td>Particular</td>\n",
       "      <td>JOSEFA ORTIZ DE DOMINGUEZ NO 2, TIZAPAN, ALVAR...</td>\n",
       "      <td>19.335167</td>\n",
       "      <td>-99.202637</td>\n",
       "      <td>19.3351668,-99.202637</td>\n",
       "    </tr>\n",
       "    <tr>\n",
       "      <th>3</th>\n",
       "      <td>INICIAL</td>\n",
       "      <td>CENDI PART COLEGIO CIBELES, S.C.</td>\n",
       "      <td>MATUTINO</td>\n",
       "      <td>RIO GRIJALVA NUM 27</td>\n",
       "      <td>CUAUHTEMOC</td>\n",
       "      <td>CUAUHTEMOC</td>\n",
       "      <td>Particular</td>\n",
       "      <td>RIO GRIJALVA NUM 27, CUAUHTEMOC, CUAUHTEMOC</td>\n",
       "      <td>19.433640</td>\n",
       "      <td>-99.170147</td>\n",
       "      <td>19.4336398,-99.1701471</td>\n",
       "    </tr>\n",
       "    <tr>\n",
       "      <th>4</th>\n",
       "      <td>INICIAL</td>\n",
       "      <td>CENTRO DE DESARROLLO INFANTIL KINDERGARDEN</td>\n",
       "      <td>TIEMPO COMPLETO</td>\n",
       "      <td>CALLE 11 DE ENERO DE 1861 NO. 2114</td>\n",
       "      <td>LEYES DE REFORMA</td>\n",
       "      <td>IZTAPALAPA</td>\n",
       "      <td>Particular</td>\n",
       "      <td>CALLE 11 DE ENERO DE 1861 NO. 2114, LEYES DE R...</td>\n",
       "      <td>19.382636</td>\n",
       "      <td>-99.066102</td>\n",
       "      <td>19.3826355,-99.0661015</td>\n",
       "    </tr>\n",
       "  </tbody>\n",
       "</table>\n",
       "</div>"
      ],
      "text/plain": [
       "     NIVEL                                      NOMBRE            TURNO  \\\n",
       "0  INICIAL                       CENDI PART SEDI LOMAS         MATUTINO   \n",
       "1  INICIAL                            ARMONIA INFANTIL         MATUTINO   \n",
       "2  INICIAL         CENDI PART. COLEGIO DE LAS BALEARES  TIEMPO COMPLETO   \n",
       "3  INICIAL            CENDI PART COLEGIO CIBELES, S.C.         MATUTINO   \n",
       "4  INICIAL  CENTRO DE DESARROLLO INFANTIL KINDERGARDEN  TIEMPO COMPLETO   \n",
       "\n",
       "                            DOMICILIO               COLONIA        ALCALDÍA  \\\n",
       "0                   EXPLANADA NO. 305  LOMAS DE CHAPULTEPEC  MIGUEL HIDALGO   \n",
       "1      AV. SINATEL No 38 MZ. 4 LT. 21    SINATEL AMPLIACION      IZTAPALAPA   \n",
       "2      JOSEFA ORTIZ DE DOMINGUEZ NO 2               TIZAPAN  ALVARO OBREGON   \n",
       "3                 RIO GRIJALVA NUM 27            CUAUHTEMOC      CUAUHTEMOC   \n",
       "4  CALLE 11 DE ENERO DE 1861 NO. 2114      LEYES DE REFORMA      IZTAPALAPA   \n",
       "\n",
       "  SOSTENIMIENTO                                          ubicacion        lat  \\\n",
       "0    Particular  EXPLANADA NO. 305, LOMAS DE CHAPULTEPEC, MIGUE...  19.425154   \n",
       "1    Particular  AV. SINATEL No 38 MZ. 4 LT. 21, SINATEL AMPLIA...  19.364828   \n",
       "2    Particular  JOSEFA ORTIZ DE DOMINGUEZ NO 2, TIZAPAN, ALVAR...  19.335167   \n",
       "3    Particular        RIO GRIJALVA NUM 27, CUAUHTEMOC, CUAUHTEMOC  19.433640   \n",
       "4    Particular  CALLE 11 DE ENERO DE 1861 NO. 2114, LEYES DE R...  19.382636   \n",
       "\n",
       "         lon             coordenadas  \n",
       "0 -99.211154   19.4251542,-99.211154  \n",
       "1 -99.131801  19.3648281,-99.1318013  \n",
       "2 -99.202637   19.3351668,-99.202637  \n",
       "3 -99.170147  19.4336398,-99.1701471  \n",
       "4 -99.066102  19.3826355,-99.0661015  "
      ]
     },
     "execution_count": 16,
     "metadata": {},
     "output_type": "execute_result"
    }
   ],
   "source": [
    "url = 'https://github.com/JonathanMartignon/Data_CDMX_Un_Aire_No_Tan_Bueno/blob/main/Datos/Escuelas/escuelas-privadas.csv?raw=true'\n",
    "escuelas_privadas = pd.read_csv(url)\n",
    "escuelas_privadas.head()"
   ]
  },
  {
   "cell_type": "code",
   "execution_count": 80,
   "metadata": {},
   "outputs": [
    {
     "name": "stderr",
     "output_type": "stream",
     "text": [
      "/home/joiortega1/anaconda3/lib/python3.7/site-packages/seaborn/categorical.py:3666: UserWarning: The `factorplot` function has been renamed to `catplot`. The original name will be removed in a future release. Please update your code. Note that the default `kind` in `factorplot` (`'point'`) has changed `'strip'` in `catplot`.\n",
      "  warnings.warn(msg)\n"
     ]
    },
    {
     "data": {
      "text/plain": [
       "<seaborn.axisgrid.FacetGrid at 0x7fbe547b64a8>"
      ]
     },
     "execution_count": 80,
     "metadata": {},
     "output_type": "execute_result"
    },
    {
     "data": {
      "image/png": "[encoded data removed]",
      "text/plain": [
       "<Figure size 720x360 with 1 Axes>"
      ]
     },
     "metadata": {
      "needs_background": "light"
     },
     "output_type": "display_data"
    }
   ],
   "source": [
    "escuelas_privadas_alcaldia = sns.factorplot(\"ALCALDÍA\", data=escuelas_privadas, \n",
    "                                     aspect=2, kind=\"count\", palette=\"GnBu\", \n",
    "                                     margin_titles=True)\n",
    "plt.title(\"Escuelas Publicas por delegacion\")\n",
    "escuelas_privadas_alcaldia.set_xticklabels(rotation=70) "
   ]
  },
  {
   "cell_type": "markdown",
   "metadata": {},
   "source": [
    "### Mercados públicos por zona"
   ]
  },
  {
   "cell_type": "code",
   "execution_count": 79,
   "metadata": {},
   "outputs": [
    {
     "data": {
      "text/html": [
       "<div>\n",
       "<style scoped>\n",
       "    .dataframe tbody tr th:only-of-type {\n",
       "        vertical-align: middle;\n",
       "    }\n",
       "\n",
       "    .dataframe tbody tr th {\n",
       "        vertical-align: top;\n",
       "    }\n",
       "\n",
       "    .dataframe thead th {\n",
       "        text-align: right;\n",
       "    }\n",
       "</style>\n",
       "<table border=\"1\" class=\"dataframe\">\n",
       "  <thead>\n",
       "    <tr style=\"text-align: right;\">\n",
       "      <th></th>\n",
       "      <th>numero</th>\n",
       "      <th>alcaldia</th>\n",
       "      <th>nombre mercado</th>\n",
       "      <th>numero oficial</th>\n",
       "      <th>numero de locales</th>\n",
       "      <th>latitud</th>\n",
       "      <th>longitud</th>\n",
       "      <th>coord</th>\n",
       "    </tr>\n",
       "  </thead>\n",
       "  <tbody>\n",
       "    <tr>\n",
       "      <th>0</th>\n",
       "      <td>21.0</td>\n",
       "      <td>AZCAPOTZALCO</td>\n",
       "      <td>COSMOPOLITA</td>\n",
       "      <td>138.0</td>\n",
       "      <td>135.0</td>\n",
       "      <td>19.475223</td>\n",
       "      <td>-99.161796</td>\n",
       "      <td>19.4752229147,-99.1617959999</td>\n",
       "    </tr>\n",
       "    <tr>\n",
       "      <th>1</th>\n",
       "      <td>35.0</td>\n",
       "      <td>AZCAPOTZALCO</td>\n",
       "      <td>VICTORIA DE LAS DEMOCRACIAS</td>\n",
       "      <td>141.0</td>\n",
       "      <td>177.0</td>\n",
       "      <td>19.467591</td>\n",
       "      <td>-99.163067</td>\n",
       "      <td>19.4675909147,-99.1630669999</td>\n",
       "    </tr>\n",
       "    <tr>\n",
       "      <th>2</th>\n",
       "      <td>26.0</td>\n",
       "      <td>AZCAPOTZALCO</td>\n",
       "      <td>OBRERO POPULAR</td>\n",
       "      <td>142.0</td>\n",
       "      <td>125.0</td>\n",
       "      <td>19.463233</td>\n",
       "      <td>-99.173568</td>\n",
       "      <td>19.4632329148,-99.1735679999</td>\n",
       "    </tr>\n",
       "    <tr>\n",
       "      <th>3</th>\n",
       "      <td>19.0</td>\n",
       "      <td>AZCAPOTZALCO</td>\n",
       "      <td>BENITO JUAREZ</td>\n",
       "      <td>167.0</td>\n",
       "      <td>123.0</td>\n",
       "      <td>19.475726</td>\n",
       "      <td>-99.176803</td>\n",
       "      <td>19.4757259147,-99.1768029999</td>\n",
       "    </tr>\n",
       "    <tr>\n",
       "      <th>4</th>\n",
       "      <td>70.0</td>\n",
       "      <td>COYOACAN</td>\n",
       "      <td>SANTA URSULA COAPA (PESCADITOS)</td>\n",
       "      <td>154.0</td>\n",
       "      <td>268.0</td>\n",
       "      <td>19.311774</td>\n",
       "      <td>-99.150337</td>\n",
       "      <td>19.3117739152,-99.1503369999</td>\n",
       "    </tr>\n",
       "  </tbody>\n",
       "</table>\n",
       "</div>"
      ],
      "text/plain": [
       "   numero      alcaldia                   nombre mercado  numero oficial  \\\n",
       "0    21.0  AZCAPOTZALCO                      COSMOPOLITA           138.0   \n",
       "1    35.0  AZCAPOTZALCO      VICTORIA DE LAS DEMOCRACIAS           141.0   \n",
       "2    26.0  AZCAPOTZALCO                   OBRERO POPULAR           142.0   \n",
       "3    19.0  AZCAPOTZALCO                    BENITO JUAREZ           167.0   \n",
       "4    70.0      COYOACAN  SANTA URSULA COAPA (PESCADITOS)           154.0   \n",
       "\n",
       "   numero de locales    latitud   longitud                         coord  \n",
       "0              135.0  19.475223 -99.161796  19.4752229147,-99.1617959999  \n",
       "1              177.0  19.467591 -99.163067  19.4675909147,-99.1630669999  \n",
       "2              125.0  19.463233 -99.173568  19.4632329148,-99.1735679999  \n",
       "3              123.0  19.475726 -99.176803  19.4757259147,-99.1768029999  \n",
       "4              268.0  19.311774 -99.150337  19.3117739152,-99.1503369999  "
      ]
     },
     "execution_count": 79,
     "metadata": {},
     "output_type": "execute_result"
    }
   ],
   "source": [
    "mercados = pd.read_csv('https://github.com/JonathanMartignon/Data_CDMX_Un_Aire_No_Tan_Bueno/blob/main/Datos/mercados-publicos.csv?raw=True')\n",
    "mercados.head()"
   ]
  },
  {
   "cell_type": "code",
   "execution_count": 82,
   "metadata": {},
   "outputs": [
    {
     "name": "stderr",
     "output_type": "stream",
     "text": [
      "/home/joiortega1/anaconda3/lib/python3.7/site-packages/seaborn/categorical.py:3666: UserWarning: The `factorplot` function has been renamed to `catplot`. The original name will be removed in a future release. Please update your code. Note that the default `kind` in `factorplot` (`'point'`) has changed `'strip'` in `catplot`.\n",
      "  warnings.warn(msg)\n"
     ]
    },
    {
     "data": {
      "text/plain": [
       "<seaborn.axisgrid.FacetGrid at 0x7fbe54665f98>"
      ]
     },
     "execution_count": 82,
     "metadata": {},
     "output_type": "execute_result"
    },
    {
     "data": {
      "image/png": "[encoded data removed]",
      "text/plain": [
       "<Figure size 720x360 with 1 Axes>"
      ]
     },
     "metadata": {
      "needs_background": "light"
     },
     "output_type": "display_data"
    }
   ],
   "source": [
    "mercados_alcaldias = sns.factorplot(\"alcaldia\", data=mercados, \n",
    "                                     aspect=2, kind=\"count\", palette=\"GnBu\", \n",
    "                                     margin_titles=True)\n",
    "plt.title(\"Mercados Públicos por delegacion\")\n",
    "mercados_alcaldias.set_xticklabels(rotation=70)"
   ]
  },
  {
   "cell_type": "markdown",
   "metadata": {},
   "source": [
    "### Indices de Parquímetros"
   ]
  },
  {
   "cell_type": "code",
   "execution_count": 83,
   "metadata": {},
   "outputs": [
    {
     "data": {
      "text/html": [
       "<div>\n",
       "<style scoped>\n",
       "    .dataframe tbody tr th:only-of-type {\n",
       "        vertical-align: middle;\n",
       "    }\n",
       "\n",
       "    .dataframe tbody tr th {\n",
       "        vertical-align: top;\n",
       "    }\n",
       "\n",
       "    .dataframe thead th {\n",
       "        text-align: right;\n",
       "    }\n",
       "</style>\n",
       "<table border=\"1\" class=\"dataframe\">\n",
       "  <thead>\n",
       "    <tr style=\"text-align: right;\">\n",
       "      <th></th>\n",
       "      <th>Alcaldía</th>\n",
       "      <th>Polígono</th>\n",
       "      <th>Colonia</th>\n",
       "      <th>Año</th>\n",
       "      <th>Mes</th>\n",
       "      <th>Ingreso por Estacionamiento en Vía Pública</th>\n",
       "      <th>Contraprestación 30%                                (F)</th>\n",
       "      <th>Ingreso por Retiro de Candado Inmovilizador</th>\n",
       "      <th>70% Inmovilizador           (H)</th>\n",
       "      <th>Pago al GCDMX       (F-H)</th>\n",
       "    </tr>\n",
       "  </thead>\n",
       "  <tbody>\n",
       "    <tr>\n",
       "      <th>0</th>\n",
       "      <td>Miguel Hidalgo</td>\n",
       "      <td>Polanco</td>\n",
       "      <td>Palmitas</td>\n",
       "      <td>2012</td>\n",
       "      <td>Febrero</td>\n",
       "      <td>204270.0</td>\n",
       "      <td>61281.0</td>\n",
       "      <td>0.0</td>\n",
       "      <td>0.0</td>\n",
       "      <td>61281.0</td>\n",
       "    </tr>\n",
       "    <tr>\n",
       "      <th>1</th>\n",
       "      <td>Miguel Hidalgo</td>\n",
       "      <td>Polanco</td>\n",
       "      <td>Los Morales</td>\n",
       "      <td>2012</td>\n",
       "      <td>Junio</td>\n",
       "      <td>464162.0</td>\n",
       "      <td>139248.6</td>\n",
       "      <td>0.0</td>\n",
       "      <td>0.0</td>\n",
       "      <td>139248.6</td>\n",
       "    </tr>\n",
       "    <tr>\n",
       "      <th>2</th>\n",
       "      <td>Miguel Hidalgo</td>\n",
       "      <td>Polanco</td>\n",
       "      <td>Rincón del Bosque</td>\n",
       "      <td>2012</td>\n",
       "      <td>Junio</td>\n",
       "      <td>99802.0</td>\n",
       "      <td>29940.6</td>\n",
       "      <td>0.0</td>\n",
       "      <td>0.0</td>\n",
       "      <td>29940.6</td>\n",
       "    </tr>\n",
       "    <tr>\n",
       "      <th>3</th>\n",
       "      <td>Miguel Hidalgo</td>\n",
       "      <td>Polanco</td>\n",
       "      <td>Morales Secc. Palmas</td>\n",
       "      <td>2012</td>\n",
       "      <td>Junio</td>\n",
       "      <td>337447.0</td>\n",
       "      <td>101234.1</td>\n",
       "      <td>0.0</td>\n",
       "      <td>0.0</td>\n",
       "      <td>101234.1</td>\n",
       "    </tr>\n",
       "    <tr>\n",
       "      <th>4</th>\n",
       "      <td>Miguel Hidalgo</td>\n",
       "      <td>Polanco</td>\n",
       "      <td>Polanco Reforma</td>\n",
       "      <td>2012</td>\n",
       "      <td>Julio</td>\n",
       "      <td>1133326.0</td>\n",
       "      <td>339997.8</td>\n",
       "      <td>0.0</td>\n",
       "      <td>0.0</td>\n",
       "      <td>339997.8</td>\n",
       "    </tr>\n",
       "  </tbody>\n",
       "</table>\n",
       "</div>"
      ],
      "text/plain": [
       "         Alcaldía Polígono               Colonia    Año      Mes  \\\n",
       "0  Miguel Hidalgo   Polanco              Palmitas  2012  Febrero   \n",
       "1  Miguel Hidalgo   Polanco           Los Morales  2012    Junio   \n",
       "2  Miguel Hidalgo   Polanco     Rincón del Bosque  2012    Junio   \n",
       "3  Miguel Hidalgo   Polanco  Morales Secc. Palmas  2012    Junio   \n",
       "4  Miguel Hidalgo   Polanco       Polanco Reforma  2012    Julio   \n",
       "\n",
       "   Ingreso por Estacionamiento en Vía Pública   \\\n",
       "0                                     204270.0   \n",
       "1                                     464162.0   \n",
       "2                                      99802.0   \n",
       "3                                     337447.0   \n",
       "4                                    1133326.0   \n",
       "\n",
       "   Contraprestación 30%                                (F)               \\\n",
       "0                                            61281.0                      \n",
       "1                                           139248.6                      \n",
       "2                                            29940.6                      \n",
       "3                                           101234.1                      \n",
       "4                                           339997.8                      \n",
       "\n",
       "   Ingreso por Retiro de Candado Inmovilizador  \\\n",
       "0                                          0.0   \n",
       "1                                          0.0   \n",
       "2                                          0.0   \n",
       "3                                          0.0   \n",
       "4                                          0.0   \n",
       "\n",
       "   70% Inmovilizador           (H)  Pago al GCDMX       (F-H)  \n",
       "0                              0.0                    61281.0  \n",
       "1                              0.0                   139248.6  \n",
       "2                              0.0                    29940.6  \n",
       "3                              0.0                   101234.1  \n",
       "4                              0.0                   339997.8  "
      ]
     },
     "execution_count": 83,
     "metadata": {},
     "output_type": "execute_result"
    }
   ],
   "source": [
    "parquimetros = pd.read_csv('https://github.com/JonathanMartignon/Data_CDMX_Un_Aire_No_Tan_Bueno/blob/main/Datos/prueba-parquimetros.csv?raw=True')\n",
    "parquimetros.head()"
   ]
  },
  {
   "cell_type": "code",
   "execution_count": 108,
   "metadata": {},
   "outputs": [],
   "source": [
    "#Por alguna razon no muestra\n",
    "#parquimetros[\"Colonia\"]"
   ]
  },
  {
   "cell_type": "code",
   "execution_count": 84,
   "metadata": {},
   "outputs": [
    {
     "name": "stderr",
     "output_type": "stream",
     "text": [
      "/home/joiortega1/anaconda3/lib/python3.7/site-packages/seaborn/categorical.py:3666: UserWarning: The `factorplot` function has been renamed to `catplot`. The original name will be removed in a future release. Please update your code. Note that the default `kind` in `factorplot` (`'point'`) has changed `'strip'` in `catplot`.\n",
      "  warnings.warn(msg)\n"
     ]
    },
    {
     "data": {
      "text/plain": [
       "<seaborn.axisgrid.FacetGrid at 0x7fbe545a2ba8>"
      ]
     },
     "execution_count": 84,
     "metadata": {},
     "output_type": "execute_result"
    },
    {
     "data": {
      "image/png": "[encoded data removed]",
      "text/plain": [
       "<Figure size 720x360 with 1 Axes>"
      ]
     },
     "metadata": {
      "needs_background": "light"
     },
     "output_type": "display_data"
    }
   ],
   "source": [
    "parquimetros_alcaldia = sns.factorplot(\"Alcaldía\", data=parquimetros, \n",
    "                                     aspect=2, kind=\"count\", palette=\"GnBu\", \n",
    "                                     margin_titles=True)\n",
    "plt.title(\"Parquimetros por Delegación\")\n",
    "parquimetros_alcaldia.set_xticklabels(rotation=70)"
   ]
  },
  {
   "cell_type": "markdown",
   "metadata": {},
   "source": [
    "### Areas Verdes CDMX"
   ]
  },
  {
   "cell_type": "code",
   "execution_count": 101,
   "metadata": {},
   "outputs": [
    {
     "data": {
      "text/html": [
       "<div>\n",
       "<style scoped>\n",
       "    .dataframe tbody tr th:only-of-type {\n",
       "        vertical-align: middle;\n",
       "    }\n",
       "\n",
       "    .dataframe tbody tr th {\n",
       "        vertical-align: top;\n",
       "    }\n",
       "\n",
       "    .dataframe thead th {\n",
       "        text-align: right;\n",
       "    }\n",
       "</style>\n",
       "<table border=\"1\" class=\"dataframe\">\n",
       "  <thead>\n",
       "    <tr style=\"text-align: right;\">\n",
       "      <th></th>\n",
       "      <th>Geo Point</th>\n",
       "      <th>Geo Shape</th>\n",
       "      <th>muerdago</th>\n",
       "      <th>p_sp_her_d</th>\n",
       "      <th>zonifica</th>\n",
       "      <th>subcat_sed</th>\n",
       "      <th>subcve_sed</th>\n",
       "      <th>p_manejo</th>\n",
       "      <th>tipo</th>\n",
       "      <th>p_sp_abs_d</th>\n",
       "      <th>...</th>\n",
       "      <th>p_sp_arb_d</th>\n",
       "      <th>p_herbaceo</th>\n",
       "      <th>p_sp_do_mu</th>\n",
       "      <th>p_arboreo</th>\n",
       "      <th>categoria_</th>\n",
       "      <th>superficie</th>\n",
       "      <th>e_urbano</th>\n",
       "      <th>perimetro</th>\n",
       "      <th>cve_sedema</th>\n",
       "      <th>responsabl</th>\n",
       "    </tr>\n",
       "  </thead>\n",
       "  <tbody>\n",
       "    <tr>\n",
       "      <th>0</th>\n",
       "      <td>19.4877568178,-99.2060645931</td>\n",
       "      <td>{\"type\": \"MultiPolygon\", \"coordinates\": [[[[-9...</td>\n",
       "      <td>Ausencia</td>\n",
       "      <td>NaN</td>\n",
       "      <td>NaN</td>\n",
       "      <td>Panteones</td>\n",
       "      <td>604.0</td>\n",
       "      <td>NaN</td>\n",
       "      <td>NaN</td>\n",
       "      <td>NaN</td>\n",
       "      <td>...</td>\n",
       "      <td>NaN</td>\n",
       "      <td>NaN</td>\n",
       "      <td>NaN</td>\n",
       "      <td>NaN</td>\n",
       "      <td>Equipamientos urbanos con vegetación</td>\n",
       "      <td>6660.027554</td>\n",
       "      <td>NaN</td>\n",
       "      <td>329.264738</td>\n",
       "      <td>600</td>\n",
       "      <td>NaN</td>\n",
       "    </tr>\n",
       "    <tr>\n",
       "      <th>1</th>\n",
       "      <td>19.3887689803,-99.116393168</td>\n",
       "      <td>{\"type\": \"MultiPolygon\", \"coordinates\": [[[[-9...</td>\n",
       "      <td>Ausencia</td>\n",
       "      <td>NaN</td>\n",
       "      <td>NaN</td>\n",
       "      <td>Deportivos</td>\n",
       "      <td>601.0</td>\n",
       "      <td>NaN</td>\n",
       "      <td>NaN</td>\n",
       "      <td>NaN</td>\n",
       "      <td>...</td>\n",
       "      <td>NaN</td>\n",
       "      <td>NaN</td>\n",
       "      <td>NaN</td>\n",
       "      <td>NaN</td>\n",
       "      <td>Equipamientos urbanos con vegetación</td>\n",
       "      <td>2917.257837</td>\n",
       "      <td>NaN</td>\n",
       "      <td>272.243614</td>\n",
       "      <td>600</td>\n",
       "      <td>NaN</td>\n",
       "    </tr>\n",
       "    <tr>\n",
       "      <th>2</th>\n",
       "      <td>19.3928871121,-99.0869912505</td>\n",
       "      <td>{\"type\": \"MultiPolygon\", \"coordinates\": [[[[-9...</td>\n",
       "      <td>Ausencia</td>\n",
       "      <td>NaN</td>\n",
       "      <td>NaN</td>\n",
       "      <td>Camellones centrales y laterales</td>\n",
       "      <td>203.0</td>\n",
       "      <td>NaN</td>\n",
       "      <td>NaN</td>\n",
       "      <td>NaN</td>\n",
       "      <td>...</td>\n",
       "      <td>NaN</td>\n",
       "      <td>NaN</td>\n",
       "      <td>NaN</td>\n",
       "      <td>NaN</td>\n",
       "      <td>Áreas verdes complementarias o ligadas a la re...</td>\n",
       "      <td>1086.305646</td>\n",
       "      <td>NaN</td>\n",
       "      <td>425.043656</td>\n",
       "      <td>200</td>\n",
       "      <td>NaN</td>\n",
       "    </tr>\n",
       "    <tr>\n",
       "      <th>3</th>\n",
       "      <td>19.383106069,-99.1073609486</td>\n",
       "      <td>{\"type\": \"MultiPolygon\", \"coordinates\": [[[[-9...</td>\n",
       "      <td>Ausencia</td>\n",
       "      <td>NaN</td>\n",
       "      <td>NaN</td>\n",
       "      <td>Unidades habitacionales</td>\n",
       "      <td>602.0</td>\n",
       "      <td>NaN</td>\n",
       "      <td>NaN</td>\n",
       "      <td>NaN</td>\n",
       "      <td>...</td>\n",
       "      <td>NaN</td>\n",
       "      <td>NaN</td>\n",
       "      <td>NaN</td>\n",
       "      <td>NaN</td>\n",
       "      <td>Equipamientos urbanos con vegetación</td>\n",
       "      <td>3605.704046</td>\n",
       "      <td>NaN</td>\n",
       "      <td>269.209436</td>\n",
       "      <td>600</td>\n",
       "      <td>NaN</td>\n",
       "    </tr>\n",
       "    <tr>\n",
       "      <th>4</th>\n",
       "      <td>19.3822134465,-99.1028423436</td>\n",
       "      <td>{\"type\": \"MultiPolygon\", \"coordinates\": [[[[-9...</td>\n",
       "      <td>Ausencia</td>\n",
       "      <td>NaN</td>\n",
       "      <td>NaN</td>\n",
       "      <td>Unidades habitacionales</td>\n",
       "      <td>602.0</td>\n",
       "      <td>NaN</td>\n",
       "      <td>NaN</td>\n",
       "      <td>NaN</td>\n",
       "      <td>...</td>\n",
       "      <td>NaN</td>\n",
       "      <td>NaN</td>\n",
       "      <td>NaN</td>\n",
       "      <td>NaN</td>\n",
       "      <td>Equipamientos urbanos con vegetación</td>\n",
       "      <td>19619.361577</td>\n",
       "      <td>NaN</td>\n",
       "      <td>798.409227</td>\n",
       "      <td>600</td>\n",
       "      <td>NaN</td>\n",
       "    </tr>\n",
       "  </tbody>\n",
       "</table>\n",
       "<p>5 rows × 28 columns</p>\n",
       "</div>"
      ],
      "text/plain": [
       "                      Geo Point  \\\n",
       "0  19.4877568178,-99.2060645931   \n",
       "1   19.3887689803,-99.116393168   \n",
       "2  19.3928871121,-99.0869912505   \n",
       "3   19.383106069,-99.1073609486   \n",
       "4  19.3822134465,-99.1028423436   \n",
       "\n",
       "                                           Geo Shape  muerdago  p_sp_her_d  \\\n",
       "0  {\"type\": \"MultiPolygon\", \"coordinates\": [[[[-9...  Ausencia         NaN   \n",
       "1  {\"type\": \"MultiPolygon\", \"coordinates\": [[[[-9...  Ausencia         NaN   \n",
       "2  {\"type\": \"MultiPolygon\", \"coordinates\": [[[[-9...  Ausencia         NaN   \n",
       "3  {\"type\": \"MultiPolygon\", \"coordinates\": [[[[-9...  Ausencia         NaN   \n",
       "4  {\"type\": \"MultiPolygon\", \"coordinates\": [[[[-9...  Ausencia         NaN   \n",
       "\n",
       "   zonifica                        subcat_sed  subcve_sed  p_manejo tipo  \\\n",
       "0       NaN                         Panteones       604.0       NaN  NaN   \n",
       "1       NaN                        Deportivos       601.0       NaN  NaN   \n",
       "2       NaN  Camellones centrales y laterales       203.0       NaN  NaN   \n",
       "3       NaN           Unidades habitacionales       602.0       NaN  NaN   \n",
       "4       NaN           Unidades habitacionales       602.0       NaN  NaN   \n",
       "\n",
       "   p_sp_abs_d  ...  p_sp_arb_d p_herbaceo  p_sp_do_mu  p_arboreo  \\\n",
       "0         NaN  ...         NaN        NaN         NaN        NaN   \n",
       "1         NaN  ...         NaN        NaN         NaN        NaN   \n",
       "2         NaN  ...         NaN        NaN         NaN        NaN   \n",
       "3         NaN  ...         NaN        NaN         NaN        NaN   \n",
       "4         NaN  ...         NaN        NaN         NaN        NaN   \n",
       "\n",
       "                                          categoria_    superficie e_urbano  \\\n",
       "0               Equipamientos urbanos con vegetación   6660.027554      NaN   \n",
       "1               Equipamientos urbanos con vegetación   2917.257837      NaN   \n",
       "2  Áreas verdes complementarias o ligadas a la re...   1086.305646      NaN   \n",
       "3               Equipamientos urbanos con vegetación   3605.704046      NaN   \n",
       "4               Equipamientos urbanos con vegetación  19619.361577      NaN   \n",
       "\n",
       "    perimetro cve_sedema  responsabl  \n",
       "0  329.264738        600         NaN  \n",
       "1  272.243614        600         NaN  \n",
       "2  425.043656        200         NaN  \n",
       "3  269.209436        600         NaN  \n",
       "4  798.409227        600         NaN  \n",
       "\n",
       "[5 rows x 28 columns]"
      ]
     },
     "execution_count": 101,
     "metadata": {},
     "output_type": "execute_result"
    }
   ],
   "source": [
    "url = 'https://github.com/JonathanMartignon/Data_CDMX_Un_Aire_No_Tan_Bueno/blob/main/Datos/cdmx_areas_verdes_2017.csv?raw=True'\n",
    "areas_verdes = pd.read_csv(url)\n",
    "areas_verdes.head()"
   ]
  },
  {
   "cell_type": "code",
   "execution_count": 106,
   "metadata": {},
   "outputs": [
    {
     "data": {
      "text/plain": [
       "Iztapalapa               2129\n",
       "Coyoacán                 1806\n",
       "Azcapotzalco              960\n",
       "Miguel Hidalgo            925\n",
       "Gustavo A. Madero         835\n",
       "Tlalpan                   735\n",
       "Álvaro Obregón            721\n",
       "Venustiano Carranza       634\n",
       "Tláhuac                   581\n",
       "Cuauhtémoc                567\n",
       "Benito Juárez             484\n",
       "Cuajimalpa de Morelos     448\n",
       "Iztacalco                 386\n",
       "Magdalena Contreras       202\n",
       "Xochimilco                196\n",
       "Milpa Alta                130\n",
       "Name: delegacion, dtype: int64"
      ]
     },
     "execution_count": 106,
     "metadata": {},
     "output_type": "execute_result"
    }
   ],
   "source": [
    "areas_verdes['delegacion'].value_counts()"
   ]
  },
  {
   "cell_type": "code",
   "execution_count": 107,
   "metadata": {},
   "outputs": [
    {
     "name": "stderr",
     "output_type": "stream",
     "text": [
      "/home/joiortega1/anaconda3/lib/python3.7/site-packages/seaborn/categorical.py:3666: UserWarning: The `factorplot` function has been renamed to `catplot`. The original name will be removed in a future release. Please update your code. Note that the default `kind` in `factorplot` (`'point'`) has changed `'strip'` in `catplot`.\n",
      "  warnings.warn(msg)\n"
     ]
    },
    {
     "data": {
      "text/plain": [
       "<seaborn.axisgrid.FacetGrid at 0x7fbe4d1b0898>"
      ]
     },
     "execution_count": 107,
     "metadata": {},
     "output_type": "execute_result"
    },
    {
     "data": {
      "image/png": "[encoded data removed]",
      "text/plain": [
       "<Figure size 720x360 with 1 Axes>"
      ]
     },
     "metadata": {
      "needs_background": "light"
     },
     "output_type": "display_data"
    }
   ],
   "source": [
    "areas_verdes_delegacion = sns.factorplot(\"delegacion\", data=areas_verdes, \n",
    "                                     aspect=2, kind=\"count\", palette=\"GnBu\", \n",
    "                                     margin_titles=True)\n",
    "plt.title(\"Parquimetros por Delegación\")\n",
    "areas_verdes_delegacion.set_xticklabels(rotation=70)"
   ]
  },
  {
   "cell_type": "code",
   "execution_count": 97,
   "metadata": {},
   "outputs": [
    {
     "data": {
      "text/plain": [
       "'{\"type\": \"MultiPolygon\", \"coordinates\": [[[[-99.11678804338746, 19.389035577395834], [-99.11637228211686, 19.388873052535505], [-99.11608502887533, 19.388823917112617], [-99.11590738542336, 19.388823917112617], [-99.11582801281715, 19.388816357816783], [-99.11585069070463, 19.38872942591474], [-99.11585447035255, 19.388650053308538], [-99.11585447035255, 19.388627375421056], [-99.11607746957951, 19.388623595773133], [-99.11682961951452, 19.388642494012707], [-99.11678804338746, 19.389035577395834]]]]}'"
      ]
     },
     "execution_count": 97,
     "metadata": {},
     "output_type": "execute_result"
    }
   ],
   "source": [
    "areas_verdes['Geo Shape'][1]"
   ]
  },
  {
   "cell_type": "code",
   "execution_count": 164,
   "metadata": {},
   "outputs": [
    {
     "data": {
      "text/html": [
       "<div>\n",
       "<style scoped>\n",
       "    .dataframe tbody tr th:only-of-type {\n",
       "        vertical-align: middle;\n",
       "    }\n",
       "\n",
       "    .dataframe tbody tr th {\n",
       "        vertical-align: top;\n",
       "    }\n",
       "\n",
       "    .dataframe thead th {\n",
       "        text-align: right;\n",
       "    }\n",
       "</style>\n",
       "<table border=\"1\" class=\"dataframe\">\n",
       "  <thead>\n",
       "    <tr style=\"text-align: right;\">\n",
       "      <th></th>\n",
       "      <th>muerdago</th>\n",
       "      <th>categoria</th>\n",
       "      <th>p_manejo</th>\n",
       "      <th>cve_sedema</th>\n",
       "      <th>subcat_sed</th>\n",
       "      <th>direccion</th>\n",
       "      <th>subcve_sed</th>\n",
       "      <th>gid</th>\n",
       "      <th>cve_delg</th>\n",
       "      <th>superficie</th>\n",
       "      <th>...</th>\n",
       "      <th>p_sp_her_d</th>\n",
       "      <th>p_herbaceo</th>\n",
       "      <th>p_sp_do_mu</th>\n",
       "      <th>p_sp_arb_d</th>\n",
       "      <th>p_sp_abs_d</th>\n",
       "      <th>p_arboreo</th>\n",
       "      <th>p_arbustiv</th>\n",
       "      <th>tipo</th>\n",
       "      <th>responsabl</th>\n",
       "      <th>geometry</th>\n",
       "    </tr>\n",
       "  </thead>\n",
       "  <tbody>\n",
       "    <tr>\n",
       "      <th>0</th>\n",
       "      <td>Ausencia</td>\n",
       "      <td>Áreas verdes complementarias o ligadas a la re...</td>\n",
       "      <td>NA</td>\n",
       "      <td>200</td>\n",
       "      <td>Camellones centrales y laterales</td>\n",
       "      <td>Joyas</td>\n",
       "      <td>203</td>\n",
       "      <td>427</td>\n",
       "      <td>7</td>\n",
       "      <td>524.826776485</td>\n",
       "      <td>...</td>\n",
       "      <td>None</td>\n",
       "      <td>None</td>\n",
       "      <td>None</td>\n",
       "      <td>None</td>\n",
       "      <td>None</td>\n",
       "      <td>None</td>\n",
       "      <td>None</td>\n",
       "      <td>None</td>\n",
       "      <td>None</td>\n",
       "      <td>MULTIPOLYGON (((-99.11039 19.47311, -99.11124 ...</td>\n",
       "    </tr>\n",
       "    <tr>\n",
       "      <th>1</th>\n",
       "      <td>Ausencia</td>\n",
       "      <td>Áreas verdes complementarias o ligadas a la re...</td>\n",
       "      <td>NA</td>\n",
       "      <td>200</td>\n",
       "      <td>Camellones centrales y laterales</td>\n",
       "      <td>Viena</td>\n",
       "      <td>203</td>\n",
       "      <td>1238</td>\n",
       "      <td>4</td>\n",
       "      <td>2986.22013973</td>\n",
       "      <td>...</td>\n",
       "      <td>None</td>\n",
       "      <td>None</td>\n",
       "      <td>None</td>\n",
       "      <td>None</td>\n",
       "      <td>None</td>\n",
       "      <td>None</td>\n",
       "      <td>None</td>\n",
       "      <td>None</td>\n",
       "      <td>None</td>\n",
       "      <td>MULTIPOLYGON (((-99.16022 19.35798, -99.15520 ...</td>\n",
       "    </tr>\n",
       "    <tr>\n",
       "      <th>2</th>\n",
       "      <td>Ausencia</td>\n",
       "      <td>Áreas verdes complementarias o ligadas a la re...</td>\n",
       "      <td>NA</td>\n",
       "      <td>200</td>\n",
       "      <td>Camellones centrales y laterales</td>\n",
       "      <td>Texcoco</td>\n",
       "      <td>203</td>\n",
       "      <td>463</td>\n",
       "      <td>7</td>\n",
       "      <td>7719.22948874</td>\n",
       "      <td>...</td>\n",
       "      <td>None</td>\n",
       "      <td>None</td>\n",
       "      <td>None</td>\n",
       "      <td>None</td>\n",
       "      <td>None</td>\n",
       "      <td>None</td>\n",
       "      <td>None</td>\n",
       "      <td>None</td>\n",
       "      <td>None</td>\n",
       "      <td>MULTIPOLYGON (((-99.06610 19.44710, -99.06525 ...</td>\n",
       "    </tr>\n",
       "    <tr>\n",
       "      <th>3</th>\n",
       "      <td>Ausencia</td>\n",
       "      <td>Parques, arboledas y alamedas</td>\n",
       "      <td>NA</td>\n",
       "      <td>400</td>\n",
       "      <td>Parques</td>\n",
       "      <td>Poniente 6</td>\n",
       "      <td>401</td>\n",
       "      <td>464</td>\n",
       "      <td>7</td>\n",
       "      <td>2301.03245939</td>\n",
       "      <td>...</td>\n",
       "      <td>None</td>\n",
       "      <td>None</td>\n",
       "      <td>None</td>\n",
       "      <td>None</td>\n",
       "      <td>None</td>\n",
       "      <td>None</td>\n",
       "      <td>None</td>\n",
       "      <td>None</td>\n",
       "      <td>None</td>\n",
       "      <td>MULTIPOLYGON (((-99.06236 19.44824, -99.06237 ...</td>\n",
       "    </tr>\n",
       "    <tr>\n",
       "      <th>4</th>\n",
       "      <td>Ausencia</td>\n",
       "      <td>Áreas verdes complementarias o ligadas a la re...</td>\n",
       "      <td>NA</td>\n",
       "      <td>200</td>\n",
       "      <td>Camellones centrales y laterales</td>\n",
       "      <td>Avenida 606</td>\n",
       "      <td>203</td>\n",
       "      <td>494</td>\n",
       "      <td>7</td>\n",
       "      <td>6799.59197474</td>\n",
       "      <td>...</td>\n",
       "      <td>None</td>\n",
       "      <td>None</td>\n",
       "      <td>None</td>\n",
       "      <td>None</td>\n",
       "      <td>None</td>\n",
       "      <td>None</td>\n",
       "      <td>None</td>\n",
       "      <td>None</td>\n",
       "      <td>None</td>\n",
       "      <td>MULTIPOLYGON (((-99.05681 19.45814, -99.05677 ...</td>\n",
       "    </tr>\n",
       "  </tbody>\n",
       "</table>\n",
       "<p>5 rows × 24 columns</p>\n",
       "</div>"
      ],
      "text/plain": [
       "   muerdago                                          categoria p_manejo  \\\n",
       "0  Ausencia  Áreas verdes complementarias o ligadas a la re...       NA   \n",
       "1  Ausencia  Áreas verdes complementarias o ligadas a la re...       NA   \n",
       "2  Ausencia  Áreas verdes complementarias o ligadas a la re...       NA   \n",
       "3  Ausencia                      Parques, arboledas y alamedas       NA   \n",
       "4  Ausencia  Áreas verdes complementarias o ligadas a la re...       NA   \n",
       "\n",
       "  cve_sedema                        subcat_sed    direccion subcve_sed   gid  \\\n",
       "0        200  Camellones centrales y laterales        Joyas        203   427   \n",
       "1        200  Camellones centrales y laterales        Viena        203  1238   \n",
       "2        200  Camellones centrales y laterales      Texcoco        203   463   \n",
       "3        400                           Parques   Poniente 6        401   464   \n",
       "4        200  Camellones centrales y laterales  Avenida 606        203   494   \n",
       "\n",
       "  cve_delg     superficie  ... p_sp_her_d p_herbaceo p_sp_do_mu p_sp_arb_d  \\\n",
       "0        7  524.826776485  ...       None       None       None       None   \n",
       "1        4  2986.22013973  ...       None       None       None       None   \n",
       "2        7  7719.22948874  ...       None       None       None       None   \n",
       "3        7  2301.03245939  ...       None       None       None       None   \n",
       "4        7  6799.59197474  ...       None       None       None       None   \n",
       "\n",
       "  p_sp_abs_d p_arboreo p_arbustiv  tipo responsabl  \\\n",
       "0       None      None       None  None       None   \n",
       "1       None      None       None  None       None   \n",
       "2       None      None       None  None       None   \n",
       "3       None      None       None  None       None   \n",
       "4       None      None       None  None       None   \n",
       "\n",
       "                                            geometry  \n",
       "0  MULTIPOLYGON (((-99.11039 19.47311, -99.11124 ...  \n",
       "1  MULTIPOLYGON (((-99.16022 19.35798, -99.15520 ...  \n",
       "2  MULTIPOLYGON (((-99.06610 19.44710, -99.06525 ...  \n",
       "3  MULTIPOLYGON (((-99.06236 19.44824, -99.06237 ...  \n",
       "4  MULTIPOLYGON (((-99.05681 19.45814, -99.05677 ...  \n",
       "\n",
       "[5 rows x 24 columns]"
      ]
     },
     "execution_count": 164,
     "metadata": {},
     "output_type": "execute_result"
    }
   ],
   "source": [
    "datos = \"https://github.com/JonathanMartignon/Data_CDMX_Un_Aire_No_Tan_Bueno/blob/main/Datos/cdmx_areas_verdes_2017.geojson?raw=True\"\n",
    "map_data = gpd.read_file(datos)\n",
    "map_data.head()"
   ]
  },
  {
   "cell_type": "code",
   "execution_count": 165,
   "metadata": {},
   "outputs": [
    {
     "data": {
      "text/plain": [
       "['muerdago',\n",
       " 'categoria',\n",
       " 'p_manejo',\n",
       " 'cve_sedema',\n",
       " 'subcat_sed',\n",
       " 'direccion',\n",
       " 'subcve_sed',\n",
       " 'gid',\n",
       " 'cve_delg',\n",
       " 'superficie',\n",
       " 'perimetro',\n",
       " 'delegacion',\n",
       " 'nombre',\n",
       " 'ubicacion',\n",
       " 'p_sp_her_d',\n",
       " 'p_herbaceo',\n",
       " 'p_sp_do_mu',\n",
       " 'p_sp_arb_d',\n",
       " 'p_sp_abs_d',\n",
       " 'p_arboreo',\n",
       " 'p_arbustiv',\n",
       " 'tipo',\n",
       " 'responsabl',\n",
       " 'geometry']"
      ]
     },
     "execution_count": 165,
     "metadata": {},
     "output_type": "execute_result"
    }
   ],
   "source": [
    "list(map_data)"
   ]
  },
  {
   "cell_type": "code",
   "execution_count": 166,
   "metadata": {},
   "outputs": [
    {
     "data": {
      "text/plain": [
       "0        MULTIPOLYGON (((-99.11039 19.47311, -99.11124 ...\n",
       "1        MULTIPOLYGON (((-99.16022 19.35798, -99.15520 ...\n",
       "2        MULTIPOLYGON (((-99.06610 19.44710, -99.06525 ...\n",
       "3        MULTIPOLYGON (((-99.06236 19.44824, -99.06237 ...\n",
       "4        MULTIPOLYGON (((-99.05681 19.45814, -99.05677 ...\n",
       "5        MULTIPOLYGON (((-99.13552 19.47262, -99.13533 ...\n",
       "6        MULTIPOLYGON (((-99.07732 19.45048, -99.07733 ...\n",
       "7        MULTIPOLYGON (((-98.99457 19.17286, -98.99453 ...\n",
       "8        MULTIPOLYGON (((-99.11612 19.32199, -99.11607 ...\n",
       "9        MULTIPOLYGON (((-99.14226 19.35296, -99.14259 ...\n",
       "10       MULTIPOLYGON (((-99.17867 19.33323, -99.17863 ...\n",
       "11       MULTIPOLYGON (((-99.11173 19.31105, -99.11245 ...\n",
       "12       MULTIPOLYGON (((-99.04699 19.29360, -99.04685 ...\n",
       "13       MULTIPOLYGON (((-99.13017 19.35815, -99.13016 ...\n",
       "14       MULTIPOLYGON (((-99.00361 19.26925, -99.00361 ...\n",
       "15       MULTIPOLYGON (((-99.17927 19.30749, -99.17868 ...\n",
       "16       MULTIPOLYGON (((-98.96637 19.31186, -98.96602 ...\n",
       "17       MULTIPOLYGON (((-99.10217 19.30605, -99.10208 ...\n",
       "18       MULTIPOLYGON (((-99.19335 19.30513, -99.19340 ...\n",
       "19       MULTIPOLYGON (((-99.02353 19.29823, -99.02336 ...\n",
       "20       MULTIPOLYGON (((-99.01468 19.29098, -99.01426 ...\n",
       "21       MULTIPOLYGON (((-99.18580 19.30335, -99.18582 ...\n",
       "22       MULTIPOLYGON (((-99.14416 19.35230, -99.14365 ...\n",
       "23       MULTIPOLYGON (((-99.00727 19.25107, -99.00738 ...\n",
       "24       MULTIPOLYGON (((-98.99794 19.24131, -98.99805 ...\n",
       "25       MULTIPOLYGON (((-99.00468 19.27017, -99.00440 ...\n",
       "26       MULTIPOLYGON (((-98.99606 19.27880, -98.99604 ...\n",
       "27       MULTIPOLYGON (((-99.08639 19.45738, -99.08633 ...\n",
       "28       MULTIPOLYGON (((-99.07990 19.46895, -99.07991 ...\n",
       "29       MULTIPOLYGON (((-99.18411 19.50820, -99.18382 ...\n",
       "                               ...                        \n",
       "11709    MULTIPOLYGON (((-99.07753 19.37372, -99.07787 ...\n",
       "11710    MULTIPOLYGON (((-99.10311 19.37166, -99.10312 ...\n",
       "11711    MULTIPOLYGON (((-99.05423 19.31152, -99.05429 ...\n",
       "11712    MULTIPOLYGON (((-99.00386 19.36332, -99.00381 ...\n",
       "11713    MULTIPOLYGON (((-99.06283 19.36226, -99.06186 ...\n",
       "11714    MULTIPOLYGON (((-99.02961 19.32926, -99.02954 ...\n",
       "11715    MULTIPOLYGON (((-99.06233 19.36816, -99.06201 ...\n",
       "11716    MULTIPOLYGON (((-99.06288 19.36903, -99.06287 ...\n",
       "11717    MULTIPOLYGON (((-99.06697 19.36267, -99.06699 ...\n",
       "11718    MULTIPOLYGON (((-99.02987 19.33053, -99.02990 ...\n",
       "11719    MULTIPOLYGON (((-99.06193 19.37011, -99.06184 ...\n",
       "11720    MULTIPOLYGON (((-99.07470 19.36890, -99.07469 ...\n",
       "11721    MULTIPOLYGON (((-99.02852 19.32569, -99.02862 ...\n",
       "11722    MULTIPOLYGON (((-99.08906 19.31533, -99.09014 ...\n",
       "11723    MULTIPOLYGON (((-99.03736 19.32109, -99.03706 ...\n",
       "11724    MULTIPOLYGON (((-99.12960 19.36435, -99.12936 ...\n",
       "11725    MULTIPOLYGON (((-99.12975 19.36416, -99.12934 ...\n",
       "11726    MULTIPOLYGON (((-99.02687 19.36201, -99.02668 ...\n",
       "11727                                                 None\n",
       "11728    MULTIPOLYGON (((-99.04931 19.36265, -99.04927 ...\n",
       "11729    MULTIPOLYGON (((-99.10101 19.35952, -99.10101 ...\n",
       "11730    MULTIPOLYGON (((-99.09478 19.37505, -99.09475 ...\n",
       "11731    MULTIPOLYGON (((-99.09418 19.37480, -99.09404 ...\n",
       "11732    MULTIPOLYGON (((-99.09045 19.37469, -99.09031 ...\n",
       "11733    MULTIPOLYGON (((-99.08169 19.37444, -99.08103 ...\n",
       "11734    MULTIPOLYGON (((-99.04645 19.34659, -99.04636 ...\n",
       "11735    MULTIPOLYGON (((-99.05379 19.36281, -99.05037 ...\n",
       "11736    MULTIPOLYGON (((-99.03455 19.37939, -99.03334 ...\n",
       "11737    MULTIPOLYGON (((-99.03372 19.34406, -99.03308 ...\n",
       "11738    MULTIPOLYGON (((-99.03351 19.34886, -99.03253 ...\n",
       "Name: geometry, Length: 11739, dtype: geometry"
      ]
     },
     "execution_count": 166,
     "metadata": {},
     "output_type": "execute_result"
    }
   ],
   "source": [
    "map_data['geometry']"
   ]
  },
  {
   "cell_type": "code",
   "execution_count": 167,
   "metadata": {},
   "outputs": [
    {
     "data": {
      "text/plain": [
       "Iztapalapa               2129\n",
       "Coyoacán                 1806\n",
       "Azcapotzalco              960\n",
       "Miguel Hidalgo            925\n",
       "Gustavo A. Madero         835\n",
       "Tlalpan                   735\n",
       "Álvaro Obregón            721\n",
       "Venustiano Carranza       634\n",
       "Tláhuac                   581\n",
       "Cuauhtémoc                567\n",
       "Benito Juárez             484\n",
       "Cuajimalpa de Morelos     448\n",
       "Iztacalco                 386\n",
       "Magdalena Contreras       202\n",
       "Xochimilco                196\n",
       "Milpa Alta                130\n",
       "Name: delegacion, dtype: int64"
      ]
     },
     "execution_count": 167,
     "metadata": {},
     "output_type": "execute_result"
    }
   ],
   "source": [
    "map_data['delegacion'].value_counts()"
   ]
  },
  {
   "cell_type": "code",
   "execution_count": 168,
   "metadata": {},
   "outputs": [],
   "source": [
    "areas_delegacion = map_data.loc[:, ['geometry', 'delegacion']]"
   ]
  },
  {
   "cell_type": "code",
   "execution_count": 169,
   "metadata": {},
   "outputs": [
    {
     "data": {
      "text/plain": [
       "<AxesSubplot:title={'center':'Areas Verdes CDMX'}>"
      ]
     },
     "execution_count": 169,
     "metadata": {},
     "output_type": "execute_result"
    },
    {
     "data": {
      "image/png": "[encoded data removed]",
      "text/plain": [
       "<Figure size 1080x720 with 1 Axes>"
      ]
     },
     "metadata": {
      "needs_background": "light"
     },
     "output_type": "display_data"
    }
   ],
   "source": [
    "fig, ax = plt.subplots(1,1, figsize=(15, 10))\n",
    "\n",
    "ax.set_title('Areas Verdes CDMX', \n",
    "             pad = 20, \n",
    "             fontdict={'fontsize':20, 'color': 'black'})\n",
    "\n",
    "\n",
    "divider = make_axes_locatable(ax)\n",
    "#cax = divider.append_axes(\"right\", size=\"5%\", pad=0.2)\n",
    "\n",
    "areas_delegacion.plot(column='delegacion', cmap='inferno', ax=ax, legend=False)\n",
    "#plt.savefig(\"mapa_calor.svg\", transparent=True)"
   ]
  },
  {
   "cell_type": "markdown",
   "metadata": {},
   "source": [
    "### Contador de ciclistas CDMX "
   ]
  },
  {
   "cell_type": "code",
   "execution_count": 135,
   "metadata": {},
   "outputs": [
    {
     "data": {
      "text/html": [
       "<div>\n",
       "<style scoped>\n",
       "    .dataframe tbody tr th:only-of-type {\n",
       "        vertical-align: middle;\n",
       "    }\n",
       "\n",
       "    .dataframe tbody tr th {\n",
       "        vertical-align: top;\n",
       "    }\n",
       "\n",
       "    .dataframe thead th {\n",
       "        text-align: right;\n",
       "    }\n",
       "</style>\n",
       "<table border=\"1\" class=\"dataframe\">\n",
       "  <thead>\n",
       "    <tr style=\"text-align: right;\">\n",
       "      <th></th>\n",
       "      <th>Día de la semana</th>\n",
       "      <th>Día</th>\n",
       "      <th>Mes</th>\n",
       "      <th>Año</th>\n",
       "      <th>Contador Ruta Reforma222</th>\n",
       "      <th>Contador Ruta Revolución</th>\n",
       "      <th>Contador Ruta Patriotismo</th>\n",
       "    </tr>\n",
       "  </thead>\n",
       "  <tbody>\n",
       "    <tr>\n",
       "      <th>0</th>\n",
       "      <td>jueves</td>\n",
       "      <td>5</td>\n",
       "      <td>diciembre</td>\n",
       "      <td>2013</td>\n",
       "      <td>2516.0</td>\n",
       "      <td>NaN</td>\n",
       "      <td>NaN</td>\n",
       "    </tr>\n",
       "    <tr>\n",
       "      <th>1</th>\n",
       "      <td>lunes</td>\n",
       "      <td>9</td>\n",
       "      <td>diciembre</td>\n",
       "      <td>2013</td>\n",
       "      <td>2132.0</td>\n",
       "      <td>NaN</td>\n",
       "      <td>NaN</td>\n",
       "    </tr>\n",
       "    <tr>\n",
       "      <th>2</th>\n",
       "      <td>viernes</td>\n",
       "      <td>22</td>\n",
       "      <td>junio</td>\n",
       "      <td>2018</td>\n",
       "      <td>2913.0</td>\n",
       "      <td>980.0</td>\n",
       "      <td>1163.0</td>\n",
       "    </tr>\n",
       "    <tr>\n",
       "      <th>3</th>\n",
       "      <td>martes</td>\n",
       "      <td>10</td>\n",
       "      <td>julio</td>\n",
       "      <td>2018</td>\n",
       "      <td>2531.0</td>\n",
       "      <td>877.0</td>\n",
       "      <td>1013.0</td>\n",
       "    </tr>\n",
       "    <tr>\n",
       "      <th>4</th>\n",
       "      <td>sábado</td>\n",
       "      <td>7</td>\n",
       "      <td>julio</td>\n",
       "      <td>2018</td>\n",
       "      <td>1534.0</td>\n",
       "      <td>616.0</td>\n",
       "      <td>584.0</td>\n",
       "    </tr>\n",
       "  </tbody>\n",
       "</table>\n",
       "</div>"
      ],
      "text/plain": [
       "  Día de la semana  Día        Mes   Año  Contador Ruta Reforma222  \\\n",
       "0           jueves    5  diciembre  2013                    2516.0   \n",
       "1            lunes    9  diciembre  2013                    2132.0   \n",
       "2          viernes   22      junio  2018                    2913.0   \n",
       "3           martes   10      julio  2018                    2531.0   \n",
       "4           sábado    7      julio  2018                    1534.0   \n",
       "\n",
       "   Contador Ruta Revolución  Contador Ruta Patriotismo  \n",
       "0                       NaN                        NaN  \n",
       "1                       NaN                        NaN  \n",
       "2                     980.0                     1163.0  \n",
       "3                     877.0                     1013.0  \n",
       "4                     616.0                      584.0  "
      ]
     },
     "execution_count": 135,
     "metadata": {},
     "output_type": "execute_result"
    }
   ],
   "source": [
    "ciclistas = pd.read_csv('https://github.com/JonathanMartignon/Data_CDMX_Un_Aire_No_Tan_Bueno/blob/main/Datos/contador-ciclistas.csv?raw=True')\n",
    "ciclistas.head()"
   ]
  },
  {
   "cell_type": "code",
   "execution_count": 137,
   "metadata": {},
   "outputs": [
    {
     "data": {
      "text/plain": [
       "2016    366\n",
       "2017    365\n",
       "2015    365\n",
       "2014    365\n",
       "2018    351\n",
       "2020    304\n",
       "2019    273\n",
       "2013     46\n",
       "Name: Año, dtype: int64"
      ]
     },
     "execution_count": 137,
     "metadata": {},
     "output_type": "execute_result"
    }
   ],
   "source": [
    "ciclistas['Año'].value_counts()"
   ]
  },
  {
   "cell_type": "code",
   "execution_count": 141,
   "metadata": {},
   "outputs": [
    {
     "data": {
      "text/html": [
       "<div>\n",
       "<style scoped>\n",
       "    .dataframe tbody tr th:only-of-type {\n",
       "        vertical-align: middle;\n",
       "    }\n",
       "\n",
       "    .dataframe tbody tr th {\n",
       "        vertical-align: top;\n",
       "    }\n",
       "\n",
       "    .dataframe thead th {\n",
       "        text-align: right;\n",
       "    }\n",
       "</style>\n",
       "<table border=\"1\" class=\"dataframe\">\n",
       "  <thead>\n",
       "    <tr style=\"text-align: right;\">\n",
       "      <th></th>\n",
       "      <th>Día de la semana</th>\n",
       "      <th>Día</th>\n",
       "      <th>Mes</th>\n",
       "      <th>Año</th>\n",
       "      <th>Contador Ruta Reforma222</th>\n",
       "      <th>Contador Ruta Revolución</th>\n",
       "      <th>Contador Ruta Patriotismo</th>\n",
       "    </tr>\n",
       "  </thead>\n",
       "  <tbody>\n",
       "    <tr>\n",
       "      <th>2131</th>\n",
       "      <td>sabado</td>\n",
       "      <td>1</td>\n",
       "      <td>febrero</td>\n",
       "      <td>2020</td>\n",
       "      <td>1890.0</td>\n",
       "      <td>124.0</td>\n",
       "      <td>648.0</td>\n",
       "    </tr>\n",
       "    <tr>\n",
       "      <th>2132</th>\n",
       "      <td>viernes</td>\n",
       "      <td>7</td>\n",
       "      <td>febrero</td>\n",
       "      <td>2020</td>\n",
       "      <td>3778.0</td>\n",
       "      <td>226.0</td>\n",
       "      <td>1347.0</td>\n",
       "    </tr>\n",
       "    <tr>\n",
       "      <th>2133</th>\n",
       "      <td>sábado</td>\n",
       "      <td>15</td>\n",
       "      <td>febrero</td>\n",
       "      <td>2020</td>\n",
       "      <td>1939.0</td>\n",
       "      <td>153.0</td>\n",
       "      <td>677.0</td>\n",
       "    </tr>\n",
       "    <tr>\n",
       "      <th>2134</th>\n",
       "      <td>lunes</td>\n",
       "      <td>17</td>\n",
       "      <td>febrero</td>\n",
       "      <td>2020</td>\n",
       "      <td>3575.0</td>\n",
       "      <td>289.0</td>\n",
       "      <td>1284.0</td>\n",
       "    </tr>\n",
       "    <tr>\n",
       "      <th>2135</th>\n",
       "      <td>miércoles</td>\n",
       "      <td>19</td>\n",
       "      <td>febrero</td>\n",
       "      <td>2020</td>\n",
       "      <td>4058.0</td>\n",
       "      <td>287.0</td>\n",
       "      <td>1447.0</td>\n",
       "    </tr>\n",
       "  </tbody>\n",
       "</table>\n",
       "</div>"
      ],
      "text/plain": [
       "     Día de la semana  Día      Mes   Año  Contador Ruta Reforma222  \\\n",
       "2131           sabado    1  febrero  2020                    1890.0   \n",
       "2132          viernes    7  febrero  2020                    3778.0   \n",
       "2133           sábado   15  febrero  2020                    1939.0   \n",
       "2134            lunes   17  febrero  2020                    3575.0   \n",
       "2135        miércoles   19  febrero  2020                    4058.0   \n",
       "\n",
       "      Contador Ruta Revolución  Contador Ruta Patriotismo  \n",
       "2131                     124.0                      648.0  \n",
       "2132                     226.0                     1347.0  \n",
       "2133                     153.0                      677.0  \n",
       "2134                     289.0                     1284.0  \n",
       "2135                     287.0                     1447.0  "
      ]
     },
     "execution_count": 141,
     "metadata": {},
     "output_type": "execute_result"
    }
   ],
   "source": [
    "ciclistas_2020 = ciclistas[ciclistas[\"Año\"] == 2020]\n",
    "ciclistas_2020.head()"
   ]
  },
  {
   "cell_type": "code",
   "execution_count": 150,
   "metadata": {},
   "outputs": [
    {
     "data": {
      "text/html": [
       "<div>\n",
       "<style scoped>\n",
       "    .dataframe tbody tr th:only-of-type {\n",
       "        vertical-align: middle;\n",
       "    }\n",
       "\n",
       "    .dataframe tbody tr th {\n",
       "        vertical-align: top;\n",
       "    }\n",
       "\n",
       "    .dataframe thead th {\n",
       "        text-align: right;\n",
       "    }\n",
       "</style>\n",
       "<table border=\"1\" class=\"dataframe\">\n",
       "  <thead>\n",
       "    <tr style=\"text-align: right;\">\n",
       "      <th></th>\n",
       "      <th>Día de la semana</th>\n",
       "      <th>Día</th>\n",
       "      <th>Mes</th>\n",
       "      <th>Año</th>\n",
       "      <th>Contador Ruta Reforma222</th>\n",
       "      <th>Contador Ruta Revolución</th>\n",
       "      <th>Contador Ruta Patriotismo</th>\n",
       "    </tr>\n",
       "  </thead>\n",
       "  <tbody>\n",
       "    <tr>\n",
       "      <th>8</th>\n",
       "      <td>martes</td>\n",
       "      <td>28</td>\n",
       "      <td>mayo</td>\n",
       "      <td>2019</td>\n",
       "      <td>4015.0</td>\n",
       "      <td>1125.0</td>\n",
       "      <td>1416.0</td>\n",
       "    </tr>\n",
       "    <tr>\n",
       "      <th>37</th>\n",
       "      <td>viernes</td>\n",
       "      <td>4</td>\n",
       "      <td>enero</td>\n",
       "      <td>2019</td>\n",
       "      <td>3133.0</td>\n",
       "      <td>662.0</td>\n",
       "      <td>846.0</td>\n",
       "    </tr>\n",
       "    <tr>\n",
       "      <th>123</th>\n",
       "      <td>viernes</td>\n",
       "      <td>3</td>\n",
       "      <td>mayo</td>\n",
       "      <td>2019</td>\n",
       "      <td>3821.0</td>\n",
       "      <td>1079.0</td>\n",
       "      <td>1261.0</td>\n",
       "    </tr>\n",
       "    <tr>\n",
       "      <th>124</th>\n",
       "      <td>domingo</td>\n",
       "      <td>10</td>\n",
       "      <td>febrero</td>\n",
       "      <td>2019</td>\n",
       "      <td>2131.0</td>\n",
       "      <td>655.0</td>\n",
       "      <td>651.0</td>\n",
       "    </tr>\n",
       "    <tr>\n",
       "      <th>125</th>\n",
       "      <td>domingo</td>\n",
       "      <td>3</td>\n",
       "      <td>febrero</td>\n",
       "      <td>2019</td>\n",
       "      <td>1909.0</td>\n",
       "      <td>337.0</td>\n",
       "      <td>566.0</td>\n",
       "    </tr>\n",
       "  </tbody>\n",
       "</table>\n",
       "</div>"
      ],
      "text/plain": [
       "    Día de la semana  Día      Mes   Año  Contador Ruta Reforma222  \\\n",
       "8             martes   28     mayo  2019                    4015.0   \n",
       "37           viernes    4    enero  2019                    3133.0   \n",
       "123          viernes    3     mayo  2019                    3821.0   \n",
       "124          domingo   10  febrero  2019                    2131.0   \n",
       "125          domingo    3  febrero  2019                    1909.0   \n",
       "\n",
       "     Contador Ruta Revolución  Contador Ruta Patriotismo  \n",
       "8                      1125.0                     1416.0  \n",
       "37                      662.0                      846.0  \n",
       "123                    1079.0                     1261.0  \n",
       "124                     655.0                      651.0  \n",
       "125                     337.0                      566.0  "
      ]
     },
     "execution_count": 150,
     "metadata": {},
     "output_type": "execute_result"
    }
   ],
   "source": [
    "ciclistas_2019 = ciclistas[ciclistas[\"Año\"] == 2019]\n",
    "ciclistas_2019.head()"
   ]
  },
  {
   "cell_type": "code",
   "execution_count": 159,
   "metadata": {},
   "outputs": [],
   "source": [
    "ciclistas_2020_mes = ciclistas_2020[[\"Mes\", \"Contador Ruta Reforma222\",\n",
    "                \"Contador Ruta Revolución\", \n",
    "                \"Contador Ruta Patriotismo\"]].groupby(['Mes']).sum()"
   ]
  },
  {
   "cell_type": "code",
   "execution_count": 160,
   "metadata": {},
   "outputs": [],
   "source": [
    "ciclistas_2019_mes = ciclistas_2019[[\"Mes\", \"Contador Ruta Reforma222\",\n",
    "                \"Contador Ruta Revolución\", \n",
    "                \"Contador Ruta Patriotismo\"]].groupby(['Mes']).sum()"
   ]
  },
  {
   "cell_type": "code",
   "execution_count": 162,
   "metadata": {},
   "outputs": [
    {
     "data": {
      "text/plain": [
       "<matplotlib.legend.Legend at 0x7fbe4ba5d9e8>"
      ]
     },
     "execution_count": 162,
     "metadata": {},
     "output_type": "execute_result"
    },
    {
     "data": {
      "image/png": "[encoded data removed]",
      "text/plain": [
       "<Figure size 720x504 with 1 Axes>"
      ]
     },
     "metadata": {
      "needs_background": "light"
     },
     "output_type": "display_data"
    }
   ],
   "source": [
    "plt.figure(figsize=(10,7))\n",
    "plt.plot(ciclistas_2020_mes[\"Contador Ruta Reforma222\"], label = 'Ruta Reforma')\n",
    "plt.plot(ciclistas_2020_mes[\"Contador Ruta Revolución\"], label = 'Ruta Revolución')\n",
    "plt.plot(ciclistas_2020_mes[\"Contador Ruta Patriotismo\"], label = 'Ruta Patriotismo')\n",
    "plt.title(\"Ciclistas por ruta año 2020\")\n",
    "plt.legend()"
   ]
  },
  {
   "cell_type": "code",
   "execution_count": 163,
   "metadata": {},
   "outputs": [
    {
     "data": {
      "text/plain": [
       "<matplotlib.legend.Legend at 0x7fbe4b8f7e10>"
      ]
     },
     "execution_count": 163,
     "metadata": {},
     "output_type": "execute_result"
    },
    {
     "data": {
      "image/png": "[encoded data removed]",
      "text/plain": [
       "<Figure size 720x504 with 1 Axes>"
      ]
     },
     "metadata": {
      "needs_background": "light"
     },
     "output_type": "display_data"
    }
   ],
   "source": [
    "plt.figure(figsize=(10,7))\n",
    "plt.plot(ciclistas_2019_mes[\"Contador Ruta Reforma222\"], label = 'Ruta Reforma')\n",
    "plt.plot(ciclistas_2019_mes[\"Contador Ruta Revolución\"], label = 'Ruta Revolución')\n",
    "plt.plot(ciclistas_2019_mes[\"Contador Ruta Patriotismo\"], label = 'Ruta Patriotismo')\n",
    "plt.title(\"Ciclistas por ruta año 2019\")\n",
    "plt.legend()"
   ]
  },
  {
   "cell_type": "markdown",
   "metadata": {},
   "source": [
    "Podemos observar que la ruta que predomina es la ruta de reforma la cual abarca las delegaciones **Cuauhtémoc y Miguel Hidalgo**"
   ]
  }
 ],
 "metadata": {
  "kernelspec": {
   "display_name": "Python 3",
   "language": "python",
   "name": "python3"
  },
  "language_info": {
   "codemirror_mode": {
    "name": "ipython",
    "version": 3
   },
   "file_extension": ".py",
   "mimetype": "text/x-python",
   "name": "python",
   "nbconvert_exporter": "python",
   "pygments_lexer": "ipython3",
   "version": "3.7.3"
  }
 },
 "nbformat": 4,
 "nbformat_minor": 2
}
