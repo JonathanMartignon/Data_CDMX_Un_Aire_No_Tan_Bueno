{
 "cells": [
  {
   "cell_type": "markdown",
   "metadata": {},
   "source": [
    "# Proyecto: 'CDMX Un aire no tan bueno'\n",
    "## Licenciatura en Ciencia de Datos\n",
    "### Instituto de Investigaciones en Matemáticas Aplicadas y en Sistemas (IIMAS)\n",
    "### Universidad Nacional Autónoma de México\n",
    "\n",
    "Integrantes:\n",
    "\n",
    "- Ortega Ibarra Jaime Jesús\n",
    "- Martiñón Luna Jonathan José"
   ]
  },
  {
   "cell_type": "markdown",
   "metadata": {},
   "source": [
    "----\n",
    "# Exploración de datos."
   ]
  },
  {
   "cell_type": "markdown",
   "metadata": {},
   "source": [
    "## Índice de contenidos\n",
    "* [Importando librerías](#E1)\n",
    "* [Lectura de Datos](#E2)\n",
    "* [Generando Funciones](#E3)\n",
    "* [Pre-procesando Datos](#E4)\n",
    "* [Discriminando datos](#E5)\n",
    "* [Describiendo los datos](#E6)\n",
    "\t - [IMECA](#S1)\n",
    "\t - [Calidad del aire](#S2)\n",
    "\t - [Tiraderos Clandestinos](#S3)\n",
    "\t - [Nivel de plomo](#S4)\n",
    "\t - [Afluencia en el transporte](#S5)\n",
    "\t - [Escuelas públicas](#S6)\n",
    "\t - [Escuelas privadas](#S7)\n",
    "\t - [Mercados](#S8)\n",
    "\t - [Parquímetros](#S9)\n",
    "\t - [Áreas Verdes](#S10)\n",
    "\t - [Áreas Verdes GeoJson](#S11)\n",
    "\t - [Ciclistas](#S12)\n",
    "\t - [Estaciones de Ecobici](#S13)\n",
    "\t - [Contaminantes](#S14)\n",
    "* [Graficando Datos](#E7)"
   ]
  },
  {
   "cell_type": "markdown",
   "metadata": {},
   "source": [
    "----\n",
    "<a name=\"E1\"></a>\n",
    "## Importando librerías necesarias"
   ]
  },
  {
   "cell_type": "code",
   "execution_count": 121,
   "metadata": {},
   "outputs": [],
   "source": [
    "import pandas as pd\n",
    "import numpy as np\n",
    "import seaborn as sns\n",
    "import matplotlib.pyplot as plt\n",
    "import datetime\n",
    "import geopandas as gpd\n",
    "from tabulate import tabulate\n",
    "import re"
   ]
  },
  {
   "cell_type": "markdown",
   "metadata": {},
   "source": [
    "----\n",
    "<a name=\"E2\"></a>\n",
    "## Leyendo los datos"
   ]
  },
  {
   "cell_type": "code",
   "execution_count": 229,
   "metadata": {},
   "outputs": [],
   "source": [
    "# Imeca2020\n",
    "imeca_2020_df = pd.read_csv('../Datos/imeca_2020.csv')\n",
    "#Calidad del aire\n",
    "calidad_aire_df = pd.read_csv('../Datos/prueba_datos_calidad_aire.csv')\n",
    "# Tiraderos clandestinos\n",
    "tiraderos_clandestinos_df = pd.read_csv('../Datos/tiraderos-clandestinos-al-cierre-de-2017.csv')\n",
    "# Nivel de plomo\n",
    "nivel_plomo_df = pd.read_csv('../Datos/red_manual_plomo.csv',skiprows=8)\n",
    "# Afluencia transporte\n",
    "afluencia_transport_df = pd.read_csv('../Datos/afluencia-preliminar-en-transporte-publico.csv')\n",
    "# Escuelas públicas\n",
    "escuelas_publicas_df = pd.read_csv('../Datos/Escuelas/escuelas-publicas.csv')\n",
    "# Escuelas privadas\n",
    "escuelas_privadas_df = pd.read_csv('../Datos/Escuelas/escuelas-privadas.csv')\n",
    "# Mercados\n",
    "mercados_df = pd.read_csv('../Datos/mercados-publicos.csv')\n",
    "# Parquímetros\n",
    "parquimetros_df = pd.read_csv('../Datos/prueba-parquimetros.csv')\n",
    "# Áreas Verdes\n",
    "areas_verdes_df = pd.read_csv('../Datos/cdmx_areas_verdes_2017.csv')\n",
    "# Áreas verdes con coordenadas\n",
    "areas_verdes_Geo_df = gpd.read_file(\"../Datos/cdmx_areas_verdes_2017.geojson\")\n",
    "# Contador ciclistas\n",
    "ciclistas_df = pd.read_csv('../Datos/contador-ciclistas.csv')\n",
    "# Estaciones_Ecobici\n",
    "estaciones_Ecobici_df = pd.read_csv('../Datos/estaciones-de-ecobici.csv')\n",
    "\n",
    "#------------------\n",
    "#Nota: Es importante descomprimir el archivo para poder leerlo.\n",
    "# Contaminantes\n",
    "contaminantes_df = pd.read_csv('../Datos/Contaminantes/contaminantes.csv')"
   ]
  },
  {
   "cell_type": "markdown",
   "metadata": {},
   "source": [
    "----\n",
    "<a name=\"E3\"></a>\n",
    "## Generando Funciones"
   ]
  },
  {
   "cell_type": "code",
   "execution_count": 175,
   "metadata": {},
   "outputs": [],
   "source": [
    "def obten_dic_value_counts(objeto):\n",
    "    '''\n",
    "    @Author: Jonathan Martiñón\n",
    "    \n",
    "    @Descripción: \n",
    "                Función encargada de generar un diccionario\n",
    "                a partir de los valores contados por pd.value_Counts()\n",
    "                devuelve un diccionario donde el indice es el 'key' y\n",
    "                el valor es 'value'\n",
    "    '''\n",
    "    Alcaldias = ['Benito Juarez','Tlahuac','Xochimilco','Tlalpan','Venustiano Carranza',\n",
    "            'Milpa Alta', 'Miguel Hidalgo','Iztapalapa','Azcapotzalco','Cuajimalpa',\n",
    "            'Cuauhtemoc', 'Alvaro Obregon', 'Magdalena Contreras', 'Coyoacan',\n",
    "            'Gustavo A. Madero','Iztacalco']\n",
    "    \n",
    "    indices = objeto.index\n",
    "    valores = objeto.values\n",
    "    \n",
    "    diccionario = dict(zip(indices,valores))\n",
    "    \n",
    "    for alcaldia in Alcaldias:\n",
    "        if alcaldia not in indices:\n",
    "            diccionario.update({alcaldia:0})\n",
    "    \n",
    "    return diccionario"
   ]
  },
  {
   "cell_type": "code",
   "execution_count": 302,
   "metadata": {},
   "outputs": [],
   "source": [
    "def obten_alcaldia(direccion):\n",
    "    '''\n",
    "    @Author: Jonathan Martiñón\n",
    "    \n",
    "    @Descripción\n",
    "            Para el dataset de escuelas tenemos cierta estructura\n",
    "            donde la delegación viene incluída en el Domicilio.\n",
    "            \"DELEGACION x,\". La presente función se encarga\n",
    "            de extraer esa delegación.\n",
    "    '''\n",
    "    # Si tiene DELEGACION, hacemos un split\n",
    "    dire = re.split(\"DELEGACION \",direccion)\n",
    "    \n",
    "    # Si el split se logra, tendrá al menos 2 elementos\n",
    "    if len(dire)>1:\n",
    "        # Nos interesa la segunda parte, que lleva una coma seguida\n",
    "        # Lo quitamos y ajustamos a formato title\n",
    "        alcaldia=dire[1].split(\",\")[0].title()\n",
    "        \n",
    "        #Datos atípicos\n",
    "        if alcaldia == 'Cuajimalpa De Morelos':\n",
    "            alcaldia = 'Cuajimalpa'\n",
    "            \n",
    "        elif alcaldia == 'Azcapotzalco Obregon':\n",
    "            alcaldia = 'Azcapotzalco'\n",
    "        elif alcaldia == 'Alvaro Obregón':\n",
    "            alcaldia = 'Alvaro Obregon'\n",
    "            \n",
    "    # En caso de no encontrar delegación\n",
    "    else:\n",
    "        alcaldia = \"No aplica\"\n",
    "    return alcaldia"
   ]
  },
  {
   "cell_type": "code",
   "execution_count": 289,
   "metadata": {},
   "outputs": [],
   "source": [
    "def elimina_acentos_alcaldia(alcaldia):\n",
    "    '''\n",
    "    @Autor: Jonathan Martiñón\n",
    "    \n",
    "    @Descripción: \n",
    "            Función encargada de eliminar acentos en vocales para \n",
    "            una cadena.\n",
    "    @Ejemplo\n",
    "    alcaldia = 'Benito Juárez'\n",
    "    elimina_acentos_alcaldia(alcaldia)\n",
    "    >>> 'Benito Juarez'\n",
    "    '''\n",
    "    \n",
    "    tildes = {\"á\":\"a\",\"é\":\"e\",\"í\":\"i\",\"ó\":\"o\"}\n",
    "    alcaldia = alcaldia.lower()\n",
    "    for i in range(len(alcaldia)):\n",
    "        \n",
    "        if alcaldia[i] in list(tildes.keys()):\n",
    "            \n",
    "            alcaldia = alcaldia.replace(alcaldia[i],tildes[alcaldia[i]])\n",
    "            \n",
    "    return alcaldia.title()"
   ]
  },
  {
   "cell_type": "markdown",
   "metadata": {},
   "source": [
    "----\n",
    "<a name=\"E4\"></a>\n",
    "## Pre-procesamiento"
   ]
  },
  {
   "cell_type": "code",
   "execution_count": 9,
   "metadata": {},
   "outputs": [
    {
     "data": {
      "text/html": [
       "<div>\n",
       "<style scoped>\n",
       "    .dataframe tbody tr th:only-of-type {\n",
       "        vertical-align: middle;\n",
       "    }\n",
       "\n",
       "    .dataframe tbody tr th {\n",
       "        vertical-align: top;\n",
       "    }\n",
       "\n",
       "    .dataframe thead th {\n",
       "        text-align: right;\n",
       "    }\n",
       "</style>\n",
       "<table border=\"1\" class=\"dataframe\">\n",
       "  <thead>\n",
       "    <tr style=\"text-align: right;\">\n",
       "      <th></th>\n",
       "    </tr>\n",
       "  </thead>\n",
       "  <tbody>\n",
       "  </tbody>\n",
       "</table>\n",
       "</div>"
      ],
      "text/plain": [
       "Empty DataFrame\n",
       "Columns: []\n",
       "Index: []"
      ]
     },
     "execution_count": 9,
     "metadata": {},
     "output_type": "execute_result"
    }
   ],
   "source": [
    "data_df = pd.DataFrame()\n",
    "data_df.head()"
   ]
  },
  {
   "cell_type": "code",
   "execution_count": 306,
   "metadata": {},
   "outputs": [
    {
     "name": "stdout",
     "output_type": "stream",
     "text": [
      "['Fecha', 'Nombre de estación', 'Clave de estación', 'Clave Parámetro', 'Nombre de parámetro', 'Unidades parámetros', 'Valor', 'ID Unidad', 'Clave de unidad', 'Nombre de unidad', 'Altura Estación', 'Observación Estación', 'ID Estación', 'Latitud', 'Longitud', 'Coordenadas']\n",
      "(469560, 16)\n"
     ]
    },
    {
     "data": {
      "text/html": [
       "<div>\n",
       "<style scoped>\n",
       "    .dataframe tbody tr th:only-of-type {\n",
       "        vertical-align: middle;\n",
       "    }\n",
       "\n",
       "    .dataframe tbody tr th {\n",
       "        vertical-align: top;\n",
       "    }\n",
       "\n",
       "    .dataframe thead th {\n",
       "        text-align: right;\n",
       "    }\n",
       "</style>\n",
       "<table border=\"1\" class=\"dataframe\">\n",
       "  <thead>\n",
       "    <tr style=\"text-align: right;\">\n",
       "      <th></th>\n",
       "      <th>Fecha</th>\n",
       "      <th>Nombre de estación</th>\n",
       "      <th>Clave de estación</th>\n",
       "      <th>Clave Parámetro</th>\n",
       "      <th>Nombre de parámetro</th>\n",
       "      <th>Unidades parámetros</th>\n",
       "      <th>Valor</th>\n",
       "      <th>ID Unidad</th>\n",
       "      <th>Clave de unidad</th>\n",
       "      <th>Nombre de unidad</th>\n",
       "      <th>Altura Estación</th>\n",
       "      <th>Observación Estación</th>\n",
       "      <th>ID Estación</th>\n",
       "      <th>Latitud</th>\n",
       "      <th>Longitud</th>\n",
       "      <th>Coordenadas</th>\n",
       "    </tr>\n",
       "  </thead>\n",
       "  <tbody>\n",
       "    <tr>\n",
       "      <th>0</th>\n",
       "      <td>2020-02-15T20:00:00-06:00</td>\n",
       "      <td>Santa fe</td>\n",
       "      <td>SFE</td>\n",
       "      <td>NO2</td>\n",
       "      <td>Dióxido de nitrógeno</td>\n",
       "      <td>1</td>\n",
       "      <td>18.0</td>\n",
       "      <td>1</td>\n",
       "      <td>ppb</td>\n",
       "      <td>partes por billón</td>\n",
       "      <td>2599</td>\n",
       "      <td>NaN</td>\n",
       "      <td>484090040309</td>\n",
       "      <td>19.357357</td>\n",
       "      <td>-99.262865</td>\n",
       "      <td>19.357357,-99.262865</td>\n",
       "    </tr>\n",
       "    <tr>\n",
       "      <th>1</th>\n",
       "      <td>2020-02-15T20:00:00-06:00</td>\n",
       "      <td>Nezahualcóyotl</td>\n",
       "      <td>NEZ</td>\n",
       "      <td>NO2</td>\n",
       "      <td>Dióxido de nitrógeno</td>\n",
       "      <td>1</td>\n",
       "      <td>27.0</td>\n",
       "      <td>1</td>\n",
       "      <td>ppb</td>\n",
       "      <td>partes por billón</td>\n",
       "      <td>2235</td>\n",
       "      <td>NaN</td>\n",
       "      <td>484150580115</td>\n",
       "      <td>19.393734</td>\n",
       "      <td>-99.028212</td>\n",
       "      <td>19.393734,-99.028212</td>\n",
       "    </tr>\n",
       "    <tr>\n",
       "      <th>2</th>\n",
       "      <td>2020-02-15T20:00:00-06:00</td>\n",
       "      <td>San Agustín</td>\n",
       "      <td>SAG</td>\n",
       "      <td>O3</td>\n",
       "      <td>Ozono</td>\n",
       "      <td>1</td>\n",
       "      <td>8.0</td>\n",
       "      <td>1</td>\n",
       "      <td>ppb</td>\n",
       "      <td>partes por billón</td>\n",
       "      <td>2241</td>\n",
       "      <td>NaN</td>\n",
       "      <td>484150330327</td>\n",
       "      <td>19.532968</td>\n",
       "      <td>-99.030324</td>\n",
       "      <td>19.532968,-99.030324</td>\n",
       "    </tr>\n",
       "    <tr>\n",
       "      <th>3</th>\n",
       "      <td>2020-02-15T20:00:00-06:00</td>\n",
       "      <td>Villa de las Flores</td>\n",
       "      <td>VIF</td>\n",
       "      <td>O3</td>\n",
       "      <td>Ozono</td>\n",
       "      <td>1</td>\n",
       "      <td>6.0</td>\n",
       "      <td>1</td>\n",
       "      <td>ppb</td>\n",
       "      <td>partes por billón</td>\n",
       "      <td>2242</td>\n",
       "      <td>NaN</td>\n",
       "      <td>484150200109</td>\n",
       "      <td>19.658223</td>\n",
       "      <td>-99.096590</td>\n",
       "      <td>19.658223,-99.09659</td>\n",
       "    </tr>\n",
       "    <tr>\n",
       "      <th>4</th>\n",
       "      <td>2020-02-15T20:00:00-06:00</td>\n",
       "      <td>Milpa Alta</td>\n",
       "      <td>MPA</td>\n",
       "      <td>O3</td>\n",
       "      <td>Ozono</td>\n",
       "      <td>1</td>\n",
       "      <td>24.0</td>\n",
       "      <td>1</td>\n",
       "      <td>ppb</td>\n",
       "      <td>partes por billón</td>\n",
       "      <td>2594</td>\n",
       "      <td>NaN</td>\n",
       "      <td>484090090104</td>\n",
       "      <td>19.176900</td>\n",
       "      <td>-98.990189</td>\n",
       "      <td>19.1769,-98.990189</td>\n",
       "    </tr>\n",
       "  </tbody>\n",
       "</table>\n",
       "</div>"
      ],
      "text/plain": [
       "                       Fecha   Nombre de estación Clave de estación  \\\n",
       "0  2020-02-15T20:00:00-06:00             Santa fe               SFE   \n",
       "1  2020-02-15T20:00:00-06:00       Nezahualcóyotl               NEZ   \n",
       "2  2020-02-15T20:00:00-06:00          San Agustín               SAG   \n",
       "3  2020-02-15T20:00:00-06:00  Villa de las Flores               VIF   \n",
       "4  2020-02-15T20:00:00-06:00           Milpa Alta               MPA   \n",
       "\n",
       "  Clave Parámetro   Nombre de parámetro  Unidades parámetros  Valor  \\\n",
       "0             NO2  Dióxido de nitrógeno                    1   18.0   \n",
       "1             NO2  Dióxido de nitrógeno                    1   27.0   \n",
       "2              O3                 Ozono                    1    8.0   \n",
       "3              O3                 Ozono                    1    6.0   \n",
       "4              O3                 Ozono                    1   24.0   \n",
       "\n",
       "   ID Unidad Clave de unidad   Nombre de unidad  Altura Estación  \\\n",
       "0          1             ppb  partes por billón             2599   \n",
       "1          1             ppb  partes por billón             2235   \n",
       "2          1             ppb  partes por billón             2241   \n",
       "3          1             ppb  partes por billón             2242   \n",
       "4          1             ppb  partes por billón             2594   \n",
       "\n",
       "  Observación Estación   ID Estación    Latitud   Longitud  \\\n",
       "0                  NaN  484090040309  19.357357 -99.262865   \n",
       "1                  NaN  484150580115  19.393734 -99.028212   \n",
       "2                  NaN  484150330327  19.532968 -99.030324   \n",
       "3                  NaN  484150200109  19.658223 -99.096590   \n",
       "4                  NaN  484090090104  19.176900 -98.990189   \n",
       "\n",
       "            Coordenadas  \n",
       "0  19.357357,-99.262865  \n",
       "1  19.393734,-99.028212  \n",
       "2  19.532968,-99.030324  \n",
       "3   19.658223,-99.09659  \n",
       "4    19.1769,-98.990189  "
      ]
     },
     "execution_count": 306,
     "metadata": {},
     "output_type": "execute_result"
    }
   ],
   "source": [
    "print(list(contaminantes_df.columns))\n",
    "print(contaminantes_df.shape)\n",
    "contaminantes_df.head()"
   ]
  },
  {
   "cell_type": "code",
   "execution_count": 308,
   "metadata": {},
   "outputs": [
    {
     "data": {
      "text/plain": [
       "array(['Santa fe', 'Nezahualcóyotl', 'San Agustín', 'Villa de las Flores',\n",
       "       'Milpa Alta', 'Mguel Hidalgo', 'Pedregal', 'Acolman', 'Montecillo',\n",
       "       'Ajusco Medio', 'Coyoacán', 'Centro de Ciencias de la Atmósfera',\n",
       "       'Tultitlán', 'FES Aragón', 'Tlahuac', 'Atizapan', 'Chalco',\n",
       "       'UAM Xochimilco', 'Investigaciones Nucleares', 'La Presa',\n",
       "       'UAM Iztapalapa', 'Benito Juárez', 'Gustavo A. Madero',\n",
       "       'San Juan Aragón', 'Xalostoc', 'Santiago Acahualtepec',\n",
       "       'Camarones', 'Hospital General de México', 'Iztacalco',\n",
       "       'Tlalnepantla', 'Cuajimalpa', 'FES Acatlán', 'Cuautitlán',\n",
       "       'Los Laureles', 'Merced', 'Ajusco'], dtype=object)"
      ]
     },
     "execution_count": 308,
     "metadata": {},
     "output_type": "execute_result"
    }
   ],
   "source": [
    "contaminantes_df['Nombre de estación'].unique()"
   ]
  },
  {
   "cell_type": "code",
   "execution_count": null,
   "metadata": {},
   "outputs": [],
   "source": []
  },
  {
   "cell_type": "code",
   "execution_count": null,
   "metadata": {},
   "outputs": [],
   "source": []
  },
  {
   "cell_type": "code",
   "execution_count": null,
   "metadata": {},
   "outputs": [],
   "source": []
  },
  {
   "cell_type": "code",
   "execution_count": 301,
   "metadata": {},
   "outputs": [],
   "source": [
    "# Obtenemos la cantidad de áreas verdes por delegación\n",
    "areas_verdes_dic = obten_dic_value_counts(areas_verdes_df['delegacion'].apply(elimina_acentos_alcaldia).replace('Cuajimalpa De Morelos','Cuajimalpa').value_counts())"
   ]
  },
  {
   "cell_type": "code",
   "execution_count": 298,
   "metadata": {},
   "outputs": [],
   "source": [
    "#Obtenemos la cantidad de parquímetros por alcaldía\n",
    "parquimetros_dic = obten_dic_value_counts(parquimetros_df['Alcaldía'].apply(elimina_acentos_alcaldia).value_counts())"
   ]
  },
  {
   "cell_type": "code",
   "execution_count": 261,
   "metadata": {},
   "outputs": [],
   "source": [
    "#Obtenemos la cantidad de mercados por alcaldía\n",
    "mercados_dic = obten_dic_value_counts(mercados_df['alcaldia'].apply(str.title).value_counts())"
   ]
  },
  {
   "cell_type": "code",
   "execution_count": 253,
   "metadata": {},
   "outputs": [],
   "source": [
    "# Obtenemos la cantidad de escuelas privadas por alcaldia\n",
    "escuelas_privadas_dic = obten_dic_value_counts(escuelas_privadas_df['ALCALDÍA'].apply(str.title).replace('Cuajimalpa De Morelos',\n",
    "                                                          'Cuajimalpa').replace('La Magdalena Contreras',\n",
    "                                                                                'Magdalena Contreras').value_counts())"
   ]
  },
  {
   "cell_type": "code",
   "execution_count": 232,
   "metadata": {},
   "outputs": [],
   "source": [
    "#Obtenemos la Alcaldía a partir del domicilio\n",
    "escuelas_publicas_df['Alcaldia'] = escuelas_publicas_df['Domicilio con nombre'].apply(obten_alcaldia)\n",
    "\n",
    "#Eliminamos aquellos lugares que no corresponden a la CDMX\n",
    "escuelas_publicas_df.drop(escuelas_publicas_df[escuelas_publicas_df['Alcaldia']=='No aplica'].index\n",
    "                          ,axis=0, inplace=True)"
   ]
  },
  {
   "cell_type": "code",
   "execution_count": 224,
   "metadata": {},
   "outputs": [],
   "source": [
    "escuelas_publicas_dic = obten_dic_value_counts(escuelas_publicas_df['Alcaldia'].value_counts())"
   ]
  },
  {
   "cell_type": "code",
   "execution_count": 176,
   "metadata": {},
   "outputs": [],
   "source": [
    "tiraderos_dic = obten_dic_value_counts(tiraderos_clandestinos_df.groupby('alcaldia')['alcaldia'].count())"
   ]
  },
  {
   "cell_type": "markdown",
   "metadata": {},
   "source": [
    "----\n",
    "<a name=\"E5\"></a>\n",
    "## Discriminando Datos\n",
    "\n",
    "De los valores que estamos seguros que nos servirán será la alcaldía"
   ]
  }
 ],
 "metadata": {
  "kernelspec": {
   "display_name": "Python 3",
   "language": "python",
   "name": "python3"
  },
  "language_info": {
   "codemirror_mode": {
    "name": "ipython",
    "version": 3
   },
   "file_extension": ".py",
   "mimetype": "text/x-python",
   "name": "python",
   "nbconvert_exporter": "python",
   "pygments_lexer": "ipython3",
   "version": "3.8.5"
  }
 },
 "nbformat": 4,
 "nbformat_minor": 4
}
