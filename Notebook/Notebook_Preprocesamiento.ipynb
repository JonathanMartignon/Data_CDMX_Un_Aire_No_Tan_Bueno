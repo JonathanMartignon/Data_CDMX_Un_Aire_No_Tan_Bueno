{
 "cells": [
  {
   "cell_type": "markdown",
   "metadata": {},
   "source": [
    "# Proyecto: 'CDMX Un aire no tan bueno'\n",
    "## Licenciatura en Ciencia de Datos\n",
    "### Instituto de Investigaciones en Matemáticas Aplicadas y en Sistemas (IIMAS)\n",
    "### Universidad Nacional Autónoma de México\n",
    "\n",
    "Integrantes:\n",
    "\n",
    "- Ortega Ibarra Jaime Jesús\n",
    "- Martiñón Luna Jonathan José"
   ]
  },
  {
   "cell_type": "markdown",
   "metadata": {},
   "source": [
    "----\n",
    "# Pre-Procesamiento de datos."
   ]
  },
  {
   "cell_type": "markdown",
   "metadata": {},
   "source": [
    "## Índice de contenidos\n",
    "* [Importando librerías](#E1)\n",
    "* [Lectura de Datos](#E2)\n",
    "* [Generando Funciones](#E3)\n",
    "* [Pre-procesando Datos](#E4)\n",
    "* [Discriminando datos](#E5)"
   ]
  },
  {
   "cell_type": "markdown",
   "metadata": {},
   "source": [
    "----\n",
    "<a name=\"E1\"></a>\n",
    "## Importando librerías necesarias"
   ]
  },
  {
   "cell_type": "code",
   "execution_count": 1,
   "metadata": {},
   "outputs": [],
   "source": [
    "import pandas as pd\n",
    "import numpy as np\n",
    "import seaborn as sns\n",
    "import matplotlib.pyplot as plt\n",
    "import datetime\n",
    "import geopandas as gpd\n",
    "from tabulate import tabulate\n",
    "import re\n",
    "import datetime\n",
    "import swifter"
   ]
  },
  {
   "cell_type": "markdown",
   "metadata": {},
   "source": [
    "----\n",
    "<a name=\"E2\"></a>\n",
    "## Leyendo los datos"
   ]
  },
  {
   "cell_type": "code",
   "execution_count": 2,
   "metadata": {},
   "outputs": [],
   "source": [
    "# Imeca2020\n",
    "imeca_2020_df = pd.read_csv('../Datos/imeca_2020.csv')\n",
    "#Calidad del aire\n",
    "calidad_aire_df = pd.read_csv('../Datos/prueba_datos_calidad_aire.csv')\n",
    "# Tiraderos clandestinos\n",
    "tiraderos_clandestinos_df = pd.read_csv('../Datos/tiraderos-clandestinos-al-cierre-de-2017.csv')\n",
    "# Nivel de plomo\n",
    "nivel_plomo_df = pd.read_csv('../Datos/red_manual_plomo.csv',skiprows=8)\n",
    "# Afluencia transporte\n",
    "afluencia_transport_df = pd.read_csv('../Datos/afluencia-preliminar-en-transporte-publico.csv')\n",
    "# Escuelas públicas\n",
    "escuelas_publicas_df = pd.read_csv('../Datos/Escuelas/escuelas-publicas.csv')\n",
    "# Escuelas privadas\n",
    "escuelas_privadas_df = pd.read_csv('../Datos/Escuelas/escuelas-privadas.csv')\n",
    "# Mercados\n",
    "mercados_df = pd.read_csv('../Datos/mercados-publicos.csv')\n",
    "# Parquímetros\n",
    "parquimetros_df = pd.read_csv('../Datos/prueba-parquimetros.csv')\n",
    "# Áreas Verdes\n",
    "areas_verdes_df = pd.read_csv('../Datos/cdmx_areas_verdes_2017.csv')\n",
    "# Áreas verdes con coordenadas\n",
    "areas_verdes_Geo_df = gpd.read_file(\"../Datos/cdmx_areas_verdes_2017.geojson\")\n",
    "# Contador ciclistas\n",
    "ciclistas_df = pd.read_csv('../Datos/contador-ciclistas.csv')\n",
    "# Estaciones_Ecobici\n",
    "estaciones_Ecobici_df = pd.read_csv('../Datos/estaciones-de-ecobici.csv')\n",
    "\n",
    "#------------------\n",
    "#Nota: Es importante descomprimir el archivo para poder leerlo.\n",
    "# Contaminantes\n",
    "contaminantes_df = pd.read_csv('../Datos/Contaminantes/contaminantes.csv')"
   ]
  },
  {
   "cell_type": "markdown",
   "metadata": {},
   "source": [
    "----\n",
    "<a name=\"E3\"></a>\n",
    "## Generando Funciones"
   ]
  },
  {
   "cell_type": "code",
   "execution_count": 3,
   "metadata": {},
   "outputs": [],
   "source": [
    "def obten_dic_value_counts(objeto):\n",
    "    '''\n",
    "    @Author: Jonathan Martiñón\n",
    "    \n",
    "    @Descripción: \n",
    "                Función encargada de generar un diccionario\n",
    "                a partir de los valores contados por pd.value_Counts()\n",
    "                devuelve un diccionario donde el indice es el 'key' y\n",
    "                el valor es 'value'\n",
    "    '''\n",
    "    Alcaldias = ['Benito Juarez','Tlahuac','Xochimilco','Tlalpan','Venustiano Carranza',\n",
    "            'Milpa Alta', 'Miguel Hidalgo','Iztapalapa','Azcapotzalco','Cuajimalpa',\n",
    "            'Cuauhtemoc', 'Alvaro Obregon', 'Magdalena Contreras', 'Coyoacan',\n",
    "            'Gustavo A. Madero','Iztacalco']\n",
    "    \n",
    "    indices = objeto.index\n",
    "    valores = objeto.values\n",
    "    \n",
    "    diccionario = dict(zip(indices,valores))\n",
    "    \n",
    "    for alcaldia in Alcaldias:\n",
    "        if alcaldia not in indices:\n",
    "            diccionario.update({alcaldia:0})\n",
    "    \n",
    "    return diccionario"
   ]
  },
  {
   "cell_type": "code",
   "execution_count": 4,
   "metadata": {},
   "outputs": [],
   "source": [
    "def obten_alcaldia(direccion):\n",
    "    '''\n",
    "    @Author: Jonathan Martiñón\n",
    "    \n",
    "    @Descripción\n",
    "            Para el dataset de escuelas tenemos cierta estructura\n",
    "            donde la delegación viene incluída en el Domicilio.\n",
    "            \"DELEGACION x,\". La presente función se encarga\n",
    "            de extraer esa delegación.\n",
    "    '''\n",
    "    # Si tiene DELEGACION, hacemos un split\n",
    "    dire = re.split(\"DELEGACION \",direccion)\n",
    "    \n",
    "    # Si el split se logra, tendrá al menos 2 elementos\n",
    "    if len(dire)>1:\n",
    "        # Nos interesa la segunda parte, que lleva una coma seguida\n",
    "        # Lo quitamos y ajustamos a formato title\n",
    "        alcaldia=dire[1].split(\",\")[0].title()\n",
    "        \n",
    "        #Datos atípicos\n",
    "        if alcaldia == 'Cuajimalpa De Morelos':\n",
    "            alcaldia = 'Cuajimalpa'\n",
    "            \n",
    "        elif alcaldia == 'Azcapotzalco Obregon':\n",
    "            alcaldia = 'Azcapotzalco'\n",
    "        elif alcaldia == 'Alvaro Obregón':\n",
    "            alcaldia = 'Alvaro Obregon'\n",
    "            \n",
    "    # En caso de no encontrar delegación\n",
    "    else:\n",
    "        alcaldia = \"No aplica\"\n",
    "    return alcaldia"
   ]
  },
  {
   "cell_type": "code",
   "execution_count": 5,
   "metadata": {},
   "outputs": [],
   "source": [
    "def elimina_acentos_alcaldia(alcaldia):\n",
    "    '''\n",
    "    @Autor: Jonathan Martiñón\n",
    "    \n",
    "    @Descripción: \n",
    "            Función encargada de eliminar acentos en vocales para \n",
    "            una cadena.\n",
    "    @Ejemplo\n",
    "    alcaldia = 'Benito Juárez'\n",
    "    elimina_acentos_alcaldia(alcaldia)\n",
    "    >>> 'Benito Juarez'\n",
    "    '''\n",
    "    \n",
    "    tildes = {\"á\":\"a\",\"é\":\"e\",\"í\":\"i\",\"ó\":\"o\"}\n",
    "    alcaldia = alcaldia.lower()\n",
    "    for i in range(len(alcaldia)):\n",
    "        \n",
    "        if alcaldia[i] in list(tildes.keys()):\n",
    "            \n",
    "            alcaldia = alcaldia.replace(alcaldia[i],tildes[alcaldia[i]])\n",
    "            \n",
    "    return alcaldia.title()"
   ]
  },
  {
   "cell_type": "code",
   "execution_count": 6,
   "metadata": {},
   "outputs": [],
   "source": [
    "def estacion_a_alcaldia(estacion):\n",
    "    est_a_alc = {\"Santa fe\":\"Cuajimalpa\",\"Mguel Hidalgo\":\"Miguel Hidalgo\",\n",
    "                 \"Pedregal\":\"Alvaro Obregon\",\"Ajusco Medio\":\"Miguel Hidalgo\",\n",
    "                 \"Coyoacán\":\"Coyoacan\",\"Centro de Ciencias de la Atmósfera\":\"Coyoacan\",\n",
    "                 \"UAM Xochimilco\":\"Xochimilco\",\"UAM Iztapalapa\":\"Iztapalapa\",\n",
    "                 \"Benito Juárez\":\"Benito Juarez\",\"Santiago Acahualtepec\":\"Iztapalapa\",\n",
    "                 \"Camarones\":\"Azcapotzalco\",\"Hospital General de México\":\"Cuauhtemoc\",\n",
    "                 \"Merced\":\"Venustiano Carranza\",\"Ajusco\":\"Tlalpan\"}\n",
    "    \n",
    "    Na = ['Nezahualcóyotl', 'San Agustín', 'Villa de las Flores','Acolman', 'Montecillo',\n",
    "         'Investigaciones Nucleares','FES Aragón', 'Atizapan', 'Chalco','Tultitlán',\n",
    "          'La Presa','San Juan Aragón','Xalostoc','Tlalnepantla','FES Acatlán',\n",
    "         'Cuautitlán','Los Laureles']\n",
    "    if estacion in Na:\n",
    "        return \"No aplica\"\n",
    "    elif estacion in list(est_a_alc.keys()):\n",
    "        return est_a_alc[estacion]\n",
    "    else:\n",
    "        return estacion\n",
    "        "
   ]
  },
  {
   "cell_type": "markdown",
   "metadata": {},
   "source": [
    "----\n",
    "<a name=\"E4\"></a>\n",
    "## Pre-procesamiento"
   ]
  },
  {
   "cell_type": "code",
   "execution_count": 7,
   "metadata": {},
   "outputs": [
    {
     "name": "stdout",
     "output_type": "stream",
     "text": [
      "['Fecha', 'Nombre de estación', 'Clave de estación', 'Clave Parámetro', 'Nombre de parámetro', 'Unidades parámetros', 'Valor', 'ID Unidad', 'Clave de unidad', 'Nombre de unidad', 'Altura Estación', 'Observación Estación', 'ID Estación', 'Latitud', 'Longitud', 'Coordenadas']\n",
      "(469560, 16)\n"
     ]
    },
    {
     "data": {
      "text/html": [
       "<div>\n",
       "<style scoped>\n",
       "    .dataframe tbody tr th:only-of-type {\n",
       "        vertical-align: middle;\n",
       "    }\n",
       "\n",
       "    .dataframe tbody tr th {\n",
       "        vertical-align: top;\n",
       "    }\n",
       "\n",
       "    .dataframe thead th {\n",
       "        text-align: right;\n",
       "    }\n",
       "</style>\n",
       "<table border=\"1\" class=\"dataframe\">\n",
       "  <thead>\n",
       "    <tr style=\"text-align: right;\">\n",
       "      <th></th>\n",
       "      <th>Fecha</th>\n",
       "      <th>Nombre de estación</th>\n",
       "      <th>Clave de estación</th>\n",
       "      <th>Clave Parámetro</th>\n",
       "      <th>Nombre de parámetro</th>\n",
       "      <th>Unidades parámetros</th>\n",
       "      <th>Valor</th>\n",
       "      <th>ID Unidad</th>\n",
       "      <th>Clave de unidad</th>\n",
       "      <th>Nombre de unidad</th>\n",
       "      <th>Altura Estación</th>\n",
       "      <th>Observación Estación</th>\n",
       "      <th>ID Estación</th>\n",
       "      <th>Latitud</th>\n",
       "      <th>Longitud</th>\n",
       "      <th>Coordenadas</th>\n",
       "    </tr>\n",
       "  </thead>\n",
       "  <tbody>\n",
       "    <tr>\n",
       "      <th>0</th>\n",
       "      <td>2020-02-15T20:00:00-06:00</td>\n",
       "      <td>Santa fe</td>\n",
       "      <td>SFE</td>\n",
       "      <td>NO2</td>\n",
       "      <td>Dióxido de nitrógeno</td>\n",
       "      <td>1</td>\n",
       "      <td>18.0</td>\n",
       "      <td>1</td>\n",
       "      <td>ppb</td>\n",
       "      <td>partes por billón</td>\n",
       "      <td>2599</td>\n",
       "      <td>NaN</td>\n",
       "      <td>484090040309</td>\n",
       "      <td>19.357357</td>\n",
       "      <td>-99.262865</td>\n",
       "      <td>19.357357,-99.262865</td>\n",
       "    </tr>\n",
       "    <tr>\n",
       "      <th>1</th>\n",
       "      <td>2020-02-15T20:00:00-06:00</td>\n",
       "      <td>Nezahualcóyotl</td>\n",
       "      <td>NEZ</td>\n",
       "      <td>NO2</td>\n",
       "      <td>Dióxido de nitrógeno</td>\n",
       "      <td>1</td>\n",
       "      <td>27.0</td>\n",
       "      <td>1</td>\n",
       "      <td>ppb</td>\n",
       "      <td>partes por billón</td>\n",
       "      <td>2235</td>\n",
       "      <td>NaN</td>\n",
       "      <td>484150580115</td>\n",
       "      <td>19.393734</td>\n",
       "      <td>-99.028212</td>\n",
       "      <td>19.393734,-99.028212</td>\n",
       "    </tr>\n",
       "    <tr>\n",
       "      <th>2</th>\n",
       "      <td>2020-02-15T20:00:00-06:00</td>\n",
       "      <td>San Agustín</td>\n",
       "      <td>SAG</td>\n",
       "      <td>O3</td>\n",
       "      <td>Ozono</td>\n",
       "      <td>1</td>\n",
       "      <td>8.0</td>\n",
       "      <td>1</td>\n",
       "      <td>ppb</td>\n",
       "      <td>partes por billón</td>\n",
       "      <td>2241</td>\n",
       "      <td>NaN</td>\n",
       "      <td>484150330327</td>\n",
       "      <td>19.532968</td>\n",
       "      <td>-99.030324</td>\n",
       "      <td>19.532968,-99.030324</td>\n",
       "    </tr>\n",
       "    <tr>\n",
       "      <th>3</th>\n",
       "      <td>2020-02-15T20:00:00-06:00</td>\n",
       "      <td>Villa de las Flores</td>\n",
       "      <td>VIF</td>\n",
       "      <td>O3</td>\n",
       "      <td>Ozono</td>\n",
       "      <td>1</td>\n",
       "      <td>6.0</td>\n",
       "      <td>1</td>\n",
       "      <td>ppb</td>\n",
       "      <td>partes por billón</td>\n",
       "      <td>2242</td>\n",
       "      <td>NaN</td>\n",
       "      <td>484150200109</td>\n",
       "      <td>19.658223</td>\n",
       "      <td>-99.096590</td>\n",
       "      <td>19.658223,-99.09659</td>\n",
       "    </tr>\n",
       "    <tr>\n",
       "      <th>4</th>\n",
       "      <td>2020-02-15T20:00:00-06:00</td>\n",
       "      <td>Milpa Alta</td>\n",
       "      <td>MPA</td>\n",
       "      <td>O3</td>\n",
       "      <td>Ozono</td>\n",
       "      <td>1</td>\n",
       "      <td>24.0</td>\n",
       "      <td>1</td>\n",
       "      <td>ppb</td>\n",
       "      <td>partes por billón</td>\n",
       "      <td>2594</td>\n",
       "      <td>NaN</td>\n",
       "      <td>484090090104</td>\n",
       "      <td>19.176900</td>\n",
       "      <td>-98.990189</td>\n",
       "      <td>19.1769,-98.990189</td>\n",
       "    </tr>\n",
       "  </tbody>\n",
       "</table>\n",
       "</div>"
      ],
      "text/plain": [
       "                       Fecha   Nombre de estación Clave de estación  \\\n",
       "0  2020-02-15T20:00:00-06:00             Santa fe               SFE   \n",
       "1  2020-02-15T20:00:00-06:00       Nezahualcóyotl               NEZ   \n",
       "2  2020-02-15T20:00:00-06:00          San Agustín               SAG   \n",
       "3  2020-02-15T20:00:00-06:00  Villa de las Flores               VIF   \n",
       "4  2020-02-15T20:00:00-06:00           Milpa Alta               MPA   \n",
       "\n",
       "  Clave Parámetro   Nombre de parámetro  Unidades parámetros  Valor  \\\n",
       "0             NO2  Dióxido de nitrógeno                    1   18.0   \n",
       "1             NO2  Dióxido de nitrógeno                    1   27.0   \n",
       "2              O3                 Ozono                    1    8.0   \n",
       "3              O3                 Ozono                    1    6.0   \n",
       "4              O3                 Ozono                    1   24.0   \n",
       "\n",
       "   ID Unidad Clave de unidad   Nombre de unidad  Altura Estación  \\\n",
       "0          1             ppb  partes por billón             2599   \n",
       "1          1             ppb  partes por billón             2235   \n",
       "2          1             ppb  partes por billón             2241   \n",
       "3          1             ppb  partes por billón             2242   \n",
       "4          1             ppb  partes por billón             2594   \n",
       "\n",
       "  Observación Estación   ID Estación    Latitud   Longitud  \\\n",
       "0                  NaN  484090040309  19.357357 -99.262865   \n",
       "1                  NaN  484150580115  19.393734 -99.028212   \n",
       "2                  NaN  484150330327  19.532968 -99.030324   \n",
       "3                  NaN  484150200109  19.658223 -99.096590   \n",
       "4                  NaN  484090090104  19.176900 -98.990189   \n",
       "\n",
       "            Coordenadas  \n",
       "0  19.357357,-99.262865  \n",
       "1  19.393734,-99.028212  \n",
       "2  19.532968,-99.030324  \n",
       "3   19.658223,-99.09659  \n",
       "4    19.1769,-98.990189  "
      ]
     },
     "execution_count": 7,
     "metadata": {},
     "output_type": "execute_result"
    }
   ],
   "source": [
    "print(list(contaminantes_df.columns))\n",
    "print(contaminantes_df.shape)\n",
    "contaminantes_df.head()"
   ]
  },
  {
   "cell_type": "code",
   "execution_count": 8,
   "metadata": {},
   "outputs": [],
   "source": [
    "Alcaldias = ['Benito Juarez','Tlahuac','Xochimilco','Tlalpan','Venustiano Carranza',\n",
    "            'Milpa Alta', 'Miguel Hidalgo','Iztapalapa','Azcapotzalco','Cuajimalpa',\n",
    "            'Cuauhtemoc', 'Alvaro Obregon', 'Magdalena Contreras', 'Coyoacan',\n",
    "            'Gustavo A. Madero','Iztacalco']"
   ]
  },
  {
   "cell_type": "code",
   "execution_count": 9,
   "metadata": {},
   "outputs": [],
   "source": [
    "#Obtenemos las delegaciones que poseen una estación\n",
    "Estac_list = list(contaminantes_df['Nombre de estación'].apply(estacion_a_alcaldia).unique())"
   ]
  },
  {
   "cell_type": "code",
   "execution_count": 10,
   "metadata": {},
   "outputs": [],
   "source": [
    "#Convertimos los valores obtenidos a un diccionario\n",
    "Estac_alc_dic = {alcaldia:(1 if alcaldia in Estac_list else 0) for alcaldia in Alcaldias}"
   ]
  },
  {
   "cell_type": "code",
   "execution_count": 11,
   "metadata": {},
   "outputs": [],
   "source": [
    "# Obtenemos la cantidad de áreas verdes por delegación\n",
    "areas_verdes_dic = obten_dic_value_counts(areas_verdes_df['delegacion'].apply(elimina_acentos_alcaldia).replace('Cuajimalpa De Morelos','Cuajimalpa').value_counts())"
   ]
  },
  {
   "cell_type": "code",
   "execution_count": 12,
   "metadata": {},
   "outputs": [],
   "source": [
    "#Obtenemos la cantidad de parquímetros por alcaldía\n",
    "parquimetros_dic = obten_dic_value_counts(parquimetros_df['Alcaldía'].apply(elimina_acentos_alcaldia).value_counts())"
   ]
  },
  {
   "cell_type": "code",
   "execution_count": 13,
   "metadata": {},
   "outputs": [],
   "source": [
    "#Obtenemos la cantidad de mercados por alcaldía\n",
    "mercados_dic = obten_dic_value_counts(mercados_df['alcaldia'].apply(str.title).value_counts())"
   ]
  },
  {
   "cell_type": "code",
   "execution_count": 14,
   "metadata": {},
   "outputs": [],
   "source": [
    "# Obtenemos la cantidad de escuelas privadas por alcaldia\n",
    "escuelas_privadas_dic = obten_dic_value_counts(escuelas_privadas_df['ALCALDÍA'].apply(str.title).replace('Cuajimalpa De Morelos',\n",
    "                                                          'Cuajimalpa').replace('La Magdalena Contreras',\n",
    "                                                                                'Magdalena Contreras').value_counts())"
   ]
  },
  {
   "cell_type": "code",
   "execution_count": 15,
   "metadata": {},
   "outputs": [],
   "source": [
    "#Obtenemos la Alcaldía a partir del domicilio\n",
    "escuelas_publicas_df['Alcaldia'] = escuelas_publicas_df['Domicilio con nombre'].apply(obten_alcaldia)\n",
    "\n",
    "#Eliminamos aquellos lugares que no corresponden a la CDMX\n",
    "escuelas_publicas_df.drop(escuelas_publicas_df[escuelas_publicas_df['Alcaldia']=='No aplica'].index\n",
    "                          ,axis=0, inplace=True)"
   ]
  },
  {
   "cell_type": "code",
   "execution_count": 16,
   "metadata": {},
   "outputs": [],
   "source": [
    "escuelas_publicas_dic = obten_dic_value_counts(escuelas_publicas_df['Alcaldia'].value_counts())"
   ]
  },
  {
   "cell_type": "code",
   "execution_count": 17,
   "metadata": {},
   "outputs": [],
   "source": [
    "tiraderos_dic = obten_dic_value_counts(tiraderos_clandestinos_df.groupby('alcaldia')['alcaldia'].count())"
   ]
  },
  {
   "cell_type": "markdown",
   "metadata": {},
   "source": [
    "----\n",
    "<a name=\"E5\"></a>\n",
    "## Discriminando Datos\n",
    "\n",
    "De los valores que estamos seguros que nos servirán será la alcaldía"
   ]
  },
  {
   "cell_type": "code",
   "execution_count": 18,
   "metadata": {},
   "outputs": [],
   "source": [
    "#Creamos un dataframe para extraer las características propias a cada alcaldía\n",
    "data_Alcaldias_df = pd.DataFrame(columns=['Alcaldia','Tiraderos','Escuelas_publicas',\n",
    "                                'Escuelas_privadas','Mercados','Parquimetros',\n",
    "                                'Areas_verdes','Estacion_climatologica'])"
   ]
  },
  {
   "cell_type": "code",
   "execution_count": 19,
   "metadata": {},
   "outputs": [],
   "source": [
    "#Llenamos nuestro dataframe con sus correspondientes datos\n",
    "for alc in Alcaldias:\n",
    "    data_Alcaldias_df.loc[len(data_Alcaldias_df)] = [alc,tiraderos_dic[alc],escuelas_publicas_dic[alc],\n",
    "                                escuelas_privadas_dic[alc],mercados_dic[alc],\n",
    "                                parquimetros_dic[alc],areas_verdes_dic[alc],\n",
    "                                Estac_alc_dic[alc]]\n",
    "\n",
    "#Convertimos el nombre de la alcaldía a nuestro índice    \n",
    "data_Alcaldias_df.set_index('Alcaldia',inplace=True)"
   ]
  },
  {
   "cell_type": "code",
   "execution_count": 20,
   "metadata": {},
   "outputs": [
    {
     "data": {
      "text/html": [
       "<div>\n",
       "<style scoped>\n",
       "    .dataframe tbody tr th:only-of-type {\n",
       "        vertical-align: middle;\n",
       "    }\n",
       "\n",
       "    .dataframe tbody tr th {\n",
       "        vertical-align: top;\n",
       "    }\n",
       "\n",
       "    .dataframe thead th {\n",
       "        text-align: right;\n",
       "    }\n",
       "</style>\n",
       "<table border=\"1\" class=\"dataframe\">\n",
       "  <thead>\n",
       "    <tr style=\"text-align: right;\">\n",
       "      <th></th>\n",
       "      <th>Tiraderos</th>\n",
       "      <th>Escuelas_publicas</th>\n",
       "      <th>Escuelas_privadas</th>\n",
       "      <th>Mercados</th>\n",
       "      <th>Parquimetros</th>\n",
       "      <th>Areas_verdes</th>\n",
       "      <th>Estacion_climatologica</th>\n",
       "    </tr>\n",
       "    <tr>\n",
       "      <th>Alcaldia</th>\n",
       "      <th></th>\n",
       "      <th></th>\n",
       "      <th></th>\n",
       "      <th></th>\n",
       "      <th></th>\n",
       "      <th></th>\n",
       "      <th></th>\n",
       "    </tr>\n",
       "  </thead>\n",
       "  <tbody>\n",
       "    <tr>\n",
       "      <th>Benito Juarez</th>\n",
       "      <td>147</td>\n",
       "      <td>68</td>\n",
       "      <td>294</td>\n",
       "      <td>16</td>\n",
       "      <td>640</td>\n",
       "      <td>484</td>\n",
       "      <td>1</td>\n",
       "    </tr>\n",
       "    <tr>\n",
       "      <th>Tlahuac</th>\n",
       "      <td>35</td>\n",
       "      <td>120</td>\n",
       "      <td>103</td>\n",
       "      <td>18</td>\n",
       "      <td>0</td>\n",
       "      <td>581</td>\n",
       "      <td>1</td>\n",
       "    </tr>\n",
       "  </tbody>\n",
       "</table>\n",
       "</div>"
      ],
      "text/plain": [
       "              Tiraderos Escuelas_publicas Escuelas_privadas Mercados  \\\n",
       "Alcaldia                                                               \n",
       "Benito Juarez       147                68               294       16   \n",
       "Tlahuac              35               120               103       18   \n",
       "\n",
       "              Parquimetros Areas_verdes Estacion_climatologica  \n",
       "Alcaldia                                                        \n",
       "Benito Juarez          640          484                      1  \n",
       "Tlahuac                  0          581                      1  "
      ]
     },
     "execution_count": 20,
     "metadata": {},
     "output_type": "execute_result"
    }
   ],
   "source": [
    "#Una pequeña visualización de la forma en que van quedando los datos\n",
    "data_Alcaldias_df.head(2)"
   ]
  },
  {
   "cell_type": "code",
   "execution_count": 21,
   "metadata": {},
   "outputs": [],
   "source": [
    "def obten_valor_col(alcaldia,datos,col):\n",
    "    '''\n",
    "    @Autor: Jonathan Martiñón\n",
    "    \n",
    "    @Parametros:\n",
    "    \n",
    "    alcaldia  índice del DataFrame con valores de la alcaldía   STR\n",
    "    datos     DataFrame con alcaldías como índices              pd.DataFrame\n",
    "    col       Columna del DataFrame a extraer valor\n",
    "    \n",
    "    @Descripción:\n",
    "            Función encargada de extraer características de la \n",
    "            alcaldía.\n",
    "    @Devuelve:\n",
    "    \n",
    "    value   Valor obtenido del índice 'alcaldía' y la columna 'col'\n",
    "    '''\n",
    "    # Obtenemos el valor con el indice de la alcaldia actual\n",
    "    # y columna 'col'\n",
    "    value = datos[col][alcaldia]\n",
    "    \n",
    "    return value\n",
    "    "
   ]
  },
  {
   "cell_type": "code",
   "execution_count": 22,
   "metadata": {},
   "outputs": [],
   "source": [
    "def Genera_dataset(data,data_al):\n",
    "    '''\n",
    "    @Author: Jonathan Martiñón\n",
    "    \n",
    "    @Parametros:\n",
    "    \n",
    "    data1    Dataset que contiene los contaminantes              pd.DataFrame\n",
    "    data2    Dataset que contiene informacion de las alcaldias   pd.DataFrame\n",
    "    \n",
    "    @Descripción:\n",
    "            Función encargada de devolver el dataset Final.\n",
    "            \n",
    "    @Devuelve:\n",
    "    \n",
    "    data_df  DataFrame con los datos Finales.   LIST\n",
    "    '''\n",
    "    \n",
    "    #Copiamos el dataset\n",
    "    data_df = data.copy()\n",
    "    \n",
    "    #Obtenemos las alcaldías a partir de la estación\n",
    "    data_df['Alcaldia'] = data_df['Nombre de estación'].swifter.apply(estacion_a_alcaldia)\n",
    "    \n",
    "    #Eliminamos aquellas alcaldías que no aplican a nuestro análisis\n",
    "    data_df.drop(data_df[data_df['Alcaldia']=='No aplica'].index,axis=0,inplace=True)\n",
    "    \n",
    "    #Restauramos nuestro índice\n",
    "    data_df.reset_index(drop = True, inplace=True) \n",
    "    \n",
    "    #Convertimos la fecha a formato datetime para trabajar con ella\n",
    "    data_df['Fecha']= pd.to_datetime(data_df['Fecha'])\n",
    "    \n",
    "    #Extraemos Día, Mes, Año y Hora de la Fecha\n",
    "    data_df['Dia'] = data_df['Fecha'].swifter.apply(lambda x: x.day)\n",
    "    data_df['Mes'] = data_df['Fecha'].swifter.apply(lambda x: x.month)\n",
    "    data_df['Año'] = data_df['Fecha'].swifter.apply(lambda x: x.year)\n",
    "    data_df['Hora'] = data_df['Fecha'].swifter.apply(lambda x: x.hour)\n",
    "    \n",
    "    #Eliminamos la fecha, pues ya no nos sirve\n",
    "    data_df.drop(['Fecha'],axis=1,inplace=True)\n",
    "    \n",
    "    #Extraemos la cantidad de tiraderos por alcaldía\n",
    "    data_df['Tiraderos'] = data_df['Alcaldia'].swifter.apply(obten_valor_col,\n",
    "                                                             datos=data_al,\n",
    "                                                             col='Tiraderos').values\n",
    "    #Extraemos la cantidad de escuelas públicas por alcaldía\n",
    "    data_df['Escuelas_publicas'] = data_df['Alcaldia'].swifter.apply(obten_valor_col,\n",
    "                                                                     datos=data_al,\n",
    "                                                                     col='Escuelas_publicas').values\n",
    "    #Extraemos la cantidad de escuelas privadas por alcaldía\n",
    "    data_df['Escuelas_privadas'] = data_df['Alcaldia'].swifter.apply(obten_valor_col,\n",
    "                                                                     datos=data_al,\n",
    "                                                                     col='Escuelas_privadas').values\n",
    "    #Extraemos la cantidad de mercados por alcaldía\n",
    "    data_df['Mercados'] = data_df['Alcaldia'].swifter.apply(obten_valor_col,\n",
    "                                                            datos=data_al,\n",
    "                                                            col='Mercados').values\n",
    "    #Extraemos la cantidad de parquímetros por alcaldía\n",
    "    data_df['Parquimetros'] = data_df['Alcaldia'].swifter.apply(obten_valor_col,\n",
    "                                                                datos=data_al,\n",
    "                                                                col='Parquimetros').values\n",
    "    #Extraemos la cantidad de áreas verdes por alcaldía\n",
    "    data_df['Areas_verdes'] = data_df['Alcaldia'].swifter.apply(obten_valor_col,\n",
    "                                                                datos=data_al,\n",
    "                                                                col='Areas_verdes').values\n",
    "    #Extraemos la cantidad de estaciones climatológicas por alcaldía\n",
    "    data_df['Estacion_climatologica'] = data_df['Alcaldia'].apply(obten_valor_col,\n",
    "                                                                  datos=data_al,\n",
    "                                                                  col='Estacion_climatologica').values\n",
    "    # Devolvemos el dataset generado\n",
    "    return data_df"
   ]
  },
  {
   "cell_type": "code",
   "execution_count": 23,
   "metadata": {},
   "outputs": [],
   "source": [
    "# Obtenemos los datos importantes del dataset\n",
    "# de contaminantes\n",
    "data_df = contaminantes_df[['Fecha','Nombre de estación','Clave de estación','Clave Parámetro',\n",
    "                   'Nombre de parámetro','Unidades parámetros','Valor','ID Unidad',\n",
    "                            'Clave de unidad']].copy(deep=True) "
   ]
  },
  {
   "cell_type": "code",
   "execution_count": 24,
   "metadata": {},
   "outputs": [
    {
     "name": "stdout",
     "output_type": "stream",
     "text": [
      "Contamos con 469560 registros y 9 columnas\n"
     ]
    },
    {
     "data": {
      "text/html": [
       "<div>\n",
       "<style scoped>\n",
       "    .dataframe tbody tr th:only-of-type {\n",
       "        vertical-align: middle;\n",
       "    }\n",
       "\n",
       "    .dataframe tbody tr th {\n",
       "        vertical-align: top;\n",
       "    }\n",
       "\n",
       "    .dataframe thead th {\n",
       "        text-align: right;\n",
       "    }\n",
       "</style>\n",
       "<table border=\"1\" class=\"dataframe\">\n",
       "  <thead>\n",
       "    <tr style=\"text-align: right;\">\n",
       "      <th></th>\n",
       "      <th>Fecha</th>\n",
       "      <th>Nombre de estación</th>\n",
       "      <th>Clave de estación</th>\n",
       "      <th>Clave Parámetro</th>\n",
       "      <th>Nombre de parámetro</th>\n",
       "      <th>Unidades parámetros</th>\n",
       "      <th>Valor</th>\n",
       "      <th>ID Unidad</th>\n",
       "      <th>Clave de unidad</th>\n",
       "    </tr>\n",
       "  </thead>\n",
       "  <tbody>\n",
       "    <tr>\n",
       "      <th>0</th>\n",
       "      <td>2020-02-15T20:00:00-06:00</td>\n",
       "      <td>Santa fe</td>\n",
       "      <td>SFE</td>\n",
       "      <td>NO2</td>\n",
       "      <td>Dióxido de nitrógeno</td>\n",
       "      <td>1</td>\n",
       "      <td>18.0</td>\n",
       "      <td>1</td>\n",
       "      <td>ppb</td>\n",
       "    </tr>\n",
       "    <tr>\n",
       "      <th>1</th>\n",
       "      <td>2020-02-15T20:00:00-06:00</td>\n",
       "      <td>Nezahualcóyotl</td>\n",
       "      <td>NEZ</td>\n",
       "      <td>NO2</td>\n",
       "      <td>Dióxido de nitrógeno</td>\n",
       "      <td>1</td>\n",
       "      <td>27.0</td>\n",
       "      <td>1</td>\n",
       "      <td>ppb</td>\n",
       "    </tr>\n",
       "  </tbody>\n",
       "</table>\n",
       "</div>"
      ],
      "text/plain": [
       "                       Fecha Nombre de estación Clave de estación  \\\n",
       "0  2020-02-15T20:00:00-06:00           Santa fe               SFE   \n",
       "1  2020-02-15T20:00:00-06:00     Nezahualcóyotl               NEZ   \n",
       "\n",
       "  Clave Parámetro   Nombre de parámetro  Unidades parámetros  Valor  \\\n",
       "0             NO2  Dióxido de nitrógeno                    1   18.0   \n",
       "1             NO2  Dióxido de nitrógeno                    1   27.0   \n",
       "\n",
       "   ID Unidad Clave de unidad  \n",
       "0          1             ppb  \n",
       "1          1             ppb  "
      ]
     },
     "execution_count": 24,
     "metadata": {},
     "output_type": "execute_result"
    }
   ],
   "source": [
    "# Damos una visualización de los datos\n",
    "print(f\"Contamos con {data_df.shape[0]} registros y {data_df.shape[1]} columnas\")\n",
    "data_df.head(2)"
   ]
  },
  {
   "cell_type": "code",
   "execution_count": 25,
   "metadata": {},
   "outputs": [
    {
     "data": {
      "application/vnd.jupyter.widget-view+json": {
       "model_id": "e128dae1973b47c78d589ccb6e2fa986",
       "version_major": 2,
       "version_minor": 0
      },
      "text/plain": [
       "HBox(children=(HTML(value='Pandas Apply'), FloatProgress(value=0.0, max=469560.0), HTML(value='')))"
      ]
     },
     "metadata": {},
     "output_type": "display_data"
    },
    {
     "name": "stdout",
     "output_type": "stream",
     "text": [
      "\n"
     ]
    },
    {
     "data": {
      "application/vnd.jupyter.widget-view+json": {
       "model_id": "1eaefc9bafe7468189a043c1bd19da4d",
       "version_major": 2,
       "version_minor": 0
      },
      "text/plain": [
       "HBox(children=(HTML(value='Pandas Apply'), FloatProgress(value=0.0, max=248976.0), HTML(value='')))"
      ]
     },
     "metadata": {},
     "output_type": "display_data"
    },
    {
     "name": "stdout",
     "output_type": "stream",
     "text": [
      "\n"
     ]
    },
    {
     "data": {
      "application/vnd.jupyter.widget-view+json": {
       "model_id": "208a0e873d724061ab0cd2d1cd220f4f",
       "version_major": 2,
       "version_minor": 0
      },
      "text/plain": [
       "HBox(children=(HTML(value='Pandas Apply'), FloatProgress(value=0.0, max=248976.0), HTML(value='')))"
      ]
     },
     "metadata": {},
     "output_type": "display_data"
    },
    {
     "name": "stdout",
     "output_type": "stream",
     "text": [
      "\n"
     ]
    },
    {
     "data": {
      "application/vnd.jupyter.widget-view+json": {
       "model_id": "c00c27a12e6747479d56495445d31693",
       "version_major": 2,
       "version_minor": 0
      },
      "text/plain": [
       "HBox(children=(HTML(value='Pandas Apply'), FloatProgress(value=0.0, max=248976.0), HTML(value='')))"
      ]
     },
     "metadata": {},
     "output_type": "display_data"
    },
    {
     "name": "stdout",
     "output_type": "stream",
     "text": [
      "\n"
     ]
    },
    {
     "data": {
      "application/vnd.jupyter.widget-view+json": {
       "model_id": "76479deb051749edbbc98193eac6e0a3",
       "version_major": 2,
       "version_minor": 0
      },
      "text/plain": [
       "HBox(children=(HTML(value='Pandas Apply'), FloatProgress(value=0.0, max=248976.0), HTML(value='')))"
      ]
     },
     "metadata": {},
     "output_type": "display_data"
    },
    {
     "name": "stdout",
     "output_type": "stream",
     "text": [
      "\n"
     ]
    }
   ],
   "source": [
    "#Generamos nuestro nuevo dataset con valores personalizados\n",
    "# por alcaldía\n",
    "data_df = Genera_dataset(data_df,data_Alcaldias_df)"
   ]
  },
  {
   "cell_type": "code",
   "execution_count": 26,
   "metadata": {},
   "outputs": [],
   "source": [
    "#Almacenamos nuestro dataset\n",
    "# data_df.to_csv('./new_data.csv')"
   ]
  },
  {
   "cell_type": "code",
   "execution_count": 27,
   "metadata": {},
   "outputs": [
    {
     "name": "stdout",
     "output_type": "stream",
     "text": [
      "Contamos con 248976 registros y 20 columnas\n"
     ]
    },
    {
     "data": {
      "text/html": [
       "<div>\n",
       "<style scoped>\n",
       "    .dataframe tbody tr th:only-of-type {\n",
       "        vertical-align: middle;\n",
       "    }\n",
       "\n",
       "    .dataframe tbody tr th {\n",
       "        vertical-align: top;\n",
       "    }\n",
       "\n",
       "    .dataframe thead th {\n",
       "        text-align: right;\n",
       "    }\n",
       "</style>\n",
       "<table border=\"1\" class=\"dataframe\">\n",
       "  <thead>\n",
       "    <tr style=\"text-align: right;\">\n",
       "      <th></th>\n",
       "      <th>Nombre de estación</th>\n",
       "      <th>Clave de estación</th>\n",
       "      <th>Clave Parámetro</th>\n",
       "      <th>Nombre de parámetro</th>\n",
       "      <th>Unidades parámetros</th>\n",
       "      <th>Valor</th>\n",
       "      <th>ID Unidad</th>\n",
       "      <th>Clave de unidad</th>\n",
       "      <th>Alcaldia</th>\n",
       "      <th>Dia</th>\n",
       "      <th>Mes</th>\n",
       "      <th>Año</th>\n",
       "      <th>Hora</th>\n",
       "      <th>Tiraderos</th>\n",
       "      <th>Escuelas_publicas</th>\n",
       "      <th>Escuelas_privadas</th>\n",
       "      <th>Mercados</th>\n",
       "      <th>Parquimetros</th>\n",
       "      <th>Areas_verdes</th>\n",
       "      <th>Estacion_climatologica</th>\n",
       "    </tr>\n",
       "  </thead>\n",
       "  <tbody>\n",
       "    <tr>\n",
       "      <th>0</th>\n",
       "      <td>Santa fe</td>\n",
       "      <td>SFE</td>\n",
       "      <td>NO2</td>\n",
       "      <td>Dióxido de nitrógeno</td>\n",
       "      <td>1</td>\n",
       "      <td>18.0</td>\n",
       "      <td>1</td>\n",
       "      <td>ppb</td>\n",
       "      <td>Cuajimalpa</td>\n",
       "      <td>15</td>\n",
       "      <td>2</td>\n",
       "      <td>2020</td>\n",
       "      <td>20</td>\n",
       "      <td>5</td>\n",
       "      <td>35</td>\n",
       "      <td>172</td>\n",
       "      <td>5</td>\n",
       "      <td>0</td>\n",
       "      <td>448</td>\n",
       "      <td>1</td>\n",
       "    </tr>\n",
       "    <tr>\n",
       "      <th>1</th>\n",
       "      <td>Milpa Alta</td>\n",
       "      <td>MPA</td>\n",
       "      <td>O3</td>\n",
       "      <td>Ozono</td>\n",
       "      <td>1</td>\n",
       "      <td>24.0</td>\n",
       "      <td>1</td>\n",
       "      <td>ppb</td>\n",
       "      <td>Milpa Alta</td>\n",
       "      <td>15</td>\n",
       "      <td>2</td>\n",
       "      <td>2020</td>\n",
       "      <td>20</td>\n",
       "      <td>13</td>\n",
       "      <td>28</td>\n",
       "      <td>32</td>\n",
       "      <td>10</td>\n",
       "      <td>0</td>\n",
       "      <td>130</td>\n",
       "      <td>1</td>\n",
       "    </tr>\n",
       "    <tr>\n",
       "      <th>2</th>\n",
       "      <td>Mguel Hidalgo</td>\n",
       "      <td>MGH</td>\n",
       "      <td>O3</td>\n",
       "      <td>Ozono</td>\n",
       "      <td>1</td>\n",
       "      <td>27.0</td>\n",
       "      <td>1</td>\n",
       "      <td>ppb</td>\n",
       "      <td>Miguel Hidalgo</td>\n",
       "      <td>15</td>\n",
       "      <td>2</td>\n",
       "      <td>2020</td>\n",
       "      <td>20</td>\n",
       "      <td>69</td>\n",
       "      <td>137</td>\n",
       "      <td>223</td>\n",
       "      <td>19</td>\n",
       "      <td>1382</td>\n",
       "      <td>925</td>\n",
       "      <td>1</td>\n",
       "    </tr>\n",
       "    <tr>\n",
       "      <th>3</th>\n",
       "      <td>Pedregal</td>\n",
       "      <td>PED</td>\n",
       "      <td>O3</td>\n",
       "      <td>Ozono</td>\n",
       "      <td>1</td>\n",
       "      <td>19.0</td>\n",
       "      <td>1</td>\n",
       "      <td>ppb</td>\n",
       "      <td>Alvaro Obregon</td>\n",
       "      <td>15</td>\n",
       "      <td>2</td>\n",
       "      <td>2020</td>\n",
       "      <td>20</td>\n",
       "      <td>77</td>\n",
       "      <td>172</td>\n",
       "      <td>321</td>\n",
       "      <td>16</td>\n",
       "      <td>83</td>\n",
       "      <td>721</td>\n",
       "      <td>1</td>\n",
       "    </tr>\n",
       "    <tr>\n",
       "      <th>4</th>\n",
       "      <td>Ajusco Medio</td>\n",
       "      <td>AJM</td>\n",
       "      <td>O3</td>\n",
       "      <td>Ozono</td>\n",
       "      <td>1</td>\n",
       "      <td>NaN</td>\n",
       "      <td>1</td>\n",
       "      <td>ppb</td>\n",
       "      <td>Miguel Hidalgo</td>\n",
       "      <td>15</td>\n",
       "      <td>2</td>\n",
       "      <td>2020</td>\n",
       "      <td>20</td>\n",
       "      <td>69</td>\n",
       "      <td>137</td>\n",
       "      <td>223</td>\n",
       "      <td>19</td>\n",
       "      <td>1382</td>\n",
       "      <td>925</td>\n",
       "      <td>1</td>\n",
       "    </tr>\n",
       "  </tbody>\n",
       "</table>\n",
       "</div>"
      ],
      "text/plain": [
       "  Nombre de estación Clave de estación Clave Parámetro   Nombre de parámetro  \\\n",
       "0           Santa fe               SFE             NO2  Dióxido de nitrógeno   \n",
       "1         Milpa Alta               MPA              O3                 Ozono   \n",
       "2      Mguel Hidalgo               MGH              O3                 Ozono   \n",
       "3           Pedregal               PED              O3                 Ozono   \n",
       "4       Ajusco Medio               AJM              O3                 Ozono   \n",
       "\n",
       "   Unidades parámetros  Valor  ID Unidad Clave de unidad        Alcaldia  Dia  \\\n",
       "0                    1   18.0          1             ppb      Cuajimalpa   15   \n",
       "1                    1   24.0          1             ppb      Milpa Alta   15   \n",
       "2                    1   27.0          1             ppb  Miguel Hidalgo   15   \n",
       "3                    1   19.0          1             ppb  Alvaro Obregon   15   \n",
       "4                    1    NaN          1             ppb  Miguel Hidalgo   15   \n",
       "\n",
       "   Mes   Año  Hora Tiraderos Escuelas_publicas Escuelas_privadas Mercados  \\\n",
       "0    2  2020    20         5                35               172        5   \n",
       "1    2  2020    20        13                28                32       10   \n",
       "2    2  2020    20        69               137               223       19   \n",
       "3    2  2020    20        77               172               321       16   \n",
       "4    2  2020    20        69               137               223       19   \n",
       "\n",
       "  Parquimetros Areas_verdes  Estacion_climatologica  \n",
       "0            0          448                       1  \n",
       "1            0          130                       1  \n",
       "2         1382          925                       1  \n",
       "3           83          721                       1  \n",
       "4         1382          925                       1  "
      ]
     },
     "execution_count": 27,
     "metadata": {},
     "output_type": "execute_result"
    }
   ],
   "source": [
    "# Damos una visualización de los nuevos datos\n",
    "print(f\"Contamos con {data_df.shape[0]} registros y {data_df.shape[1]} columnas\")\n",
    "data_df.head()"
   ]
  }
 ],
 "metadata": {
  "kernelspec": {
   "display_name": "Python 3",
   "language": "python",
   "name": "python3"
  },
  "language_info": {
   "codemirror_mode": {
    "name": "ipython",
    "version": 3
   },
   "file_extension": ".py",
   "mimetype": "text/x-python",
   "name": "python",
   "nbconvert_exporter": "python",
   "pygments_lexer": "ipython3",
   "version": "3.8.5"
  }
 },
 "nbformat": 4,
 "nbformat_minor": 4
}
