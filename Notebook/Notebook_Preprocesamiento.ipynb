{
 "cells": [
  {
   "cell_type": "markdown",
   "metadata": {},
   "source": [
    "# Proyecto: 'CDMX Un aire no tan bueno'\n",
    "## Licenciatura en Ciencia de Datos\n",
    "### Instituto de Investigaciones en Matemáticas Aplicadas y en Sistemas (IIMAS)\n",
    "### Universidad Nacional Autónoma de México\n",
    "\n",
    "Integrantes:\n",
    "\n",
    "- Ortega Ibarra Jaime Jesús\n",
    "- Martiñón Luna Jonathan José"
   ]
  },
  {
   "cell_type": "markdown",
   "metadata": {},
   "source": [
    "----\n",
    "# Exploración de datos."
   ]
  },
  {
   "cell_type": "markdown",
   "metadata": {},
   "source": [
    "## Índice de contenidos\n",
    "* [Importando librerías](#E1)\n",
    "* [Lectura de Datos](#E2)\n",
    "* [Declarando Funciones](#E3)\n",
    "* [Describiendo los datos](#E4)\n",
    "\t - [IMECA](#S1)\n",
    "\t - [Calidad del aire](#S2)\n",
    "\t - [Tiraderos Clandestinos](#S3)\n",
    "\t - [Nivel de plomo](#S4)\n",
    "\t - [Afluencia en el transporte](#S5)\n",
    "\t - [Escuelas públicas](#S6)\n",
    "\t - [Escuelas privadas](#S7)\n",
    "\t - [Mercados](#S8)\n",
    "\t - [Parquímetros](#S9)\n",
    "\t - [Áreas Verdes](#S10)\n",
    "\t - [Áreas Verdes GeoJson](#S11)\n",
    "\t - [Ciclistas](#S12)\n",
    "\t - [Estaciones de Ecobici](#S13)\n",
    "\t - [Contaminantes](#S14)\n",
    "* [Graficando Datos](#E5)"
   ]
  },
  {
   "cell_type": "markdown",
   "metadata": {},
   "source": [
    "----\n",
    "<a name=\"E1\"></a>\n",
    "## Importando librerías necesarias"
   ]
  },
  {
   "cell_type": "code",
   "execution_count": 1,
   "metadata": {},
   "outputs": [],
   "source": [
    "import pandas as pd\n",
    "import numpy as np\n",
    "import seaborn as sns\n",
    "import matplotlib.pyplot as plt\n",
    "import datetime\n",
    "import geopandas as gpd\n",
    "from mpl_toolkits.axes_grid1 import make_axes_locatable\n",
    "from tabulate import tabulate"
   ]
  },
  {
   "cell_type": "markdown",
   "metadata": {},
   "source": [
    "----\n",
    "<a name=\"E2\"></a>\n",
    "## Leyendo los datos"
   ]
  },
  {
   "cell_type": "code",
   "execution_count": 2,
   "metadata": {},
   "outputs": [],
   "source": [
    "# Imeca2020\n",
    "imeca_2020_df = pd.read_csv('../Datos/imeca_2020.csv')\n",
    "#Calidad del aire\n",
    "calidad_aire_df = pd.read_csv('../Datos/prueba_datos_calidad_aire.csv')\n",
    "# Tiraderos clandestinos\n",
    "tiraderos_clandestinos_df = pd.read_csv('../Datos/tiraderos-clandestinos-al-cierre-de-2017.csv')\n",
    "# Nivel de plomo\n",
    "nivel_plomo_df = pd.read_csv('../Datos/red_manual_plomo.csv',skiprows=8)\n",
    "# Afluencia transporte\n",
    "afluencia_transport_df = pd.read_csv('../Datos/afluencia-preliminar-en-transporte-publico.csv')\n",
    "# Escuelas públicas\n",
    "escuelas_publicas_df = pd.read_csv('../Datos/Escuelas/escuelas-publicas.csv')\n",
    "# Escuelas privadas\n",
    "escuelas_privadas_df = pd.read_csv('../Datos/Escuelas/escuelas-privadas.csv')\n",
    "# Mercados\n",
    "mercados_df = pd.read_csv('../Datos/mercados-publicos.csv')\n",
    "# Parquímetros\n",
    "parquimetros_df = pd.read_csv('../Datos/prueba-parquimetros.csv')\n",
    "# Áreas Verdes\n",
    "areas_verdes_df = pd.read_csv('../Datos/cdmx_areas_verdes_2017.csv')\n",
    "# Áreas verdes con coordenadas\n",
    "areas_verdes_Geo_df = gpd.read_file(\"../Datos/cdmx_areas_verdes_2017.geojson\")\n",
    "# Contador ciclistas\n",
    "ciclistas_df = pd.read_csv('../Datos/contador-ciclistas.csv')\n",
    "# Estaciones_Ecobici\n",
    "estaciones_Ecobici_df = pd.read_csv('../Datos/estaciones-de-ecobici.csv')\n",
    "\n",
    "#------------------\n",
    "#Nota: Es importante descomprimir el archivo para poder leerlo.\n",
    "# Contaminantes\n",
    "contaminantes_df = pd.read_csv('../Datos/Contaminantes/contaminantes.csv')"
   ]
  },
  {
   "cell_type": "code",
   "execution_count": null,
   "metadata": {},
   "outputs": [],
   "source": []
  }
 ],
 "metadata": {
  "kernelspec": {
   "display_name": "Python 3",
   "language": "python",
   "name": "python3"
  },
  "language_info": {
   "codemirror_mode": {
    "name": "ipython",
    "version": 3
   },
   "file_extension": ".py",
   "mimetype": "text/x-python",
   "name": "python",
   "nbconvert_exporter": "python",
   "pygments_lexer": "ipython3",
   "version": "3.8.5"
  }
 },
 "nbformat": 4,
 "nbformat_minor": 4
}
